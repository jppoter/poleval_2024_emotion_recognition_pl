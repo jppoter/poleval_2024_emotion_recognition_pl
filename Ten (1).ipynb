{
  "cells": [
    {
      "cell_type": "markdown",
      "metadata": {
        "id": "rJNsjcgJKcRc"
      },
      "source": [
        "Jest to projekt NLP, w którym stworzę system zdolny do rozpoznawania emocji z koła emocji Plutchika i odpowiadających im odczuć przekazywanych w recenzjach konsumenckich. Szczegóły zadania i zbiory danych są dostępne tutaj: https://github.com/poleval/2024-emotion-recognition.\n",
        "\n",
        "**Autor:** Julia Poteralska\n",
        "\n",
        "---"
      ]
    },
    {
      "cell_type": "markdown",
      "source": [
        "# Import danych"
      ],
      "metadata": {
        "id": "gYVEcttvWrlL"
      }
    },
    {
      "cell_type": "markdown",
      "metadata": {
        "id": "2mKuFLY_W8Sk"
      },
      "source": [
        "**Instalacja narzędzi i import bibliotek**"
      ]
    },
    {
      "cell_type": "code",
      "execution_count": 2,
      "metadata": {
        "colab": {
          "base_uri": "https://localhost:8080/"
        },
        "id": "QHSOSgupLz96",
        "outputId": "d6d3b58b-2571-4e03-ed52-16c036ab2594"
      },
      "outputs": [
        {
          "output_type": "stream",
          "name": "stdout",
          "text": [
            "\u001b[2K     \u001b[90m━━━━━━━━━━━━━━━━━━━━━━━━━━━━━━━━━━━━━━━━\u001b[0m \u001b[32m547.8/547.8 kB\u001b[0m \u001b[31m3.7 MB/s\u001b[0m eta \u001b[36m0:00:00\u001b[0m\n",
            "\u001b[2K     \u001b[90m━━━━━━━━━━━━━━━━━━━━━━━━━━━━━━━━━━━━━━━━\u001b[0m \u001b[32m314.1/314.1 kB\u001b[0m \u001b[31m24.8 MB/s\u001b[0m eta \u001b[36m0:00:00\u001b[0m\n",
            "\u001b[2K     \u001b[90m━━━━━━━━━━━━━━━━━━━━━━━━━━━━━━━━━━━━━━━━\u001b[0m \u001b[32m40.8/40.8 MB\u001b[0m \u001b[31m9.4 MB/s\u001b[0m eta \u001b[36m0:00:00\u001b[0m\n",
            "\u001b[2K     \u001b[90m━━━━━━━━━━━━━━━━━━━━━━━━━━━━━━━━━━━━━━━━\u001b[0m \u001b[32m116.3/116.3 kB\u001b[0m \u001b[31m8.5 MB/s\u001b[0m eta \u001b[36m0:00:00\u001b[0m\n",
            "\u001b[2K     \u001b[90m━━━━━━━━━━━━━━━━━━━━━━━━━━━━━━━━━━━━━━━━\u001b[0m \u001b[32m64.9/64.9 kB\u001b[0m \u001b[31m4.4 MB/s\u001b[0m eta \u001b[36m0:00:00\u001b[0m\n",
            "\u001b[2K     \u001b[90m━━━━━━━━━━━━━━━━━━━━━━━━━━━━━━━━━━━━━━━━\u001b[0m \u001b[32m194.1/194.1 kB\u001b[0m \u001b[31m19.3 MB/s\u001b[0m eta \u001b[36m0:00:00\u001b[0m\n",
            "\u001b[2K     \u001b[90m━━━━━━━━━━━━━━━━━━━━━━━━━━━━━━━━━━━━━━━━\u001b[0m \u001b[32m134.8/134.8 kB\u001b[0m \u001b[31m16.6 MB/s\u001b[0m eta \u001b[36m0:00:00\u001b[0m\n",
            "\u001b[2K     \u001b[90m━━━━━━━━━━━━━━━━━━━━━━━━━━━━━━━━━━━━━━━━\u001b[0m \u001b[32m21.3/21.3 MB\u001b[0m \u001b[31m68.5 MB/s\u001b[0m eta \u001b[36m0:00:00\u001b[0m\n",
            "\u001b[?25h\u001b[31mERROR: pip's dependency resolver does not currently take into account all the packages that are installed. This behaviour is the source of the following dependency conflicts.\n",
            "cudf-cu12 24.4.1 requires pyarrow<15.0.0a0,>=14.0.1, but you have pyarrow 16.1.0 which is incompatible.\n",
            "google-colab 1.0.0 requires requests==2.31.0, but you have requests 2.32.3 which is incompatible.\n",
            "ibis-framework 8.0.0 requires pyarrow<16,>=2, but you have pyarrow 16.1.0 which is incompatible.\u001b[0m\u001b[31m\n",
            "\u001b[2K     \u001b[90m━━━━━━━━━━━━━━━━━━━━━━━━━━━━━━━━━━━━━━━━\u001b[0m \u001b[32m6.9/6.9 MB\u001b[0m \u001b[31m41.0 MB/s\u001b[0m eta \u001b[36m0:00:00\u001b[0m\n",
            "\u001b[2K     \u001b[90m━━━━━━━━━━━━━━━━━━━━━━━━━━━━━━━━━━━━━━━━\u001b[0m \u001b[32m207.3/207.3 kB\u001b[0m \u001b[31m24.7 MB/s\u001b[0m eta \u001b[36m0:00:00\u001b[0m\n",
            "\u001b[2K     \u001b[90m━━━━━━━━━━━━━━━━━━━━━━━━━━━━━━━━━━━━━━━━\u001b[0m \u001b[32m302.1/302.1 kB\u001b[0m \u001b[31m32.3 MB/s\u001b[0m eta \u001b[36m0:00:00\u001b[0m\n",
            "\u001b[2K     \u001b[90m━━━━━━━━━━━━━━━━━━━━━━━━━━━━━━━━━━━━━━━━\u001b[0m \u001b[32m62.7/62.7 kB\u001b[0m \u001b[31m9.3 MB/s\u001b[0m eta \u001b[36m0:00:00\u001b[0m\n",
            "\u001b[?25hRequirement already satisfied: accelerate in /usr/local/lib/python3.10/dist-packages (0.32.1)\n",
            "Requirement already satisfied: numpy<2.0.0,>=1.17 in /usr/local/lib/python3.10/dist-packages (from accelerate) (1.25.2)\n",
            "Requirement already satisfied: packaging>=20.0 in /usr/local/lib/python3.10/dist-packages (from accelerate) (24.1)\n",
            "Requirement already satisfied: psutil in /usr/local/lib/python3.10/dist-packages (from accelerate) (5.9.5)\n",
            "Requirement already satisfied: pyyaml in /usr/local/lib/python3.10/dist-packages (from accelerate) (6.0.1)\n",
            "Requirement already satisfied: torch>=1.10.0 in /usr/local/lib/python3.10/dist-packages (from accelerate) (2.3.0+cu121)\n",
            "Requirement already satisfied: huggingface-hub in /usr/local/lib/python3.10/dist-packages (from accelerate) (0.23.4)\n",
            "Requirement already satisfied: safetensors>=0.3.1 in /usr/local/lib/python3.10/dist-packages (from accelerate) (0.4.3)\n",
            "Requirement already satisfied: filelock in /usr/local/lib/python3.10/dist-packages (from torch>=1.10.0->accelerate) (3.15.4)\n",
            "Requirement already satisfied: typing-extensions>=4.8.0 in /usr/local/lib/python3.10/dist-packages (from torch>=1.10.0->accelerate) (4.12.2)\n",
            "Requirement already satisfied: sympy in /usr/local/lib/python3.10/dist-packages (from torch>=1.10.0->accelerate) (1.13.0)\n",
            "Requirement already satisfied: networkx in /usr/local/lib/python3.10/dist-packages (from torch>=1.10.0->accelerate) (3.3)\n",
            "Requirement already satisfied: jinja2 in /usr/local/lib/python3.10/dist-packages (from torch>=1.10.0->accelerate) (3.1.4)\n",
            "Requirement already satisfied: fsspec in /usr/local/lib/python3.10/dist-packages (from torch>=1.10.0->accelerate) (2023.6.0)\n",
            "Requirement already satisfied: nvidia-cuda-nvrtc-cu12==12.1.105 in /usr/local/lib/python3.10/dist-packages (from torch>=1.10.0->accelerate) (12.1.105)\n",
            "Requirement already satisfied: nvidia-cuda-runtime-cu12==12.1.105 in /usr/local/lib/python3.10/dist-packages (from torch>=1.10.0->accelerate) (12.1.105)\n",
            "Requirement already satisfied: nvidia-cuda-cupti-cu12==12.1.105 in /usr/local/lib/python3.10/dist-packages (from torch>=1.10.0->accelerate) (12.1.105)\n",
            "Requirement already satisfied: nvidia-cudnn-cu12==8.9.2.26 in /usr/local/lib/python3.10/dist-packages (from torch>=1.10.0->accelerate) (8.9.2.26)\n",
            "Requirement already satisfied: nvidia-cublas-cu12==12.1.3.1 in /usr/local/lib/python3.10/dist-packages (from torch>=1.10.0->accelerate) (12.1.3.1)\n",
            "Requirement already satisfied: nvidia-cufft-cu12==11.0.2.54 in /usr/local/lib/python3.10/dist-packages (from torch>=1.10.0->accelerate) (11.0.2.54)\n",
            "Requirement already satisfied: nvidia-curand-cu12==10.3.2.106 in /usr/local/lib/python3.10/dist-packages (from torch>=1.10.0->accelerate) (10.3.2.106)\n",
            "Requirement already satisfied: nvidia-cusolver-cu12==11.4.5.107 in /usr/local/lib/python3.10/dist-packages (from torch>=1.10.0->accelerate) (11.4.5.107)\n",
            "Requirement already satisfied: nvidia-cusparse-cu12==12.1.0.106 in /usr/local/lib/python3.10/dist-packages (from torch>=1.10.0->accelerate) (12.1.0.106)\n",
            "Requirement already satisfied: nvidia-nccl-cu12==2.20.5 in /usr/local/lib/python3.10/dist-packages (from torch>=1.10.0->accelerate) (2.20.5)\n",
            "Requirement already satisfied: nvidia-nvtx-cu12==12.1.105 in /usr/local/lib/python3.10/dist-packages (from torch>=1.10.0->accelerate) (12.1.105)\n",
            "Requirement already satisfied: triton==2.3.0 in /usr/local/lib/python3.10/dist-packages (from torch>=1.10.0->accelerate) (2.3.0)\n",
            "Requirement already satisfied: nvidia-nvjitlink-cu12 in /usr/local/lib/python3.10/dist-packages (from nvidia-cusolver-cu12==11.4.5.107->torch>=1.10.0->accelerate) (12.5.82)\n",
            "Requirement already satisfied: requests in /usr/local/lib/python3.10/dist-packages (from huggingface-hub->accelerate) (2.32.3)\n",
            "Requirement already satisfied: tqdm>=4.42.1 in /usr/local/lib/python3.10/dist-packages (from huggingface-hub->accelerate) (4.66.4)\n",
            "Requirement already satisfied: MarkupSafe>=2.0 in /usr/local/lib/python3.10/dist-packages (from jinja2->torch>=1.10.0->accelerate) (2.1.5)\n",
            "Requirement already satisfied: charset-normalizer<4,>=2 in /usr/local/lib/python3.10/dist-packages (from requests->huggingface-hub->accelerate) (3.3.2)\n",
            "Requirement already satisfied: idna<4,>=2.5 in /usr/local/lib/python3.10/dist-packages (from requests->huggingface-hub->accelerate) (3.7)\n",
            "Requirement already satisfied: urllib3<3,>=1.21.1 in /usr/local/lib/python3.10/dist-packages (from requests->huggingface-hub->accelerate) (2.0.7)\n",
            "Requirement already satisfied: certifi>=2017.4.17 in /usr/local/lib/python3.10/dist-packages (from requests->huggingface-hub->accelerate) (2024.7.4)\n",
            "Requirement already satisfied: mpmath<1.4,>=1.1.0 in /usr/local/lib/python3.10/dist-packages (from sympy->torch>=1.10.0->accelerate) (1.3.0)\n",
            "\u001b[2K     \u001b[90m━━━━━━━━━━━━━━━━━━━━━━━━━━━━━━━━━━━━━━━━\u001b[0m \u001b[32m84.1/84.1 kB\u001b[0m \u001b[31m3.4 MB/s\u001b[0m eta \u001b[36m0:00:00\u001b[0m\n",
            "\u001b[?25h"
          ]
        }
      ],
      "source": [
        "!pip install -q transformers[torch] datasets\n",
        "!pip install -q wandb\n",
        "!pip install accelerate -U\n",
        "!pip install -q evaluate"
      ]
    },
    {
      "cell_type": "code",
      "execution_count": 3,
      "metadata": {
        "colab": {
          "base_uri": "https://localhost:8080/"
        },
        "id": "ltnpQBKpXnt8",
        "outputId": "6bb2055e-b9cd-4e3d-ec5d-e1c19a9afde1"
      },
      "outputs": [
        {
          "output_type": "stream",
          "name": "stdout",
          "text": [
            "\u001b[34m\u001b[1mwandb\u001b[0m: Logging into wandb.ai. (Learn how to deploy a W&B server locally: https://wandb.me/wandb-server)\n",
            "\u001b[34m\u001b[1mwandb\u001b[0m: You can find your API key in your browser here: https://wandb.ai/authorize\n",
            "\u001b[34m\u001b[1mwandb\u001b[0m: Paste an API key from your profile and hit enter, or press ctrl+c to quit: \n",
            "\u001b[34m\u001b[1mwandb\u001b[0m: Appending key for api.wandb.ai to your netrc file: /root/.netrc\n"
          ]
        }
      ],
      "source": [
        "!wandb login\n",
        "import wandb\n",
        "import numpy as np\n",
        "import pandas as pd\n",
        "import evaluate\n",
        "import io\n",
        "\n",
        "from sklearn.model_selection import train_test_split\n",
        "from google.colab import files\n",
        "from datasets import load_dataset, DatasetDict, Dataset, load_metric\n",
        "from transformers import (AutoTokenizer, AutoModelForSequenceClassification, TrainingArguments, Trainer, DataCollatorWithPadding)"
      ]
    },
    {
      "cell_type": "markdown",
      "source": [
        "**Wczytanie zbioru danych - train**"
      ],
      "metadata": {
        "id": "5Ro9Yf24CSno"
      }
    },
    {
      "cell_type": "code",
      "source": [
        "uploaded = files.upload()"
      ],
      "metadata": {
        "id": "RtpqH1ZrOdlW",
        "colab": {
          "base_uri": "https://localhost:8080/",
          "height": 73
        },
        "outputId": "42fbe05e-0a42-40b9-ea5c-65e19285bee9"
      },
      "execution_count": 4,
      "outputs": [
        {
          "output_type": "display_data",
          "data": {
            "text/plain": [
              "<IPython.core.display.HTML object>"
            ],
            "text/html": [
              "\n",
              "     <input type=\"file\" id=\"files-e3f7788c-e9ba-4857-9e62-8380714f9dd1\" name=\"files[]\" multiple disabled\n",
              "        style=\"border:none\" />\n",
              "     <output id=\"result-e3f7788c-e9ba-4857-9e62-8380714f9dd1\">\n",
              "      Upload widget is only available when the cell has been executed in the\n",
              "      current browser session. Please rerun this cell to enable.\n",
              "      </output>\n",
              "      <script>// Copyright 2017 Google LLC\n",
              "//\n",
              "// Licensed under the Apache License, Version 2.0 (the \"License\");\n",
              "// you may not use this file except in compliance with the License.\n",
              "// You may obtain a copy of the License at\n",
              "//\n",
              "//      http://www.apache.org/licenses/LICENSE-2.0\n",
              "//\n",
              "// Unless required by applicable law or agreed to in writing, software\n",
              "// distributed under the License is distributed on an \"AS IS\" BASIS,\n",
              "// WITHOUT WARRANTIES OR CONDITIONS OF ANY KIND, either express or implied.\n",
              "// See the License for the specific language governing permissions and\n",
              "// limitations under the License.\n",
              "\n",
              "/**\n",
              " * @fileoverview Helpers for google.colab Python module.\n",
              " */\n",
              "(function(scope) {\n",
              "function span(text, styleAttributes = {}) {\n",
              "  const element = document.createElement('span');\n",
              "  element.textContent = text;\n",
              "  for (const key of Object.keys(styleAttributes)) {\n",
              "    element.style[key] = styleAttributes[key];\n",
              "  }\n",
              "  return element;\n",
              "}\n",
              "\n",
              "// Max number of bytes which will be uploaded at a time.\n",
              "const MAX_PAYLOAD_SIZE = 100 * 1024;\n",
              "\n",
              "function _uploadFiles(inputId, outputId) {\n",
              "  const steps = uploadFilesStep(inputId, outputId);\n",
              "  const outputElement = document.getElementById(outputId);\n",
              "  // Cache steps on the outputElement to make it available for the next call\n",
              "  // to uploadFilesContinue from Python.\n",
              "  outputElement.steps = steps;\n",
              "\n",
              "  return _uploadFilesContinue(outputId);\n",
              "}\n",
              "\n",
              "// This is roughly an async generator (not supported in the browser yet),\n",
              "// where there are multiple asynchronous steps and the Python side is going\n",
              "// to poll for completion of each step.\n",
              "// This uses a Promise to block the python side on completion of each step,\n",
              "// then passes the result of the previous step as the input to the next step.\n",
              "function _uploadFilesContinue(outputId) {\n",
              "  const outputElement = document.getElementById(outputId);\n",
              "  const steps = outputElement.steps;\n",
              "\n",
              "  const next = steps.next(outputElement.lastPromiseValue);\n",
              "  return Promise.resolve(next.value.promise).then((value) => {\n",
              "    // Cache the last promise value to make it available to the next\n",
              "    // step of the generator.\n",
              "    outputElement.lastPromiseValue = value;\n",
              "    return next.value.response;\n",
              "  });\n",
              "}\n",
              "\n",
              "/**\n",
              " * Generator function which is called between each async step of the upload\n",
              " * process.\n",
              " * @param {string} inputId Element ID of the input file picker element.\n",
              " * @param {string} outputId Element ID of the output display.\n",
              " * @return {!Iterable<!Object>} Iterable of next steps.\n",
              " */\n",
              "function* uploadFilesStep(inputId, outputId) {\n",
              "  const inputElement = document.getElementById(inputId);\n",
              "  inputElement.disabled = false;\n",
              "\n",
              "  const outputElement = document.getElementById(outputId);\n",
              "  outputElement.innerHTML = '';\n",
              "\n",
              "  const pickedPromise = new Promise((resolve) => {\n",
              "    inputElement.addEventListener('change', (e) => {\n",
              "      resolve(e.target.files);\n",
              "    });\n",
              "  });\n",
              "\n",
              "  const cancel = document.createElement('button');\n",
              "  inputElement.parentElement.appendChild(cancel);\n",
              "  cancel.textContent = 'Cancel upload';\n",
              "  const cancelPromise = new Promise((resolve) => {\n",
              "    cancel.onclick = () => {\n",
              "      resolve(null);\n",
              "    };\n",
              "  });\n",
              "\n",
              "  // Wait for the user to pick the files.\n",
              "  const files = yield {\n",
              "    promise: Promise.race([pickedPromise, cancelPromise]),\n",
              "    response: {\n",
              "      action: 'starting',\n",
              "    }\n",
              "  };\n",
              "\n",
              "  cancel.remove();\n",
              "\n",
              "  // Disable the input element since further picks are not allowed.\n",
              "  inputElement.disabled = true;\n",
              "\n",
              "  if (!files) {\n",
              "    return {\n",
              "      response: {\n",
              "        action: 'complete',\n",
              "      }\n",
              "    };\n",
              "  }\n",
              "\n",
              "  for (const file of files) {\n",
              "    const li = document.createElement('li');\n",
              "    li.append(span(file.name, {fontWeight: 'bold'}));\n",
              "    li.append(span(\n",
              "        `(${file.type || 'n/a'}) - ${file.size} bytes, ` +\n",
              "        `last modified: ${\n",
              "            file.lastModifiedDate ? file.lastModifiedDate.toLocaleDateString() :\n",
              "                                    'n/a'} - `));\n",
              "    const percent = span('0% done');\n",
              "    li.appendChild(percent);\n",
              "\n",
              "    outputElement.appendChild(li);\n",
              "\n",
              "    const fileDataPromise = new Promise((resolve) => {\n",
              "      const reader = new FileReader();\n",
              "      reader.onload = (e) => {\n",
              "        resolve(e.target.result);\n",
              "      };\n",
              "      reader.readAsArrayBuffer(file);\n",
              "    });\n",
              "    // Wait for the data to be ready.\n",
              "    let fileData = yield {\n",
              "      promise: fileDataPromise,\n",
              "      response: {\n",
              "        action: 'continue',\n",
              "      }\n",
              "    };\n",
              "\n",
              "    // Use a chunked sending to avoid message size limits. See b/62115660.\n",
              "    let position = 0;\n",
              "    do {\n",
              "      const length = Math.min(fileData.byteLength - position, MAX_PAYLOAD_SIZE);\n",
              "      const chunk = new Uint8Array(fileData, position, length);\n",
              "      position += length;\n",
              "\n",
              "      const base64 = btoa(String.fromCharCode.apply(null, chunk));\n",
              "      yield {\n",
              "        response: {\n",
              "          action: 'append',\n",
              "          file: file.name,\n",
              "          data: base64,\n",
              "        },\n",
              "      };\n",
              "\n",
              "      let percentDone = fileData.byteLength === 0 ?\n",
              "          100 :\n",
              "          Math.round((position / fileData.byteLength) * 100);\n",
              "      percent.textContent = `${percentDone}% done`;\n",
              "\n",
              "    } while (position < fileData.byteLength);\n",
              "  }\n",
              "\n",
              "  // All done.\n",
              "  yield {\n",
              "    response: {\n",
              "      action: 'complete',\n",
              "    }\n",
              "  };\n",
              "}\n",
              "\n",
              "scope.google = scope.google || {};\n",
              "scope.google.colab = scope.google.colab || {};\n",
              "scope.google.colab._files = {\n",
              "  _uploadFiles,\n",
              "  _uploadFilesContinue,\n",
              "};\n",
              "})(self);\n",
              "</script> "
            ]
          },
          "metadata": {}
        },
        {
          "output_type": "stream",
          "name": "stdout",
          "text": [
            "Saving in.tsv to in.tsv\n"
          ]
        }
      ]
    },
    {
      "cell_type": "code",
      "source": [
        "ds_in = pd.read_csv('in.tsv', sep='\\t', header=0)"
      ],
      "metadata": {
        "id": "zegea6kDOrLm"
      },
      "execution_count": 5,
      "outputs": []
    },
    {
      "cell_type": "code",
      "source": [
        "print(ds_in.head())"
      ],
      "metadata": {
        "id": "h4PJ1KdULvK0",
        "colab": {
          "base_uri": "https://localhost:8080/"
        },
        "outputId": "0095a3b5-7c1e-4130-dbed-d9600a5ed5d9"
      },
      "execution_count": 6,
      "outputs": [
        {
          "output_type": "stream",
          "name": "stdout",
          "text": [
            "                                                text\n",
            "0                                        2 gwiazdki.\n",
            "1           Na tyle maksymalnie zasługuje ten hotel.\n",
            "2  To, ze hotel ma 4 gwiazdki w nazwie jest żałosne.\n",
            "3  Śmiesznie było już podczas rezerwacji, pani z ...\n",
            "4  Udało mi się jednak dowiedzieć, ze w hotelu są...\n"
          ]
        }
      ]
    },
    {
      "cell_type": "code",
      "source": [
        "ds_reviews_sentences = ds_in.drop(ds_in[ds_in['text'] == \"###########################\"].index) # usuwam przerywniki dzielące całe opinie"
      ],
      "metadata": {
        "id": "GM__eqNVPFhc"
      },
      "execution_count": 7,
      "outputs": []
    },
    {
      "cell_type": "code",
      "source": [
        "with open('in.tsv', 'r', encoding='utf-8') as file:\n",
        "    lines = file.readlines()\n",
        "\n",
        "# Przetwarzanie linii, aby stworzyć z nich tekst z całymi opiniami\n",
        "merged_reviews = []\n",
        "current_review = []\n",
        "\n",
        "for line in lines:\n",
        "    stripped_line = line.strip()\n",
        "    if stripped_line == '###########################':\n",
        "        if current_review:\n",
        "            merged_reviews.append(' '.join(current_review))\n",
        "            current_review = []\n",
        "    else:\n",
        "        current_review.append(stripped_line)\n",
        "\n",
        "if current_review:\n",
        "    merged_reviews.append(' '.join(current_review))\n",
        "\n",
        "# Usuń nagłówek \"text\" z pierwszego rekordu, jeśli występuje\n",
        "if merged_reviews[0].startswith('text'):\n",
        "    merged_reviews[0] = merged_reviews[0][len('text '):]\n",
        "\n",
        "# Tworzenie ramki danych z połączonych opinii\n",
        "ds_reviews = pd.DataFrame({'text': merged_reviews})\n",
        "\n",
        "print(ds_reviews.head())"
      ],
      "metadata": {
        "id": "4JxZHaijLX8f",
        "colab": {
          "base_uri": "https://localhost:8080/"
        },
        "outputId": "90555690-f441-4f65-a4d6-666dcaa1c8d3"
      },
      "execution_count": 8,
      "outputs": [
        {
          "output_type": "stream",
          "name": "stdout",
          "text": [
            "                                                text\n",
            "0  2 gwiazdki. Na tyle maksymalnie zasługuje ten ...\n",
            "1  \"RADPOL S.A. z siedzibą w Człuchowie (\"\"Spółka...\n",
            "2  Od 6 marca br. Gromadą kieruje Zarząd w składz...\n",
            "3  Statyw zwraca na siebie uwagę naprawdę mikrosk...\n",
            "4  Kurs: chemia ogólna - wykład koleś dziwny nie ...\n"
          ]
        }
      ]
    },
    {
      "cell_type": "code",
      "source": [
        "uploaded = files.upload() # to samo powtarzam dla zbioru z oczekiwanymi wartościami (dzielę na wartości dla poszczególnych zdań i całych opinii)"
      ],
      "metadata": {
        "id": "BdzxHjOBP6FL",
        "colab": {
          "base_uri": "https://localhost:8080/",
          "height": 73
        },
        "outputId": "85b03329-2d3a-411e-c73b-b460ec72fc40"
      },
      "execution_count": 9,
      "outputs": [
        {
          "output_type": "display_data",
          "data": {
            "text/plain": [
              "<IPython.core.display.HTML object>"
            ],
            "text/html": [
              "\n",
              "     <input type=\"file\" id=\"files-686d9b6e-0e6b-4bb0-af57-ccd1700a2ee1\" name=\"files[]\" multiple disabled\n",
              "        style=\"border:none\" />\n",
              "     <output id=\"result-686d9b6e-0e6b-4bb0-af57-ccd1700a2ee1\">\n",
              "      Upload widget is only available when the cell has been executed in the\n",
              "      current browser session. Please rerun this cell to enable.\n",
              "      </output>\n",
              "      <script>// Copyright 2017 Google LLC\n",
              "//\n",
              "// Licensed under the Apache License, Version 2.0 (the \"License\");\n",
              "// you may not use this file except in compliance with the License.\n",
              "// You may obtain a copy of the License at\n",
              "//\n",
              "//      http://www.apache.org/licenses/LICENSE-2.0\n",
              "//\n",
              "// Unless required by applicable law or agreed to in writing, software\n",
              "// distributed under the License is distributed on an \"AS IS\" BASIS,\n",
              "// WITHOUT WARRANTIES OR CONDITIONS OF ANY KIND, either express or implied.\n",
              "// See the License for the specific language governing permissions and\n",
              "// limitations under the License.\n",
              "\n",
              "/**\n",
              " * @fileoverview Helpers for google.colab Python module.\n",
              " */\n",
              "(function(scope) {\n",
              "function span(text, styleAttributes = {}) {\n",
              "  const element = document.createElement('span');\n",
              "  element.textContent = text;\n",
              "  for (const key of Object.keys(styleAttributes)) {\n",
              "    element.style[key] = styleAttributes[key];\n",
              "  }\n",
              "  return element;\n",
              "}\n",
              "\n",
              "// Max number of bytes which will be uploaded at a time.\n",
              "const MAX_PAYLOAD_SIZE = 100 * 1024;\n",
              "\n",
              "function _uploadFiles(inputId, outputId) {\n",
              "  const steps = uploadFilesStep(inputId, outputId);\n",
              "  const outputElement = document.getElementById(outputId);\n",
              "  // Cache steps on the outputElement to make it available for the next call\n",
              "  // to uploadFilesContinue from Python.\n",
              "  outputElement.steps = steps;\n",
              "\n",
              "  return _uploadFilesContinue(outputId);\n",
              "}\n",
              "\n",
              "// This is roughly an async generator (not supported in the browser yet),\n",
              "// where there are multiple asynchronous steps and the Python side is going\n",
              "// to poll for completion of each step.\n",
              "// This uses a Promise to block the python side on completion of each step,\n",
              "// then passes the result of the previous step as the input to the next step.\n",
              "function _uploadFilesContinue(outputId) {\n",
              "  const outputElement = document.getElementById(outputId);\n",
              "  const steps = outputElement.steps;\n",
              "\n",
              "  const next = steps.next(outputElement.lastPromiseValue);\n",
              "  return Promise.resolve(next.value.promise).then((value) => {\n",
              "    // Cache the last promise value to make it available to the next\n",
              "    // step of the generator.\n",
              "    outputElement.lastPromiseValue = value;\n",
              "    return next.value.response;\n",
              "  });\n",
              "}\n",
              "\n",
              "/**\n",
              " * Generator function which is called between each async step of the upload\n",
              " * process.\n",
              " * @param {string} inputId Element ID of the input file picker element.\n",
              " * @param {string} outputId Element ID of the output display.\n",
              " * @return {!Iterable<!Object>} Iterable of next steps.\n",
              " */\n",
              "function* uploadFilesStep(inputId, outputId) {\n",
              "  const inputElement = document.getElementById(inputId);\n",
              "  inputElement.disabled = false;\n",
              "\n",
              "  const outputElement = document.getElementById(outputId);\n",
              "  outputElement.innerHTML = '';\n",
              "\n",
              "  const pickedPromise = new Promise((resolve) => {\n",
              "    inputElement.addEventListener('change', (e) => {\n",
              "      resolve(e.target.files);\n",
              "    });\n",
              "  });\n",
              "\n",
              "  const cancel = document.createElement('button');\n",
              "  inputElement.parentElement.appendChild(cancel);\n",
              "  cancel.textContent = 'Cancel upload';\n",
              "  const cancelPromise = new Promise((resolve) => {\n",
              "    cancel.onclick = () => {\n",
              "      resolve(null);\n",
              "    };\n",
              "  });\n",
              "\n",
              "  // Wait for the user to pick the files.\n",
              "  const files = yield {\n",
              "    promise: Promise.race([pickedPromise, cancelPromise]),\n",
              "    response: {\n",
              "      action: 'starting',\n",
              "    }\n",
              "  };\n",
              "\n",
              "  cancel.remove();\n",
              "\n",
              "  // Disable the input element since further picks are not allowed.\n",
              "  inputElement.disabled = true;\n",
              "\n",
              "  if (!files) {\n",
              "    return {\n",
              "      response: {\n",
              "        action: 'complete',\n",
              "      }\n",
              "    };\n",
              "  }\n",
              "\n",
              "  for (const file of files) {\n",
              "    const li = document.createElement('li');\n",
              "    li.append(span(file.name, {fontWeight: 'bold'}));\n",
              "    li.append(span(\n",
              "        `(${file.type || 'n/a'}) - ${file.size} bytes, ` +\n",
              "        `last modified: ${\n",
              "            file.lastModifiedDate ? file.lastModifiedDate.toLocaleDateString() :\n",
              "                                    'n/a'} - `));\n",
              "    const percent = span('0% done');\n",
              "    li.appendChild(percent);\n",
              "\n",
              "    outputElement.appendChild(li);\n",
              "\n",
              "    const fileDataPromise = new Promise((resolve) => {\n",
              "      const reader = new FileReader();\n",
              "      reader.onload = (e) => {\n",
              "        resolve(e.target.result);\n",
              "      };\n",
              "      reader.readAsArrayBuffer(file);\n",
              "    });\n",
              "    // Wait for the data to be ready.\n",
              "    let fileData = yield {\n",
              "      promise: fileDataPromise,\n",
              "      response: {\n",
              "        action: 'continue',\n",
              "      }\n",
              "    };\n",
              "\n",
              "    // Use a chunked sending to avoid message size limits. See b/62115660.\n",
              "    let position = 0;\n",
              "    do {\n",
              "      const length = Math.min(fileData.byteLength - position, MAX_PAYLOAD_SIZE);\n",
              "      const chunk = new Uint8Array(fileData, position, length);\n",
              "      position += length;\n",
              "\n",
              "      const base64 = btoa(String.fromCharCode.apply(null, chunk));\n",
              "      yield {\n",
              "        response: {\n",
              "          action: 'append',\n",
              "          file: file.name,\n",
              "          data: base64,\n",
              "        },\n",
              "      };\n",
              "\n",
              "      let percentDone = fileData.byteLength === 0 ?\n",
              "          100 :\n",
              "          Math.round((position / fileData.byteLength) * 100);\n",
              "      percent.textContent = `${percentDone}% done`;\n",
              "\n",
              "    } while (position < fileData.byteLength);\n",
              "  }\n",
              "\n",
              "  // All done.\n",
              "  yield {\n",
              "    response: {\n",
              "      action: 'complete',\n",
              "    }\n",
              "  };\n",
              "}\n",
              "\n",
              "scope.google = scope.google || {};\n",
              "scope.google.colab = scope.google.colab || {};\n",
              "scope.google.colab._files = {\n",
              "  _uploadFiles,\n",
              "  _uploadFilesContinue,\n",
              "};\n",
              "})(self);\n",
              "</script> "
            ]
          },
          "metadata": {}
        },
        {
          "output_type": "stream",
          "name": "stdout",
          "text": [
            "Saving expected.tsv to expected.tsv\n"
          ]
        }
      ]
    },
    {
      "cell_type": "code",
      "source": [
        "ds_expected = pd.read_csv('expected.tsv', sep='\\t', header=0)"
      ],
      "metadata": {
        "id": "6ctXfJlIQAzr"
      },
      "execution_count": 10,
      "outputs": []
    },
    {
      "cell_type": "code",
      "source": [
        "print(ds_expected.head())"
      ],
      "metadata": {
        "id": "EnqcrAAOjBc3",
        "colab": {
          "base_uri": "https://localhost:8080/"
        },
        "outputId": "df6ef1a2-d028-462c-94f0-a2e2681417d8"
      },
      "execution_count": 11,
      "outputs": [
        {
          "output_type": "stream",
          "name": "stdout",
          "text": [
            "     Joy  Trust  Anticipation  Surprise   Fear  Sadness  Disgust  Anger  \\\n",
            "0  False  False         False      True  False     True    False   True   \n",
            "1  False  False         False     False  False     True     True   True   \n",
            "2  False  False         False     False  False    False     True   True   \n",
            "3  False  False         False     False  False     True     True   True   \n",
            "4   True  False         False     False  False    False    False   True   \n",
            "\n",
            "   Positive  Negative  Neutral  \n",
            "0     False      True    False  \n",
            "1     False      True    False  \n",
            "2     False      True    False  \n",
            "3     False      True    False  \n",
            "4     False      True     True  \n"
          ]
        }
      ]
    },
    {
      "cell_type": "code",
      "source": [
        "ds_emotions_sentences = ds_expected.drop(ds_in[ds_in['text'] == \"###########################\"].index)"
      ],
      "metadata": {
        "id": "v5cNBQukjVx1"
      },
      "execution_count": 12,
      "outputs": []
    },
    {
      "cell_type": "code",
      "source": [
        "ds_emotions = ds_expected.loc[ds_in[ds_in['text'] == \"###########################\"].index]\n",
        "print(ds_emotions.head())"
      ],
      "metadata": {
        "id": "4D_c0EsGPrk5",
        "colab": {
          "base_uri": "https://localhost:8080/"
        },
        "outputId": "253e914a-bb3b-459e-83a1-be30dd461a4a"
      },
      "execution_count": 13,
      "outputs": [
        {
          "output_type": "stream",
          "name": "stdout",
          "text": [
            "      Joy  Trust  Anticipation  Surprise   Fear  Sadness  Disgust  Anger  \\\n",
            "47  False  False         False      True  False     True     True   True   \n",
            "56  False  False         False     False  False    False    False  False   \n",
            "61  False  False         False     False  False    False    False  False   \n",
            "67   True  False         False     False  False     True    False  False   \n",
            "73   True   True         False     False  False    False    False  False   \n",
            "\n",
            "    Positive  Negative  Neutral  \n",
            "47     False      True    False  \n",
            "56     False     False     True  \n",
            "61      True     False     True  \n",
            "67      True      True    False  \n",
            "73      True     False    False  \n"
          ]
        }
      ]
    },
    {
      "cell_type": "markdown",
      "source": [
        "**Wczytanie zbioru danych - test**"
      ],
      "metadata": {
        "id": "NLb0WGSA1CvG"
      }
    },
    {
      "cell_type": "code",
      "source": [
        "uploaded = files.upload()"
      ],
      "metadata": {
        "id": "pkdb5ZHy1CZC",
        "colab": {
          "base_uri": "https://localhost:8080/",
          "height": 108
        },
        "outputId": "c73421e9-6019-4cfd-b0b9-b2ff6bc1fe2d"
      },
      "execution_count": 14,
      "outputs": [
        {
          "output_type": "display_data",
          "data": {
            "text/plain": [
              "<IPython.core.display.HTML object>"
            ],
            "text/html": [
              "\n",
              "     <input type=\"file\" id=\"files-9d6a6eda-f72f-48cd-9c56-5e99ad4713be\" name=\"files[]\" multiple disabled\n",
              "        style=\"border:none\" />\n",
              "     <output id=\"result-9d6a6eda-f72f-48cd-9c56-5e99ad4713be\">\n",
              "      Upload widget is only available when the cell has been executed in the\n",
              "      current browser session. Please rerun this cell to enable.\n",
              "      </output>\n",
              "      <script>// Copyright 2017 Google LLC\n",
              "//\n",
              "// Licensed under the Apache License, Version 2.0 (the \"License\");\n",
              "// you may not use this file except in compliance with the License.\n",
              "// You may obtain a copy of the License at\n",
              "//\n",
              "//      http://www.apache.org/licenses/LICENSE-2.0\n",
              "//\n",
              "// Unless required by applicable law or agreed to in writing, software\n",
              "// distributed under the License is distributed on an \"AS IS\" BASIS,\n",
              "// WITHOUT WARRANTIES OR CONDITIONS OF ANY KIND, either express or implied.\n",
              "// See the License for the specific language governing permissions and\n",
              "// limitations under the License.\n",
              "\n",
              "/**\n",
              " * @fileoverview Helpers for google.colab Python module.\n",
              " */\n",
              "(function(scope) {\n",
              "function span(text, styleAttributes = {}) {\n",
              "  const element = document.createElement('span');\n",
              "  element.textContent = text;\n",
              "  for (const key of Object.keys(styleAttributes)) {\n",
              "    element.style[key] = styleAttributes[key];\n",
              "  }\n",
              "  return element;\n",
              "}\n",
              "\n",
              "// Max number of bytes which will be uploaded at a time.\n",
              "const MAX_PAYLOAD_SIZE = 100 * 1024;\n",
              "\n",
              "function _uploadFiles(inputId, outputId) {\n",
              "  const steps = uploadFilesStep(inputId, outputId);\n",
              "  const outputElement = document.getElementById(outputId);\n",
              "  // Cache steps on the outputElement to make it available for the next call\n",
              "  // to uploadFilesContinue from Python.\n",
              "  outputElement.steps = steps;\n",
              "\n",
              "  return _uploadFilesContinue(outputId);\n",
              "}\n",
              "\n",
              "// This is roughly an async generator (not supported in the browser yet),\n",
              "// where there are multiple asynchronous steps and the Python side is going\n",
              "// to poll for completion of each step.\n",
              "// This uses a Promise to block the python side on completion of each step,\n",
              "// then passes the result of the previous step as the input to the next step.\n",
              "function _uploadFilesContinue(outputId) {\n",
              "  const outputElement = document.getElementById(outputId);\n",
              "  const steps = outputElement.steps;\n",
              "\n",
              "  const next = steps.next(outputElement.lastPromiseValue);\n",
              "  return Promise.resolve(next.value.promise).then((value) => {\n",
              "    // Cache the last promise value to make it available to the next\n",
              "    // step of the generator.\n",
              "    outputElement.lastPromiseValue = value;\n",
              "    return next.value.response;\n",
              "  });\n",
              "}\n",
              "\n",
              "/**\n",
              " * Generator function which is called between each async step of the upload\n",
              " * process.\n",
              " * @param {string} inputId Element ID of the input file picker element.\n",
              " * @param {string} outputId Element ID of the output display.\n",
              " * @return {!Iterable<!Object>} Iterable of next steps.\n",
              " */\n",
              "function* uploadFilesStep(inputId, outputId) {\n",
              "  const inputElement = document.getElementById(inputId);\n",
              "  inputElement.disabled = false;\n",
              "\n",
              "  const outputElement = document.getElementById(outputId);\n",
              "  outputElement.innerHTML = '';\n",
              "\n",
              "  const pickedPromise = new Promise((resolve) => {\n",
              "    inputElement.addEventListener('change', (e) => {\n",
              "      resolve(e.target.files);\n",
              "    });\n",
              "  });\n",
              "\n",
              "  const cancel = document.createElement('button');\n",
              "  inputElement.parentElement.appendChild(cancel);\n",
              "  cancel.textContent = 'Cancel upload';\n",
              "  const cancelPromise = new Promise((resolve) => {\n",
              "    cancel.onclick = () => {\n",
              "      resolve(null);\n",
              "    };\n",
              "  });\n",
              "\n",
              "  // Wait for the user to pick the files.\n",
              "  const files = yield {\n",
              "    promise: Promise.race([pickedPromise, cancelPromise]),\n",
              "    response: {\n",
              "      action: 'starting',\n",
              "    }\n",
              "  };\n",
              "\n",
              "  cancel.remove();\n",
              "\n",
              "  // Disable the input element since further picks are not allowed.\n",
              "  inputElement.disabled = true;\n",
              "\n",
              "  if (!files) {\n",
              "    return {\n",
              "      response: {\n",
              "        action: 'complete',\n",
              "      }\n",
              "    };\n",
              "  }\n",
              "\n",
              "  for (const file of files) {\n",
              "    const li = document.createElement('li');\n",
              "    li.append(span(file.name, {fontWeight: 'bold'}));\n",
              "    li.append(span(\n",
              "        `(${file.type || 'n/a'}) - ${file.size} bytes, ` +\n",
              "        `last modified: ${\n",
              "            file.lastModifiedDate ? file.lastModifiedDate.toLocaleDateString() :\n",
              "                                    'n/a'} - `));\n",
              "    const percent = span('0% done');\n",
              "    li.appendChild(percent);\n",
              "\n",
              "    outputElement.appendChild(li);\n",
              "\n",
              "    const fileDataPromise = new Promise((resolve) => {\n",
              "      const reader = new FileReader();\n",
              "      reader.onload = (e) => {\n",
              "        resolve(e.target.result);\n",
              "      };\n",
              "      reader.readAsArrayBuffer(file);\n",
              "    });\n",
              "    // Wait for the data to be ready.\n",
              "    let fileData = yield {\n",
              "      promise: fileDataPromise,\n",
              "      response: {\n",
              "        action: 'continue',\n",
              "      }\n",
              "    };\n",
              "\n",
              "    // Use a chunked sending to avoid message size limits. See b/62115660.\n",
              "    let position = 0;\n",
              "    do {\n",
              "      const length = Math.min(fileData.byteLength - position, MAX_PAYLOAD_SIZE);\n",
              "      const chunk = new Uint8Array(fileData, position, length);\n",
              "      position += length;\n",
              "\n",
              "      const base64 = btoa(String.fromCharCode.apply(null, chunk));\n",
              "      yield {\n",
              "        response: {\n",
              "          action: 'append',\n",
              "          file: file.name,\n",
              "          data: base64,\n",
              "        },\n",
              "      };\n",
              "\n",
              "      let percentDone = fileData.byteLength === 0 ?\n",
              "          100 :\n",
              "          Math.round((position / fileData.byteLength) * 100);\n",
              "      percent.textContent = `${percentDone}% done`;\n",
              "\n",
              "    } while (position < fileData.byteLength);\n",
              "  }\n",
              "\n",
              "  // All done.\n",
              "  yield {\n",
              "    response: {\n",
              "      action: 'complete',\n",
              "    }\n",
              "  };\n",
              "}\n",
              "\n",
              "scope.google = scope.google || {};\n",
              "scope.google.colab = scope.google.colab || {};\n",
              "scope.google.colab._files = {\n",
              "  _uploadFiles,\n",
              "  _uploadFilesContinue,\n",
              "};\n",
              "})(self);\n",
              "</script> "
            ]
          },
          "metadata": {}
        },
        {
          "output_type": "stream",
          "name": "stdout",
          "text": [
            "Saving in_testB.tsv to in_testB.tsv\n",
            "Saving in_testA.tsv to in_testA.tsv\n"
          ]
        }
      ]
    },
    {
      "cell_type": "code",
      "source": [
        "testA = pd.read_csv('in_testA.tsv', sep='\\t', header=0)"
      ],
      "metadata": {
        "id": "u6QJLQRa4Sfe"
      },
      "execution_count": 15,
      "outputs": []
    },
    {
      "cell_type": "code",
      "source": [
        "testB = pd.read_csv('in_testB.tsv', sep='\\t', header=0)"
      ],
      "metadata": {
        "id": "VZUP8yrf4c4q"
      },
      "execution_count": 16,
      "outputs": []
    },
    {
      "cell_type": "code",
      "source": [
        "print(testA.head())"
      ],
      "metadata": {
        "id": "ixDoUOtr6rTs",
        "colab": {
          "base_uri": "https://localhost:8080/"
        },
        "outputId": "25649025-650e-40ab-82f9-5a3694bfc3e1"
      },
      "execution_count": 17,
      "outputs": [
        {
          "output_type": "stream",
          "name": "stdout",
          "text": [
            "                                                text\n",
            "0             Miałem kontakt z seksuologiem mailowy.\n",
            "1  Wyczytałem na stronie seksuolog.org.pl, że moż...\n",
            "2  Po trzech dniach otrzymałem wyjasnienie niepok...\n",
            "3  Było to za jedną opłatom ale nie dla lekarza, ...\n",
            "4  Trzeba było SAMEMU wpłacić i przysłać dowod le...\n"
          ]
        }
      ]
    },
    {
      "cell_type": "code",
      "source": [
        "print(testB.head())"
      ],
      "metadata": {
        "id": "CYaM5vag6mXT",
        "colab": {
          "base_uri": "https://localhost:8080/"
        },
        "outputId": "cc632a89-4400-486b-ae8f-747c7285d157"
      },
      "execution_count": 18,
      "outputs": [
        {
          "output_type": "stream",
          "name": "stdout",
          "text": [
            "                                                text\n",
            "0    Przez 12 lat leczyła mnie ze złym rozpoznaniem.\n",
            "1  Teraz jestem leczony na prawidłową chorobę, bi...\n",
            "2  Poza tym każda wizyta, nawet po 10 latach lecz...\n",
            "3  Na dodatek pani doktor nie raczyła poinformowa...\n",
            "4                        ###########################\n"
          ]
        }
      ]
    },
    {
      "cell_type": "code",
      "source": [
        "ds_testA_sentences = testA.drop(testA[testA['text'] == \"###########################\"].index) # usuwam przerywniki dzielące całe opinie"
      ],
      "metadata": {
        "id": "fXRiw6PB4pTi"
      },
      "execution_count": 19,
      "outputs": []
    },
    {
      "cell_type": "code",
      "source": [
        "ds_testB_sentences = testB.drop(testB[testB['text'] == \"###########################\"].index)"
      ],
      "metadata": {
        "id": "7oejEa8K5BZ0"
      },
      "execution_count": 20,
      "outputs": []
    },
    {
      "cell_type": "code",
      "source": [
        "print(ds_testB_sentences.head())"
      ],
      "metadata": {
        "id": "WdftU87O5Vsk",
        "colab": {
          "base_uri": "https://localhost:8080/"
        },
        "outputId": "7fd0b090-af99-4a90-b3ff-bfbe450b4eee"
      },
      "execution_count": 21,
      "outputs": [
        {
          "output_type": "stream",
          "name": "stdout",
          "text": [
            "                                                text\n",
            "0    Przez 12 lat leczyła mnie ze złym rozpoznaniem.\n",
            "1  Teraz jestem leczony na prawidłową chorobę, bi...\n",
            "2  Poza tym każda wizyta, nawet po 10 latach lecz...\n",
            "3  Na dodatek pani doktor nie raczyła poinformowa...\n",
            "5                                        OSTRZEGAM!!\n"
          ]
        }
      ]
    },
    {
      "cell_type": "code",
      "source": [
        "with open('in_testA.tsv', 'r', encoding='utf-8') as file:\n",
        "    lines = file.readlines()\n",
        "\n",
        "# Przetwarzanie linii, aby stworzyć z nich tekst z całymi opiniami\n",
        "merged_reviews = []\n",
        "current_review = []\n",
        "\n",
        "for line in lines:\n",
        "    stripped_line = line.strip()\n",
        "    if stripped_line == '###########################':\n",
        "        if current_review:\n",
        "            merged_reviews.append(' '.join(current_review))\n",
        "            current_review = []\n",
        "    else:\n",
        "        current_review.append(stripped_line)\n",
        "\n",
        "if current_review:\n",
        "    merged_reviews.append(' '.join(current_review))\n",
        "\n",
        "# Usuń nagłówek \"text\" z pierwszego rekordu, jeśli występuje\n",
        "if merged_reviews[0].startswith('text'):\n",
        "    merged_reviews[0] = merged_reviews[0][len('text '):]\n",
        "\n",
        "# Tworzenie ramki danych z połączonych opinii\n",
        "ds_testA = pd.DataFrame({'text': merged_reviews})\n",
        "\n",
        "print(ds_testA.head())"
      ],
      "metadata": {
        "id": "JzMG94-g49Mk",
        "colab": {
          "base_uri": "https://localhost:8080/"
        },
        "outputId": "dbcb8674-cce2-456e-f88e-159b3ff12437"
      },
      "execution_count": 22,
      "outputs": [
        {
          "output_type": "stream",
          "name": "stdout",
          "text": [
            "                                                text\n",
            "0  Miałem kontakt z seksuologiem mailowy. Wyczyta...\n",
            "1  Hotel fantastycznie położony, tuż nad samym je...\n",
            "2  Hotel położony nieopodal Koszalina. Pokoje śre...\n",
            "3  Pragnę serdecznie podziękować Panu dr Marcinow...\n",
            "4  Pani Profesor jest lekarzem wybitnym, specjali...\n"
          ]
        }
      ]
    },
    {
      "cell_type": "code",
      "source": [
        "with open('in_testB.tsv', 'r', encoding='utf-8') as file:\n",
        "    lines = file.readlines()\n",
        "\n",
        "# Przetwarzanie linii, aby stworzyć z nich tekst z całymi opiniami\n",
        "merged_reviews = []\n",
        "current_review = []\n",
        "\n",
        "for line in lines:\n",
        "    stripped_line = line.strip()\n",
        "    if stripped_line == '###########################':\n",
        "        if current_review:\n",
        "            merged_reviews.append(' '.join(current_review))\n",
        "            current_review = []\n",
        "    else:\n",
        "        current_review.append(stripped_line)\n",
        "\n",
        "if current_review:\n",
        "    merged_reviews.append(' '.join(current_review))\n",
        "\n",
        "# Usuń nagłówek \"text\" z pierwszego rekordu, jeśli występuje\n",
        "if merged_reviews[0].startswith('text'):\n",
        "    merged_reviews[0] = merged_reviews[0][len('text '):]\n",
        "\n",
        "# Tworzenie ramki danych z połączonych opinii\n",
        "ds_testB = pd.DataFrame({'text': merged_reviews})\n",
        "\n",
        "print(ds_testB.head())"
      ],
      "metadata": {
        "id": "NdvFw6Oo5jl1",
        "colab": {
          "base_uri": "https://localhost:8080/"
        },
        "outputId": "ea561c4a-cfe8-4c6c-873a-edef4df09b72"
      },
      "execution_count": 23,
      "outputs": [
        {
          "output_type": "stream",
          "name": "stdout",
          "text": [
            "                                                text\n",
            "0  Przez 12 lat leczyła mnie ze złym rozpoznaniem...\n",
            "1  OSTRZEGAM!! Organizowałam w hotelu imprezę uro...\n",
            "2  But zewnętrznie robi piorunujące wrażenie. Pod...\n",
            "3  Jestem zawiedziona operacją wykonaną przez lek...\n",
            "4  Jestem pacjętką doktora od 3 lat i naprawdę je...\n"
          ]
        }
      ]
    },
    {
      "cell_type": "markdown",
      "source": [
        "# Eksploracja zbiorów danych"
      ],
      "metadata": {
        "id": "w2WTQnLMV0yX"
      }
    },
    {
      "cell_type": "code",
      "source": [
        "# sprawdzam czy długości zbiorów są poprawne\n",
        "print(len(ds_reviews))\n",
        "print(len(ds_emotions))\n",
        "print(len(ds_reviews_sentences))\n",
        "print(len(ds_emotions_sentences))\n",
        "\n",
        "print(len(ds_testA))\n",
        "print(len(ds_testB))\n",
        "print(len(ds_testA_sentences))\n",
        "print(len(ds_testB_sentences))"
      ],
      "metadata": {
        "id": "W1UNJt-ru2nI",
        "colab": {
          "base_uri": "https://localhost:8080/"
        },
        "outputId": "ea258206-38c6-4b30-d01d-6459764e8858"
      },
      "execution_count": 24,
      "outputs": [
        {
          "output_type": "stream",
          "name": "stdout",
          "text": [
            "776\n",
            "776\n",
            "6393\n",
            "6393\n",
            "167\n",
            "167\n",
            "1234\n",
            "1264\n"
          ]
        }
      ]
    },
    {
      "cell_type": "code",
      "source": [
        "# sprawdzenie ewentualnych braków w danych\n",
        "print(np.where(pd.isnull(ds_emotions)))\n",
        "print(np.where(pd.isnull(ds_reviews)))\n",
        "print(np.where(pd.isnull(ds_reviews_sentences)))\n",
        "print(np.where(pd.isnull(ds_emotions_sentences)))\n",
        "\n",
        "print(np.where(pd.isnull(ds_testA)))\n",
        "print(np.where(pd.isnull(ds_testB)))\n",
        "print(np.where(pd.isnull(ds_testA_sentences)))\n",
        "print(np.where(pd.isnull(ds_testB_sentences)))"
      ],
      "metadata": {
        "id": "WTJ9DOrtSyz1",
        "colab": {
          "base_uri": "https://localhost:8080/"
        },
        "outputId": "5726d881-4d37-409b-ef1a-3253f8178d6c"
      },
      "execution_count": 25,
      "outputs": [
        {
          "output_type": "stream",
          "name": "stdout",
          "text": [
            "(array([], dtype=int64), array([], dtype=int64))\n",
            "(array([], dtype=int64), array([], dtype=int64))\n",
            "(array([], dtype=int64), array([], dtype=int64))\n",
            "(array([], dtype=int64), array([], dtype=int64))\n",
            "(array([], dtype=int64), array([], dtype=int64))\n",
            "(array([], dtype=int64), array([], dtype=int64))\n",
            "(array([], dtype=int64), array([], dtype=int64))\n",
            "(array([], dtype=int64), array([], dtype=int64))\n"
          ]
        }
      ]
    },
    {
      "cell_type": "code",
      "source": [
        "# sprawdzenie pustych stringów\n",
        "print(np.where(ds_reviews.applymap(lambda x: x == '')))\n",
        "print(np.where(ds_reviews_sentences.applymap(lambda x: x == '')))\n",
        "print(np.where(ds_emotions.applymap(lambda x: x == '')))\n",
        "print(np.where(ds_emotions_sentences.applymap(lambda x: x == '')))\n",
        "\n",
        "print(np.where(ds_testA.applymap(lambda x: x == '')))\n",
        "print(np.where(ds_testA_sentences.applymap(lambda x: x == '')))\n",
        "print(np.where(ds_testB.applymap(lambda x: x == '')))\n",
        "print(np.where(ds_testB_sentences.applymap(lambda x: x == '')))"
      ],
      "metadata": {
        "id": "GeUtdWsjoAOg",
        "colab": {
          "base_uri": "https://localhost:8080/"
        },
        "outputId": "301e0724-27d7-4274-9a4f-496f96279878"
      },
      "execution_count": 26,
      "outputs": [
        {
          "output_type": "stream",
          "name": "stdout",
          "text": [
            "(array([], dtype=int64), array([], dtype=int64))\n",
            "(array([], dtype=int64), array([], dtype=int64))\n",
            "(array([], dtype=int64), array([], dtype=int64))\n",
            "(array([], dtype=int64), array([], dtype=int64))\n",
            "(array([], dtype=int64), array([], dtype=int64))\n",
            "(array([], dtype=int64), array([], dtype=int64))\n",
            "(array([], dtype=int64), array([], dtype=int64))\n",
            "(array([], dtype=int64), array([], dtype=int64))\n"
          ]
        }
      ]
    },
    {
      "cell_type": "markdown",
      "source": [
        "# Model dla całych zdań"
      ],
      "metadata": {
        "id": "ZXjvSO54ohh-"
      }
    },
    {
      "cell_type": "markdown",
      "source": [
        "**Przygotowanie danych do przetwarzania przez transformery**"
      ],
      "metadata": {
        "id": "-E4m2u_CtJF2"
      }
    },
    {
      "cell_type": "code",
      "source": [
        "dataset = []\n",
        "for index, row in ds_reviews.iterrows():\n",
        "    text = row['text']\n",
        "    # tylko te etykiety, które mają wartość True\n",
        "    label = [1 if value else 0 for emotion, value in ds_emotions.iloc[index].items()]\n",
        "    dataset.append({'text': text, 'label': label})\n",
        "\n",
        "train_data, val_data = train_test_split(dataset, test_size=0.2, random_state=42)\n",
        "train_dataset = Dataset.from_pandas(pd.DataFrame(train_data))\n",
        "val_dataset = Dataset.from_pandas(pd.DataFrame(val_data))"
      ],
      "metadata": {
        "id": "_povi3oPCq5L"
      },
      "execution_count": 27,
      "outputs": []
    },
    {
      "cell_type": "code",
      "source": [
        "testA_dataset = Dataset.from_pandas(pd.DataFrame(ds_testA))\n",
        "testB_dataset = Dataset.from_pandas(pd.DataFrame(ds_testB))"
      ],
      "metadata": {
        "id": "k0ThzV80Gxcs"
      },
      "execution_count": 28,
      "outputs": []
    },
    {
      "cell_type": "code",
      "source": [
        "final_dataset = DatasetDict({\n",
        "    \"train\": train_dataset,\n",
        "    \"valid\": val_dataset,\n",
        "    \"testA\": testA_dataset,\n",
        "    \"testB\": testB_dataset\n",
        "})\n",
        "\n",
        "# Przykład:\n",
        "example_index = 0\n",
        "print(final_dataset[\"train\"][example_index])"
      ],
      "metadata": {
        "id": "OLHi0HrUl0uh",
        "colab": {
          "base_uri": "https://localhost:8080/"
        },
        "outputId": "a99d4b79-970e-4535-9d85-869eb20445f9"
      },
      "execution_count": 29,
      "outputs": [
        {
          "output_type": "stream",
          "name": "stdout",
          "text": [
            "{'text': 'Hotel odpowiedni na każde warunki pogodowe. 5 minut spacerkiem przez las do plaży, a po plaży duży ogród, mini zoo i rowery. Na niepogodę basen ze zjeżdżalnią, Playland, kluby i dyskoteki. Do tego fantastyczne animacje dla dzieci. Pokoje nie za wielkie i niezbyt bogato wyposażone, ale ciepłe, czyste i schludne. Brak mebli balkonowych i palarni. Najlepsza jest kuchnia. Przy pakiecie z 3 posiłkami można przybrać szybko kilka kilogramów. Jedzenie smaczne, każdy posiłek dostosowany do ludzi dbających o dietę, lubiących pojeść oraz dla dzieciaczków. Obsługa, mimo natłoku radzi sobie sprawnie, wszystko uzupełniane na bieżąco, do każdego z posiłków ze stołem szwedzkim.', 'label': [1, 0, 0, 0, 0, 0, 0, 0, 1, 0, 0]}\n"
          ]
        }
      ]
    },
    {
      "cell_type": "code",
      "source": [
        "print(final_dataset)"
      ],
      "metadata": {
        "id": "SKU3-r95GJyT",
        "colab": {
          "base_uri": "https://localhost:8080/"
        },
        "outputId": "5a34cdd9-442b-423a-8a97-ec8ae81c4ddf"
      },
      "execution_count": 30,
      "outputs": [
        {
          "output_type": "stream",
          "name": "stdout",
          "text": [
            "DatasetDict({\n",
            "    train: Dataset({\n",
            "        features: ['text', 'label'],\n",
            "        num_rows: 620\n",
            "    })\n",
            "    valid: Dataset({\n",
            "        features: ['text', 'label'],\n",
            "        num_rows: 156\n",
            "    })\n",
            "    testA: Dataset({\n",
            "        features: ['text'],\n",
            "        num_rows: 167\n",
            "    })\n",
            "    testB: Dataset({\n",
            "        features: ['text'],\n",
            "        num_rows: 167\n",
            "    })\n",
            "})\n"
          ]
        }
      ]
    },
    {
      "cell_type": "markdown",
      "source": [
        "**Dotrenowanie modelu typu BERT**"
      ],
      "metadata": {
        "id": "SdeeAvJQ5ekx"
      }
    },
    {
      "cell_type": "code",
      "source": [
        "max_length = 512\n",
        "tokenizer = AutoTokenizer.from_pretrained(\"distilbert-base-uncased\")\n",
        "\n",
        "def tokenize_function(examples):\n",
        "    return tokenizer(examples[\"text\"], padding=\"max_length\", truncation=True, max_length=max_length)\n"
      ],
      "metadata": {
        "id": "mk97c6cRz4W3",
        "colab": {
          "base_uri": "https://localhost:8080/",
          "height": 304,
          "referenced_widgets": [
            "cfa067cf0d2640ee82a99e9e5946562f",
            "e6406394b3b5477ba1c7a01012edc68c",
            "a85cdbb5bb1342d5ac4d82786baefb68",
            "5dc56478747c441cba8ab787fbf3c47a",
            "c5051a9bc1d4438d86f6d13e9b178d09",
            "917b68494a984900b55f381765d4f9b6",
            "57674567df874a0390023eb7844b8825",
            "95bc2629540249d98e6af05c487c755f",
            "215609d7b7974fd88a0623c89616c802",
            "687ba5e54f064a3cb44f7786aa0184b5",
            "b976e2d8de3e452a848c6600f2ad2e93",
            "1b18742ea7ba41ee85767518dda4690a",
            "8550e23ad1de4a35ac5993cb70523cdc",
            "8aabcdedf833444ba99e681932f111e8",
            "962a19f5b2744ec78e9a05784e231189",
            "2c30717476594696a9633685eaebdd7e",
            "09bc5081150c49d490788f8405a74324",
            "5727828e329d4a3caa9fbda693366a0f",
            "c8b79a246ac24ea6b34a1b2e7de0bb6b",
            "93c7344bd7cb4b8eb9d5034cf17a79ec",
            "c9a0977710ce4e078cd5206749839680",
            "e32583843d28455da4a3ecf9c06f40f1",
            "cc46e6db7540442db10fd7dc7cdbb3f8",
            "7e3ca5d9fc1d4ef2b1e8dd1e13c3d8a6",
            "b7473f2356854c0a8a5be1fdfc55f8d1",
            "fc1d57c07e204cf99e8232ef58757d10",
            "7896fea6cf52451db535bd6a4287bf68",
            "c8c89b90fd094ed8bd13d936b2e7ec5a",
            "d4e8176387a4447086d70da80fed6045",
            "1c08a03060f9456cbfd25e05b5f73596",
            "4cb54913d9ac46639fe147adfdf83ef1",
            "8b54b16952214096bc2ab43162ded21d",
            "d959c71f0dea465fa2064bf039d899fe",
            "b8c9eba53e604beca0dd81bcd34ab167",
            "629da27ea6f34f658e8e5f0383459361",
            "732d67b4a6c24ead9bd0d0e2d2e88e9f",
            "9d8fab1a725f448daeee27075f172c7e",
            "508f81a43fd44b80aa07615757d7cf6c",
            "a26fb38c5b7e4627a241f48612c826fc",
            "07c8b900f9724decb1913ab360d38e9c",
            "240d059a4c3e43589838d5134596aafa",
            "7d74f7af243e43efb09cb53bc1560aae",
            "760e46fceb1944e88e0fc2423dbad4ab",
            "993cb1dbb36846668db614e3eecd0f83"
          ]
        },
        "outputId": "4a5374ac-e2bf-4065-8d97-14fde8bb2de8"
      },
      "execution_count": 31,
      "outputs": [
        {
          "output_type": "stream",
          "name": "stderr",
          "text": [
            "/usr/local/lib/python3.10/dist-packages/huggingface_hub/utils/_token.py:89: UserWarning: \n",
            "The secret `HF_TOKEN` does not exist in your Colab secrets.\n",
            "To authenticate with the Hugging Face Hub, create a token in your settings tab (https://huggingface.co/settings/tokens), set it as secret in your Google Colab and restart your session.\n",
            "You will be able to reuse this secret in all of your notebooks.\n",
            "Please note that authentication is recommended but still optional to access public models or datasets.\n",
            "  warnings.warn(\n"
          ]
        },
        {
          "output_type": "display_data",
          "data": {
            "text/plain": [
              "tokenizer_config.json:   0%|          | 0.00/48.0 [00:00<?, ?B/s]"
            ],
            "application/vnd.jupyter.widget-view+json": {
              "version_major": 2,
              "version_minor": 0,
              "model_id": "cfa067cf0d2640ee82a99e9e5946562f"
            }
          },
          "metadata": {}
        },
        {
          "output_type": "stream",
          "name": "stderr",
          "text": [
            "/usr/local/lib/python3.10/dist-packages/huggingface_hub/file_download.py:1132: FutureWarning: `resume_download` is deprecated and will be removed in version 1.0.0. Downloads always resume when possible. If you want to force a new download, use `force_download=True`.\n",
            "  warnings.warn(\n"
          ]
        },
        {
          "output_type": "display_data",
          "data": {
            "text/plain": [
              "config.json:   0%|          | 0.00/483 [00:00<?, ?B/s]"
            ],
            "application/vnd.jupyter.widget-view+json": {
              "version_major": 2,
              "version_minor": 0,
              "model_id": "1b18742ea7ba41ee85767518dda4690a"
            }
          },
          "metadata": {}
        },
        {
          "output_type": "display_data",
          "data": {
            "text/plain": [
              "vocab.txt:   0%|          | 0.00/232k [00:00<?, ?B/s]"
            ],
            "application/vnd.jupyter.widget-view+json": {
              "version_major": 2,
              "version_minor": 0,
              "model_id": "cc46e6db7540442db10fd7dc7cdbb3f8"
            }
          },
          "metadata": {}
        },
        {
          "output_type": "display_data",
          "data": {
            "text/plain": [
              "tokenizer.json:   0%|          | 0.00/466k [00:00<?, ?B/s]"
            ],
            "application/vnd.jupyter.widget-view+json": {
              "version_major": 2,
              "version_minor": 0,
              "model_id": "b8c9eba53e604beca0dd81bcd34ab167"
            }
          },
          "metadata": {}
        }
      ]
    },
    {
      "cell_type": "code",
      "source": [
        "tokenized_datasets = final_dataset.map(tokenize_function, batched=True)\n",
        "tokenized_datasets"
      ],
      "metadata": {
        "id": "KhxmqDX478KW",
        "colab": {
          "base_uri": "https://localhost:8080/",
          "height": 457,
          "referenced_widgets": [
            "386cec2f2e5b4ee0a6c203494b207e2e",
            "e1fd97840e554458977e45e08d4408da",
            "52b51ebd60a241a5aa45bc71ba475302",
            "96e9390f4b4d47208f4497b2bd4153d8",
            "f912ca77996c44c68934be7b66e3a2f0",
            "964df2d28e354d668ba9a1eef00e66c6",
            "778dca58eb384ad8810276728969335b",
            "3587640261d84141a12265b7ecd604e8",
            "11656cd77aa94ee5ae73754736d2783f",
            "ed9ca8962793442abc6d117e8edf9437",
            "dae3bea38f094292ba4f2a6dc026fdd1",
            "e0ddb373c13645a0a1ec79af862d0e23",
            "c4f03fef0843464eb74195cb44e774c4",
            "5a707dac88044c65b55c8b4c9f7c4223",
            "1870362ca71347d6b80151c241c96604",
            "0dc95d5511264fd8b45accd19f7e57fb",
            "9af9897114bb45e5b33d42de50a08a1e",
            "bed25919154342df9247e72a81e1ab80",
            "10423806be8c4d309c062f06568d6f98",
            "de0391b7f5394096b62831558911c9e0",
            "5c5d4477142447e59df8a1cfbaf403aa",
            "f4b8e6cca5a14ca4ab8b0ead41382128",
            "d2a54cdc8eef45efb3e3d4f6f6f50045",
            "0151c444b9eb4d2cb96bf7e4c4e85190",
            "1dac75b3af414d84a9d3857b18714a78",
            "ba6f7825c9fc40678a6ee91b6d8632aa",
            "a27ef527148a4092aff1d5492b0947f4",
            "ecbdc23cc14a4ece905d0a06f3f58a8b",
            "a66f84d547054b209ba63c7c50b59b62",
            "291330c4a46b44cfbfbf979db88bb799",
            "008811db85c74bb3837a0cf452fc7d01",
            "9e32363037e4482d997cc340811a4d6c",
            "366631f27442497bacc5a14e69a5df19",
            "68c494039c734dc4a43f222e3d78b0e6",
            "a51723495bf44d17bf4742fb584fc967",
            "36ee7c41885c4b59b6d92d740c79a268",
            "fccc51aaae6c4676bff25d207d5ae1e0",
            "638751c904fb4f52ad9bcfdfef24ec38",
            "46f7657f64b2425fb1723f1b4385ca17",
            "7c9b0eb9b7cd4a39820dc7eb129c3b64",
            "932556c45eea4bb88e54036b16d25b70",
            "384e92aa4c7645918da964a8c7cd279a",
            "e43c26a7a02d48d09cec120ccaf1ef04",
            "a53fa0214b0e42f0a7fa86f90488fb6c"
          ]
        },
        "outputId": "ed8485bf-416f-4374-ffec-99e9214af3b2"
      },
      "execution_count": 32,
      "outputs": [
        {
          "output_type": "display_data",
          "data": {
            "text/plain": [
              "Map:   0%|          | 0/620 [00:00<?, ? examples/s]"
            ],
            "application/vnd.jupyter.widget-view+json": {
              "version_major": 2,
              "version_minor": 0,
              "model_id": "386cec2f2e5b4ee0a6c203494b207e2e"
            }
          },
          "metadata": {}
        },
        {
          "output_type": "display_data",
          "data": {
            "text/plain": [
              "Map:   0%|          | 0/156 [00:00<?, ? examples/s]"
            ],
            "application/vnd.jupyter.widget-view+json": {
              "version_major": 2,
              "version_minor": 0,
              "model_id": "e0ddb373c13645a0a1ec79af862d0e23"
            }
          },
          "metadata": {}
        },
        {
          "output_type": "display_data",
          "data": {
            "text/plain": [
              "Map:   0%|          | 0/167 [00:00<?, ? examples/s]"
            ],
            "application/vnd.jupyter.widget-view+json": {
              "version_major": 2,
              "version_minor": 0,
              "model_id": "d2a54cdc8eef45efb3e3d4f6f6f50045"
            }
          },
          "metadata": {}
        },
        {
          "output_type": "display_data",
          "data": {
            "text/plain": [
              "Map:   0%|          | 0/167 [00:00<?, ? examples/s]"
            ],
            "application/vnd.jupyter.widget-view+json": {
              "version_major": 2,
              "version_minor": 0,
              "model_id": "68c494039c734dc4a43f222e3d78b0e6"
            }
          },
          "metadata": {}
        },
        {
          "output_type": "execute_result",
          "data": {
            "text/plain": [
              "DatasetDict({\n",
              "    train: Dataset({\n",
              "        features: ['text', 'label', 'input_ids', 'attention_mask'],\n",
              "        num_rows: 620\n",
              "    })\n",
              "    valid: Dataset({\n",
              "        features: ['text', 'label', 'input_ids', 'attention_mask'],\n",
              "        num_rows: 156\n",
              "    })\n",
              "    testA: Dataset({\n",
              "        features: ['text', 'input_ids', 'attention_mask'],\n",
              "        num_rows: 167\n",
              "    })\n",
              "    testB: Dataset({\n",
              "        features: ['text', 'input_ids', 'attention_mask'],\n",
              "        num_rows: 167\n",
              "    })\n",
              "})"
            ]
          },
          "metadata": {},
          "execution_count": 32
        }
      ]
    },
    {
      "cell_type": "markdown",
      "source": [
        "# Model dla pojedyńczych zdań"
      ],
      "metadata": {
        "id": "H3Fbs4eU6lHs"
      }
    },
    {
      "cell_type": "markdown",
      "source": [
        "**Przygotowanie danych do przetwarzania przez transformery**"
      ],
      "metadata": {
        "id": "N5JsYChC6qCv"
      }
    },
    {
      "cell_type": "code",
      "source": [
        "dataset2 = []\n",
        "for index, row in ds_reviews_sentences.iterrows():\n",
        "    if index < len(ds_emotions_sentences): # sprawdzam, czy index jest w granicach\n",
        "        text = row['text']\n",
        "        # tylko te etykiety, które mają wartość True\n",
        "        label = [1 if value else 0 for emotion, value in ds_emotions_sentences.iloc[index].items()]\n",
        "        dataset2.append({'text': text, 'label': label})\n",
        "\n",
        "train_data2, val_data2 = train_test_split(dataset2, test_size=0.2, random_state=42)\n",
        "train_dataset2 = Dataset.from_pandas(pd.DataFrame(train_data2))\n",
        "val_dataset2 = Dataset.from_pandas(pd.DataFrame(val_data2))"
      ],
      "metadata": {
        "id": "MadiSGd363i3"
      },
      "execution_count": 33,
      "outputs": []
    },
    {
      "cell_type": "code",
      "source": [
        "testA_dataset2 = Dataset.from_pandas(pd.DataFrame(ds_testA_sentences))\n",
        "testB_dataset2 = Dataset.from_pandas(pd.DataFrame(ds_testB_sentences))"
      ],
      "metadata": {
        "id": "XxO9X5v97qbT"
      },
      "execution_count": 34,
      "outputs": []
    },
    {
      "cell_type": "code",
      "source": [
        "final_dataset2 = DatasetDict({\n",
        "    \"train\": train_dataset2,\n",
        "    \"valid\": val_dataset2,\n",
        "    \"testA\": testA_dataset2,\n",
        "    \"testB\": testB_dataset2\n",
        "})\n",
        "\n",
        "# Przykład:\n",
        "example_index = 2\n",
        "print(final_dataset2[\"train\"][example_index])"
      ],
      "metadata": {
        "id": "z1GGbTzZ9p_s",
        "colab": {
          "base_uri": "https://localhost:8080/"
        },
        "outputId": "dabfc792-3592-48c7-cf07-41024d507163"
      },
      "execution_count": 35,
      "outputs": [
        {
          "output_type": "stream",
          "name": "stdout",
          "text": [
            "{'text': 'Blisko metro (20 minut do Luwru), piekarnia, sklepiki.', 'label': [1, 1, 0, 0, 0, 0, 0, 0, 1, 0, 1]}\n"
          ]
        }
      ]
    },
    {
      "cell_type": "markdown",
      "source": [
        "**Dotrenowanie modelu typu BERT**"
      ],
      "metadata": {
        "id": "8XQBgjxO94Qk"
      }
    },
    {
      "cell_type": "code",
      "source": [
        "max_length = 512\n",
        "tokenizer2 = AutoTokenizer.from_pretrained(\"distilbert-base-uncased\")\n",
        "\n",
        "def tokenize_function2(examples):\n",
        "    return tokenizer2(examples[\"text\"], padding=\"max_length\", truncation=True, max_length=max_length)\n"
      ],
      "metadata": {
        "id": "IxJQ1sd997kA"
      },
      "execution_count": 36,
      "outputs": []
    },
    {
      "cell_type": "code",
      "source": [
        "tokenized_datasets2 = final_dataset2.map(tokenize_function, batched=True)\n",
        "tokenized_datasets2"
      ],
      "metadata": {
        "id": "hM2pZkwA-yfE",
        "colab": {
          "base_uri": "https://localhost:8080/",
          "height": 457,
          "referenced_widgets": [
            "cc4dee85f57d4c9496d34a5e67026955",
            "9746e6e54dba4f2fae8902a50a52f4d9",
            "7290eddda6674e48837659c21df88f61",
            "485bee93f47b4131be41fbaef4298b6c",
            "c3a2cf9d18054bb39cab3e97aeb104c4",
            "45cb34c647fc4b4288aace382410786f",
            "275dd66e671e4bd5ac2e2e0fbfa7043b",
            "8a18ec8392af46a8aebfca27cace19b7",
            "9f67c78601d1481e93ca87eac89fe1f5",
            "78de3c165d92490d9f8880a04b008e8d",
            "a8f2aa28890845bfadea22fc832a3ad7",
            "1e1f4b92debe490b935b90c4127f1f4b",
            "164d81829f6649dda5e9d83971f71d4f",
            "3bc4508ba76a4d8c960bcabdc360a73d",
            "074b7bd4c9104ecfb6e0a2ae1f2b8377",
            "248d21668d744591af7562fa0cb0727b",
            "7690641a77bb48acaf9a26495cb3e982",
            "e16c8951f2c74a69a47af9dc37df3c75",
            "3c13db0026b342f08a8d4c571bba7783",
            "56014b38eac54c0993780900afa7a5ef",
            "e9dcbd836d684a2eb0c4427136925b1d",
            "12d3186367cc46ab8e2a6994651f0741",
            "ff0466b873f84c9786a246287afeb1b3",
            "4731e7db029b4f728af0109e4517b5f8",
            "2eab7308336c4e9598677b1a81e70e4a",
            "843ae135a620417a9431d99b886755b5",
            "405a4ec6365e413f9dcb474fdc4bf333",
            "b55d7a2d34d54221bfd4d221c4e95ad5",
            "ab6bc89d30d045a1bf32bfd23e768b14",
            "31cd1e18042e49668cbacda665884ae5",
            "e57889b07b7e45bb906e7dad7647d404",
            "77b1a0b1de584837b60da9cea650edcc",
            "dc0d6f6fdd744708926c7de0a5947574",
            "2414eb270109489a9645e3fae0a76429",
            "be1b63cce9e04db4a41966be8bf669c6",
            "1aa026ffb0d64367b0e3773f97eaa8ad",
            "e2f011e578fc45caad16ca375d740b97",
            "ac3762e23a9443dea10a5bc51cb64ce4",
            "9b28c7b99ecd4f35a91204927b315c34",
            "5c0193f0c4544f4f8b04ad51cb54f199",
            "d36f73cb89344a5cbde79c032ee0008e",
            "2844d861a60e419e986865daf140aff7",
            "b19953ba062846e88b93d40be878b63a",
            "821c9c7604924569be4889738d5af78d"
          ]
        },
        "outputId": "1be29a21-6daf-4881-dc77-b8503c861b47"
      },
      "execution_count": 37,
      "outputs": [
        {
          "output_type": "display_data",
          "data": {
            "text/plain": [
              "Map:   0%|          | 0/4544 [00:00<?, ? examples/s]"
            ],
            "application/vnd.jupyter.widget-view+json": {
              "version_major": 2,
              "version_minor": 0,
              "model_id": "cc4dee85f57d4c9496d34a5e67026955"
            }
          },
          "metadata": {}
        },
        {
          "output_type": "display_data",
          "data": {
            "text/plain": [
              "Map:   0%|          | 0/1136 [00:00<?, ? examples/s]"
            ],
            "application/vnd.jupyter.widget-view+json": {
              "version_major": 2,
              "version_minor": 0,
              "model_id": "1e1f4b92debe490b935b90c4127f1f4b"
            }
          },
          "metadata": {}
        },
        {
          "output_type": "display_data",
          "data": {
            "text/plain": [
              "Map:   0%|          | 0/1234 [00:00<?, ? examples/s]"
            ],
            "application/vnd.jupyter.widget-view+json": {
              "version_major": 2,
              "version_minor": 0,
              "model_id": "ff0466b873f84c9786a246287afeb1b3"
            }
          },
          "metadata": {}
        },
        {
          "output_type": "display_data",
          "data": {
            "text/plain": [
              "Map:   0%|          | 0/1264 [00:00<?, ? examples/s]"
            ],
            "application/vnd.jupyter.widget-view+json": {
              "version_major": 2,
              "version_minor": 0,
              "model_id": "2414eb270109489a9645e3fae0a76429"
            }
          },
          "metadata": {}
        },
        {
          "output_type": "execute_result",
          "data": {
            "text/plain": [
              "DatasetDict({\n",
              "    train: Dataset({\n",
              "        features: ['text', 'label', 'input_ids', 'attention_mask'],\n",
              "        num_rows: 4544\n",
              "    })\n",
              "    valid: Dataset({\n",
              "        features: ['text', 'label', 'input_ids', 'attention_mask'],\n",
              "        num_rows: 1136\n",
              "    })\n",
              "    testA: Dataset({\n",
              "        features: ['text', '__index_level_0__', 'input_ids', 'attention_mask'],\n",
              "        num_rows: 1234\n",
              "    })\n",
              "    testB: Dataset({\n",
              "        features: ['text', '__index_level_0__', 'input_ids', 'attention_mask'],\n",
              "        num_rows: 1264\n",
              "    })\n",
              "})"
            ]
          },
          "metadata": {},
          "execution_count": 37
        }
      ]
    },
    {
      "cell_type": "markdown",
      "source": [
        "# Trening i ewaluacja"
      ],
      "metadata": {
        "id": "161rrrV-IK1y"
      }
    },
    {
      "cell_type": "markdown",
      "source": [
        "**Trening z budowaną klasą Trainer**"
      ],
      "metadata": {
        "id": "VQ0Y5noxIPlN"
      }
    },
    {
      "cell_type": "code",
      "source": [
        "#data_collator = DataCollatorWithPadding(tokenizer=tokenizer, padding='max_length')\n",
        "#data_collator2 = DataCollatorWithPadding(tokenizer=tokenizer2, padding='max_length')"
      ],
      "metadata": {
        "id": "keOmWejCExet"
      },
      "execution_count": 38,
      "outputs": []
    },
    {
      "cell_type": "code",
      "source": [
        "model = AutoModelForSequenceClassification.from_pretrained(\"distilbert-base-uncased\", num_labels=11)"
      ],
      "metadata": {
        "id": "5ty2umLJIOj_",
        "colab": {
          "base_uri": "https://localhost:8080/",
          "height": 104,
          "referenced_widgets": [
            "8087c57c2afe42a98d560de5df62b6ee",
            "15f11499cb86471e89c972691b2cc72f",
            "9ce215a80cb74a408f3a22b799bcf31e",
            "77299f7fd5394b17b0771d0cc4ce7026",
            "c31692bffa624457b2d08a745790f3e3",
            "142770d680104082a9fdd450159f06af",
            "f83bb4a68f084e45b96dfdd43d92e101",
            "3ce6eceb9e2d4631aa831d80b4aa04a8",
            "708ecc99622c42b1b80208decdab2eb3",
            "17691f70d767464d98e938b6c9fcc53a",
            "c4e8361b980c416cbb2e7cc818f8011e"
          ]
        },
        "outputId": "54c761f6-b750-44a0-af5d-e950cd04f426"
      },
      "execution_count": 39,
      "outputs": [
        {
          "output_type": "display_data",
          "data": {
            "text/plain": [
              "model.safetensors:   0%|          | 0.00/268M [00:00<?, ?B/s]"
            ],
            "application/vnd.jupyter.widget-view+json": {
              "version_major": 2,
              "version_minor": 0,
              "model_id": "8087c57c2afe42a98d560de5df62b6ee"
            }
          },
          "metadata": {}
        },
        {
          "output_type": "stream",
          "name": "stderr",
          "text": [
            "Some weights of DistilBertForSequenceClassification were not initialized from the model checkpoint at distilbert-base-uncased and are newly initialized: ['classifier.bias', 'classifier.weight', 'pre_classifier.bias', 'pre_classifier.weight']\n",
            "You should probably TRAIN this model on a down-stream task to be able to use it for predictions and inference.\n"
          ]
        }
      ]
    },
    {
      "cell_type": "code",
      "source": [
        "f1 = load_metric(\"f1\", trust_remote_code=True)"
      ],
      "metadata": {
        "id": "GHb1fA9WIfGa"
      },
      "execution_count": null,
      "outputs": []
    },
    {
      "cell_type": "code",
      "source": [
        "# Metoda do liczenia macro F1 score:\n",
        "def compute_metrics(eval_pred):\n",
        "    logits, labels = eval_pred\n",
        "    predictions = np.argmax(logits, axis=-1)\n",
        "    if labels is None or len(labels) == 0:\n",
        "        print(\"Labels are None or empty.\")\n",
        "        return {\"f1\": 0.0}\n",
        "    labels = labels.flatten().astype(int) if labels is not None else np.array([])\n",
        "    f1_results = f1.compute(predictions=predictions, references=labels, average='macro')\n",
        "    macro_f1 = f1_results['f1']\n",
        "    return {\"f1\": macro_f1}"
      ],
      "metadata": {
        "id": "JhnmGm2wJiMO"
      },
      "execution_count": 41,
      "outputs": []
    },
    {
      "cell_type": "code",
      "source": [
        "training_args = TrainingArguments(output_dir=\"test_trainer\",\n",
        "                                  evaluation_strategy=\"epoch\",\n",
        "                                  num_train_epochs=2,\n",
        "                                  learning_rate=0.0002,\n",
        "                                  per_device_train_batch_size=8,\n",
        "                                  per_device_eval_batch_size=8,\n",
        "                                  weight_decay=0.001,\n",
        "                                  disable_tqdm=False,\n",
        "                                  overwrite_output_dir=True,\n",
        "                                  metric_for_best_model='eval_loss',\n",
        "                                  load_best_model_at_end=True,\n",
        "                                  save_strategy='epoch',\n",
        "                                  logging_strategy='epoch',\n",
        "                                  log_level='error',\n",
        "                                  warmup_ratio=0.05,\n",
        "                                  report_to='wandb')"
      ],
      "metadata": {
        "id": "qazQ3qA2LKuu",
        "colab": {
          "base_uri": "https://localhost:8080/"
        },
        "outputId": "7761c53f-e3b2-4740-9952-84c87f800a4a"
      },
      "execution_count": 42,
      "outputs": [
        {
          "output_type": "stream",
          "name": "stderr",
          "text": [
            "/usr/local/lib/python3.10/dist-packages/transformers/training_args.py:1474: FutureWarning: `evaluation_strategy` is deprecated and will be removed in version 4.46 of 🤗 Transformers. Use `eval_strategy` instead\n",
            "  warnings.warn(\n"
          ]
        }
      ]
    },
    {
      "cell_type": "code",
      "source": [
        "# Trainer dla całych tekstów\n",
        "trainer = Trainer(\n",
        "    model=model,\n",
        "    args=training_args,\n",
        "    train_dataset=tokenized_datasets['train'],\n",
        "    eval_dataset=tokenized_datasets['valid'],\n",
        ")"
      ],
      "metadata": {
        "id": "7jTUsb_RL9Lr"
      },
      "execution_count": 47,
      "outputs": []
    },
    {
      "cell_type": "code",
      "source": [
        "# Trainer dla pojedyńczych zdań\n",
        "trainer2 = Trainer(\n",
        "    model=model,\n",
        "    args=training_args,\n",
        "    train_dataset=tokenized_datasets2['train'],\n",
        "    eval_dataset=tokenized_datasets2['valid'],\n",
        ")"
      ],
      "metadata": {
        "id": "uEwIezpEBxeI"
      },
      "execution_count": 48,
      "outputs": []
    },
    {
      "cell_type": "code",
      "source": [
        "wandb_initialized = False\n",
        "try: # jeśli inicjalizacja się nie powiedzie, skrypt nie przerywa działania, a jedynie pomija logowanie do wandb\n",
        "    wandb.init(project='sentiment_recognition', settings=wandb.Settings(start_method=\"fork\"))\n",
        "    wandb_initialized = True\n",
        "except wandb.errors.CommError as e:\n",
        "    print(f\"Error przy inicjalizacji WandB: {e}\")\n",
        "#wandb.init(project='sentiment_recognition')\n",
        "\n",
        "trainer.train()\n",
        "trainer2.train()\n",
        "\n",
        "preds_outputA = trainer.predict(tokenized_datasets['testA'])\n",
        "preds_outputA2 = trainer2.predict(tokenized_datasets2['testA'])\n",
        "preds_outputB = trainer.predict(tokenized_datasets['testB'])\n",
        "preds_outputB2 = trainer2.predict(tokenized_datasets2['testB'])\n",
        "\n",
        "# F1 macro dla pojedyńczych zdań\n",
        "f1_macro_sentences_trainer1 = compute_metrics((preds_outputA2.predictions, preds_outputA2.label_ids))[\"f1\"]\n",
        "f1_macro_sentences_trainer2 = compute_metrics((preds_outputB2.predictions, preds_outputB2.label_ids))[\"f1\"]\n",
        "f1_macro_sentences = (f1_macro_sentences_trainer1 + f1_macro_sentences_trainer2) / 2\n",
        "\n",
        "# F1 macro dla całych tekstów\n",
        "f1_macro_texts_trainer1 = compute_metrics((preds_outputA.predictions, preds_outputA.label_ids))[\"f1\"]\n",
        "f1_macro_texts_trainer2 = compute_metrics((preds_outputB.predictions, preds_outputB.label_ids))[\"f1\"]\n",
        "f1_macro_texts = (f1_macro_texts_trainer1 + f1_macro_texts_trainer2) / 2\n",
        "\n",
        "final_score = (f1_macro_sentences + f1_macro_texts) / 2\n",
        "print(f\"Final score: {final_score*100}%\")\n",
        "wandb_di = {'final_f1_macro': final_score}\n",
        "if wandb_initialized:\n",
        "    wandb.log(wandb_di)\n",
        "    wandb.finish()\n",
        "else:\n",
        "    print(\"Pominięto rejestrowanie WandB z powodu błędu inicjalizacji.\")"
      ],
      "metadata": {
        "id": "Pz73XXv8MP-n",
        "colab": {
          "base_uri": "https://localhost:8080/",
          "height": 432
        },
        "outputId": "d807a912-1789-4bed-ed27-c5e9125450b7"
      },
      "execution_count": null,
      "outputs": [
        {
          "output_type": "display_data",
          "data": {
            "text/plain": [
              "<IPython.core.display.HTML object>"
            ],
            "text/html": [
              "Tracking run with wandb version 0.17.4"
            ]
          },
          "metadata": {}
        },
        {
          "output_type": "display_data",
          "data": {
            "text/plain": [
              "<IPython.core.display.HTML object>"
            ],
            "text/html": [
              "Run data is saved locally in <code>/content/wandb/run-20240715_231425-7yh1vy1m</code>"
            ]
          },
          "metadata": {}
        },
        {
          "output_type": "display_data",
          "data": {
            "text/plain": [
              "<IPython.core.display.HTML object>"
            ],
            "text/html": [
              "Syncing run <strong><a href='https://wandb.ai/j-poteralska/sentiment_recognition/runs/7yh1vy1m' target=\"_blank\">leafy-brook-64</a></strong> to <a href='https://wandb.ai/j-poteralska/sentiment_recognition' target=\"_blank\">Weights & Biases</a> (<a href='https://wandb.me/run' target=\"_blank\">docs</a>)<br/>"
            ]
          },
          "metadata": {}
        },
        {
          "output_type": "display_data",
          "data": {
            "text/plain": [
              "<IPython.core.display.HTML object>"
            ],
            "text/html": [
              " View project at <a href='https://wandb.ai/j-poteralska/sentiment_recognition' target=\"_blank\">https://wandb.ai/j-poteralska/sentiment_recognition</a>"
            ]
          },
          "metadata": {}
        },
        {
          "output_type": "display_data",
          "data": {
            "text/plain": [
              "<IPython.core.display.HTML object>"
            ],
            "text/html": [
              " View run at <a href='https://wandb.ai/j-poteralska/sentiment_recognition/runs/7yh1vy1m' target=\"_blank\">https://wandb.ai/j-poteralska/sentiment_recognition/runs/7yh1vy1m</a>"
            ]
          },
          "metadata": {}
        },
        {
          "output_type": "display_data",
          "data": {
            "text/plain": [
              "<IPython.core.display.HTML object>"
            ],
            "text/html": [
              "\n",
              "    <div>\n",
              "      \n",
              "      <progress value='156' max='156' style='width:300px; height:20px; vertical-align: middle;'></progress>\n",
              "      [156/156 01:30, Epoch 2/2]\n",
              "    </div>\n",
              "    <table border=\"1\" class=\"dataframe\">\n",
              "  <thead>\n",
              " <tr style=\"text-align: left;\">\n",
              "      <th>Epoch</th>\n",
              "      <th>Training Loss</th>\n",
              "      <th>Validation Loss</th>\n",
              "    </tr>\n",
              "  </thead>\n",
              "  <tbody>\n",
              "    <tr>\n",
              "      <td>1</td>\n",
              "      <td>0.512900</td>\n",
              "      <td>0.496040</td>\n",
              "    </tr>\n",
              "    <tr>\n",
              "      <td>2</td>\n",
              "      <td>0.513500</td>\n",
              "      <td>0.491235</td>\n",
              "    </tr>\n",
              "  </tbody>\n",
              "</table><p>"
            ]
          },
          "metadata": {}
        },
        {
          "output_type": "display_data",
          "data": {
            "text/plain": [
              "<IPython.core.display.HTML object>"
            ],
            "text/html": [
              "\n",
              "    <div>\n",
              "      \n",
              "      <progress value='1136' max='1136' style='width:300px; height:20px; vertical-align: middle;'></progress>\n",
              "      [1136/1136 08:02, Epoch 2/2]\n",
              "    </div>\n",
              "    <table border=\"1\" class=\"dataframe\">\n",
              "  <thead>\n",
              " <tr style=\"text-align: left;\">\n",
              "      <th>Epoch</th>\n",
              "      <th>Training Loss</th>\n",
              "      <th>Validation Loss</th>\n",
              "    </tr>\n",
              "  </thead>\n",
              "  <tbody>\n",
              "    <tr>\n",
              "      <td>1</td>\n",
              "      <td>0.512900</td>\n",
              "      <td>0.505261</td>\n",
              "    </tr>\n",
              "    <tr>\n",
              "      <td>2</td>\n",
              "      <td>0.509900</td>\n",
              "      <td>0.504011</td>\n",
              "    </tr>\n",
              "  </tbody>\n",
              "</table><p>"
            ]
          },
          "metadata": {}
        },
        {
          "output_type": "display_data",
          "data": {
            "text/plain": [
              "<IPython.core.display.HTML object>"
            ],
            "text/html": []
          },
          "metadata": {}
        },
        {
          "output_type": "display_data",
          "data": {
            "text/plain": [
              "<IPython.core.display.HTML object>"
            ],
            "text/html": []
          },
          "metadata": {}
        },
        {
          "output_type": "display_data",
          "data": {
            "text/plain": [
              "<IPython.core.display.HTML object>"
            ],
            "text/html": []
          },
          "metadata": {}
        },
        {
          "output_type": "display_data",
          "data": {
            "text/plain": [
              "<IPython.core.display.HTML object>"
            ],
            "text/html": []
          },
          "metadata": {}
        },
        {
          "output_type": "stream",
          "name": "stdout",
          "text": [
            "Labels are None or empty.\n",
            "Labels are None or empty.\n",
            "Labels are None or empty.\n",
            "Labels are None or empty.\n",
            "Final score: 0.0%\n"
          ]
        }
      ]
    },
    {
      "cell_type": "markdown",
      "source": [
        "# Wykresy wandb"
      ],
      "metadata": {
        "id": "Jh32b87o6Pf5"
      }
    },
    {
      "cell_type": "markdown",
      "source": [
        "**Przeszkody:**"
      ],
      "metadata": {
        "id": "Na_iJBQK4p-R"
      }
    },
    {
      "cell_type": "markdown",
      "source": [
        "![image.png](data:image/png;base64,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)"
      ],
      "metadata": {
        "id": "BM4mYLJf00wZ"
      }
    },
    {
      "cell_type": "markdown",
      "source": [
        "**Ewaluacja danych**"
      ],
      "metadata": {
        "id": "FOv1cEdy45YD"
      }
    },
    {
      "cell_type": "markdown",
      "source": [
        "![image.png](data:image/png;base64,iVBORw0KGgoAAAANSUhEUgAABCYAAALuCAYAAABywBfcAAAAAXNSR0IArs4c6QAAAARnQU1BAACxjwv8YQUAAAAJcEhZcwAADsMAAA7DAcdvqGQAAP+lSURBVHhe7J0HfBzV8cdHVpd7773hBsYUgzG9915DCf1PCYFASCCEkBAgIZQQWkgooffewYDBNti49957ky3J6sX//c3dO79b7d3tSSfpLP++/qx39217Tbc782bmpex0EEIIIYQQQgghhJAGoElwTQghhBBCCCGEEFLvUDFBCCGEEEIIIYSQBoOKCUIIIYQQQgghhDQYVEwQQgghhBBCCCGkwaBighBCCCGEEEIIIQ0GFROEEEIIIYQQQghpMKiYIIQQQgghhBBCSINBxQQhhBBCCCGEEEIaDComCCGEEEIIIYQQ0mBQMUEIIYQQQgghhJAGg4oJQgghhBBCCCGENBhUTBBCCCGEEEIIIaTBoGKCEEIIIYQQQgghDQYVE4QQQgghhBBCCGkwqJgghBBCCCGEEEJIg0HFBCGEEEIIIYQQQhoMKiYIIYQQQgghhBDSYFAxQQghhBBCCCGEkAaDiglCCCGEEEIIIYQ0GFRMEEIIIYQQQgghpMGgYoIQQgghhBBCCCENBhUThBBCCCGEEEIIaTComCCEEEIIIYQQQkiDQcUEIYQQQgghhBBCGgwqJgghhBBCCCGEENJgUDFBCCGEEEIIIYSQBoOKCUIIIYQQQgghhDQYVEwQQgghhBBCCCGkwaBighBCCCGEEEIIIQ0GFROEEEIIIYQQQghpMKiYIIQQQgghhBBCSINBxQQhhJBGz8uvviYjDzlMl3ETJgRTq7M9L09+cdnlctEll0lu7rZgKiGNj7/89X79ezjmhJNlwcKFwVRCCCGkYaBighBCCAmybt162bhhowwaNEhat24VTCWEEEIIIXUJFROEEEJIkIULF0nBjh0ydPBgSUlJCab655F//ktHoW+46WYpLi4OphJCCCGEkGhQMUEIIYQ4VFZWyuSpU6V58+YyaNDAYGp87NixI7hFCCGEEEL8QsUEIYQQ4pCbmysLFy2SHt27S9cuXYKp/oGFxMZNm4J7hBBCCCHEL1RMEEIIqRNKS0vl7XffkzPOOU/dGw476li59fbfy/IVK4JniKxbv17OPOd8PX7nH/+kVgs22Ec6jtsBKfPy8uW1N96Uiy+7QkYddqQeP+6kU+TRfz0uhYWFek68LF+xUjZu3CRDhwxWqwnDzp07ZfqMmfJ/N/xKy4BnnXDK6fKvJ56ULVu36jn3/+1BOeKY42XK1Gm6jzX2ca7brcNPvQBcg2txDlxEUK4nn35Gn400XI/74H5ucK/bfneHHHnsCXou1vfe/zdZuWpV8IyaYYKIIkAo2mLMt9/JhRdfJgcfeoQ+44G//yOicqaqqirsfLTbNdfdoHWLOrYxz7ni6v/Ttv5x4kQ5/6KLNQ39oby8PHhmfMRTL/Hk14Cy/+ORR+XUM8/W+6Ntr//Vr2XuvHlh15h7m/6L++M577z3vmd72vW+bds2zQPygmuxXHfjr2XV6tXBs8Px6jdffT1G2rZtGzyDEEIIaXhS73EIbhNCCCEJYevWXLn9jrvk3fc/CLk3QMkA4enjTz+TXj17Su9evSQnJ0fmL1wgS5cuk6LCIjni8MOkhaUU2LBxo7z40isa9+G4Y46Ro448QiZO+lmuvf4GGTd+glo5GIEPAt2cufNk/oKFctjo0ZKRkaHpYNbs2fLz5Cm6fdyxx0jPHj102+bbsWP1nF9eenHY8bHf/yC/u/MuWbN2bUhxUlJSIrPnzJWxY3+Q0aNGydRp02XxkiV6zE2XLp31menp6b7rBVRUVMhXY75R5c2WLVvk9Tfekkk/T9ZnA1z/408TZdv2PDl45IHSpElgrGHuvPly0y23qfWHEeCxXrR4sXz6+Rey7/B9pFPHjpoeL6YeS0vL5OtvvpEPPvzIef52bQM8Y8HCRdo+ow85WJo1axa8KqBkuf/v/5Bn/vts6HwsUAR99sWXkpWVJcOGDg3F9TDPyXTaMDMrUxUeqDtwwnHHyn4j9tXteIinXuLNL5jw40/yq5tvlRkzZkqh05cB2nb9+g2yZOlSOfzQ0ZKdnR12b9N/seA5aM+Zs+Y47TnS+dvI1nsAUx/Oabr93+dekA0bNoauXb9hg/PcWXLkEYfpMwwbnHSU+bux34f1G+zPm79AFSSZmZly0onHS7t27fQ4IYQQ0hDQYoIQQkhCgUD96GP/kmnTp6vlwT133yUTvv9Wvv3qcznx+ONUgfDcCy/qyG9qaqocesghKlRvdoTvZcuWB+8SAAoLKCcg1I8+ZJSmQYA8YL/9HGHqBHntpf/JT+PGytgxX8oVv7xU7wMB7mtHoI+HsrIymTFzlrRp3Vq6d+sWTIUQV6iWGcjzXgMHygfvvCUTx38vb7z6khx79FFy069ukG7dusrdd90pn370vnTr2lWv23+/EZqnSRN+kCf/9U8VFuOpFzcYiYcS5/F/PqLlff+dN2XEvgHh/NPPPpdxE37UbQjCb779tt6jffv28tLzz2oePnr/HTnn7DPl6isvl72HDdVzawNG4Tdv3iLX/9+1Wk67/mGV8Pz/XgopcSA4v/TKq/K5I9BDCDbX/PDt13Ll5b/Uc15/8+1qFiMASpnHn3xaTj35JPnqs0+07BdfdGHwqH/iqZea5BdKD1heFBQUCNyATDshz5dfdqn89tZbpLXTt+x7o65QZ7g3+sEdv/utPg/946ln/qP9xQ3yDyXYlZdfFqr30045WY9BMTbJ6fsGXP/EU//WdPtZWFAmpBFCCCHJAt9KhBBCEgosFn6cOEkFn+v/7xoVutPS0qRp06ZyzdVXSpfOnWXpsmVq3QCGDBmsI9UYvR37wzgV3gyTp0zV9J49e8iAAf01DcLbfff+Wf50153St28ffQ4E/zNPPz004j1z1qyw+8QCSpHFi5dIr149pWPHDsFUkZLSkpD7SG/nWKdOHXWUHFYNf/3LPXLk4YfpMT/EWy82EKYfe+QhOfCA/fV6nPt/11wp2VlZOur/3dixKnxDwWIsC7p36yrduweULB07dJDf/uYWueiC88NG+WvD7bf9Ri675Bda91hw70F77aXH0G7GpQOj+V98+bVun3nGaXLpxRfp+WhHXAPXGViEwOLADdr++OOOlVt+/Stp2bKFlh11Fi/x1Eu8+bWVHmhLKKlMOyHP/3fNVaF6se990IEHyi8vvUTvjTKdfuopISUDLBrQX7y49uqrVEFi6v2Uk0/UfgCWL9+lLDH9DRx95BFh16BMRx1xuB4jhBBCkgEqJgghhCSUqdOm6Yh6+3btZOSBBwRTA7Ru1UpdGyBwQggHnTt1khFB0/wFCxdKXn6+bm/Py5Op06fr9n777iutWrbUbQBLC9wDvvuPPPYv9c8//xeX6Ag7gKLBmK77AZYauGbokCEquBngVtK/X1/dhlvFX+57QEfK41F6GOKtFxu4NGRbpv2ge7fuqrAAa9ask6KiIs37wKACBxYgd9x1t8ycNVvvm2ggdNvACqRf3z66DSF98+bNur1w0WJtFwjPEIZtxUizZk1DFiqwjvGq1yMOP7RGygibeOol3vxC4TF79lxNG7TXwNBzvDD3BgceuL8qOwx4zqhRB6lCA/0E/cWLPn16heUJ90hLT9dtU+dgzty5eh8wevQhYXWI6/EcQgghJFngW4kQQkhCWbUqEIQPI+ZnnXuBBtwzix0g0pwHIemIww5VQWntmrWycuVKTcca+7YbB4AwOH7Cj3LaWedqcMQ333pHli1froJ5TcEIP5Qd7tgFiFNx8003Sv9+/XRk/LPPv5ALfnGps1yiwQvjEfjjrZdYZGdnSYcOAcVEXl6elJaV6fYVv/yljDr4IM0b4j0gSCLqKlKgzERiLBGKS0okv6BAt9esWaNrpF1z3Y1h5caC+A4gXmVSvPitl3jzm7stV2OgAFhg2IotN+beAC5AbuBKBKsL4LcfRAIWQAAKls6dahZThBBCCKkvqJgghBDSIJjRfrDXwAFqMQBh8MefAubns2bP0X3bjQNAKYGZGTA6jLgL5597jrz28osad8HEeIgHBCOElQJcOOCu4aZTp07y3H+eVteRXk5ewIqVq+QPTh7uvucven0iseslGlDQeClGMKr/8IN/k0f+8Xe1AIHCB3X10CP/1Fk+zEwidYGJK1ETWrZsGRawNNEkul7qOr+JApYS6enJn09CCCF7NlRMEEIISSg9enTXdbu2beXNV1/WIINey3XXXq3nAcwIgJkIAEzQ4cYBk3tgu3EgVsAHH32sI9wIJvjEY4/Kb26+Sfr26V1jIREzLaxYsVJnxICw6QXM5RFs8w2nPK+++EIoZsA3340NWTrEoib1Eg0E5sTMDABKHTPSDiB0HzLqYFWovPvW63L4YYdqOmYSQeDFugCKEtQjQHvBegB0C7o+wPIFQSG9yozl/nv/rFYrdYmfeok3v3BhyQlaScAaJpqiytwbrFmzNri1i9xt20LuF6a/1BRzPaw5TLwPQgghJFmhYoIQQkhCwewGEOQxAv39uPGecQPcwJ0DAiOEQQi3s+fMUVN0mKEffdQRwbMCI/LG3B/KiD69A1NrguKi4pA7g5toMQoWLFqkeR2+z96eyo28vPyQZQLy2a9fXw382LxZM01fEXQ9iUVN6sWA51RVhltHIP4GZiwBew8bFgqACJcW2zUBgTJvu+VmXQM7QGJtqKgIt45Yu3adTJ8xU7chFHfp3EW30UZwOUGQzi+/HuM520R94Lde4s0vYob0799PtxFwEnEkImHuDX7+GdOu7soP+sOPP07UtoaSab8RI4JHakbfPoHAsGDq1Glh/Q1lqo3rEyGEEJJoqJgghBCSUCAkHzb6EN1+7oX/yUuvvKaj+wDrN99+R774KjAzgc3AAQOkR/duKrh/9fU36sPfxxGu+vTuHTwjEPQyKyiAL122XBYtXqyCHITB3935h7Dgfza2Pz8UDQYIa4gvAaHeaxpNnPub3/5Orv6/G/QZeBaEup8nT5ZCR7CDIgX5BgiUiVk9AM6FxQfOhzsKqGm9AARMvPf+B3SNe/44caI89viTug1rE6O8Qd7u/9uDcunlV2ocBezjnBkzZ8rW3MCsFMOG1n66UAAXiJ8mTtL7I1/3Oc+FogTC8IknHK+uE6BH9+5yykkn6jZidDz62OOhmU5gAfOVI/xjCs14FDXxEk+9xJtfKLPgTgSlE6wd/vLX+3XKWtwf7YpzX3z5FT3fvvfEn3+W/730slpYID+IlfLRJ5/qsVEHjdRAmrUBs4dAOQFw3w8//kSfgz6NMkE5RgghhCQLKc6Lsu6+BAghhOyRYKaCu/70Z5kWnFXDDabbfPyfD4fFU8Dr6OFHH9NghAZMp+h2bRg3foL84e57wkabAQR0mNSvWr1a9t9vhDz09wdCgQihxEAcAcwWARDQ8sLzz1OXEaSDJ//1z7CZPwACHUIAjzS6fMbpp8lvf3NzyCLDK28j9h2usQ0QDyOeeoHAetvv7lBXEQj7WCBY2kAY/vPdd8mRwakfp02fofE3TDndYBrLB/56b0hpEC8vv/qaPPHUv3UbShlYFbhx1wlAWf7+0CMR3UhQ748/9ogM6B+IJWI/56EHH5BDDwkodGpKvPUSb37Rd19/8y3Ns1ecDft8KCse+PuDGjzViyGDB8vf7rs3ZFkBotUHZrK58de/kYKCAjn5xBN0ulLDuAkT5O577q3Wf6HgGzxoL3VhgSvKE07e9hpYO0UIIYQQUhtS73EIbhNCCCEJIScnW449+igdIV63br3OGgHhDcLWGaedKrfdeouzHYhBYICbBBbEbcBoM6wYrrnqCunUMXxGAdwTsz/MX7DAEfJ2aKyJ8845W+77yz1StbNKR6sRc+G4Y49R4RlgOk7kadas2TrqDfN9zPQBN4y333lPFRnHHXO0Pt9mQP9+csrJJwpS4adfWFikCgIoEG668Xr5xYXnh7l/uPMGARD5P9R5FhQT8dQLlBCYohTWCF27dJF7//wnFT6RDwj9Bx800hGm/yL7Dh+u54POnTvJmaefJi1atNDrIATj/ki//LJL5FfXX1djpQSYNXu21i+AAIxyrFq9RusUdYL8X3LRhdViRaAdDjt0tCN0D5JNmzfLtm3bVYDHlKPHOvV+5+9v19F9U//2c9COPXsEgo7WlHjrJd78Yg2Li6OOPELbZ8uWraq0QZsfNPJA+f3tt6rgj/PQX6BI6tOnt6x26g59AOldu3Zx+vuVcuvNN+lzbKLVByyMPvviS20D9FcTNwPgvMMPG62WLMgXygzFB5RZmLL2m2++lSZOW5104vGq2COEEEIaClpMEEII2WN5/4OP5G//eEh+/9vb5MwzTgumJge2xQRmG3nm6Sc0cGZDkmhLBkIIIYQQwBgThBBC9kgwAj556lQ1ZR80aM8yY4f5/zEnnCwjDzks5oLzcH6yAIUN3G+88uq1QJlCCCGEkOSGiglCCCF7JLm5ubJw0SJ1R4CrBCGEEEIIaRjoykEIIWSPBD77mHHjrDNOl9/cfFMwNXmgKwchhBBC9hRoMUEIIWSPBDMxjB/7TVIqJQghhBBC9iRoMUEIIYQQQgghhJAGgxYThBBCCCGEEEIIaTComCCEEEIIIYQQQkiDQcUEIYQQQgghhBBCGgwqJgghhBBCCCGEENJgUDFBCCGEEEIIIYSQBoOKCUIIIYQQQgghhDQYVEwQQgghhBBCCCGkwaBighBCCCGEEEIIIQ1Gyk6H4DYhhBBCCCGEEEIaGZWVlcGtxJOamhrcqjm0mCCEEEIIIYQQQkiDQcUEqTMqNm2XFSffJbnPfh5MEdl45/Oy7LBbpWTOimBKYvB6FolMXdcX2hftvGTE9focPK+mII+1vUciMWXb8e2MYAqJxewl4+W6+w+Q76a8qfs7irfL3U+fKTf/4zDZuHWlpiUK97PI7gH6AfrDK5/dF0ypG3D/uuh3NaG+yrwn8+zLr8vDTz4jxSUlur90xUq5/U/3aXqicT+L1D2mPafMmBVMCbQD0nCsodm2PU/ufuAh+fjLMcEU0bz++o4/haURQgJQMUHqjarCEinfsE2qdhQnjZDpBwigELC9hHgcSyahORlAO2955F3J6NdF+ox7RHp9+ldJ69AqeJQQkcKiPMnfsVVKy4tl07bVwdTkBwLklX8e5qn0wDEoW6B0IdF56KWr6lwYh4Lqd48dnxQKCJI8QFAsLSuTvPz83UaBgHxC4QEBF/m3Mcco5AZAfaBt0cbuukoUuO99jzxeY8XH+o2bdL1x02ZdE0J2QcUEqTeaNM2Sbs/fKv2mPSXNjhoeTN19yH9/AhUQPoBiomLjNskZNVjbnIQDBRcUXWaBFZEXqMc1VzxcJxZGDU3Htj3ln7/9QZ6+c7IM6zc6mLr78N3kN6iAqCGot/zCrcG9umPL9rWOcFIc3CPGOgOKNSywKoLyxo1RvjVWK479h+8tjz3wZ7n1hmslO2v3ej/l5RfI+EmTg3vEC7Qp2hZtjLauC3K3b5eSktLgXvycevwxmr+rLrkwmFK/QIkFiw2zuK2HjLLLHKcVEKlPqJggxAcY/YeQvfWf7wVTCIkfKCGg4Or1xf2qoINFCayIvNxCtr/+nZTMWBrcI8lC1w791Nrjg++eDKYQktxAAXHPM+fI/kOOl+f+NFuX8467Td7++uGQgs0oLqB0I8nJsMF7ybgfJyWFiwLZPYESYvK0GXLP736jypG//ekOtTAxrjBQQDz13Iu6jWNYANKonCD1AWflIAkDo7rrrn9cXTVA+9vPk20vj5EWZx4iba46UdMwWgzBrNsLt4XM+93XZQ3vK10ev0EVATi24fZnpcOfLpbcZz4NCWr2OQCWDGsufyjsWQAC34bb/hPcE0nr3Cb0bHOszfWnhl2Dkep1v3pS0ju1lo73X6HnbXn4HWl9yTGy9amPpctTv5Ksob30XHPMLo+53hYq3c9APRT9OE863P0LWXfDE1KxPlfTOz10jeSM3Cvseve1wJTXXNf8hP01r4ZIZTNEqi8A4bngiym6bdeXIVqdutsSdPjjL7S8aR1bh7UZ8OoPbsw57W49Rzbd83Lo3u6y4dmb/vKKdHrwKmf9qtafXS92uQDq2m254267Js2yw9obmDJ2uOeS0PWmTtztYGP6MvJn388L84yWZ4+Wgi+n+rommYCrwyuf/lW3M9Kz5JiRF8uYSa+oMHTk/udrOsz5MXJ++y9fkGbZgbZH2vzlk3QbXHzyXaHzMYK7aOUUOfnQq+V/H/1JysoDH0lHHnCBXHzSH3QbQAh76q1bwp4F3Pce1Huk3Hbps7qNe0Mgs58HIKw98PwlKtDhGSYPPToNkjnOc+644mW1/gDmmF0ekxeTV9TF9ec9GmYlgnyB40f9MnSuOa9D6+76/IKibXqOO3/A/Qx3feD+S9fMrPZcG/c9DM1zWoeV0a5D9zHc47n375Qrz7xfvvzxf6HzoMgxdeL1HHMc7j12XdtEe64X7rYGpu7QTlPmfik3XfSE9qO1m5boca96c/dPk3+7b5l2/+Vpf5Z/vXZjqK3c9wPu8p80+ioZN+3damU2/c7cy+6rAPd55dN75dpz/hEqg/scG5QFRDpu4+7zuxNGqFq1Zp3uQ5AHELyuv/IyHU2HGf6jT/9XDhgxXEeugUmDRQJo2aK53HLd1dK6VUvdNyPKw4cNkZfffFe3wSXnnx02Ko/z7GcBKBGeeeEVdS0AmRkZcu3lF0vfXj1Dz8Xz7GsARrUhQCIfWVmZWq4e3bo5ZVvjnN8iNNpuyjygX99QeQAETTuv7jKZZ5924nHqWjBm7DhN79Gti+Zl7oJFoevd1xqQR3OdXS5gyj2gX59qlgG28OtVbihfzL1ilcM857wzTw21hV135jx33wDHHHFoWJ3hukVLlsqFZ58h/37h5VB/sM+zy2xw38fGq7955Rm4y4r+a9ddpDaL1D5u8Nz/vfa2/PKic0Pt5AZ5eOv9j6u1ZazryO6D31k5vv32W1m/fr107txZjjrqqGBqdDgrB4nNTqcTbi+Uyi35cS9VRf5N1Ywg1erSY3QkGEvJrGUhwTkSEJA3/O7ZsOugEMBosQGC6Ibf/lfa/eZsPY7RZrgKQICEIBkJozSwR6chHBurBwiVECShILDvU7Z8g1Rs2CYtLwr/Q8w+aC+1nMh77dtgSnWMYAs3BlMeCMDbXxqjdWQD4RdKCQjlOA95gXC74sQ/hMrqdS22V51zrwrqplwYdbddAsqWrdd1eXDtB+QdrgPA5B2KC1WABF1YYtUphOce7/xRlRVQHJh7IK9lS9Zp3RrwPNQ9jkdSShjQj7a/8o30+vw+vSfqJfepj1VpYVO1o0SFf1N/tlKieOayUL67vXS7Kjns603bAZQL50H5sObSB7XckUB74F4obySlBCiaOF/SnL6d0btTMMUb5AMxOpqOHiJNj943mFp7SsrzZX3eXFm3fXZcC67BtX4xSgkIghiZ/cctX8vMRWOrCb1uIOCt2bhI7r/xE73u5l88LV9MeF4FJQMEsE/H/VfviXPwDCgUcG00jGBmRotxbwjrJlbEGUfeoALy1Hlf675h3vKJuj525MW6Nhx14AW6/nrSK7r2wgjqUAiY5/bttk/YKLUBQjTSUa7Hbh8n7Vt3k3++ep0KiBDCcS0E3Q+/ezKsPpB/CLrmGag7CN2mPozbBOoerg1eGGH5kOFnhO4B4R+CLtxtoADAfRA/A5iyQHBF/uz8IGYI8r3f4GP1HNTz5m1rQtYlUIzcc+07en+UB+f85br3Q4K/G7/PdQMBHPfHc0x/shU6EPj/8eKVcu6xtwaOOedOmPGB1kVNQL+EUsJuK/f93PWMZfna2SHlgwHnwbrhdKdP4hz0B7Sh6cMGuKk8885vQ2WIpHRAPeHvCm3SUBQUFkrutu1xL7jOL7awi1FejAZDkTB73gJNiwSue/7VNxyBvKtegwVC5LsffxY8IwDuM2P23NA5EEYhRJqRZi+MQAchz1wHQf2DT7/Q50KQhJC5cdMWWbdhY/CqQJ4gICMftrAJBcXhhxzsHFum944E8vTR51+FjYpDeHWXCRhBGOfddO0Vmpff//mBUFkjXQslDPJo6hpCNoRtky8I0ZFieUARgXJEKjfqyCgl/JYjGrivUd7gPligVPKyPoHiAkoJCPo4D+1snwflAq6FIgb1hXMiKSXiwSglcG9TVtSdlxuF3WaoG+CnTuYtXCytWjaXLp06BlOqA4VHxw7tws5p06qVpKQErid7BnPmzJGZM2fKpk2bdI39+oKKiUZO2bJ1svVfH8gWR3CMd9n2/BdSVRzQ8kfDCFIQ2ltdeGQwVaTtzWepgBoNFXh3iuQcNCiYIircuUfxISCaEWMIsV6CrhsoHuzAixipb3Xx0SqgGkG76TEjqt0nkgDZJCdLBd7C8XMjCqp4BuJo2PmHBQTqBve1cVsjIC/ALivWTZpnh661hVYzWo9nIl+lTjlMufB8WzD3A5RBUPig3QxoTygejGLET5164S4HMAogu+0jgbrq9LcrQ9YWkZRKUGK1+b9TQvUH0FZos05/vyqUbxyHMsyOG2LK7/UcKEXs5xjs9nD3WTdQEkHpVjRpQSi+hFf8iM33vVatHRLBxOUvyFfz/yZfL3gwrgXX4Fo/QAiC8Ayh1giCEDohPMEKIBobtiyXbh0HhEbCIcT+/ddfho2MQ9C84bx/hgRZPAPPwoi1W9i3gdBmC264N5QERhGB+w3oub8KcLbAi+N2ngwd2vRQwTGaMItnQLC3rRRgFQE3kOVrw1/ytlWByQvqC9YH5tn7DDhcBX+jLDF1DUHXPAPnIl+mPnAvCP4qLFuCuc3MRd9LZnp2SPmCe0D4t+sCigXk+5KT/6j7AMqcFs3ahvJjsK06TD3Hap9IxPPceEA/goLE1BvKjjpAXdQE3M+24nDfD2WH4gkKJ+TfgHLhWoM5D3Xm/vvZvG11WN9EXzjhkCvC+pcXJrhsTlZzVfKYGBNuRUddAQH1szHfySdffxv3gutwvR/GfD9eBd0zTj4hNAKP0WhjNREJxArAyDiUGAYImu5RflgS/OLcgJIMHHP4aE2DAB8JCNf33nlb2CjzkYeOku15BSGBHMegcLCFPhzDOYMH9g+m7AJlspUbXuCcv9xxW0ipYRQBq9asrVaf9mg/hFEIpXZZcS0EevtaCNFQjrjrGvky5cA+BOdIsTyG7OX8rjrPssvtbot4yhENXId82AoEr+cDt/XB6JEHVGufRIOyQAGDtkCZAfKM+kWfhvWKjd1myCcUWH7qBME2YW2D+5n4Ee7ZS7wCcqL8qBcG69wzKCoqkrFjxwb3AmAf6fUBFRONnJ2VjtRfU28dXObjWghnNQ12COEfSoBYo9JujIAZTRg24BzMnAFBEBYJVQW7ZgXxEvwh7EYqC86HEBpJULXBaLwKn4f+Rq0jYlkvoExwHYgGhHkoUowSwxBPfXhhyp29T5/QvQDqAMK0scAwRKtTL3BP3NtWJERSAPklvU9n7Xex2qFwzDRtY7tcAAoR5BuKAVN+KGHc7e6lvDJAiQDa/+EiXUcC94dVC1xJkB8ojbBAOQJLI6Oc8FKiJIqqnVXBrfjxey2EIAhMNRmdxTWwHIh3ZotO7Xqr8ApXgFjAwsAIZngWRqLNs7wE/2gjzQc4wjsETbgtRAP3NwIhrAkwQh7JesEARUUskE/kF/m2adeqq5SWFfmqj2hA+G+a01LzD8WCW0EDgblF07YhV4hE01DPrQvMLDRQOCH/kYDCChYm7j4Hlx5Qkxls0NfQ5+DyYawr7r/xE+3b9aGcUG/hGn6C4Dq/3sYQmtwjvX6AYAdrCYxCw0zfLxAcIeR5WQS4wXETTPBfzzwv+QUFISHSPB+WAuY+EIKjjWxDueElsLrBMzCTB56L8kHwR+DGSJgyxQLKGK+67tihvW/hFc+CwsMutxGQ3e4C8ZYjGmhj3AdWIbCOSAZhG+WGQqZzxw7BlABGURRN+eUX1DH6qtvy59BRI8MsXQD6ANqH7Jl8+umnUl5eHtwLgH2k1wdUTDRy0jq2krT2LVXYindJ795emmRnBu8UGQikEPAyHEExXvAcWBgYNwYIurZLQiQgtEHYdAvMNkZ4XnHCnWphAUEQLgA2uA9cCYzA7GcUHyPZEIgx8u2FUUjgnnAJwJI1vG/waGIwdWUWlBHCc00VEwYIzvZ9sSDNKFX81Gkk4BqDukUdG0WAUQCZ+5pn+pmJAv0tlkLE4KVwMNh9CEoYr/NgieF+Tu6/P9G6gdLJ9AWUC+4wdv3ZCjf0c9uKpcVpB4cUY7g/3GSgrLAtPhJF+2Z9JTOtmWSk5sS14Bpc6wcjcEM4jheMEBvT/18/eGjEWQPcQIiHgB5NaDMKCVgYQCiDcAZLCxszum+sKIyCYnDvg3TtxoxkQ8DzyqdRSKAsEEjxTJQvluVIPMBFA8oOo2wxyo/8wlzfQqyxlDBuKVDIwB3ELURDkWM/BwvSYOlSl0R7rq30MYtxz0kmjMLOj8IJwBXKLtOdT5zi/G2tC/19eYF2izTrhju2iZdVTF3RNCdHhe+MjPS4F1yH62NhhK6aClSwjsAoNHz2IbT6nYUAgjgEykgzNOAeuBeEYONGAPN/uAHY2FYUuCbgztA3YlkguEOg/H7CT57PNoL8PX9/RF1F8Fy4CCQSCPUoF+rLLKg/P4oaAyxCbOsRCMxQ0qDdQSLLYRQSxv0ECyxDEoW5v1ncM13EAn3ClNtNPHVq+pydF9vdyB23wssiJJ7nkcbFlClTZM2aNcG9cJCO43UNFRONnNSWTdX3vf0dF8S9tDhjlEhK8EY+iKYkiAWENSPkQtiLpZyAEBdLGWLiHiCugHF78AJKCCMw+xnFN8oMCJGVLmEVwjRiQqDOoXCJJAzXFtSTGXW3l2jl9AMEZ6/7GmHab516YaxjUMduBRDqFC4i5nl9fng4pnCO/uZlCeFFNMsKuw/BqsHrPFiyuJ8DRRDaAXWGvoA+aRRtdt2hnpAOpYf7/kiH0gSg7yCWBmJnGKUGLIkqNuTqGgqPSGXww7Cup8kF+z8tFx7wTFwLrsG1fokWzyAWEJwwhaiJswCf/FjKCYycw2zejCq7geBl3EtMzIRIYKTaCGuR3DhskF+cA/P7ktJwf3i4IUDJAmVEXQURhMCJ+0PpYS/xTMOK8qEMiNVhhGCvwIeoP/dzsPgJqFgboj0XihPjqmKWSC4ryYBfKw8Tn8W9RCsb2hH925xr+oBRErr/Jv0qSWpLZmaGHOcI/ReccWrcC67D9X6pjUAF03ijOIA1AmISxLoXRtth4g7BzgvjXoJ72m4EbjAyDgsJCIfR3DhsIFBCKYJnuDHxBhB/wLgGJBoI9Sa+hL1Ect3wwi43lBBwR7BdahJVDlgDIE4ElE/x5C8eTP8xi9sVKBaIx4E68CIehRvOQxntvKDukO5l4WPcNAxQtrkxLjZex0jjYuLE6C6SsY4nAiomSK2BwIkYCvEEWoyE8emPJCAajOtFLKHU7ZrghS0wowx+XFIw0g0Kf5xX7VwIsX7iJtQEU9dwB0gkKAPKHStWBPBTp16YZ8BSonz5hlq5caBvRHK9cANXDC/LCrQ3FBvqzhPMm5cCA3WNOnfnFUoJ9FcTCyL/o590HQnkw31/bCMNyhHcy1ZoYEGQzrRObXRdl4quRAHrAvjM19bM3lgjgGhKDmPub9wOouHHvcRYR0ydP0bdPPxcg7gRUEBsL9gUTNkFlCu9uw4N7iUW5LU2cREMsDCAMsZYkmCxlRJoC6/4GzUF7YT2ikVtn1tfgrcf0AfQF2JZl5jz3EFYa4O5p/tvEvt+/m52ByB0wcIgmvWCX4w1Qqx7GUE6ltDox73E5B+j+es3bIoZoBBgdB2xBWbPC49dZbAtDxINlAdQuBhLh5pil9u4pbjdOBJVjszMzJjKHr8gP7hfokCZoRxA4Ekb1C/q2VbW1Abcx92vjdLBuJFg7W5buM3AoypR9UeSl379or83Yx1PBFRMkFpjhDpYOthm6xhdjzUrB863R4IhPEI4disH7JgOxiohlsk7YhDYgjaeBRcIN3gOAjjmvzdBimc4z/ahVIBgDleGovFzwgRNFdhTdilOcMyefrK2IK8mAKc9owTKWPDxLk0myooRd/esFdEwgS43/P65sDLlvTE2tO+3TiMBhQ7cIrY+/Um1No4G+pGx1gAIVAmLBdRFrHtA4EdcEMz+YvJt+pA9I4hX+VE+9Gv0j0jPwfW4j9fMKzYIguq+vz2bSWPAjL7bQSGhPIBFQbRZOYxJvm2Gb4Iy2q4U8JW3Z8IwVglQYthuBzZGELaFPfjWwx3ADfIPa4GvfnpR4zREcuOwwag0AlC67wfBGHkzgS5RH/ZUkbUFeUWgS1g62PWG50yasytCO8rq1y0mEibg5JNv3axtZXj3m8fC9v2AdkKMCD8BMWvzXI21YcUMiRcopSC8T577pe6j/jBFZ00wShb0EbutXnbuZ8/KgfPQlzFjjD3TDBQzn41/LrgXH7gnZgmx+wnKgr9Rt7vO7gyEJghZ9uwEMGGPNSsHRtPve+Tx0Gg1RpMhKLsFYrgu2DEdzHPOPvUkXXvhFvLwLPjzm6lDbWABUVJaJl9++31UNw4bBOCEQGtPgQkwsu0OVmlmckgEGIFHoMsXX387bJR//MTJoX2UFYEVY7k0GHcOlNtd54kqh3tWCbSxe+rQeEj0LBUoM1xV4Apj3C6QRwQ4hWILgToTAe6D/oJZaIzVhOnHRiFkgoKa4KomHz27d62mNCKNjxNOOEFuueWWiAuO1zVUTJCEgBkJMIJsxz7IOXiwr9gKMHFHgEhcg9gFGJF3z3CANEyjaczboZSwz4FwiHNgBg9hEhhBE/fEdRj5xsizV4BJFQydF008o/gQNN3lMwoLY45vpv6EFUiiQF4xJSdmlMAzTL2VzFoeEniNW00kKxav+oLgjVF5uz2w5L03Xio2B4SAeOrUCzw3s18XVU7EY1WC+oPFgckTlABdnvqVb4Eerijah4L5Rh/C7Cd2H0L5uzweiJhvyo9pQFE+KDeigXqBVYUdyNKN1/2h5LFnZmkMwMQegrqJffDbR48NTd0YiU25q+SgYafIW189FPKRh+Bkz0oBcA9YJtjn2L7zwIwQ414QwGxhz1wHoRN58sIEwWzfunvYs6OBOA3u8sHsHjErTD1AOfPby56LWg/xYuJy2PWm7i+LdymFYk0XintAmQQXDnMPsxjhGHUIlwkoFBAzwxz/ec5n2nbxgtkoEAzSjiVilFq2AF2b5xqFkYnXEG+gR9QL3EjM9Wi/a8/5hyrLagKsUOCiYcePGNzn4GqWHcg3ZgxBnA9zHtpm2dpZcSuBDCiL/Wz0SdSNbRmDtjbPgrLEuPbEG4y2oYDQdMctN6oga3zrEbMA5vvRgDJjQN8+GscA1yBuArBn4ABwXZg4eVro3niOPXsDwIg0hN1X335f940Aj4CXuAYC3s3XXRVmOm/AfTq2byelpaW+R6ahvMAsFW6MwsKUCfWgsS0SOMoPVwVYbJhnYIFywShhoEyINF2ojXHnQEBQt2WAn3LgegjSb73/cVgARxtb8Md9/vTAwzrjRawZWyLhvl+0mCQ4FwoXW+ngBfoK4mdA8YJ7oh/CGieRrie4z/VXXqbbJj6Iux+7z4n090BIXZGy02/IY0IaAAh5EPYgRMYSDmsDBHpYNmAUP9a0j6R2wIoDbhgQ0mNZOxBigOAEYe0Oa1rGugCj0w88f4laI0Cga+ygXuFi4I4VAeUAFB5uxQ8hexoY9YeADYEtUUKiFwigCGuNun4OIWTPpbKyMriVeFJTU4NbNYcWE4Q4+JmNg9QeKIDs2TgISTZizcbRmMBIOFwqMOUqIaThwIg7lBJ+3TgIIaQxQsUE2eOBsLzlkXcle3ifRuPrn6wgNgSCPZrgoYQkE7CWwAweiDNRl1YZyQJcJeAmAUsUO8AkXCtgLQFXFFpLEFL3YHYNBCFErAlCCNlToWKC7LFAIYHAm/D3R1wFMyUmSTxw30BMBcTFaGwxFcjuD4Tym/9xWMSpMhszcOFwx5hADILzjrutzqcCJWRPB+4b8PWfPG1GtZgVhBCyp8EYE4QQQgghhBBCSCPGK8bEc889J/n5+cG92LRo0UKuvPLK4N4uEhFjgooJQgghhBBCCCGkEcPgl4QQQgghhBBCCCERoGKCEEIIIYQQQgghDQYVE4SQOuPtx6bJc3+cIKXFFbq/Zsl2uf+yLzQ90Xz/7mJ55Poxkp9bEkwhZPfA/F3Mm7Q+mELclG5ZK1OuGSErX30gmCKy4MErZNIlAyR//qRgSmLwehbZs0CfQt/68dyu2hcKFk9jnyCEkDqGiglCSL2Rv7VYSorKJX9LcUhZkewgn1CueCk9zDEoRQgh9UdlUYGU5W6QypJCVSTsLmwe954Ku14CLo5B+N2dytMYQd9a8eKfJbtrPxn54gLZ/z/TJKN1x+BRQgghdQUVE4SQemPwyM7yl7dPlSvvPUQys9OCqbsH2zcXy/TvVgf3CKl/jCLs7nM/DltspRmsLtzHzdKYLIpSc5rL3n/7TEa9vVbaH3pWMHX3YfP3b1MBkaRUFOWr0qvlsEO1nzUWjFLMvbiVZFDMzPr9SWHn4FpCCKlrqJgghBAfDBvdVSZ8tFTN7glpSI6+YC9V8JnlN08dIy3aZOkxo/yzl9ueOVZatc+W7gPbhM4jDUd2l76Smt1Mlj//x2AKIfUDLD/2e/pnVeiZpecv7ggeDbgxTb/5cMlo0yl0fOhf3pM17/yTijRCGjlffPGFPProoxEXHK9rqJgghCQE92iuVxwJjNZi1NZ2fTBpkUZ1cR8s7pFgP/74XiPM5tnmuTiO82y84lW0dAS6jj2ay0+fLgumRMadV/e9zLNxHp5lzjN5sa93X2uwr0N8AlthEiuWh1f5zDPtejX5NHUGzL3Ns+36M+d7PRdp7mcizdzHfczcy11H7vMiYa6Pdp1dz1jc+Tb9x52O69x1jnOwuOvHrk+D/Vy9z+JtwSN1w5cvz5OWbbPltGv2DqYkP7aPP5Yt4z8IHtkFRnrdrg/u6zDyixFggPNwPkZ/EZ/CnOPXfcI94mxfZ45FGn3G8wyVxTukw5HnS97s8THjY3iNXrufgX2cU7RqgebJnIc8ua93X2uIVh+RygbMMaxtTF2bcvspB0CafY5ZzH3wHHdcEa86NkQrlxe474xbjpSybRtl7QdP6HXustm4y+XOm+mP9j3cdWPAPu6Fexqi5R/3nv7rw7TdTR686iAeNnz5kiol+t/4WDBFpMWgkbLvYz9IZruuwRRCSGNkyZIlwS1vYh1PBFRMENLIKS+rVIEs3mXH9lKpqtoZvEt0IMC9cn/gY+wPL52oo7RDDuoss8dH/wjEdW8/OlVHcs3o7n5H91RBygb3mTtxfegcjBi/8dAUT6HPYPLUb3iH0HUX3LZ/yOoBI8cnXDZENq4qkM1rdwSvCly3ZMYmzYc9upyZky4Hn9JHFk/bFCaQukGevnhxro5S45moDwiF7jIBlAHgvGseOFTzct+ln4fKGulaCMDIo6nrM67fR166d2IoX7FiefTdp72UFFaECcR4pr0GOI7zcL7uO/fHcw45ra8+F0uLdtny5K1jtc+gvlBvqxfm6r4B20gzdYo8QeAH5j449uxdjqBmXQfsOkKdAq+6tPHTr9BOuDf6BI6jLlFfXooqv6Cffum0/a3/PkbvCSsb9AW7TO7n4ty5P67T9ooF8pXntG37bs2CKbFBm6HPou/W2n1q506p3L5RKjavinupKsoL3iQ2ELjm33+JdDrh8tCobcGiqSosRgNC26JHrwu7DkLWmvefCJ4RYPG/fiVtDz5FjyOGAM6ZfeepUYVWCJYrX/5raLTZXGesHuBO0uaA4yVv9rgwwbJw5Twpy10vXU69NpgSoPWIozWGwbqPnwmmVAf3mfuX89WlwJSn/02Py4YvXggTfsGOpTNl3l8vkmH3f6znIS8o55Rr95Nel/0p4rVGsAbmGe0PPzesPopWLdR18drqsXTa7HesNOu7j2z96ZNgSgA8AwoYlNtvOaCUQBpG6M05AOu9bn9et/3ip1xeQAgf/uh3alnQ9YwbA9dFcBUy5QLoDzi3zzV/kzl3nxVSRDTtOVjb2a4flBl9eceSGaG8YI194z7iN/+VxQWy8KGrQ20crZ7QjuizaTktginh4Jnov43NhYUQ4o+DDjoouOVNrOOJgIoJQho5H/9nljx07ddxL/+45mtZNC26IGCY+NlyFaqPdwR9I/zApByCWTSMoAUlhuHws/vLub8eEdwL0HOvNmGjvQed1FvTbCHaDfKBWBa4n6Hv3u3V6mHpzM26361/a8lqmhbaB1BSbHcEVCOM26BM/Ud0UOEzkvCKc2zTeuQDQqFbWAdQsJj8te/aTPNmlxXXQrFiXwvBFoKmu66RL1MOY84fKZaHedbmNQGFDMpS6gjGo0/rG6bMwHGch/ORhnLjOXadHn/JYF2b+Bv7Htld17bSA3l3ZNpQnaK/oN3NtQBtCiWM23rArqNIig83sfoVroXCAPdGXQHUE+oU/XjprF39IR7QdhffOTJU5wef3CdMAWSei78L93OzctJ13w9QbIRZXERRlMHCB22Ivl9bSpdMkU0PXSSbHrwg7mXrv38lVY4QFQsIRybwYLczbwymivS+4t6YAQhLN69x/t/pCP1HBRIcIKjZpuoAAqcRNiGAQaiDEO0W9m1wPoIgmlFjXNf55KvChEsoO4rXLlFlhGHbtG8dYbCzCqg25rmwmog0Io9zEEfDzj8UAagb3NcGdQOlhMkf8gIgKEPYBljDhcS+FkobxFNA/RpQ7xBgTX3g+ZGEXq96ABCCkU+U2085dgnFo0P5jaT08IOfctUW84yBt/1XywiMgmr9p89qmZAOQV8DtTr7AHXT/rCztS0CfbZ63/Wb/8riQul27i2hOosFFFiTLtsrZIVhW1iY2Bo5PQaGWWq4rTgIIY2T/fffX7p16xbcCwfpOF7XUDFBSCOnstKf1YObnY4kWeXz2k1rCkICbDxA0MSoNgQt210gFhDmMFLvd3YP4woAa4SVC3I1v8A8H9YH5j4Q7ls5945UFgibfoRXCKHGlQDlg4AaTZg2ZYoFlDFedd2hW/NQuWJhnmXKDWVM3pYSGXJwFykpCuwjHcehGMH5SEO58Rwbdx2afVtpZNepuS/OwbkGkyejLKkNsfoVFAUIZuq2PED+ULfRFF61Ae2PfmArTOKlv9MexhoHCxRFtrWMDZ4HJU5CrCVApfM34tOKys3OnVXOf84Sg9oEHoQQDCWAPWLth8z23VRINJYB0YDwDZN6CGywSIBCwwiXbsF/l7DtXRacD0HcCLHRMC4OECohXHpZL9hAQZGa1TS4543JX7N+w8PM9JFXCMB+6gMYodgIzNHKHW85QHbXXYpQPySqXNEwz8D93BYIbgUVBH2zb65rNfyIMMUM1kaBVVf5z2zfVXr+4s6QBQYsU6AYM8oJ9GP0Z7dFEYBlCPJFCGncnHzyyZKeHj5Qgn2k1wdUTBDSyOm3T3tp3TFHWjpCXzxL136tHMEttmAAQRMKAgiVNRF+MIqNketv3ligQrxfU3oIyBgVj3auUUhAEIapPhaMattA0QALCS9h3ItuTr3AleGnT5Z5PtsoJGB1AlcRCI8w208kUK5AyYKymQX151dRAyAcm/qD60cHRyBv5wjmWTlpuo90HK8mvEdwI7DbAvc2Vg1I86pTuD3Y+ceCNL/KFWDq2lxvWw/E6lewUGjR1lsRFE89xgPqFUR6rsGOqYHFxLiAwuXUa/YOU+jA6sRt9WMwrjixnueXtE59JK1jL2nStFXcS0bPodIk29uE3MYIRxDm4gWCG0bmjRsDBGA/PvcQLCHwRROSjUJi6nUHSs9L7lKhzbgaGCBEwtweQiWEOAiicOOwLTjcYEQcipjcqV8HU8IxgjzuCSERC6wIEknu5C/1GfaCND9KA4ByQ4g2lg1e5Y5VDrQdLC/suBuoEwj00eovGtHKhfYxcRnMEo8yy4B+41a+AHsaW6Owwj4UbyYNChdTx1i771WTdrEVZ1jsmBedjrtUup5xg24D5AFuT25rF/Rr26II7eK2BCKENE5ycnLkiCOOCO4FwD7S6wMqJghp5Ox7RHe55Ymj5danj4lrufaBQ+OygKiNMAczewjwJs4CYkPEuhcEWJj+R1IgQEBFPAkIp9GmJ0UZMZoPwS6aG4cN3BUgiE/0CIRp4hhgVNuY6ycaKFdMfAl7iWcaVrixAAivsBCAogfXQoGAfeN+YM4zRLJosNvCvnekOoU7gzv/WNxuPNGAgA63GXPtnS+eoIojQ7R+pTE4gooCNzVVsvkh2nMNJt9miVYnyCfq3otI1jU1JbVVR2n/6+el0z2fxb20Ouf3IikpwTvFpjaj2nA5MIoDCHKxlBPGSiPayLyJJYEYE5FiDgAI0RDKIcTZo+CRMMoMxK8o2xpuqQOBcsMXL6jrCRQuXgJwIoAix4yi20s8cR0wwm4EXHe5/ZbDCPCweIFQvew/v5dBd74cssiIl2jlQh6QFzs9WrtGAv3Gy5IA1irG2sFW3BglAZRh6CsQ+PMX/Kx1Z9xvDDVpFzwLLkfm3JEvL4paf7YCMJLlEO6Zmh3d+oYQ0ngYOnSo7LPPPtKqVStdY7++oGKCEFIrjDAby3rBD8YaIda9jIl6LAEyMyctppLB5B+j+lvWFER14zBAIEasgzk/rQumhON2U0gksEaAkA2BvzYYgXbNom0aX8LUEywioGRCuq1sMG4ObosG0xa2RQTKbtw53K4xpr5jxYlIJO5+BcUJps90K1mMu0ptXC2iEem5tcHk2W3JgnLWxpKpoYAwCxN3v6P10TD+/pGERwOERQQjjGWl4Tat98K4k0A4Rxn8uKR0Ov5SXW+fOVYFQxsIhDW1GIgF8oX8uUfMa4IRfrdN+0atItzl9lMOKH9Qx36F6kgkslyRMM9A3zJWEAYoIEx8DQOUXji3YOGUUN1AEQAKFkx2/t8Z6lv1kX8D8mrcUYwCxf23F8hDSii/hJDGz1FHHSWXX365rusTKiYIIbUGQi1Mxt2zHsSalQNWDU/e+n1IQIUw5RV/AK4LdkwH8xw7eKIbXI8BWmPijntjxBz3cgMLCMRW+ObNhWECdjRMsEb3/WB5YAvdZhaGRGECXb71yJQwwX7G2NWhfdQr3Brc01zaGAXB7B/XaXwJU98QnlEXSLfrAmsEaUTgTTtug2kLE/TSAOEe504Zs7JanZq6w8wZtgJq4ufLw/ZrSqx+hQVuNnDzQPuYcxDcE8oXEyjS1JE9EwvO//x/c1XpFS94LvJgZoYB5rmxZuVAWeC2YrepV553d4xQBksH27QeQmusWTlwvh2oDwIVhDsjCBo2f/92SODDGtYKUGBEGzGHYGkLingW3EXc4Dkwfd/8/VvO+dN9KRUgEMI9JG/Oj+rGYggIgimq5AAoF3z9EZshUZiAipjZwVberP3gydA+ygoLBrhjRMIItWveeVQtRuxyJ7IcxqrCzGaCey34xxX6TBs/5aotXs9AXaHvog/YfQ71gTzm/vx5SAGGOoMCY9O3b6gyy1ZkJDr/aDv3VKZeecUsKnCnMW1t/j78KOUIIaS2UDFBCKk1GJG+8dEjVCA3fvEYLYcbRTQwUt9/eHuNx4BrEDcB2DNwALguTPt2VejeeM5Vfx0dEqaBUY4YYdcWPnHNw/83RgVrr5lCcC5iLJQ6AnksCwsDhFYEFXRjhG5TJtQDXAlqIshGAqb9sNgwz8ACpcrmoDUDXAWiTRdqwCh7nnMOym7qEuVCnAmku0fh0c6X/vEgFazNc/GMGx4+IqwtABQciH3gVad4BtxOMJpvx8qYOmaVFFjKlprip19BwYPYH2aGC5yD/LjdYdCeEPz/c8c4PQ/tef6tNY8ZgraD9Ya5H/ol+hEsKaKB+kU9o75xXbQ8A7Q7LETcwUp3BzB7A9wwTJwILAgW6Ce2AoQ5M+sA4kFAoHLPyoGAk5h20T7HNo83QvbaD55Q4Q0YQRHn4zqMNCN4oJeJe2CUP6WasBkNMwOFjVFYIB94ppn6E0qURAGBFC4Ndr1h2fTdmyEljDHtj2XFAleEsm2bqpXbbzkQbwPKH5MHs9gCtbkXBGpzr+7n3ea017563OCnXPHg1SfwjCF3v6nb5hlwP0G/cCu5jHIGi20FonEm1i/TfNqKjETnH38DZipTcy+vvCJvcJ+B6w3O8fr7IISQuiJlJ0LvE0JIkoIRYghj9jSMdQGsADCqXtfPIYQ0DBDooJBATAe3siKRYEQbFgGw1KjL5zQmTJ1h9N4t1CNGCNwgoASwhXdCCCHxUVlZGdxKPKmpqcGtmkOLCULIHg9Gl71mjiCEkHhB4Eu3OwOJjqkzWCYQQgjZM6FighCyxzPxs+Vq9u6Ok0AIIfGAkf8VL/5ZXQtqErhxT8W4OpjYEQbEOvCK2UAIIaTxQVcOQgghhBBCCCGENBi0mCCEEEIIIYQQQkiDQcUEIYQQQgghhBBCGgy6chBCCCF7APXxuucnBSGEELJn0qRJ7WweqJgghBBCGjl18arn5wMhhBBCDHWimEBSSkpKcK86PM7jPM7jkeBxHufx5DqONENt7o9jtbke+Dkejfp4Po/zeCR4nMd5nMcj0diPV1VVRVU84Pq0tNpNuU+LCUIIIaSRUttXfKI+EfipQQghhDRuUlNTg1s1Y7cOfskPHUIIIcSbhlJK4Dr3QgghhJDkpabvanNdIt71tJgghBBCGhm1ebXHe21dfkbwE4UQQgjZPWgUrhzIQjSfFoPf8wghhJA9kdq80v1eWx/PIIQQQkj9UVM5276OMSYIIYQQUiOh3+818d47vvNrNuDAzxdCCCEkeUhPb8SKCWTN1tzY+ybbZj9WpFBCCCGkMVKT17jfaxJznrfioSb5JoQQQkjiwTsZcrVZu4mVjnVGRnowtWbQYoIQQgjZjYn3Ne7n/NqdE/7hEvdnhrcegxBCCCFJTHpjjjHhTrf3aSFBCCFkTyfeV7if86OdE/lY+Ls6KjVQPMRbTkIIIYT4B+9ZL3ncEOm4nZ6RTosJQgghZI8jntd3rHOjHfc+5kMREeH7Jp58E0IIIWT3oFEoJpAFL8uISOkAFhPYNvvr12/SNejcuUNwixBCCGmcRHp9nzhnka4/HzpA15HOM0Q6bqfnFRTKjsJiKa+ojHk/QgghhOx59O/dLbhVMxqNxQQVE4QQQvYUor26bcVEtPP8HKuoqJSNW7ZJZmaGtGzeVLKctT1gQAghhBCSCJIiSEOkjyN3ur0Pi4lIlFUWBbcIIYSQxkU0hYJfor137WNQSrRo3lQ6tW8j2VmZVEoQQgghpE5ICsVEpA8dd7q9Hy3wZVkFFROEEEIaH36VEm4Fg42/9BTJKyhSS4nWLZsH0wghhBBC6oaks5iwP6bcH0/2Piwm3McNpRU7gluEEEJI4yDSO89NtPO8jiFtVzoGAAIxnnYUFqn7BiGEEEJIXZN0FhPYNvuxLCbcxw1lFYXBLUIIIWT3J5qywSbaeV7HwtMCCgmThkCXiClBCCGEEFLXNMoYE7SYIIQQQnbh9Z4NTwsoJUKkBI5HGgAghBBCCEkkjTPGRGURlROEEEIaBV5KBS8ineeVHp5WXSlBCCGEEFKfJKXFhNmPlA6ixZgAnJmDEELInkKk96FX+q40aCAspURgV/cj3Y8QQgghpC5ISosJsx/LYsJ93Ka0nBYThBBCdm/8KAgineOVvist8P4M7Qdfp36eRwghhBCSaBpljAlQVskAmIQQQvZUqr9Xd71DYysl3O9fQgghhJC6pFHGmACl5YXOh1V05QUhhBCSrPhRDvhVILjPC+07r1Vs28ex7f1WJoQQQgipG5LOYsL+QLLTgb0fK8ZEeVWxlHLaUEIIIXsckd+d0ESE9oNKCYNuOwuUEtHer4QQQgghiSbpLCawbfZjWUy4jxuy01vomu4chBBCdkf8KAa8zol+nSvQpQXSTZKfZxNCCCGEJJJGGWMiK62lrjllKCGEkD2ZXe/N6koJs481lRKEEEIIaUgaZYyJ7IxWui6jKwchhJDdDD/KgfjOsZQSQex9t1ICa/f5hBBCCCF1SVJaTNgfRzb2frQYE9npxmKiUKp2Vug2IYQQ0hiI9O6LlB5GSvh5Ztu9JoQQQgipT5LSYsLsx7KYcB83pDZJlyYpqVJRVSql5XTnIIQQsntQU8VAtetCu7HjSng9s6b5IIQQQgipCY0yxgTISjMBMIt0TQghhOwReL1Sg0oJ8x7F2q3at48RQgghhNQnjTLGBMjOYABMQgghjQsvpUFkRUJ4bAlb8WDepnaa15qQPZGysjJ58/2P5fMx3wVTSH2D36BX3npPvvz2+5iDkTXh2Zdfl4effEaKS0p0f+mKlXL7n+7T9ETjfhape0x7TpkxK5gSaAek4VhDk+z5ayhS73EIboexZctWef319+Tll9+STz75UsaNmygVFRXSq1ePmEoBNzNnzpEHHvinjB8/UUaM2Fuys7OCRwLgx8coHczHEPbtdGDvmx8ps79jx65Al82bN9V1fskGJ69p0iKrk+4TQgghjRm8J1/bnKvbv+jQVtfQQph3qwFvTpPmXhsKCoulbeuA9WFjZpPzvfPDj5Nk7vxFsmDx0tCyfNVqadm8uTRtmhM8U2Tjps3yxTdj5cefp0pRcbG0btVSMjMygkcdgba8XOYsWCRjvh8vU50PzpLSUqcOW0t6enrwjMSy2cn7uJ9+lu/G/yir1qyVHOf7qmWL5mHfTn6B0IQ8L1yyTNq3bRtWLkNlZaXMX7REz2vWtKk0bxb43mpI8gsKtL6/cZZNm7dIpw4dJDOzet79sj0vT556/mXZsHGzHHvEodKq5a6/gUS2L/7eVq9dLz9Nnirlzvd1uzatq7Wbn3MSxY7CQvl52kwZM3actjGe07p1K0mN85sfJKps2P/0q2/0b3HIXgMkLS0teKT2TJs1R0qd9jtgxHBJd+67bMUqTcty+s6+ew/VtEThflai2LY9Tx549Ann/rOr5dkca968mXTp1DGYuueA8uNvdMiggVp+/L6Nn/iz5G7bLgP69amTOoFC4Wnnt2PYoL0kOytc1nXTEPnbHfBUTGzdmiuPP/6s80ObITfddLWcccZJ0rZtG/nooy8lPz9fBg8eWO3HIxKbNm2RF198Q0qcCseLYtSoA6spJux7Ydvsu58R6TzgVkykpWZKbuFKqaqqlJbZnTTmBCGEENKYcCsTQEAxkSIXtW8TSLBepTgfu+Y6r+tN2p6imFjkCOIffv61flSucAQgs6xau0769e4lHdu30zpZvGy5PPfKm7Jo6TIVgOctXOwIBHOlV/duqqAod4TWT74YIx9+9qWsXb9BNmzaLHPmL5QVq1fLgL59Yn6oxsvK1WvkPy+9JrPnLVDlyopVa2TqzDnSrGmOdO3cqdo3VCQgbP88bYa8+MY7Mnn6TNnolG3Y4L2kebNmwTMCg0Gop1fefk+++WGCrFyzVvr07C6dO3YIntEwbM/L13xPmT5LtuRu0zaEgmZgv76SlZUZPMs/EA4waom6u+GqX0oHp+0NiWxfXPvux5/JB869Fi9drsLjQEcYsdvMzzmJAsqd/73+tgpGaH+Ub7ojTBcVFUu/Pr2cb2r/39CJKhu2O3ZorwqJseN/ktXO3+MwR4iLd3A0Em5lAQTBE485UkYduH9ClQegrhQTJSWlMnHKNOf3aKt0dvJvC7Pm2MD+ffdIIdct+KPe0bZo47qqDyi35i1YJAcfsF/cion6yF8sPv5yjDz13IuqfMeC34ER+wwLHg38Pv7rmefUmgzH5y1clHAlnudf9/Tps6WgYIeccMJR0sp52eJHAJYOhx46UmbPni95zovAD7Cw+PjjL/WFPnz4roK58fowAu50ez+WWVeKU7TUlHSp3Fmus3MQQgghuzOR3pVRcb7z7esiiTTmHPe6sYNylpaV6TcFBKCrL71Irv3lxbpcc9lF0qdXDz0PH5EffvaVFBcXy+GjDpLLLzpP9h4ySPZyPvo7dWyv56zfuElmzJmnFgu4z03XXCGdHMFq5eq1qsxIZJ1ihHmyI4xDMB+5375y5y036ug+LBomT5sphUX+4muh3N/+MEHe+uATLWMkoIR57tU3VfmRLOAb8/sJE1UY6Nu7p5xz2knSt1dP3f/hx4CVb7xMmDRFRywvOvuMatYgiWpfKLWee/l1Ffwjfcv6OSdRIN+wkFjptG2vHt3l1huulYvPPVNysrNl9rz5aiXkl7ooW6eOHeTcM06RhYuXaj8k4WRmZkr/Pr3lo8+/ivo3TEg0oJCdPG2G3PO738hjD/xZ/vanOyQvPz/kagKlBJQWAMewAKThWKLwtJiYP3+RLF++Sg44YF9p27Z1MFVk48YtemzffYdJC+eHORbjx0+SsWPHy+mnnySbnR+i7c4fTCyLCRt3uluTauPlylFSkafBL7PSmktWeuMf9SGEELL7UlvB1Vz/2uZt2JGL4MphvSpxHLvmvOjrlD3GYmLp8pXqugHz20NG7q+j5O3btVUT/Yz0dK0PjMjjA23/4XvLGScfrxYJew/eS4YOGigZQZeHVWvWydSZs6V7ty5y1KGjpE3rVmrJgBF8KDgg9EX63okXxECYNGWabM8vkGOOOFQF86ysLLWewGDS8L2H+BrBR37gqgDB5pCRB2hdoLwop20x0cwR0rt16SxHjh4l2/LyVABC+WtqMYG6/PtjT4VG5uylorJSR89jsXlrrnw25lunp6ao4Dp82BBpmpOjVgx5Tr0MGthfrUf8AusAjOAfuN++ei83iWpfWA+jj40+6ABp5uQXyh5cCysPc72fcxIF2hv9ZonT9mj3/YYPU+ULXHoKduyQYYMHSds2u2SBaNRV2dq1bSMbNm6SBYuWyL77DJXUOCw4gHukFyPBwLZiQJ+G68OOoqJQ/zNp6Be4Dm4n6BvmbwvCHKwhqpw6tPszfj/sUW8viwlY9/zt0Sflk6++0Wu+G/ej9HH+jtu0ahV6rpeLBka1X337vVAfhZXLfk67wYKqsqoqlPdIFhPuvz13mZCvR596Vnp27yrvffy5wCIJ55nRc3tUPdKIuX2OXS5gyg2rK3s0Hph2Qp68yg2FlrkX6t7kzc6fAXVoWyQAu+7s8kZqB4Np55bOb6V9rt3OOOfrseOcdi6TsRN+qnbcjd/8AXebeZXVuO3gN8rUvbttI4E6gJL3lxedG8oL6h4WHGZ/5px58vPUGXLxeWdJh3bt9DgsmiZOma7vH7u+aoOnxcSwYYMlPT1N3nvvE9m2bbum4SU43Xkxd+3aSTp02GXaFonFi5eptcTezstx5MgRApeKSJiPIYPZj5QOoGV1H3eTnR6oJAbAJIQQ0tiI9Q60lRLAjzgT6f2baHD/Dz79Un5z11/k13f8KWHLnff+XYUXvyAfiBOA9YLFS/RD952PPpPlK1eHRnPh6rBs5SoV+Dt36qAjvfjwXLt+Y5ggBWEOH4CrVq+VGbPn6gg73D8Qq6Fj+/Zh5+KbCh+P9z38L9m6bVsw1T/wtYdgbBQU6zZsVCEBcQLaO0IcRrv9AqEv4LrRNGInwf1gIdKhfVtf/Sga+Ph++c135ZLzzw6NzPVwhH0s2D71+GOCZ0Zna+42KSwsUqEZH8pQRsDkH3WCwSpYPsQDBCVYmsByxot42jcaaLvBA/urC1AkAdvPOYkC+UYdIpbErLnzVUGxzOn/sGyAcqq1FWMjFnVVNuQRAtaW3NyQXOIX90gv+hzuBWVMNHDd86++4fTLrnoNFigW4IJig/ugP5hzoChE/zYjzV5AEPzfa2/LtZdfHLoOcQU++PQLfS5cw0478TjZuGmL/m0bcGzRkqWaD5xjgHIRaRjxhpAaCeQJlhX2qDj6tbtMUKL865nntZ5wHv5WUU78xgKk4R74m0O8FRsI6MijqevzzjxVnnnhFS0zQP5gpYbReJTHBn9fhx9ycMRyo45gFYVnANwfy03XXqGuZtHq3ItY7WCD8iP9z3fcqufhN9O2Urnqkgu17VGfpn6h6KstKJP79xJ15xVMFecBnIc8AHfbegFLpFYtm0dUogD83nV05H/7HCgj8LOXSEsmT8VEjx7d5OKLz5Vc50f/L395SF566U158cU3Zd26DXLyyceFRgciUeT8sH/44edqGXHqqcfrj1A03D/mZt9Oh2tJQUGh5Ofv0AUvHaTlO38UWJzPi9ACywwsVSVZklnVUcpL0kJpWMrLK7hw4cKFC5ekWcrKyj3T418qIW3jtan75r5+14HtwLougTJg6YoV6nqQSCBYLl6+IrgXG1VMlAQUExiFgoAx7qdJ8q//PC/vOx+h+ICGoIuPT8QYeP+TL+S1dz7Q9T///ax84gjZUFwAWA+M2Huolu2N9z5yPhz/I1u25spRhx0iA/r21nNsKiurnPuX6zpeMFp1oCOIwKpj7oJF8uC/ntYZJOBacPJxR0tWZvzxFeoD1COEJ3zAm492CCNnnHyCCiMoix/QXgg+CncNWEXs3Fml5TfCD9LRF3CeX7Y6Qi8E8UjWAfG27+4CvrUHDeivo8SIL/Hks/+TF159U1KapMhpJxyriqtkoEvnjk5em6iVSjxAcEbfQh8zI8foexAso4HfBQjeEM4NUJpBALWBQu0X554Z3BM55vDRmobfkkhAuL73ztt0bTjy0FGyPa8gJJDjGOKk2EIfjuEcKHbc4LleSgYblPsvd9wWUmoYRQCsftwKDQjC5m8UecG9UWdGcYh7QGkDhYERkCFEQ0HgrmsI+6Yc2IfgDJchc44NFIMQgO1yu9sCbWC3A/KHZ0Srcy/8tIMBbXr9lZeF8ozzkC/zm1MXoE2g/PD7e4nz7PaBssqrbd3AXatlixZ6P6Pkd88O4uXShf6JfhGPu1csPBUTGCVYs2adrvHQyZOn68waw4cPlR49ugbP8gYvgU8++UpWr14rZ599ii/rikgvDju9qmqnasZ3LcVhi/PTGlqKi0t1KSvdKRk720lqZYtdac5HQGFhIRcuXLhw4bLbLDt27PBMN4t93GAfLzLrIrMUhZZAulkXh7b3BPCdAcEMLhswW739puvk7FNP0lFwmKjC+gJKGiglQId2beWCs07Tjz9zDgJlAlhUwIrBBArEvbEgDoRbAYMBnl9dc7kjJNyq96wJsGLARyEw30tFxSWyw/lGSlbwoQsBw+0CgpE3fG9iVM4vaBOY0APMkgKhCIIT3FKQbtrML9ucdmriCOORiKd9dzdgJR0Y/QyUH+VCv8fIrOlbDU2TlCZOXqDMKwum+ANCk3uk1w9G8MYoNKx8/ALBEUKel0WAGxzHyDcEQVgoIAipESK9BP9oI9t4LpQMUAzEEpbxjLsfeEifi/JBwM7dHtkSxQigsYBiwKuuYfLvV3hFOQb06xtWblMeW4EA8DdvBGlYNPipcy+itUNDEun3EvWLeo5XEeMFyo56c1v+HDpqZJilC0C/NoqZusIzxsSnn34tY8aMlXPPPV1++csLZb/99lHTqalTZ8qqVWtCrh5eTJkyQ68/8sjRcvjho0I/crgWQTNrGmMCPmnwccS0XYghYbabNQvs79ix60XcsWM7TceypWyOlKSsl3atO0nrFm0lJyfbeX6280eWxYULFy5cuCTJkumRZi9ex+20XduvbdqqevrLu3fWfQRHw8cE1mYf5+O9Glib/fDtHUUldRZjAiPamAECH12Jpo/z8eonRgGAsInRbsSWGD50sH58d+ncST9M4c6BD7Ge3bvI9FlzVdA9/6zT1Le3W9cu6koA8/+O7do553STaTNny/uffqlm1RjRQmBMuHusXLVaZzbDx2Sk7514yS/YIa+9876a3CPvxx5xmJYFfuYwd8cIONo3HjDoA/9kCKIYnbNjTBjQbvA1znU+2msSYwKjkAhiOPrgA8N8kiEYwR8eQr/b7zwSEHQwwgfFwNIVqzQGxuknHaeBKGEdi/bETAV+63zzli06feWB+1WfOQF1An/wRLYv7rlk2QoN1hkpxoKfc2oL+vVnY76TCZMm698NXAjatWurfQlxNfr1xmh5fL8DdVE2WMgg1su+w4aqu5IfIHQhBgPyjyCxNu64D6YPIn6M+f1AX0TME0yhCp99d0yFSLNtrHX6Ocp1wL776G+v+zzkC7EU3v34c0379bVXhkb87ZgDiGlgfPhxny+++U6FduNuZPJs4khgwW8SlKWwqnDHmICwjVgEX377vZx3xqly5cUXaBwE/B3tv+/e+jeJc9yxD8zvNSyx7L9Pd7mwj1lWYKVi4iFgQV3EMw1rWlpqqNzI02dff6ttiN86AIUEYi6gj95x841y5iknqMWbnRevcuC3YZ1znpk1w287eLVzPPc3sU2wmLgTfq6P9Htp2gN5Qp1WVFRW67vAvh/wygsU47gXlGC2FQrSp8yYqUp03BN1AAWG3YaR+kVt8LSYgIUEZtEYOTJQkI4d28s111wqxx57hCxcuESVDJFAHApojseM+V5+9avfy403/k6XWbPmqWLij398QB588HEpLi4JXhH4cTJg2+zb6ebHCi9ebOMY1mbfBmlmydaglzulvLIwlEYIIYTsztjvR5tI6ZEIf98G3qXx3qMm4KPruCMPV9PcRC4QPkYdGPh28Qu+C5o1bRr6PoCvfZvWrXUfH5ZYQ1lj1woEaGMOjXPg7jFr3gL9/jls1EEqkCCY5LFHjNaAdBD44QKQKNasW69CIz5ooZRA/AeY3ePDFOnLg1YcuxsYWfUDvvtycnI0RgFG0NF+Z5x0vDTNyVYFC1yIMQjl/j6MBpQYcP+AwslNfbdvfQLl4PyFi3Xg7rijDpd9hg52/jYPk32dvycIIii3n9kz6pp16zdq/bcJ/t3FQ01H0gGsozCCjDgGMJ9HvIpY94LSDEpO/G54YdxLcE9jeu8F/r5hIQFLiWhuHDZwMYDVBPqkG+PmgfgDxjUg0ZhYMWbk3SyRXDe8sMsNAR7uCPh9B9iHewOso2y3lJrgtx1qCsqLctv1EG+94/cNZfYiHguGSHlBOu7j/htB37WtZLx+m6EYw++H399tP3hK6TAJbd26ZdgPOrb32WeojqLk5mKOdG+uueYyeeKJv1db9t57sGr+7r33Drn99l+FWU24n2P27XRg7+NDwX3ci+yMQIctKWcATEIIIY2PXYoE73einRquiAjHTqsP5QQ+LDHtZiKXi845Q+MuxMPmLVt1RBQfZgCCZu62bSqMGSvLLp06qXAKgR/CERZj7QEBGddg9ArfJbZFKQRmKDoqKyplZ1Xi6hR5Qf4wsmgUKnBHyXG+rdB2lRUVYW2Ic2EF0tACJkyx8cFr+48DmJEju7GELpu2rVup9SyUE8ccfojOIoD4A/iIh0Wt35kkDJ07dNCP9Oke5tHxti/qvmBHobZTsoNRz/LyCi2HcVPBNsoGKpxj7t+G+i4b/t4wMgvFWzwxL9CesDDA3yqEqNqAvgvz9lj3MoJ0LKHRj3uJyT/cGtZv2BTRjcMG+cSo/6Sp01Vmc4OR8doI89GA8gCCvjs+Q7zY5TZxFNxuHEZRUVtq4uYTiXgtyGKBMkM54HZxQ/2inhNVB7iPu18bpYMpE9butq3J73YsPBUTzZs3l23b8sJ+iAB8TisqyvUlDGD18OijT8vdd/9NNjmZrSnu5xjc6fa+35drTnBmjvLK5PW5JIQQQhJGyq73pXvtReBYQH0R7bzGCNwAXnn7Pfn062/l5Tffk+9/nCgff/G1mozDPLVf7166HrrXAP1Y/vHnKfLtDxPUDBbmvjDrh5krBACMGkHI++q7H2TCpCkqGMAEGcExO3VsL+kZ6cGnBhQLj//nBbn7gYfjDuYHEOsAShNYRyC/M+fOl0++GqMzKiD2RNs2bUKDN3jW2x9+qs967d0PG3RkHwIRzKHH/Tgp5LuMUTpEu4diwS18RKO1UwdoHwit4376WYNfopywekB6vMIX6vOI0QfL5GkzdWpKm/T0dN/ti+9THP/zg4/K4/99QQNk1iX4m33daVfMSGPincQDvulRV3AP+vDzr9S8HH3cuNZgJhqj/KrvshkwdSncPg49eGTcs5RAaIKQZQeFhCsAfOqjgf553yOPh0ar0U8hKLsFe/wN2kEIzXMQqyYSbiEPz4I/v1f8jNEjD3D+ZsvU/QLCejRlhwHPhiINM6vYoA/bwRBRD2Ymh0SAEXgoRV58/e2wUf7xEyeH9lFWBFY0M2tEAu0GCxGU265zM5Jvx1fAvWK1pxfxtIMfkEf0NfPbVltwP7hWQXGOtgLm9xIKlUgzCMUL7oM6xSw0xmrC9GPzm2yCkpoZS2r6ux0LT8XECSccJTNmzJF33/1Eg2DhR2/FilXO/sfStWsXGTXqAD1v3br1GiQTs3esXFlzs8FIlg/udHvf/EjGIiMtoPEtqdgh5ZUIkkkIIYTsPtSVssC+b7Vt79dyowMfY3CFwBpTP2LefsznjhFyzLYA/2zQt08vNZEucwQEzGFvpsjDDBgYxYXPLQQIxJqAK8DbH36iwiJmOUDaoQcdWM23OjU1MEKNdbxghO+wUSP1+p+nzZDnX3lDBUaMdB9+yEgnT7tGAOEjvz0vMNiU56whXDckMJnGyDOCzCHY3O///IBT/y2qzXYQC1iIHO20Ue+e3bWeoTCAIIZ9pON4vOy3zzC9/uW33tM6M8TTvlrP+flaz7AsqKmQ4xcoC6AcgUJm9vyFwVT/YJrYo4MzOixdvlJecgRV9HEIHvsMGyLDBu0V+v6u77IBuC3BLx4uWoMG9Aum+gdC0x233KgCuQmUCKEWMxhEAwLmgL595J6/PxLqp8CegQPAdWHi5Gmhe+M5t1x3dZjyAiPSUGC8+vb7um8EePM3AAHv5uuu0jZwg/t0bN9OFQ1+R6ZxDRSAbszMHaZMqAe4MXhZVtQU/B3j2eYZWKBcMMI/FBToN7Hca4w7Byy9bMsAKGYQ4wXuKub+OO5uT1wPQfotp+9EUhTE0w5+QF/DbxuUPbhfNOWLn/wB5BEzpJh7mt/LeFxjYoH7YMYRgPvjOe5+7D4n0t9DbUlxfmSqffEgad68hfLxx1/K+qBPF8zl4Mpx+uknqlYZwGLi3/9+Qa0rbrzxqqgzcPznPy/KypVr5LbbblAttw2eZysdzH6kdIAfYmyb/fXrd2m3O3cON6VZsfVnKasslM4th0rzzMT5wRBCCCGJAO+3SLiPee8H3pnglHmLdfuTIc5HbDAN++a4vd617Up3/m3ami/9e3fTtMYOAgAi8CE+xlo0byb9+vRy1uEfp6gXuH3MX7REhcDBAwfoaJH7OwXC8ZLglKUYue/gCBX2OYkEH/YILLdx82ZHeGkvfXr18PxYhRAAoRPHW7X0tiSAcLt23QYtQ7cunTynhse3F8yKC4uKdbQRQm1Dg7ZbvGyFk6+NTp46Sn+n7WDhUFMwM82Lb7zttHWuXHbhOap4MPhtXwiRCxzBCe4mUFxFav+t27bJFuc5cDvB4nWen3OQ56eef0mFMwT9rAnlFRWyxvkbQEBBfPNjdhMvAa2+yoa6xig4pmaF29e5p5+ssUOSCQie+Nuyp5GsCzAryKIlS+v8OYQ0NJ6Kid2RaIqJjQULJa94nbRr2lvaNO0VTCWEEEKSg2ivYvcxe3/XdmTFhEn3WgcW3Q3t6/YeppggxAYWAV98+71aDWP2gmQHMTu+GzdBrrj4gkYjuEJRBpeAoYMGykH7j4ioAGlI6kMxAeUjAm7CjaMuAjQSkkzEbz9YB5gPITfudHsfWnu/ZKcHRgfgzkEIIYQ0Wpxv95ByIcK7FUR7v0IpQcieDEbmTznu6N1CKQHBFYEhz3Xy2phG0+GKc/WlF+lUh8molKgv4DaGIIRwJSKksZMUiolIPzjudHvfb4wJYBQT5RUIgMkPLkIIISQexQUhJDmBMuKyC86RDu3aBlNIYwDuG/D1nzxtRrWYFYQ0VpLClQNZMEoHkx3s2+nA3o8nxgRYtOk7Xfdsc4BkpjXTbUIIIaShifUadh+39wPbu9w4YDFx8pxAhPhPBgcCxeGYOW6vA9uBa0P7zvVme3NuAV05CCGEEFIvJJ3FhK1ssNOBvQ+LCffxaGSlt9B1aUWhrgkhhJBkR5UFFu79WHidb6fV9v6EEEIIIYlgj4gxAbLTAooJzM5BCCGEJAN1pgiI477R3rWEEEIIIfXBHhFjAmRnBKYoLS2nYoIQQsjuj5cCwa9SIXDerncqlROEEEIIaUiS0mLC7Ef7UILFRDwfTlnBAJiwmKjaGZ+1BSGEEJL0xPBujPZOBTsZHJoQQgghDURSWkyY/VgWE+7j0UhrkuF8s6VIeWWxlDHOBCGEkD2EeJT4hBBCCCENwR4TYwKE3DkqduiaEEII2ZOJ9p4lhBBCCKkv9pgYEyDbcucghBBCGiuR7An9KB6onCCEEEJIfZN0FhPYNvvujyN7P94YEyArODMHLSYIIYQkO37fcZHOizfdJt73KyGEEEJIbUg6iwlsm/1YFhPu47HIyghaTFQUSWVVuW4TQgghex673p+qhIjvdUoIIYQQklD2qBgTqSlpulRUlUpZZVEwlRBCCNld8adRiGUBEes4ISScqqpKefvrR+TJN2/mjDaNgDlLJ8hfn71IVm1YEExJHLOXjJfr7j9Avpvypu7vKN4udz99ptz8j8Nk49aVmpYo3M8iuwfoB+gPr3x2XzClbsD966LfJYoU52OkUfyarl+/Kbgl0rlzh+BWddZunyWFZVulQ7MB0iqnazCVEEIIqX+ivYK9jtlpge2UXWkpgbRT5ixSdcVHg/tpMtLMOWY7uLtrH/+CiSZt6/ZC6d+7m6Y1ZtZsXCQTZnwoJWXh8acyM3Jk1D6nSY9OewVTRFauny9fT3xZthdsksF9DpKD9j5F2rToFDwqUlpWJFPmfS0zFn4n5RWlMqj3SDl4n1OlRdO2wTMSy5pNi+VHJ+/IV/vW3WTksJNkYK8DpElKfONOxaU7ZOyUt2T24nHSslk7OfbgS6RP1731GPrGrEU/yKzFP0hFZbi1KZ7Tt9s+MnLvk2Te0olRzzlo75MlLTUjmFq/bM1bJ1/++KLWU8/Og+SEUb+UNi07B4/GT2Fxnjz11m+c+82Ti078vdPGpzl/cwElYSL7wLI1s7S/5e3YIsP6HypHHXCB9kuQX7hVvpv8pmzL36htZJOT1VwOG3G2tGvVVcbP+EBWOeV2T5Wf7rTFiEHHyKA+I0N5TwRQ2MxbPlF+nvO55OZtkF5dhjh/R6dKl/aB36N4iNZuiS5/fmGu/Ofd22XFurlOm96hf/uJAsqCp966Rc477jY5cv/zVSh84PlLpLS8WK4/71EZ1m908Mza435WIoFQ+93kN+Tik++qdm8cW7Ryitz+yxekWXZgsgHizUMvXSWd2vWWi0/6QzAloJhAn9h/yPFh6TUF/eCVT++V31z8H+nYtmcwNdBOU+Z+KXdc8XJYerKQeo9DcLvBwAeQ7ZZh9iOlA2MxYfZ37Nj1QdG8edPgVnUqqkqkqGyb84OUJU0z6+ZDgRBCCEk0eAdWxxIogpuvbdqqmxe2bxNIiAP7GcUl5dK2dSA2U2NmxqLv5KPv/y3L181RAcgsazYslD7dhkn3jgNV8Jmx4Dt55t3fytI1M2XL9rUyf/kkR/j6Qrp17C8d2nRXIePVz++Xj517rd+yTDblrpK5y36SRSumqLKgWU5iP9bxfIzWz132o+Zn1Yb5+sGZnpahSoUUn8oJKCVe/ex++fqnl2SLIwiu3bxEZi0aJ1079nPK1UN2Ot9b46a9K986AgkEPIwomwX1lJmerYLVjzM/inrO3gMOl7TU9OBT649N21bLM2//VqYt+EZy8zfI8rWzZcmq6bKXI5A2zQ64+MZDRWWZI8D+TtZuWiI3/+Ip2bv/YSrYgkT2AYzgP+M8Z9naWSqgz182SfMPQRptvHnbGnn3m0dlwYqfw+oby0bnuUP6jpLmOa2dvv20TJ3/dbVzVjv9u2uHftK3+/BQ/msLhP9vJ78u//voHhXw0S+XrJ4u0+Z/6zyrr/Ynv8Rqt0SXPzMjWw4adrI+64sJL+ixTm17BXNTO9APJjt/m8hT7y5DtR+ccMjlcsqh10jHOOrED+5nJZJZi8c57TpH++MBQ0+QjPSs4JHAMaQfMvyMsHQSDqxl8DfStlUX/e0wQNk5fvr70sXpd3Z6TZnn/O7MXfqjHLrvWWG/O2indZuXVktPFpJCMWErH4DZj5QOsG3v+1VMOFdKfsl659pUaZldc205IYQQ0vBY78ngpq2Y8FZmBIh2DOwJigkoHBatmKofcQN77i9nHvUrOXDICbL/4OPkwKEnyoCeIyQro6ls2LJCXvrkL5K3Y6scvPcpcvSBF0lZeakjuPSUQ0ecrYL30tUz5LPxz+qI9iWn3K3py9fMcoSkldKudVfp3W2Y0y5We9WCsvIS+XTcf/WZyOtVZz4gqU3SZNm62bKjaJsqAbIzmwXPjgzKD2uRrye+JC2atpHjDr5Ehb5V6+ep4Des3yGSndVcP6IH9tpf9ht0rD6vT7e9HcFugdOHquTYgy6W3l2H6eh0tHMwcp6o8vsFFgsffPe4zFz0vQppRx5wvpSUFsrKdfOcY2Vq9YJ6i4eJsz+R7ya/paPGEP5sEtUHthVsktc+e0A2bl0u++51lBww5HgVOGGh0bpFR+nZZbBkZTaVHp0GyfCBR2h9jxh0tForYOS1d9ehctSBF0rTrBbSuX0fGdr3ED0HCyx8oCxq2bydnDT6SmnVPLKVcbxsc4T6d7/5l1ofnHzoVXLesbeqcgJWSVCUDXX6U2pq7Pr202452S0SXn7kEfeGQLdgxWStdyiBaktdKgvc1LVioryiRPKd30G0sS1AUzHhjzKn/vCbW9eKCSgGFzp9eHdTTOxRMSZAVnpzXWPK0IqqMt0mhBBCyJ4HvitgMQABvVO7Xiq4QBjBMnzgkdKyWXsdBZ467yvZsHWF7OMI/L848U79qLvpwsfl6rMe0FFZgJFWCE8wj4UANqj3gToai+vx0RlLERQP+LjdmrdehSZ8xMLMHXmGIFZSVqSKCz8gXxBiKqoq5LD9zpFTD/s/OeWwa6WVI/xCOQGrDICRYygc8Iz9hxynyhqUFR/XfbsFRpz9nBMPMEWGr/yVfx5WbYEptB9gtTB7yQQV4k857BpHWL5alUqotzlOOo7HA6wlxk//QNsWZXSTqD6wwKl31D8sDM4+5mYn39fIfoOPVaEcVjq4F5RhEKJNn92r1wFSULRdUpo0cbYPVKGjSZNUtZ4x5+y715Hadyory7XPxGPB4AeMBhcUbZPmTVurQqVX16H6NwNLmaKSAql0+pkf/LRbXZU/PS1TzjzyRlVwTF/wbTA1PhDfwfRV9OFFK6cGj+wCfRhxJlBnBpjZ2/0c+wZs4/xJcz4L+7uwz4kGnmff2/4bMs91x6VAHXjFPRjab7RaZ+F4NNx/w9hGmg3ygcU+15xnnm+u94qb4X6GO6+4t9dzbdz3MIs7FoNdh+5juAfSsLbPs9sYx3776LFqbQWXGPfxSER7rhc4/5VP/6p/i3c+cYpe5667wpI8fba5r1e9ufNm6sm+F67DebDsQt5qS9LNymETzWICs3LUhBSnyGlNMnVWjrKKcH9SQgghZHcgkUJuQwBFwIsf3yPX3Ltv6MMoEcuv/j5Kpsz7KvgUHzj1iNgScFdYsPxneeKNm+S5D/6gI6YYfQWIGQD3jSYpqWrePW76e2oejjR8VRgwEgtBCqPDcGtYvm6ujqBnpGWpf70d9wHKEPgT/+6x4+MWjgHuieeVVZTKhJkf6kchYhoUluRL+1bdQsqSWOQVbNFRTlhXIA4EXBHGTHpFtuVt0FgRGFkz9WAoKytWCxM8G1YRGMF34+ecaODD95+vXqejr8/9abYuiNWAct1/4ydy26XPBs+Mzsatq1SIb9Oyk3TrOFCtQOBugnzhg3tT7urgmf5Yu2mp1gliE3gpWuLpA5FAfUNwKXfqv3ungdK6eQcd+Zw89yv9u0F7od3cwDUBfQl1tFfvAz2ftS1/kyxeNU1SU9NlcO+DNK+JpJnz7OY5rTQmxtgpb2ueZi8er2Xq0r6PKhP8UJN2S2T5Yd0D9yz04XhB34VQCIsa9Nt/3PK1zFw0NqayENdNmPGB3PyLp/U69PPZi39QYdCAfgFLKdwT5+AZEHDdQqUbCJnA/C3hGfj9MgLmGUfeoL9tU+d9rfsGxAoBx468WNeGow68QNdfO78VkUC+n3v/To2hYZ6L35i3v364miAOBSjSUa7Hbh+n8XLw94/fSMRCwLVHHnCBfPjdk2FCOfKPeBrmGagzKExMfeA5iEWCuofljhfIJ+5hfmtwD/Qh/N7887c/qJIR94HwDUxZEAsC+bPzg99P5BtKRJyDekbf/cDJN4DL2z3XvqP3R3lwzl+uez9iTA6/z3WD30fc3/xe4jo7JggUFv948Uo599hbA8ecc9H37L4WD+iX/3rtRm2r2lIz6T7B2B9Y2Db77g8vex8WE+7jfslOD/gUllbs0DUhhBCyW+Ot3w/D7zuzpu/WeIDQgQ9jvyOofsGoLEyw/VK1s1JHuCHwwSICH2YQKB91Pi5f+OhPqkDAsr1gs46Wfzj2KXn9i7/r+uGXrpbXPn9AFRcAo8OwsoDFwltfPSQPvvBLtWqAGTrMzd1UOsIaPpgrK+OvA5hKH7rvmSrwQ2i9/9mL5cufXpQOrbvLWUf/2nfsBJSttKxY75ed1Uy++fk1DVqI+sAoP8y1UUc2m50PfLgUQJmB0XAvs20/50QCH+MQtiAY2EHgLjn5j7qOJgzZoAy4F0bHUR9VTl9775vHZMXaOXoc6fhAx3l+2bxttY7+w1XAi3j7gBeob+TL+UPUgJmoS8z+kbdjsx5He6HdbCD4o9+j/8MSoHvHAcEj4SCOypbt61TgT3TQSwC3iNFOv0xrkiY/THtH/vzMuRorA9Yjxx18qVowxKIm7Zbo8sMVB/dZv2V56O/bDxAWITyj7xpBEEInBMBYfwMQ7iCQm74Fgfjvv/4yLDAmBM0bzvtnSJDFM/AsBJ1EnUUCgqqtzMM9oSQwigjcb0DP/VWhZgu8ON7NqUt3kERYmpx+5A1RhVk8A4K9nf/jR/1S3UCWB9vSAKWICZpp8oL6uvLM+0PPxu8IBH+jLDF1DYWCeQbORb5MfeBeEPzdgrkN3IWgMDPKF9wDwr9dF1AsIN/mNwhAmdOiWdtQfgx2YFBTz7HaJxLxPDce0I+gIDH1hrKjDlAXNQH3S1QwzaRQTNiWENg2+7EsJtzH/ZIVVEzQYoIQQkhjIZEKhfpQTiQDKCe+JWC+PXLoSc7H1Utqxo2PtClzv5Cp88eo8sCMdrZr1UWj3cM3PcM5B0L8vGWBD8RUR+hq27JzKMCjEe4xawB85m0gsN911Wvy6G3f64d/TcDoNOJCACOkFZcW6mi1X5AvCHWwBkE5vvrpJUc46q4uGRDaAsd3uc7iOQhACEUNXDf6OB/dbvycEw0ILRhlRNR6m6Y5LfWDfIMjLPoF7aZt7Pz75ufX1TR/cN+D1bwf6aZd/QKBGJYkqC8v4ukDkUB967lOv8T63TH/VEuAg/c+VRVRuJ/7XgVFueougHgZMLP3sgSAYg0BNGHN0r/Hvk4+uwSPJA78LbVu3lHjktgUFG5TpYFf4m23uih/E+deqOdy5zq/IGAnhGeMmMcLBG/0+7ueOC3qaLgb/J1AeC0sygumRAYWBsa6DFYKsCYwArOX4A/hPFJZ4BoDRcqXP/4vmOIN7m9cBmBNgL+hSNYLBigqYoF8Ir/Itw1i3UCZ5Kc+ooHfGvzmIP9QLLgVNFB6QHEIhVJd0FDPbWiSzmLCxp1u79c0xgTIzjAWE1RMEEIIIXsqUEhcfNJd8rebPpOrzrxf+nXfV447+LKgL3qpmn3vdAR3CFwYRYU1wvHOcUTTxygwPoDhRgHLjx+mvqtm1i2dD1pMN3i2cy4+IKHc+GnWJypQJorcvPXyv4//JKsdwQHBOK884686Ug9BA24mOO4HlB+j2Jj+FHmHYB3Id0DhARcE23UW1iVwc4FwDnP5lh5TYPo5xw+RhBNbmIpFhlM+tB1Gysc6QlmX9n3ltMP/T8usberTtcCAkUEoHdxWJABKiET0AdQ3prJE0FDE/8CINFxHDhl+Oj6E1UXBne8V6+ap8qJ1iw46+4eXJQCm7kR/zsjIVuE9HisWv2D2EZjRQ3GAuBCXnnK3TreLQHyfj39OBUk/xNtudVF+WGpkZzaXrOD0rH4wAjeE43jB6DVGsUGkuABe4O8E9QqlSCSMQgIWBsa0H5YWNmZ031hRGAUFXF68gIAMSxAoL7ysJoxC4tcPHqoWEHgmXBsS2e/Qz6DsMMoWo/yApVe0+rAxlhLGEgsKGbiDIM8oowGKHPs5WJAWj6K0JkR7rq30MYufPpPMJJ3FhI073d6vaYwJkJka0KQiAGZ5ZXzackIIIaSxoAp/71dwnYIPvhMPuUI/hhO5IMjd0QdeGHyKPyDswATdmJlD8MRoKgRACNmpaekayBFCoQE+6ogngJTikh3qmjJj0dhAEMkR56jP7glO+Y4ZeZEqLSBg4pxEsWTNTB0xg0XCaUdcL6P2OV3OP/630rldH1nrCArzl/8cPDM6sNzANInII/oC8oyZNfIc4d/56AoEELSsA+DuAmExO7Op9O8xIlRnNn7OqQ0Q9G2BIRIQTmFVgraCANPUueacY27R69EWSIergJcQG4muHfprm7tN0UFxSUFC+gDqu3nTNk71N1GXjV6dB+tsMQh8CQEU7QUlmQGWAHCXQD/E1Law2HADpckiRyjf6gjObVp01HsmGljeQECFxc7gPgfLyaOvksP3O1eVM5hBA9Om+hHi4m23uig/FI6YuaN9667O70F8s3Igz7EsAiKBkXG4PxjFAWJVxBI08TsARQ3cuLyAoG3cS0zMhEjAOsK4MERy47DBby7OQXwI/FbawA0BFiBQRtguWYkESg7cH/VlL0/fOVnz5geUD2UwwSihFIIrhzvPqD/3c7D4jXdTU6I9F7+DxlXFLJFcVnYXktJiwuxHSge1iTGBH/uMtBzVeEM5QQghhJD6Babp+KhM5HLduQ+rcB4PazYtlne/+ad+RAOM9CPAIEa3c7Ja6McfphyEwLFk9QwVhCBowsoAolHAD75KhRkoM2CFgIEULBAwYV6OOBIYAU8UeBYEQShR4M8PMLKbk9XMyfdOzSOEMQPORZlQNhtMmdgmKMhhdo/DRpytU6Kuc4SddOfeGI01igXcb+nqmVJQmKsuBRDS3fg5JxbwsYeJuDsQH0yzYbIej5k8fOExUwnaAAH78JEPQQ5th3br2Da+WSkgqHZ07jlpzudaxzYVThvH2wcw4onRXRvUNywEUP/I46mH/5+0a9lFlq+dpbEr0F5oNwOuR53jOgQatZUWhvLyUg3uCisgCO8tm7cPHkkc+HvR2BdO/8PsGfjWBigD6gN/I6gDG6/yg3jarS7KDyUGfg/g0hQPsC6AVU0izOwRVyDWvVB/MPc3bgfR8PN3Y6wjYOEDyyQ/1yBuBOoKbePGjpmRaJBXKGRqGhfBAMUPlDHGkgSLrZTA779X/I2aYlzSYlHb50ayOEt2ktJiwuxHSge1iTEBstOC7hzlzo8oIYQQQvY4YO6LyPGfT3hB/vPu7+TjH56RVz+7T6Yt+FYFHFgPQDkBP2b4rU+c9amOBL791cM6H3zLZu3UpSMnq7kjTPVUwf+riS/J5+Ofl69/elnN+uGnjlE5tboIAgHur89eJLc8dLh+eMYLRkdh7QClyutfPqjz4r/hrDGSD+UEnmdGlPGsZ50y/u6fJ8gz7/w2bNQeZRvad5QKgJiB4C2nXC98+Ee1eoBwCNcWA3zzFzpCEITL3l2HqbuCGz/nxAIf5LA2gLmyPVr88qf36gc9fNv90smpBwirUCSNm/ae1tEbX/5d66SPk7+OTpvFA0bPTxx9pVPPs2X6gu+CqQGgGIqnD6D//PHJM5zldKe/fRNMDdCvx77Svk13bStc//Knf5WvJ76ibYr2QrsZILhCMISVAWInQDHiZvuOzRqMFPkf0HO/iOb0CPx63X37y5tf/iOY4p/U1DRVCsKiYfrC7+S9b/+lATDf/OohFVpbNW+viyFa+eNpt0SWH6CtUOdQDuFvOx7M6LsdFBLKA1gUQLEZDZ3i0ZpdwyuGAuIz2MFfjVUCXCrwd+OFEYRtRR+ehb8vN8g/rAW++ulFVbJFcuOwgWUCAlC67wfBGHkz1kWoD8x+Ease/IK8ItAlLB3s3wk8B1OqGlDWWNOFxsIEnHzyrZu1PQ3vfvNY2L4f0E6w/vETELM2z9VYG07/qWmQTCil8LcFSy+A+nvF+Q2ua5LSYsIQy2KiNoQCYFb6j7ZLCCGEJBNe78+aq+z3PPDxhhE/fCgiVsQH3z0h4x2hAoI1TGJH7HW0ngdrgiP2P8/5qC6Wzyc8rx/CsA44+bBrpG/34SroHDPyFyqUINAhLDDe/Oof+mGOtGMPuqSaMIR4DhDiINDFC4S2Q0ecpQqFafPHyPMf3iWTZn+mo8aHjjhbfcUNcAGAYIj8QkCzAydCiBu971my715H6Wg8BEnMlgKFi47Ut97lK5+bv0GVKBgNH9hzfx0Fd+PnHD+g7hHdHqbsxncaI7gmcr9foFxCrIMenQapeT1mHcGsDNhHutfoeiwgrCJQKmZnQcwCQzx9AG0Bq5ISR9CG8AD3B6QZMNJ82uHXaTugPdAuaB+0E9rLCN+whEEecB8I8x3b9tJ0N6vWz9cYCxByEIzUKK3cQBjFbDFzl/0Yt8CFex449EQZ1n+0Cp9fT3xZXvz4z5o/jPwfP+oyad2yk54bq/x+2y3R5cffBhRgeCZGzWvSf2FiD0HdxD747aPHqqINdRAJjIhDEERsA9Pf0fcRaNd2ScA98LdszoECBFNl2ucYiyPMCgNhEn8vUFygH5nr8CzkyQsTBBNBcCH8+wFxGtzlw98wfodMPUA589vLnotaD/GCZ8BSDmU1ZYPyA1PUAvRh/G5Ec6/BPfD3aeJ62ItRFKEO4TKB9wRiZpjjP8/5TDblrtJz4gHWMLD+wr2M0sQotWxFS22eaxRG5jfUTBnrF9QLLJXM9Wi/a8/5R9xxeeIlxfmoqf5Vsxuyfv0uE6LOnTsEtyJTVlEkK3InSWZqM+nZ9oBgKiGEEFJ/RHsFu4/Z+2Y7lOR8Z5u0U+cERuA/GtzPOs/57A/bttKC17qX3Lwi6d+7m17T2MGH+OKVU52P91k6qgvh0x2136kVWb1hocxYOFYKnQ9eBJtEoD17hBbm7DgH1gcAvvbdOw30HMVNBPjwnrf0J1m7eal0bd9XZy7wEtwhHCNP+NCEJYQbI+Bh1BPC8IhBRzvr9sGjATBau8ypHyg/+nUfrhYbbvyc0xCgfWct+kFWb1yopvx7DzisVh/YEGCf++APGuTzwhN+Jwfvc1pI2PXbB2BZMccRSHD+3v0P9YxlgClCp83/RgV3tJ07ZkfgWQtU6OrUtrd06dA3lA8bWAZBYQShEJYsZtYQL2AxA0uNGy54zPNefoASYfaScSp8oR8g327FnJ/yx2q3RJYfLiH/efd2WbtpsVx15gMypO+o4JHkAEIyFBeJmpYxElCSPPD8JWqNAOG0sYN6RewTd6wIKAeg8HArfkjdkhSKCWTBuGWY7GDfTgf2PiwmsG3241VMgEWbvtMfsJ5tDtSYE4QQQkh9Eu0V7D5m75vtUJLzKjRpVEwQUvc4fyXy1Y8v6mjnry74V42sL5INWLw88cav5ayjb5KhfeNzY9jdwawpP0x9Wy4//V5P5V1DU1+KCQjkCJZZ189JBqDYffB/l2ssB3ewSyomGoakcOWwlQ+2ssFOB/Z+bWNMgKy05vpiYQBMQgghjYqdASWEGygcVBNBCKkVGNiCGxBGWhuDUgLA/WLUPqftcUoJgGl3f3f5i0mplKgvYC0BpQTiTDR2pQSAdRncJKDwQdkNUDZCKQFXFCol6peks5iwcafb+7CYsKcMrYnFxOYdi2Vb0Rpp27SXs/QOphJCCCH1Q7RXsPuYvW+2Q0nOq9GkqcWEs/3RkP7WebssIXBy2H7wWvdCiwlCCEkO6tJiwrhvwBULsSfqanrPZMUrGChi3OwJrizJxh4bYwIUlGyU9fnzpHlme+ncsm6msyGEEEIiEe0V7D5m75vtUBIVE4QQQgjZjUkKVw58ANmY/UjpABYT7uPxYmbmKK0oVJcOQgghZE+jtu9SQgghhJDaknQxJoDZj5QOEhFjIj01CwNFOmVoWTnjTBBCCCGEEEIIIfVNUlpMGGJZTCSCrLSA1QQDYBJCCNlTodUEIYQQQhqSpLSYMMSymEgE2RmB+b5LK3bomhBCCCGEEEIIIfVH0llMYNvsu0dw7P1ExJgA2RnGYqJI14QQQgghhBBCCKk/ks5iAttmP5bFhPt4TchMa67rsopCqdpZqduEEEIIIYQQQgipH/b4GBNpTTKkSUqqlFUWq3KCEEIIIYQQQggh9cceH2MCZFvThhJCCCGEEEIIIaT+SEqLCbMfy2LCfbymZAUVE+WcmYMQQgghhBBCCKlXktJiwuzHsphwH68pxmKihBYThBBCCCF7NOVllfLFi3Nl/EdLgymkvsHY48f/nSU/frJMqqoSMxBp8/Zj0+S5P06Q0uIK3V+zZLvcf9kXmp5o3M8iZHfh+3cXyyPXj5H83JJgSt2Seo9DcLvBgOWDl5LBnW7vw2LCPrZjxy6lQvPmTYNb/mjSJF22Fa1y7l8pLbI6a8wJQgghZLfBeoW+vmmrri/s0FbX1an+vvWiuLRc2rZuEdxrvGzbVCRTv1klS2ZsluVzt4aWtUu3S/PWWZLdLD14pkjuhkIZ98FSmfbdaikrqZCWbbMlPXPXNwME2qUzt8hPjjA1Z+J6KS+tlJbtsiUto26+K7ZvdvL+7SqZ+Nly2bAyX7KbpkuzVpme31TRQL7nTFgn37+zSFYv3CatO+RITouM4NHqQMCaPX6trFuaJ2065UhaesN9NxXmlcrEz5fLhI+XaVu269pcMqw2iZeCbSXy6t8ma32OPr2v9gFDItt389od8oPz0T/Nab/Kiipp27mppKZ6jxdWVlY5/XOTLJiyUVq0yZYsp50TTfGOcpn74zqtx+VztkqT1BRp4fRvrOMlUWVr0iRFvnx5nqxflif99+0gqWmJG0+dN2m9lBZVyN6HdnP6bxNZs3ibzPh+jWTnpMuQg7toWqJwPytRQFh88taxMs/pi+48m2Pon+27BQL9ExIvK+fnyvrleTLiqB6SmZ0WTK07kkIxEekF6k63993HaqWYSGkiecXrpKKqTJpntpO01F0vIUIIISTpsV6JVEzEx8r5W+Wz5+bI0tlbZMW8raFlzeLt0mdYe0fwbqqjt6sW5srrD06RRdM2yqZVBbJg8gZHINggPfZqo8JrRXmVI9gvlk+ena1KjQ0r8lUgWb8iT3oPbZfwjzp8LEKAhkJh0+oC/YCEsgCCSIfuzSN+W7mBsP3dmwvlq1fmy6Y1BSqgLZ6+WboPbO0IitW/h6oqd8r071bLp06dbdtcJINHdpYsR5hrCKBEeO/JGTLl61WyZd0OWea04cZV+U671ay+oXB585GpTt2JXHrXQdKm467vyUS2L65/4x9TZLEjkG9es8PpSxul0rl/j0FtPAX4VQty5d3Hp8uKuVul3z4dVHGUSKDcefeJ6TLho6WycWW+rF2yXWaNW+vkqVL7dzwKgUSVDW0AhcagAzrJjx8v1b+5ASM6qLIiEbiVBRDejzxvoApgiVQegLpSTKC/Qvmz0ambrn1bhSkgzLF+wztQMUFqjF/FBPrbi3/5Sc+rDYn9y6shdqwIbJt9Ox3Y+4mMMQFMnImSih26JoQQQkjjBp8R5SWVaio+dFQXueyPB8nlfzpYl0v+MFK69m+l5xXklsjXjuBeVFAmh53ZX37xuwMdIaOrCkoQnsCWtTtk1vi10qp9tgq119w/Wjr3aSkr5+Wq8JXATxYVkuf8uE62bSyUkSf0lpsfP0qOvnAvTceob0lhefDM6CBPsBSZ/PVKtXw49eq95YDjesr2LUUqhGMU3Q0E8fEfLtWR8IYEz5/i5BsWDP2Gt5czrtvHEWzb6/6UMYGR+niZPna15K4vlNP/bx/JaR5uMZKo9kUfQt2ijlHXqHPUPdoAbeG+D5QvY99ZJDu2lwZTEgueBwshKOP6DG0nNzx0uJx/6/5qMTPnp3Wy1akPv9RF2fD3ddo1e8vCqRtV8UTCycxO198huB7Vl7k9IXVFUigm3JYQZt+t7bf3ExljAoRm5ihnnAlCCCFkz2CnlBRXyE5HhoWVQe8h7XT0G0uPgW3UNQKDIEtmbtKR4BFHdpfDz+kvA/fvKGdeP1yOv2xwaBQJwlXxjjLp1KuFdB/QWjr3bil9nfvAwiAg4PuUXH0AoTt3Y5FkZKWpiTusOvbar6O6cZQUlUtFmT+hHO4osyes1fMPOa2v7HdMDznk1L6OMNjMEVa36Mi5DQRPCJJwIakNGEG++9yPPRf4NPshb2uxIzivVwH6iHMGyL5H9pCDT+nj1EmqzHUEahyPByhzZv6wRu9hlE02iWpfuL+gbrv0aSWHnzVA9ju6h44ylpVUalugTQxQNE3+aqW6VtQVO6t2qgsMrBp6D2uno+u9h7SVjs7fA1xV7PzEoq7K1sv5u4Rlzk+fLlMLn3jBaC5iPJg+5hVHAkI9fOnt/mfSzHVuX3vcB4u7P2M/FiamhbkG20gD5rlecSncPv+lxeVqFQFgyRQLd17dZUIeHr5ujK5RNnOeqTM836RFipthn2OXC5hye7UBcJcPmDzb9WrqyG4vc2+v/JnzvZ6LNPcz7bL7rSO/cURMXiLdH7jbyZ1vU1Z3X8N5XuXGeXa7eD0TVCuP8z6pT5LOYsImlsVEIjGKiTLOzEEIIYTUKXidf/vmQvnLRZ+GPoISsTx41Vc68usX5KPM+YCDxcSiaZvkw3/PlK9fnS/rluVpGoDQvnJBrqSmpkiHHs1l4ZSNMmXMSjVTT7HcYqAUyG6WoaavGN2Fa8GSWZslMydN2nVpGjaYAuHq1b//LE/cOjZuARrAtB4m7/j4xCg/RvPxrB3bSp1nNZOspv7cCiBQI58Q7iFMQuGBeBu4H/KIY6YeEAsAz1oyfbPu1xR8HL/x0BS54Lb95S9vnyp/eOlE6blXG12wffjZ/YNnRidvc7Hs2F6idQvFDLYnfrpc6wQj8Xlbqn90R2P9inx1aei3d/tgSjjxtG8kUJeb1xWowN+tfyvJbp6usSymjkGcs516T2Olgr4J94afv1wR9v2baFKapGhfSk1volY4cOWBGxPy1bxNlrRo68+9uS7LhqodNLKT3gPWS/GA/vDK/ZN0G/0LfW7IQZ3V7SkauO7tR6dK94Ft9Bos+x3dU2Ne2OA+cyeuD51z9AV7af92C4w2ECrffHiKXPrHg0LX9R/RQb58ca4+Fy5UJ1w2RF00EK/DgGOIx4F82G5W2Eba1G9WegqbBuQJlhW3PXOsPhP1gTg57jLB7eQ/d4zTesJ5+FtFOfEbC5CGe+C3C/FtbCDYIo+mrs+4fh956d6JWmaQ71wD5Wn+lmItj5u++7SXksIK7YcG1K+9BjiO83C+7jv3x3OgYMVzsbRol61xNlAnpo5WL8wNqyNsI83UKfIEgRyY++DYs3eND7vOXUfXPHCotpe7Ptz46VdoJ/dvJOrLr+LDC9wP4H5oO+Bud7Qd6sL0j+OdPgjrMz8gXzV5l7lJOosJG3e6vQ+LiUSSmd5M11BMVFTWjbkcIYQQQgIj9cvnbNFR00SywxEsITj6BUIRPqiwxocuBO9xHyzRD85vXl+gQhYEdAjBZc72R8/Mkrecj0qs//37H+T79xaHRnDbdW0mww/vpiPv7zgfeE/d9r0K+BC04afvpqpip5QVV+qIe7zAT33v0V1VCQHrgMdv+U6+fGmedO7dQo48d4BaUvihvLRCP7AhXCNgJIQPBJJEfSBfENSN4LjWEVZ//HiZtO6UI6dcPUyaRgmOGQl82EN4gvCGEXAAixN8AOOjfqkj6PsBWSp26hn9p2nLTB31R7vBsgUgHdYNwaz7AlYgiBXSsn12MCWceNvXC9RlUV4gX1B0oH6/fGmu5G4MDIqhLdAmAAL42HcXaTucdPlQ6dInMICWaPBpDQuhvsPaa3yJZx3h59W/TdKgl8dfMlhatvMXz6Kuy6ZxU5qkyNYN8Q0gQlBE30IfM9ZN6HvDnL+faBhBC4KnAW197q9HBPcCQKEGVxPDQSf11jRbiHbTrV8rufXpY3RtOPjkPrLdET6NIqJb/9aqYFw6c9ffBI7hHCOM2+C5XkoGG5T7N08dE1JqoD5gIeQW1gGEYvM3irzAhQl1ZhSHuAeEayghjLAMgXrxtE3V6hpKF1MO7EPovfLeQ0Ln2LR3/s469miuil+Ae2PUfvRpfcOUGTiO83A+0qDUwXNsxSb6LzCWJPse2V3XttID5UafNXWK/oJ2N9cCU7f2dSCsjpy2xPPt+vACx6L1K+QHyqPa/ka6wf3stnMradB2+P2HQsz0D5QJip76JCktJsx+pHSQ6BgTKU5VpKdmS2VVuZTSaoIQQghp/DifERDMIMiPcj7Qb3zkCI1VgJkBMJoLs/TysipVSgBYTJzjfEBCmELAR5wD6wqQ4nxR4ePdzNCATxQIXvlbS6TSpXxId85BDIvfPHV0jQMZIo8IdAnM51BRQbm6W/gFAjwsIRBQEME9v3ljoXTq2UJGntBLB4OgdIGbC9wY4MIBAeHws/pLhxoG08OH/fbNxdK+W2AwyIAPYQhhRhjxA/IOhQSGrBBXAyPzCC4If3ukx6v0QjtFC6wYT/tGAnWJOkWfgyXO2HcWO3WyXUaf3k8VH7gf8o1zoCAKjOT2UHcdCOV1BRRdrTvmaJsDlA1KuYJtuxRTsajrsiFvaFfkKx4Q0NUIsPFgBG+MNNvuArGAEImR+kgWATY4jlFwWCJAGZrnXAOLAuAl+EO4b4VZNjzKYpQMUAwY64RIQBg1rgQoHywP3IoJG9wbgnksoIzxqmv8XqAd/GDqz5QbyhhYP2HWkZKiwD7ScRwuLDgfaRDa3b9L7jo0+7bSyK5Tc1+cg3MNJk/x/D5FIla/ivQbifyhbqMpvGoDyobfNyihakr/oEtRbUhKiwmzHykdJDrGBAi5c1RQMUEIIYQ0duAScfg5A3T08rhLBuuoLIRbjKzhIxVTZ+50JC58biDexImXDVFLBcRiGHZIVx2Vx1SGEEwx+8Dn/5srrTpky/m/2U/OvGG486EXCPy3eNpG3wKeHwrzy3R2CJjDY0TrkjtHap4w6v/d24v0uB8gkGKmBEyD+sWL87Q+UA+wQnBETZ0KFQNBcF1B4MFOvVuqdQUCYELIRB1BCIonMCMUOpiG0gu/wgtIc/IKgXbprC0y1ikz4j4ceka/wPehkw7lTzzAZcG4rbhB0yWifaHcgGIDz4FSa8bY1bL/sT1l2KguKnTDSiE1PVWFpclfrXCEmGzp2LOFRsWHpUZlxU7dRnslqj+hHcd/uERHihE75eI7DpRjLtxLj6FeMRuGH+q6bEhD/4Q7jV/QP6EggFAJ4TJeMIqNkeZv3ligQrxfU3oIyBgVj3Qu0nGv+y79XIVrWBDAFcA9u41tRYFrbGHcC2OdgFgcXhiFxEPXfq0j43guRv0TycoFuVou1JdZUH9+FDUGWBOY+oOiBgphKLeynN8e7CMdx6sJ7659g90WuLexFIhUp8ZtxV6QFs/vk638wWLH2ojVr6L9RsZTj/GAskH5FOvvxI5TgcXEvoDC5VTLcqimJIViItKPqzvd3k90jAnAOBOEEEJI3YOPn8PPHiD7HtE9oQtmqBh+RLfgU/yBUfLsZumh0XIIUBA4scYIXWpqqgrj9hcJhHk1+XcS4S+NUVxMHwoh75BT+spg5+MXZv8IlIm4DZjNAQEAEwWmxMTHddd+rdTSA6POR503ULo5wjlmiHAHrYxEemaalg35hkB5zEV7aVBHKBow+IPYExitxNSROI57v/b3yfL5CwFf+G0bi9StYfH0TRG/5eLBryWGKoqcNoNyAvUPFwwoVJBWmF+qChcIMfGMXyHoIxQ6cNtxg1H+RLQv6hQuMOhrsGzps3c7GX16X7VaMS41TkWqSxHqFwLVe09MV/chzI4BFyiYeUPwRF4SAdp6wZSN0rRlhhx2Vn8ZMKKjjrwPP7y7bNtUqNPjwtohFnVdNkyJi7pu6TPmhU1thDmYvxvFAUblEa8i1r1iCXnGvQT3tF0P3GCUHKP5UOZEc+OwgTIDVhNeMS6MmwdiCBg3gURjYsWgzuwlkuuGF2bUHtYDsBDA7wKuhQIB+8alwj26H8miwW4L+96R6hQuK+78Y3G78UQDgjrcZsy1d754QpjrTrR+pTE4nL8PL2qqZPODrcCJhMm3WeKpEz8kpcWEwZ1u7yc6xgTISg/M186ZOQghhJC6BVM8YtQ5kcvJVw71ZXJsAysDCApm1B9CGNKwhqCbkZ0qnXu1VOEKAj8ELQjpBVtLnA8TCMgZOliCj0kIZRCK9YCz5DjHMMoLgQqjxokCU5zCSgMBC5ukBr6HYCGA/OI5+jzrccgvfP7dAibOxwwcYN8jusmgAztJyY5yWbd0u1pLtO/SXIXNkSf20g9SuHFg2eewblpOTKkJtw8oMwJljg6EArffPMDoIvIbS+iygRsLYhkgH4ed1U9ny8BMJViatYocKyIS7To31fqYP3lDMGUXVU6bx9O+KAuEcyg0bHA9Rn5Rt1CmHHnuQLVOWb88XwNDoi2wD2scu74POrG3tgOehbqH8gDKsUSAvFc4+cT9EOAVQCkHRQWAkmCnpZZriLLhbw4j1l37toqrXY0w60fgioXxt491L/RlKA1jCZB+3EtM/jGqv2VNQUQ3DhsT6wCuTZhK1I3bTSGRwBoBQjYE/tqAcuN3fM2ibeo+Zn4XYBEBJRPSbWWDcXNwWzSYtrAtIowrBRQcthsHMPVtLCrqA3e/wm8kXCrcShbjrmLHpkgkuG8sl576IDG/arXE1rJj2+y7te/2fqJjTICM1ICfZ2nFDimrrH1kUUIIIYQkL5i94f2nZupI7QdPz9AZKRBLYZqzhutGz0FtJDM4JSeEVvjGw0wdpu8zx63R+BC9B7eVjMw0HdWDsPadc/3M71fLnAlr5Zs3F+hIcIfuLUKxCQDOe/m+SfLI9d/oVI3xAqEcwtyq+bny3VsLdUYR5Bsf2jktMjVfZiwHz/rq5Xny4NVfy2fPz9H8GDC1JmIyQNjG1Jvj3l8iH/93lpocQ9kAYT+gfOitpsdHXxhYDji2p37Ew/0BI7Q4L8IYUxgQChB0bcJHS0NmzfgYR+A6BJC0RxRjgRkj+u7dXgXnnz5brm3yyX9nqwKm77B2KhzHA2J2YKpU9AGM4Nukpaf6bl8ogXD8kevG6CwBiBtggxgeqC/0vR/eW6zuEt86bQhXCLRFTvN0GTqqS1h9I05DK6dN0V6YfhP9EcoDgE9htCtmpDHxTuIB5UZ/gWD09WvzZf7PG7SPT/pihZYJ7k1mMLC+y2ZAP18yY7MceHyvuBUyEGohcLlnPYCiIxron0/e+n1IUEM/9Yo/ANcFOyCheY4dPNENBGxbgMezUJ9QfrmBWxkst755c2GYgB0NPBvTiMKyygZ92Ba6zewPicK4krz1yJQwARduPWYfZY02XSgwCoLZP65Tiy1T3xDaURdIt+sCawSHhKWIHbfBtIUJemmAEI5z4aLmrlMT6BIzZ9gKKPz2R1NI+SVWv8ICNxu4eRirF/MbCeULfvOAUcb89MmyUL5Qp+4294tRGpuZYQDyit/qWKAscFuJ1qZ+SQrFhG0JgW2zH8tiwn28tqQ4v5wZqU1lp1RJeWXt5ugmhBBCSHKDEffDzgwIRma6UAhUGEVG7Imeg9rqefhowygvPtjgxoCpTjE4cuwvBkn77s1UsEcgv16D2+pMDe89OUM/0jasyNe0/Y/pERxp30WTtMDou1sI8wMEm1Gn9lGLCQiRrzwwSX50PlBhPXHIaX3CfK1RFgiQyC/MluHLb8B3FKwk9j+mpxQXlKlyA1NhIhDiUecHRrwTDeoRI4QI9gcfZfijY3Q5XpNgWIhAKdJnWDudTWLMawv0oxz7SI83xgRAXfQe0lbed9oPwrUhnvZFPec71yJoasH20tBHvgHWHEedv5fWMeoadY66Rxvg+fF+22KgDsFZMSMNXGriBYonVQ60R8DBzfL6PwKuOsjT8MO6ST9HsDdZqu+yAcS4+PDfs2SkIzD2GtIumOofKLtufPQIFciNXzxGy6EciQZG6vsPb6/xGEw/BfYMHACuC9O+XRW6N55z1V9HhykvIAhDgfHRf2bpvhHgzd8AhMFr7h+tbeAG90GMBVhs+bUowjVQALoxQrcpE+oBrgTqZpMg8HeMZ5tnYIFSZXPQmiHWdKEG/IbhdwtlN3UJBQJctJBu/8YBtDOmX4UgbZ6LZ9zw8BFhbQGMEO5Vp3gG3E7wm2THyoAFSrxT1Xrhp1+hfyD2B5RG5hzkx3aHMcoYKLhMPtHPho2KPttMJFBHqCtg7od+edLlQzQtGuZa1HdtSXF+ZBJrdlADkAWvHyt3ur2PH2LbnWP9+l0/xp071zwq6KaCRbK9eK20a9ZH2uRU/6MmhBBCEkW0V7D7mL1vtkNJzqvRpJ06Z5Ee+GhIf+u8gDViYD8lbF//aXr4ebl5RdK/d3zxGnZXMOoO4Xbd8jxp5gjjPQa2riaUo4q2byrSIJBFO8qk397tpVNvWAqEf6cg7sKqhQEfaNzHnu0g0eDDHu4lW9bt0KlDEXPCHv0zwE1l9aJtzgd5K09LAoyEQwBctShXmrXIlN6OcA+LkUjgufD5R4yH9t2bV1O61CdoOwiDMOPGiDBGHmuTHwRihOIBCohzbx4RdFMJ4Ld9oShAYFI1E8c0lx7Nj+lOlzt9aUd+qfQY0EYFMLhDeIEyQrDDGgKZO0gi8vzK337W4J8D9+sYTI0P3BttunbpdrXGgQUL/hbc1FfZ8PeGkWQoiYYe0kWtAODukUxAOQVh7OI7R3r+3SUKWAGgLur6OYQ0NEmhmEgEiVJMFJRslPX586R5Zkfp3DKyGRYhhBBSW6K9gt3H7H2zHUpyvvlNGhUThNQOWJlg5BWxFGBWnewsn7NFJny8TBUpjUVwhdvMB0/NVEULghHWkW6vVtSHYgJKQARGhMsBrI0IacwkherRfBAZ7A8kG3u/LmJMgMy05rrmzByEEEIIIXseGJnHDBW7g1ICguvMcWs18GtjGk2HKw4ULXsfmpxKifoCgXkR/8MdJ4GQxkhSKCbcJnBmP1I6qIsYEyAjLRAAs6yiUMoYZ4IQQgghhCQpUEaccd0+GsCSNB7gvqGxDb5ZWS1mBSGNFcaY8GD1tqlSXJ4vnVsMkeZZtbsXIYQQEolor2D3MXvfbIeSnFejSaMrByGEEEJ2N5LSYsLgTrf3baVEoslKCwQ6ojsHIYQQQgghhBBStyRdjAkzUmO2bez9uooxAbIzAvNo05WDEEIIIYQQQgipW5LOYgLbZj+WxYT7eKLITAvMjVtavkN27qzSbUIIIYQQQgghhCSepLOYsIllMVFXpKdmSZOUVLWYKK2gOwchhBBCCCGEEFJXMMZEBLLSWui6nO4chBBCCCGEEEJInZGUFhNmP5bFhPt4IsnOCATApMUEIYQQQgghhBBSdySlxYTZj2Ux4T6eSLLSjWJih64JIYQQQgghhBCSeBhjIgImACamDK2qqtBtQgghhBBCCCGEJBbGmIhAWpMMSU1Jl/LKEimrYpwJQgghhBBCCCGkLkg6iwlsm/1YFhPu44kmFGeinO4chBBCCCEkiPMduv3Vb2Xz/a/jAzWYSHZXSuetlHU3PiHla7cEUxJHyZwVsuywW2XHtzN0v6qwRNZc8bCsOPkuqdi0XdMShftZJDp1XV+5z34uS0Zcr8vGO58PptYMXI9+g/6TDKBsie7Dqfc4BLcbDNsSAttmP5rFhH0e2LFjV5DK5s2bBrdqR0VVmRSV5UpGarY0zWwbTCWEEEKSDOt1+fqmrbq+sEOk91b4uzUSxaXl0rZ1YIaqxkz52q2S//4EKf5pvhRPWRRaShxBJa19S0ltkRM80zl39WbZ/r+vpOCjn5yPw1JJ69hKmmRlBI868qlTZ8UT56vAumPMNNlZXCrpndpISmZ68IzEUFVQLPmfTJSisbOk6OeFUjx511K2YLWkdWotTZplB8+OTVVRqRT+MFu2OWUrmbEsUO7WzfCxFTzDwRHEUS+5z3wqhd/NlNRmOZLeuXX4OQ6VeYWS/+54pw6+USFP79XcyYvrvPqkMrdA8l4fK9tfHiMVTntn9OokTbJ3tVu8oL423v2SFHz2s7T+5XGS3r29pkPIyf/wJyly+oDdJiVTF0tVidMXuraTFL8Wvzt3StnKjZL35veS/954py+VSXq39pKSnhY8IYDfssXqu4nA/C0VTZgbXn6n35Sv26r1lJIRnv9oVG7Nl4JPJ8n2V5y+tGaz1l+TplnBowESVf4m2ZlS7PwtbX38Q8ns3zXUpokAglvBpz9L0yP2kYzenaRy+w79jcDfMdLSOrQKnll73M9KJBBE1171qGQ49eO+N45tfeIjaXbMiLjauKGpy/rC78Hm+9+Q1ledKF2fuVmaHb1v8EjNKPxmulTtKJHmJx2YFHVcPG2JlDrvmxZnjKr2d1lTkkIxAcsHtxICuNPtfVhM1LViAi+F/JINktokTVpkJbazEkIIIQnDeoVSMREfJdOXyJYH35KiSQucD63FoaXU+ajMOXBgQEBxvgdKZi6TDbc+I4Xj50jZknVSOHam86E4Q7KH91Xhe2dZueT+9zPZ/Lc3pXTuSilbtEYKv50hpQvXSPYBAxL24QYqtuTLloffkR1jpmv+7aVs+QZpetgwzZMfKjbkysY7X5BtL3zl5HmtlMxaJju+mirpPTpIRs+OAYWC881V8MUU2XjX/4JlW+uUbbqkdW4rmX07h5QOeq8/vCD574yTsmXrpdip04IPf3TOaxN2Xn1SsSVPNt39kgr35Ss2qvBZtnitZI8cKE1y4m+TnRWVsuXvb0rJ7BXS9elfS9aw3oFyOX1kx9fTZOtTH0uJ03/sNkF/SmvbQvtTSmpq8E6R2Vnp1PfHE2XDbf9RJYf2t+9mSvmqTZK9n9OXHCEa+Cqbj76bKErnr9K/peKJC1zlX6KjvM2O3CeU96gE87z+10+r8qds6TrtS0U/zZPsfftJqlOXIJHlT8lI1/ztLKuQrf/6wHmOc6xjaz1WW9zCL34LWv3iKGl9+fEJVUqAuhS00Y7FkxfpM9wKCByD8idZhGa/1LVionDsLGlz7ckJaec9QTHBGBNRyEgPBMDEzByVO8t1mxBCCCGNBEdoqSouU0Gw2bH7SZenfqUjW1i6PHGjZA3ppadVbMqTLY+9ryOdra84Xjr/8zr9OMwZPUQFeFDmCEY7HOE93RHCuzz5K+n20u2SuVd3FUpLZizVZyWKtPYtpOOfL5Wu/wnm9embpMVZo1VAztq7t+/RXgjZOsI/eaEqTzo9eLW0vuxYqSotl7zXvpXKbQV6Xtnyjap0kbRUaXvDabpIahMdJcUxsLOkTJUbxVMXS/MTD5DOj/yftL7yBEeQ7i9Z+/TBh5ueV5/sLK9Q642iSfMl5+DB0uFPFzvrQbqPdByPFwjIUBJ0+MNFkt4z0PaKU75mx+0fahMsHe+7XNK7tNWP9pyDBlWzdogEFBCwXkF7tr3xdOl472WSNbSXWrUUjp8rUrXTd9n89N1EkTW4p3T51w2h8nd+7Hptf2mSonlrYlkfRQOWBNte/FrK1291+vUh2i+bHbeflC3bIHnvT1DLpDopv9OGrS8/TrL27Su5//lMn0PCyRreVyo2bpPtr38XTCEkcSRdjAlg9iOlg/qIMZGakiZpTTLVpaOsYpdFBiGEENKYiDRA0OhxPiOqCotV0Mvo29kRzgeqgI4FwrQKUs4xjNSWzlslzU87WNpcfZJaJEAQavebs0MjRTA7hxtDxoBuqhzIHNhNckbu5Ryoksr8In1WosDobuagHpK9fzCvzjaen5LaxHmmIwD6tATAKDaUJji/9S+Pl2bH7OsIbyeogFe6eK0uUNpgpBmjoRglbXXx0dLygiO0bBCgcQznlAZH9bP36SttbzlLmh6xt7S97hTp9I+r1QQ/Xozvt/HPthe/vtoQoGDFkNqqmbS55iRp4bRfq18craP2cLXB8XgIKHJ+lKZH7+vUvSNwu4B7QPaIfoE+5BzHc7RP9Oms5u9QNMTE+bYtW7JWKjZsk5xDhkjL8w9XQbr11SeqYgN9saq41F/ZfPbdRNGkebb+3Zi/ofTu7dSqIbV1c1VQpKTFthYByHvpojVab7AqQL9se92pqgiCOxHuWVflRx1jhBuWTlCy1QTEKzB9FX0Y1lduvOIF2PEIsGDfgG2cD8su++/CPicaeJ59b/tvyDzXHWcB1gSIIeB+RvPj9lOXHRyPhvtvGNtIs0E+sNjnmvPM8831XnEg3M9w5xX39npuLNzPtusLmDgh5rj72diGxVPVjmJZc+mDei8o1dznAXMv9zMiAUs8+7nuesH93XVqznHXV6SYFX7PSzRJaTFh9mNZTNTHh1R2esD0hooJQgghJEE4wlfu05/I0oNuCn34JGJZfuzv4xQmdsrOwlLZWVUlRY6AvfneV9SMGybpcF/QM8rKVXhPSWsimf26SOH3s9R0HKO3zoeIngNgXp7asqmUTF+qI9vlKzepGT6EH3WJaLLrXIzErr/5aVl13l8DAlQtgdIAwftgeg6liP2saMBsHfES4JOf2irgBpvibGf27SI7nXSYx8MSAubvECph3g5LicJxc6Tox3kq+OEYzoHwh1HpzKG9tP7y3vreaYslqOK4wUc0PuZbXXqM9Jv2lC7NT9hfXUJ6fXG/dLz/iuCZ0alYv00VNqj/9G6OkOxsb3/tW/3ArtySr8J/PFSsz5WSuSul2VHDw9reC9Rt0c8L9FkQ0iFA+wLKsh2OAFBZJWntWjiCsiPMO8+Ccgf3KF+xQaoKinyVzW/frROcvlE62xEunTrLHNBN0vE34JMqpz+h/lKb54TiQCDmCeqgcnOelq0uy497Zg7oqu0XL+i7EEg7PXSN9tten98nBV9NVQE1Grhu+0tj1NJKr3P6OVyqbIEaZUGMF9wT5+AZuU99XE3QdWMEXvO3hGfA8sYIq60uPFItIQrHTNN9g3k2lD42zU8P7Od/9JOuvcC1G25/Vq3QzHObjh4iWx55t5qACzcxpKNcfcY9IhlOW+Hvf83lD0m3F27Ta9tcf6q6r9nKEOR/3fWPh56BOoPCxNQHnlPu9APUfSwlig3yvuqce6XdrefofZEn3MfUI+677ldPSs6owaGyoS3QfqbO2lx1oqYh1g/qu9enf5WWZx6iv2P47bTrAO536K8tLzoqmBIZ9AEo28xzUS/ob6YtDcUzlqnVj+kr+M1C3lBf9u9qeqfWgfeQVT9+z3MTqx/6ISktJgzudHsfFhP1QWhmDiomCCGENELqQ8nvBsIw3AcgfCQSCCrF0x1h2Cc7HeFJPxCdNT7G8j+aqCb0qy95ULY++bEK3BCSyh3hCi4fm/76mmz4/XO6XnPx32Sb8yFmzL0zenWU5iePVOsIxFlYdf59+sGJke6s4X30HBuMvkP431lRy+8Z53uoeOZSRzAr0FFpCGl+gdAHga9ye6H64SNPuB8UNfjmqnQEYLQRAgxiJBmKF8SY2Pr4B9qGAO4eCMxYvm6LXo8ghIgNgFgba6/9p8alQLv4Be2BYIf4gMfHvaHtzWfpOpowFEYw/3BLSW3TXNt6+wtfOR/18/Uw0gOWLP41J1Aiwbcb1jWxgKBcMm2JKhNyRg3x7xPu/Dkivzi/ZNZyqdgcqDttG+dvVV2PSpy8+ygbLCv89N26AH83GN2HgqXp4XsHAqD6BJYXUOiVrdqksUrQRrDK0XV5hdNHiuu0/AhWm7V3H41XEU8dQWiD8Iy+q8orB5RDrTNiBKNFOSGQmzgHiEnQ46271IXHAMVcp79dGbL0wDO8BF03UOTZyjzcE0oCo4jA/SBkFzu/AbbgiePZ+/SpFh8hrX0rFdptQdwNntHrs7+G5R+CNwRw/C7aQCnS5fEbNB8mL6ivTn+/KvRsuELBxcc8z9Q1hGfzDJyLfJn6wL26PX9rSDD3A66DkgT1425DWIXhuea+9u8TLMjQflBGR6PpMSNUmWvXAa5BwGI/MS5QV+3/cFFwL7JSCb8jHe66SPMK7HJF+131e54btAv6Q21JSosJQyyLifogK625rjllKCGEENLIgFDaJEWa5GRqMLoeb/9ROtx9sQpRGPEvmrxIBRPMrgHw4Ym4Ae1+e65+OOe9/UPAugI43yUQHJpkBWfggBBVUeUIs9urKR8g+CCGRc9P7pX0rrWb9Quj68WTFkqTzDQ1/Y9nBpAmTTPVtB0fsfjIX33RA7Lqgvs1VgSAywgEQow8QyhWYeDR95yHVulHKz56objYWVmplicAgni7286RTg9coab4GKXe8d1MvcYP+GDHh3u6c60NngWLkHIIqj5RoRLPdcqH2R3y3huv8S9yRg/V9HgFcwi7qkyL8N0awmn7soWrdSYJuNz4UWSEcO6duZdzzYBu+rG/5rIHZfXFf5e1Vz+q91N3iLQmvsqmbeOn79YBCIRaMnu5Clxwb8Hfh18wkw0EPSi01t/yby3/6ovuD1jpOPWTkpZW9+VPbRJQAkEh5BP8fehMG47wGS8QvNHvY41Ku8HfCRRm0RQTBoyqG+syWCmoNUHwOi/BH4qKSGUxgjhi0UQD9zcuD7CCQL+IVT78bsQC+UR+kW8bKCdgIeGnPrwwvz/uchsFiTvvsBJA2ZYd+hu1Zoj1+wQlChRvRoGBfKJfqzImqESIB1wDawa7Lb2I9LuKckH5ZJQ5fs+zgRXTht89q0qi2pJ0FhPYNvt2OrD36yPGBMgMBsAsqyyU8sqadXJCCCGEJB/qT371idLz079Ku1vOUgES/vwwVcbHF2aowGgshCHEm8BoHISflmeNlmYnHCBVeYVSAuHGEcwRfR3CfVqXtjrS1+GeSzXwYf6749RNBFYZdUHZyo06tWl69w6SOaSn5tU3jrAI3/uOf71c0nt11A9SuG8ADAbBX7+JIwRDQVFVVCJbn/xIff/bXHeqZA52nuV8h2FkX2eawGOd+yF4YMvzj9Bgoq0uPVbzA2uMqtL4rGMiCSexPsBt1ErByVPRxAVqAo9RcMQsQCwOpIeUSD7B1LF6zxjfnxCIMXpfVVIuOYcMjstaACBWBRQ7CPyIssJNR907HFKyMlQw91U29IVYfRfCfaJx+jraHKPjWfv01b+JeEAZ2950hi7YhgIBCj6UBX+zKU7Z6rz8lVVqIRSPos8IrUaIjQcIrD3e+aNurzjhThV23eb5XuDvBAJ6NGHfKCTw+wR3B1gQwNLCBs+3rSiMgsK2eLCBQAwrArgMmHNt0G+hkIDAblwe4NIQy3IkHkz8BpTNLAHlx7aYyo9YwD3Cvi/aBL+P5r5GIQFBHa4eWGC5EAv0jRZnHhKmCEB+jYLFVh5h8RPbIR7lVKTfVff1fs9D31v/2/+qyxbcaGpLUigmbEsIbJt9Ox3Y+/UVY8L5OZOM1KZSubNCyiuLgqmEEEJIEhPh/Rh4b9a9Uj8W+KiFQqDFaQcldIFA3OLUg4JP8YnzPQEBBGsAf3QoFCDgQBjEvn5M28JoWqqOBCMJH8eVxeU6BSEEUgSHxHz1LU4ZqfPX7yyvlIIvJqtZeaLBaC6mSIQ7BWJLYErKeMEIPIILwloEwkOf8Y9K8+P3U4EwrXNr5ws1Xd09IGzC5aPV+Yer0gHxJFA2BDYUR0hsgjoMot2sSYpOxQjBTv3rEyQAY3TQ18iik4nUFo5g6eQNz1fz85vPVCG1ctsOaeLkq0mznGBm/QHlD/58ypZGHxWFoFE8ZbHWm04nGuxb8QDrkA53/UL6/vSYtgv86DHSmtahpZbfT9lQ97H6bgwdS42AEguCF24O9yITJyIeUMbWvzxOeo/5u5a/58f3quKwSaumktqmRZ2WH9YWUEoi2KbfgJ0G3LOmQjGEVsQiMIoDr9gBbuACEugX3soQ5MW4l+De0ZQmsBIw7hyR3DhsoLTIHt5HTf93uoRizNoBQR7KCNslIJGgbU1MDnvp88PDERUqfjExQtyLidUAtwXEd4BLh6/fIwsoIYxLi9uNA/e3n+fn/rDSwO+Fn3yoa5QH7uv9nof+DqV095d/F0ypHUmhmIhk+RDLYqK+2BVngu4chBBCSCLQKf7uuTShS/vfnacfTvFQvm6rfkSbOAhwu0AaXBhSW+Y4H2HZOsMGRokQXV9NuysrpXLzdpVpdVS1qjLwgeYI47AuUOsBHHOEKAQvhABfFxYTeCaCfUJ4wogxRpM9cb6ZECdC/fTdQOGQVxg6hpk21AS/S1tHEOyiwp26Ijhlw4wLLS88UstdMme5unCosJiTqcECISgiLoLGn8B9c/MFbiBaRxjJ9gE+0GEi7vaZRv1jtC4eM3l88ENZg3y1vvJ4bceKtVvUJQLBSlXxEgepbZtrOaFoimji73yrli5aLeUbciWjRwdVckUCZdJ+44HGNwkKe6jDYkeAQUyS7P0GOH0y01fZYPESs++iryYY/P3AygGKGUyZi77jRdTyO3mtMjFAnL5U6vS38jVbdEpSCMt1WX7MRgOhutkR+wRT/AFhGO5ckYS6eIBPf6x7oVxQAPkRSv383RhhHlPiwjLJzzWIG6GWBM7fphv8HfuJm1ATkFfbJSJRRPr9cQOliNuNxC94Bvov8g6lQk3dOACUSFAmxVLYmnK5XU3M9SYPfs8zoI8iQCms9WCVVFuSzmLCJpbFRH2RnR5QTJRV0GKCEEIIaSxg2sFNf35Ztjz8rmz88yuBiO7//UzyP/hRR19hmguhG7EbMEK7/Y2xkvfWD7Ltxa+l4NOfJa1bO8ke0V9SsjJViMdI67b/fCYFn0ySgi+nasR8COmZjvBum4TjvHU3PiErT/mjlK/dGkyNHwhqEKLSOrTWWAZeAiCehbgQy4/7vWx58K1Q0ErFEfowgwii3+e//UPAHeXRdx3BMldjT6S1a6kKhZwD91IhEC4F257/Qrb88z0tIywicg4YGFCMDOutH7WF42bLtue+kLx3xznrL1VZkuPcyy5/NPDRC6sT+MDbo8VbnWdCANMpWH0CATbbOR+WLNtf+062/e9r2XT/66qkyT5woI60xwPKCfcUCG6YfcULPAvKItR71oh+2o+8wKjr6gvuk1Xn3lstYCsUReiPG+98Qd2Atr/6reS9M84RAtoGyu98A/spG4T2WH3XtuaAkAvTe5xTY6BEgOvF5jyNkxHJjSNa+bVMTh4QPHXHmOlS8NnPsvWJj1SJ0PSIfXQWmbooP0BwzW0vfKmzy6hrVBxonvbpExYUEsoDWBREUsAYMOODPasBrnfHUFBzeSv4oLFKiDT1KUA6/m5sQRvPwt+XG+QfbgZbn/5E8+vH6gDnILaA+35wBUDeYBUAUB7M9BCrHvyCvEIQxm+s/TuB52jQ1SAoazzThaK+UJ+YtcRuDwjmBR9P1G08G4pnO04EZulAjAk/mN+4/PcmqCtMPAoOPAPtbsDvIjDBKSMRqVzmejPzit/zvIjntzkSSaGYiGQZEctiwn28rshMC8SZKK3kzByEEEKSBy/Ffv28GRsHaW1aqF86AlBCANx076sqVIsjnLS5+qSA4OIAobv1VScEhIyH3tapTkHbX52hH+AQgFqcMUrN1stWbJCNf3pJP4gRjwFpLc4arefYqIm4kwZXkRrhfAeVznWEF0zRuZcjAHbyHv2HoKWjmY7AiMBz2Ddgu3ThaqlYvVk2P/iWrP/Nv6V48iIdFWt5zmGhPGcM6CqtrzlJlQwQ7rAE4nOcJBkDu+k5UI60veE0de2A8Lf5gTekfPUmFVrgu65SpU9gzgxTatvPGyO4JnK/X6AMQVBTCKqYYWHrEx+qsIR9pPtVlthkOcJqy/MO176Ce7mBi0vJ7BWq0Mret5+3FYvz/Yp2g2sMhE+4HyDNgPYqc/oOlDzrbnpKtj7+odZfm2ud+u4TGIH2W7ZYfdcG7kboEwhYivNrgk7ROX2JWtMg6KW6UriJUX4Ir4ibUrpwjQbV23j3izq7BuodigbURV2UH2VHvAoI0+1+c05kC6QoYPYL9HkT+2DFiX9QIRQjy5GA0AvrBChGTX9H3+9wzyVhygHco3Lj9tA5UIDAxcc+x4x4b7rnZRXGbUHTXIdnwQ3BCwjJqH9Mr6oCuA8grLrLh79h/N2beoBypttLv41aD/GCZ8CVA2U1ZYPyA9ZFAG2uMWmc8qCOvXDXF0B9It6H3R6IMaHWYM49baWIHnPaGHXsjtsRDW0z5ycRv9vIg19Mu5l8wYoBFgt+2grPRH9BvzHXo34w+4t9vd/z3MTz2xyJFEe4bxTfMOvXbwpuiXTu3CG4lRh27qySxZu/lybOv55tD5T01MQFbiGEELLnEu0V7D5m7+/aTglsOx84Ju2UOYuwKx8N7hdKwzp820oLXutecvOKpH/vgNDZ2IEwVbZ4nZQsWKXKCrgsYBrCMJw6gYk6ZsCozNuhriiZA5z6sa0UHOG/fO0WDfwHcJ/0ru3Cz0kUeNaazVKxJV/SnY99VUxEEP7hpoKPaowCw8ohDOc+MBc3UzsiVgVGir2EMig2in5epNs5Bw5wnlldyIBgXjx5oZSvCsxIkX3AgBoJeIlEheWZy51yrnOE0S5Ou/QWdbmpIRBgt/7zfSn4aqp0dIRHKHJM3UNwUfN7Zz+zf9eIyg+4zqh7QZVT547w7I5lAGEKgR2h6EL7Zh8w0FMo8FU2P303CAKcQlHQ4Q8XRuxP0UDdlC3boLNhIKAqZmnxIlb5YQmBOA/ot1BuQMGnApwrz4kqP+p78/2v6/M6/ePqgAVSEoHRawjKfoXQmgIBHhZUELwh+JO6Ab8TsLLAb0ddxeDYHUkKxQSy4Dnq40q392ExYbtz1KViAqzaNlVKyvOla8th0jTT/xzhhBBCSCSivYLdx+z9XdtUTBDSIDh/IwWfT5bCcXNUORFJAbE7AaUS3Efa3nhaYNaVPQjMooIZdNr97vzqyrskoL4UE3CLQLDMun7Ong6sMzbc/qx0evCqMIuXPZ2kcOXwUkoAd7q9X58xJkB2WiDSdSln5iCEENJI0PdqQF9BCIkH528HU8tiWs/GoJQABR9NlBZnjtrjlBIg5+BB6j6UjEqJ+gLWElBKIM4ElRJ1h7oVPfKuzmhCpUQ4SRdjwozUmG0be78+Y0yArFAATM7MQQghhBBCGheIjYCpYMmeBRQSK06+S+MoQClB14K6AQqJNVc8rAFmMYsG4pGQcBhjwieYkWNF7iTJSG0qvdoeGEwlhBBCak60V7D7mL2/a3uXKwfAdjyuHKF9/NP0wAK2bi+kKwchhBBC6oWks5iwcafb+7CYqE8y0nKcD70UKa8slDLOzkEIISSZ8H6NhhHJbdKN3/MIIYQQQhIFY0zEQXZGK/32K6ugYoIQQkjDQeUBIYQQQhoTSWkxYfZjWUy4j9c12cE4EyXlVEwQQgghhBBCCCGJICktJsx+LIuJ+h4xykoPzMxBVw5CCCG7A9Hek/X9DiWEEEIIiQRjTMQBAl8CKCaqdlbqNiGEEFIf1IcigcoKQgghhDQEjDERB+mpWZKakqYzdJRXFgVTCSGEkCTCh3LB671LpQQhhBBCGoqks5jAttmPZTHhPl4fZAXjTJQyACYhhJAGx997MJbSgUoJQgghhDQkSWcxgW2z7/5QsvcbIsYEyM4IKCZgNUEIIYTsnuxSaOi7tP71/IQQQgghIRhjIk4y05rrurRih64JIYSQusCv8j3SefGm2/h9NiGEEEJIImCMiTjJTGumaygmqnZW6DYhhBCSTEQygKBSghBCCCHJSFJaTJj9WBYT7uP1QVqTDGfJlIqqUsaZIIQQslsTbQAA2w3xniWEEELInkdSWkyY/WgfTA0VYwJkBwNgllExQQghJMmp6bsytUmKlJSWBfcIIYQQQuoOxpioAZyZgxBCSNIRw7ghmrIfpDj/bDIz0iSvgO85QgghhNQ9jDFRA7KCcSZoMUEIIaSh8Hp3Rnqfugmct0uT4fW+zc7KkOLiEtmWVxBMJYQQQgipG5LOYgLbZj+WxYT7eH2RkR5UTFQWSWUVzVwJIYTUDL+KhLiJ475eSglD86ZZsj2vQDZszpXiktIGe+8SQgghpHGT4nxkNIqvjPXrNwW3RDp37hDcqjtW5E6Ssooi6dZqX8nJaBVMJYQQQuIj1mvYfdzeD2xbQSpTRE6es0g3PxncT9c4Zo7b68B24NrQvnN92H7w3OKSMikrr5LKBhwUIIQQQkjy0r93t+BWzUgKxQSy4DVq5E6392ExYbtz1LdiYmP+AskrWS8dmg+QVtldg6mEEEJI/ER7FbuP2fu7toPKCUsx8fHgftgNnWOvzRLYdx3DP3s/uAQSdqXprr0ddA2xjwXWuqqWDuxtg1eaIdoxP1T/0iCEEEII3q9e8rgh0nE7vWfPHrquKYwxUUOyMzgzByGEkN2XSO9eEO39C8w+1qHtoNhvHwusdRWW7rVtMGnudGAfi2cxQK3BhQsXLly4cAlfnJelZ7pZIh2302tLUlpMmP1I6QAWE9g2+/VtMVFSni+rtk3VqUO7tx4RTCWEEELiJ9qr2H3M3t+1HbSYcDhl3mLd/mRIf5wQSvdaBxbdDe3rNv7Z+9Y2vj7cx8LWwc+T6sd1pZg0YG8D974Xfs4hhBBCiD/wXrXlbjeRjpt0rHvV0mKCMSZqyE6pksWbvpcmkiq92h0oaU2ygkcIIYSQ+Ij2KnYf896PrJgA2DfH7fWubVe6pVwIPw8n6mb1dHttXV99HfiwMWkG974hUjohhBBCkoce3WsXYyLpZuWwifbRAouJhiTFqbqstOZSJZVSSncOQggh9YT3iEaEkYzgGpjj9nl+tkHYvr0ZTK+2Dp5kp+9akBLIr1mqnxNIA+70aAshhBBC4ifWIIBfeb020GKiFmzesVi2Fa2R9s36Seuc7sFUQgghJD7i/SCw93dtB6wmbIsJrCGum3O81oHtwLVh6fhn7Zu1bgd2PY+HrYMnmn1QfTtcoWAf9yLWcUIIIYTUP9271W5CiKSLMWGyg307Hdj7DR1jAhSUbJT1+fOkRVYn6dRiUDCVEEIIiY9Yr2L3cXt/13ZQMTF3scr6mJVDCR7HMXOu1zq4Gdx2dpx7hLbt9OC2b+UE1sFXuUkD9rYhkBY82cLrXEIIIYQkBrxnIVe7Z74E5h1sy+UGcx3WtVVMJN2sHNg2++7C2/uoMPfx+iYjramuOTMHIYSQhmLXu9BbeLdTI71fgZ2m28ELq6WbdTA5LC3CGv9C23a6tQ8C+1jvWpAR+9yaLoQQQgjxxrwnvWa+jPYeNemJeM8m5awcBne6ve/W5jSExcTOnVWyZPP3Tp5SpWebAyQ9NTt4hBBCCPFPrFex13E7bdd2ipw8ZxFWIYsJfXcG12Y/0jq4GdwOpuOfdY5Zm22jwHCfAyKmBV/tdrqbaMdiUf3aXd8ShBBCCAkH781oyoVIx+30rl0667qmMMZELVmdO02KK/KkS8th0iyzXTCVEEII8U+sV7HXcTtt13ZQMeHwydBAjAkluDb79jo8rXqsCcj01dLc68BmKA24zwP2NnDuGtwK4D4eCb/nEUIIIaR+6NK5ESgmkAUvy4hI6SAZYkyALTuWSW7RSmnXtI+0adozmEoIIYT4x8+r2H2O9763YgJrvC3t/Ujr4GZ4WlCB4HW+vXYrKELpDvY28Nzf9cqvhvt8QgghhCQGvGNtudtNpOMmHetGoZhIBA2lmCgo2STr8+dKi6yO0qnF4GAqIYQQEh+xXsfu45H2T567BDuqmACh84Jrs++13rWtq/BjNVROAHsbxNq3CR2LorQghBBCSMPSqWPH4FbNYIyJWlJWUSQrcidJZlpTjTPBLydCCCE1Idbr2Ou4nWa2Q4qJIf31lWTSscYbyt6PvPZw6cDar3IC2Jtex4N4pRmiHSOEEEJIYsD71kseN0Q6bqd37Fg7GTzpZuWwcafb+14RQxuCjLQcaZKSKqXlhZydgxBCSI2J9C70y67rHWHe417muL914EOj2rGg8r1aevBcswQSgwtWruNmiXTM4HUsnoUQQgghsYn1zox0PJHv2qSzmDDZwb6dDuz9ZIkxAdZunymFZbnSucUQaZ5Vv88mhBDSeIj1SnYf99o/ee5iZytFPgnOygHlgDkPa7w17X2DOw1rc7jaMZflBHCfA+xt24IChB0L4pUWD7W9nhBCCNkTwfsTcrXbKwGYd6stlxvMdVjX1mKCMSYSwNbCFc6yXNo27eUsvYOpyUNxcYlkZ2cF9wghhCQrsV7JXsftNGwHFBMinw4ZEDhmKSYAtr2UE+5zdqXrqtpxt8LDXgN7G4Tthx9S3OdHI55zCSGEEFL3tG9fuxkqGWMiARSWbZW122dJs4x20qXVsGBq8jB73gKZPmeeNGvaVLp06iBdOnbUdVpaWvAMQgghyUCsV7LXcXfaScFZOUKKCeBSIpg3q50Wfa2r0D4IHYtiPWGIta94JHnheS0hhBBCagzerV7yuCHScTu9Xbu2uq4ptJhIAOWVJbJ860+SkZqjATBTUpIj/oXh/c++lIId1eNfZGVlhpQUXTt1kszMjOARQgghDYGfV7LXOXbaLsUEZuUImFcaTYQ5D+t4lROhezlUO+bcbNd5kbeBex94pXni8zRCCCGE1C9t27YJbtWMpLSYMPuR0kEyxZgAy7ZMkIqqMunRen/JSm8eTG14UE+vvPNBcC866enp0qVjB+nSKaCsaJqTEzxCCCGkPvDzSvY6x047ae4iJ8GlmADB16nZxxpJ9rX2MXsNAtv/z95/BTeWpXmC50doTVBr11p76AyRESkrslJXVWa2qpqZnu226Z2xfhmz3YdZs+mH3Yfdl2kra+vpsRqbtq6u6urO6opKLSMyMzK0cBHuHq61OxVIAiAIQou937nnABeXAAlFEiT/Pzr83nPOBUgn6QTOx+98Z2VwgpXOtQes2i+Z26xan1k91wAAAEBz+HnWOO82qzWu+vnY34eMCWGzAxNTi1conp6j4cBRCriGZe/mu3H7Ln1w/qJsNYa/yUSQYmiQxkaGKODvnIALAMB2tdbTcq1x1S8CE5qfHuPABKsMThjvz+fG4IR5TDGPG4Zq38eU3mAcY+Z2LfVeBwAAAJunt6dHnjUHNSbaJJJ4RHPx29Tj2UUDvv2yd/P99PXf0kI4IlutGx4cKAUrenuCshcAANqlnqflWtdw/6qBCWYKTmgNeag8smrn5b7Kx611vuL9acxto9XGAAAAoP34ubfafFypNW7s7wm2NjdExkSb8HahvG2oz9lHo92nZO/m+8vvvybPdP19vXRo3156PD1Nk1MzlC8U5Ehz+nt7xbIPDlQMtliJFQAAdPU8NVe7hvtUYOJnxuKXxiCCfF2h2nxULzXK11eOK9XPawco2Ir2KoUizNcCAADA1hDs7pZnzem4jAn14XDb2M+M7U6rMcH1JbjOhM3ipN19z5C1a/N3vHjwaJLefO8D2dKdPXmcTh49LFtE+XyeHk/P0OMpvk1TOpORI83pCXaX6lRwdoXx6wcAAPWp56m52jXcZwxMsPJ1zQcn2NrnqwcoWLU+88fSLu1+PAAAgO2KnzN53mZelcDU82m1eZ26Hx+RMSFtdmCC3Vt4n7L5JE30PEFue2sRo3Z4/c23aWq2/HlhX/vyF6g3uPrHNsmBCu3Gx/hyQvY2x+/jLUr1pR8j2tFmtcoRAABYTT1Pz9Wu+cqVG+K4MjDBKoMTxjE+bzY4wSrH5ImB+Xqj1cYqrHxNtELdjwUAAABt0x0IyLPmoMZEG83ErlEsNUND/sPU7R6VvZvHvIyjO+Cnb776Jdmq3+zcvB6omJqhaCwme5vjcbvl0o8hGtGOTge2KAUAqKaep+dq13xFbBdaLAUmWOV1tYMTjNvqmVeNVbtGWW1MV5lJoVTrW0sz9wEAAIDV8fNrtfm4Umvc2B/Q5pqtQMZEG0WTkxRauklB9zgN+lXRsc0xPRuiX7/5tmzpjh8+SE+ePilbzeNimiqjYr7FwpoOB29Rqm9POqIdvR63HAEAgHqeos3XVAtMsPJ1+guIUlu+zjA+Dp+rlx/mfqNG2yve9yrquQYAAAA6g9/vk2fN6ciMCdWu1c86rcYES2ai9Ch6gTz2II33nJW9m+P3731I9x89li3dl195SdR9aLfF2FIpUDETmpO9zbFarRUZFQFfa9/gAABbWT1P0eZr9MAEL+VYGSAvX2sKEMinWuNj8bl6Bja/j7XarN6+MtPHBAAAABuCn3uN826zWuOqn4/bIjDRDp0QmMgXc3Rn7i2yWhy0u/dpsmnHzWJexuF2u+g7X/9D2Vpfy4mEKKapalW0aoSLacoaFWvVxwAA2G7qeZo2XqMCEz8/YdyVo6zcZwoEyNcb5vtwW70UqTZmVm+fWT3X1K/2iysAAABoP6/XI8+agxoTbXZ/4UPK5JdpPHiGPI4e2buxwpEo/eTXv5Et3aH9e+m5JzcniyOdzsiMimlxzOXycqQ5g/19oqAmBywG+nplLwDA9lTv07S6zhiYYNXuX9lnqgEhn3bN9+O2ekauNlZLs2OtWK/HBQAA2I74ebPafFypNW7s93q94tgsZEy0GdeY4FoTg76DFPSMy96N9eH5T+j67Tuypfvci5+hidER2dpcuXxeZFNwMU0OVKTSaTnSnN5gUK9RwcGKdViqAgCw2ep9qubrzIEJVu3+lX2NByfY2o+70lrj1TRzHwAAANg4Hs82y5hQHw63jf3M2O7EGhMslpqmmdh1sSsH786xGf7T3/1QTP4Vu91O/+BbX6v4XHaaqZnZUp2Kpfiy7G0O7z6ialQMD/STzWaTIwAAW1O9T9V8XbXABKv2GJV91YMTzHxfbpufUao9PqvVX0uj1wMAAEBrxPO6Nlc0r0pg6nm52lxS3Y+P2yIw0Q6dEphIZWP0MHKO3PZumuh5QvZunPjyMr3201/Klm7vrgl66bmnZWtrCM0v6IGKqRmKLC7K3uZ4tf8k+q4feq0KB7YoBYAtqN6n61cv3xBHc2CCVXuMyj79RUdF3xoBClZvkMKonmsAAABga3C5XPKsOagx0WZFKtCt0Jtk6bKJAph2a2tfoEZdvHKVLl29Llu6F599mvbtnpCtrSkcjZYKas4thGVvc5wOB42NDIsgxfDQAHnc2KIUALaGep6yOWOCr6sWmGC1HqOyX3+uregzPE1Xewxj38pn9Nrvtx6t3BcAAABWx8+z1ebjSq1xY/+2CEy0Q6cEJtijyDlKZmM01n2KvM4+2bsx/uuPf06JZFK2dP/gW18nh8MuW9tDbCleWvoxPVv+2jeDl3pwkEJlVfixRSkAdLC1nrbX2pWD1d+vv9io6De8LlnrYzGO13q5s9ZjAAAAQOdzOp3yrDkdmTGh2rX6WafWmGBzS7cpknxE/d791OvdJXvXXzaXo7957UeypRsfHabPv/i8bG1fvEXp5MxsqaBmq9/WYyNDep2KoUEKdgdkLwBAZ1jtZ1w9gQnW2Jj+XLuiv/wUverjKeZrDHdfd/V8fAAAADsRP0ca591mtcZVPx+RMSF1UmBiKTVL07GrFHAN03DgqOxdf9du3qaPLl6SLd2zT56hw/v3UTSUIF+Pi2z2ymIm2xVvUSoCFdMcqJimbDYnR5ozNNAvsip454/+3s3ZBhYAwKjW07e5+OVaT/O1xqv31whQMNPrlbXer1mj19djIwMfAAAAO1mrdfxqBibm5xfohz/8OV25cl2b1GXJ7/fRyy8/T1/84str7nKQSCTFfc+fv0TJZJKsVivt2bOLvvvdb9LY2MotK/lDWC0CoxjbnVpjgqVzcXoQ/oicNj/t7n1K9q6/H//yjRWFIv/4a6+K4o+3P5mjTDJHvh4n+XtcFNBu1h0SpGC5XJ6mZmWgYmqGkqmUHGkOBydGeXvSoUERtAAA2Gg1nr6r7spR61pltfHqY5XPzVXViAqs9bEAAADAxuLn5mrzcaXWuLHfYW+tdEDVwMTCQpj+/M//gvr7++hP//Q7FAj46eLFK/Q3f/MaPf30GfrOd75Z8wOfnJym//1///fkdDq0+36Xdu+eoHh8mf76r/8r3bv3gP7H//G/p127xuXV7dNJgYlisUB35t8WXygugOmwtbZ1Sr3+8vuvyTPdoPb1e/XzL4vz8795SIVC+Uvt9tkp0OMuBSp2SiaFwl+b6dk5mpyeFks/Wt2ilJd7qIwK3qKUg3EAAOutylN41cCEUu16s9WuqT1Wfk2w5vuo/bqnpno+bgAAANg86xKYeP31N+lnP3ud/sW/+O/o4MF9spfoRz/6OX300UX6n//n/zsFg92ytxI/3L17D2lgoE9kWSgzMyH61//639GxY4fpz/7se7JXx/dRgQ714XDb2M+M7U6uMcEeRy5SIhuh0e4T5HMOyN71c+f+A3rnw3OypXvi1Ak6cURfY3zujYeijzMlYpHKbAGPz6EHKIIucbQ7duakem4hLJd+zFA4EpW9zfF5PTQ2PEwjw3pGBe8EAgCwHtTzprJaYIKZr6+mtWsqIw/1PFaFyrsDAADAOuPnap5Xm1clMPU8bpyXK+p+fGw1MGH9Vxp5XnLt2k0RXHj66bPU11deTz87Oy/Gzp49KbIoquEPrKcnKDImjPg3yJcvXxXZE088cZrs9vJyEOM/ks9V29jPal3H+HEVv98rzzZPtpCkZDZKDpuXPI6g7F0/H124JApAGj195hS5XE5aCqdoYWaZbHYrHf/MKA1OBMjhtlEhX6RMKkfZTJ6WYxmKhBIUm09RcjmrjRXE9Vbbzsmk8HrcNDw4QIf276XTx4/SrrFR8nk8lNf+gy4nKnc6WUsmm6WFSITuP3pMn16/STfv3KPo4qJYUuJyOiu+/wEA2umvQwvi+E8Gq+8KZX5urcb8HFuNuqaR64w3AAAA6AzaM7N+rPL8zGNq3Kx0P+3Nam1t3lj13idPHhMTp9de+wlF5G+OM5kMXdAmv2NjwzQ42Piaeq47EYstaY9rX5HmXuu3KeZ+Y5ujOZ3MYdWDI5lca0sE6jU7Ny/PdMFAoLSbxFIkLY7egB4s4mUbg+N+OvzkEJ357DjtPtpHgV69impyOUNzj5fo7uV5unFulh5cWxBBjWw6L8Z3kp5gN504elgsh/mz7/4RfesrX6Znzp4WtSUaxTUt7tx/SG9/8BH97Y9/JnZP+f17H9Ktu/dbXkYCADtbMxP9eu/T6HXVr+fn7pU3vky/Vd633hsAAAC0R635uFLvfL0VNYtfcnbDX/3V31ImkxUZErzLwe3bd+mf/bM/owMH9sqr6vfrX/+OfvSjX4gCmn/yJ9+QvfVLpfTJtWL+sKPRmDwj6u6uns2hcBbBeuOMiQcLH4oAxUTvk6Vo0nqYmpml37z9nmzpjh85RGdPHBPn1z+aocRShkb2dotbLfl8kaKzCYrOJWhxoTJDwOm2kb/XRb6gS9SksDt2Vk2KajhDZSY0J4pp8g4grQTLOGVqZHCgVKMCW5QCQDP4ufGrV2+L858eOyCO9ar3xUW911XTyn0BAACgPczLNdphrQ0y1lI1MMETrF/+8jf0m9+8Jd4BL5Pgy1544Rn64z/+esNbgczOztG/+Tf/J+VyOfqX//Kf08hI5W+c+bGNv/1QbWP/4uKSyLpoFaeYbFRhwlSOgyVFclp92r9j/d7nuUtXaGZuTrZ0n3nyCeqVdUDi0Yw4ur12strrDJBo3xW5bIFyGe2Wq5xwWyxdZLXxTftcarcuxCiETDZDC+Eozc4vaLd58f3eir6eHhro6xU7gHT7Vw+2AQAo/3haez7Qnj//aqS5+kZVXhasqtHrG7Gejw0AALBTGcs1MOO8u5pa46qfj7wyohVVAxM/+cmv6I033qTvfe/b9NxzT4nAwg9+8DO6cuUaHTlykP7pP/3H5Hbrqf9rSSQS9G//7b+nBw8e0Te+8Sp96UuvyJHGcMaGoj5i4+cmrE0IlZ6e2lkBbCMyJtjU4mWKp+dpOHCMAq7G0//rZd6Ng2sl/PHXviLOM+k8XXrrsTg/8/JEU7tvcCZFZHZZu1XLpLCTv8dJvqBTLAdxuFA7QeHAxHSId/7QtyhNJFsLrHGQgrcn5d0/BrFFKQDU8Koqfnn8oDg2q8rLg7o0ez8AAADYulr95X/VwMT/+r/+f2nfvt1i9wwVGeHLfvzjX4odO7773W/Riy8+K/pXwxOz//Af/ouoTXH27Cn6b/6b71VN8eDHXi0Coxjb5oqhnbYrBwsnHtB8/C71efdot8aXv9SDd5L4+Ru/ky3d4QP76Nknzojz+ak43b+6QC6PnU48Pyr6WsFbjkZmEhQOLdPivClI4bKJXT3UNqS8/APKCtr3L9cCmZzStyiNLcXlSHN6urtpdGRILAEZGhhoueAMAGwPKjDxixP6rkytaPX+SrseBwAAANrPPO82qzVu7G81MFF1JhOPx0XWgfGd8/np0yfI6XRSOByWvbUZgxJ79uyif/gPv11z3UmtT4K539hej3Ux7ea06dulpnOtTUBXc/vefXlWNj4yLM+I4qbCl63iZRx9o146eGaQnvjcLtpzrI+CAx4xlk7laGF6me5d5cKZM3T/0wURGEknWlvSsF1YtO9fDiI8deaUKKTJBTW/8oVX6NSxI9Tb0/jOLZHFRbHjx+u/f4f++u9+QD/4+a/og/MX6fHUtChWCwBQ6/m1Xnx/dWuF8XHWugEAAMDGWuv5t9Z4O5+3q2ZM/Kt/9f+jvXt3VWRMsKtXb9Bf/MVf0le/+mX64hdfpmQyRf/u3/17ikQW6X/6n/5vpd06OCjxH//j9+n8+Us0NDRI/+Jf/LfU19crxqoxRlrUh8NtYz8ztjljgs9VuxMzJrL5FN1beI/sFjft7ntam5i2v86EeRmH0+Gg733ra7JFdOmtScqkc7TrcC8NTqxfnYJioUjh2YTYcpSLZxrx8g5/0CmKZnIBTWRS1BaOLtL0zKzIqDDvtNIoj9tFI0NDNDYyRIP9fVrbLUcAYDszZkwoVZ7qW7YejwkAAAAbT82zzasSmHq+N87LFXU/PraaMWH9Vxp5XsI1GN544/cUjydoz54JkenANSL+83/+e+rt7aU/+qOviuIWDx8+ktcti6yIsbGRiqBEf38v/Q//w39LAwPV91JXjP9IPldt8z++1nWMPwbF79e36txsVouNFpPTlCukyOfsJ5u1vbUtFpeW6Mbtu7Kl2z0xRrvGyks2Ht2KiOPovu51rf/AXwuP30G9w14a2RsUhTb5eziVyFI+V6BkPEvR+aQIXPAOIflsQRTQtNnXryjoVuR2uUQQ4cDe3XT6+FHaMzEutn5lS/HGMm+y2v/FSHSRHjyepKs3b9P1W3coHI1SNpsjh8PecBFbANga/iq0II7/ZLD83Gt+Pm0H9TxsvAEAAMDWo57Dqz2Xr/Ycb7xfrWvqVTVjgrs4O4JrSkxPz1I+nyefzyuWcnzzm18hj0f/zWu1jIk7d+7Rv/23/5coVmm328QkyOzLX36FvvENvTgjU5EWM3O/sb0Vakyw6cWrtJSepSH/Eep2j8je9jh/6Qpdua7/Zkz57GeeEZNZthxL07UPZ8Tn7Mkv7BJ9G40zKSJzSb14Zqgyk8LusIoMCpFJEXSSy9taJdedYHk5IXZg4WKanFXB/zebZdX+//D2pJxRMdSPLUoBtotqGRNmVZ7618VGvR8AAABoXq35uFJr3NjfaqmFqoGJrahTAxORxCOai9+mHvcEDfgb21N+Lf/lhz+p2K2Evyn+wbe/TnZZy2P6/iJN3o6SL+iiI0+t364g9eJvtWiIgxR68UwjEaTocenFM3vd5PJguUc9Uuk0zYbmRZDi8fR0xfdDM3jHDw5WDA/0U19v5TZCALA11BOYUDrhJcA2eRkCAACwo22LwAR/CMYIjGrX6mdbocYEW86EaTL6CXkdvTQWPC17W8cT0u//8KeypZsYG6XPvfCcbBHdPB+iWDhJQ7sCNHGo8yaZoibF7LIIVhS1N4WDFPr2o/ruHrwsBOqTzWYpNL+gByqmZmg5UZml0iheVjLKgYrBAXEOAJ2vkcCE0gEvBQAAAGCTmOfdZrXGVT8fkTEhdWpgIlfI0N35d8huddGunqfIamnPJJuXcPBSDqPPPPUEHdy3R7aIPn79gTjuO9lPvUOdUXejFl7moS/3SFa8QLbZLaXtR/0cpPChLkIjOIDHRTSnZEHNxdiSHGlOX09QFNQcGdIDFa0WuQGA9msmMKFsk5cEAAAAsMFWC2zUoyMzJhRzv7G9VWpMsPsLH1Imv0wTPWfJbW98W8hqeGvI2FJlMcQ/+fofip0YWCFfpPO/fSjOTz4/Rs4ttDSCd/XQsykSpiAFL/dwkj+oL/ngYpvQuLn5BZqaDYlAxUJYL47arG6/n0aGB2lkaJCGBvrJYUd2C8BmayUwoXTASwMAAADYILXm40qtcWP/avevBzImNsDs0g1aTE7RoO8QBT1jsrd5/AX7j6ZtQnlS+Aef+6xs8eQ+Sbc/CYllEac/qxfD3IqinEmh/VvCM8sVL5StNouoSRHg4plBF7n9mBA3i3fqmOZAxVTrW5T6vB49o2JwgIYG+8UuIwCwsdoRmDDaJi8TAAAAYB1ti8AEfwjqH6I+HG4b+5mxvVVqTLBocpJCSzepxzNOA76Dsrd5t+7eo/c+viBbuidPn6Djh8svQh/eCFPo0RIFBzx04PSA7N3aONjCgYrw7LL29V8ZpFC7e3gCyKRoBS/34AAFZ1RMardWfkS4nE6RTcF1Knjph9/X2UuKALaDdgcmqmnl5wIAAAB0FjXPNq9KYOo53zgvV9T9+IgaE1InByaSmSg9il4gj72HxnvOyN7m/fyN39HcQli2dN/8ypdEWr3y6fvTlIxnaGx/kEb2dsve7WNxPikCFLzco1qQgotn8rIPb8ApR6BZ8eWECFRMzszQ5NQMZXMrtwCuF+8Yw0s/ePePoYEB6g6Uv2cBoD02IjBRyzZ5SQEAAAANqha4aARqTGyAfDFHd+beImuXnXb3Pk02a2uT5b80LePo7QnS1770ednSqcKXh54YEssdtrPFBX0LUr7l8wXZS2S1WvSimUGndnSRrxtBinZQW5ROzsyKjIpkKiVHGsf/n/WMCj1QwcU1AaA1mxmYMOqAlxcAAABQh1rzcaWe+fpq968HMiY2yMPIOUplYzQePE0eR6/sbdzDySn63Tvvy5bu1LEjdObEMdkiSidzdPmdSXF+9pUJkUWwU+hBCu0WWqZ8rhyksFi69KUesiaFtxvLPdolI7co5Z0/OFCxFF+WI83heim89IOP2KIUoHGdEpgAAAAAqFdHZkyodq1+tpVqTLC5pVsUST6mQf9BCrqbL0b5xlvvismf0Ve+8AoN9JWDHXOTS/TgWpjcPjsdf25U9u48sYWUWO7BdSlyFUEKXu7BSz303T2QSdFe/H+Tl35Mz85p36vTFFmMyZHm9PX2iKUfw4MDNDjQT9YW168BbHcITAAAAEAjzPNus1rjtebtzUDGxAaJpaZpJnadul0jNBQ4InsbZ17Gwbsg/NFXX5Ut3Z1LcxTRJuP9o37ac6z57IztJBZOUYRrUoSSlMvmZa+eSeELcuFMvSYFn0P7cUbFTIgDFTMr6qM0KtgdEBkVwyKjop8cDuzIAmCEwAQAAABsNagxsUF4GQcv53DbAzTR86TsbczM3Dz96re/ly3d0YMH6Omzp2RLd/HNx2LyvftILw2Mo7ig2VKEgxS8u0eiIkjB31t6cMJJgV63OML6WIhE9IKaUzM0HZqTvc3xeb2iRgVnVPDyD2xRCjsdAhMAAADQiFrzcaXe+XorkDGxQYpUoNuh32tfOCvt7n2K7Fa3HKnfOx9+THfuP5Qt3RdfflGkuRupwpfHnh0hjx+1FFbDmRS8DSlnU2Qz5SAF46UeAbHcQ8+ogPUTjcX0QMW0XqeilR9LbrdL+z8xRMOD/SJQwYELgJ0EgQkAAADYajouY0J9ONw29jNje6vVmGCPoxcpkYnQaPdJ8jn7ZW/9zMs4nA4Hfe9bX5MtXTyapusfz4gdKc5+bkL2Qj1UJgUvgzEGKbTvMn13Dw5SiGwK/EZ+velblM7R1GxIZFVwgc1m2e12Ebzj3T8GB/ooGAjIEYDtCYEJAAAAaISaZ5tXJTDj/NxM3c88b28GMiY20Hz8LoUTD6jfu496vbtlb30i0UX68a/ekC3dgb276fmnK5eFTN1d1G5RMYk+/OSQ7IVGcYCHC2dyoGJFJkVQL5rJAQr+PMP6SyZTNDu/QNMcqJieoUQyKUcaxz9suUbFiFz6wdvtAmwnCEwAAADAVoMaExtoKTVL07GrFHAN03DgqOytz0cXL9G1m7dlS/fy88/S7vEx2dJxtgRPqof3dNP4AUy42iEeTYmimRyoyKYrgxQig0Iu90AmxcbhDIrZ0DzNzOkFNWNLcTnSHK5PwRkV2KIUtgMEJgAAAKARtebjSr3z9VYgY2IDpXNxehD+iFw2P+3qfUr21udv/v7HlDWks/M3wD/6o2+Q1WqVPTpVX+LA6UEKDjRexwJWF19MU5QLZ4YSlEnlZK+utLsHByv68LnfSGqLUi4QOzk1TeHoohxpzkBfnyioyUEKDlaYU9oAOhkCEwAAALDVdGTGhGrX6mdbscZEsVigu/PvUL6Yp929T5PTVl9RvuVEkv7uJz+XLd2usVF65YXnZEuXzxbowpuPxPmpl8bJ4awMWkB7LS/yco8ERecSlE6aghTdTj2Lgm99yKTYDLxFqV5Qc0act6In2C0Kag4N6hkVDju2KIXOhcAEAAAANMI87zarNV5r3t4MZExssMnoJVrOLNBI4Dj5XfV9nJc+vUYXtZvR8888SQf2VNap4HoIdy7PkdNto5MvVC7xgPW1HMuInT2ioSSlkpWFGr0BvR4F16XoRibFplkIR0SAggMVXFSzFQG/T9SpGOrvFwU1sUUpdBIEJgAAAGCrQY2JDbawfE+73ad+717q9e6Rvat77ae/pPjysmzpvvvNr5LLWbmF5YNrCzQ3GaeeQQ/tPzUge2GjJZYyIpOCAxXmTAoOUojlHj0u6u5HkGIziS1KQ/OioObj6RnxM6VZHrdbLP0YGtALavq8HjkCsPEQmAAAAIBG1JqPK/XO11uBjIkNtpQK0XTsU/I5B2i0+4TsrS2fz9Nf/90PZUvHRfq+9PKLslV2+Z1JMREeP9hDw7uxJWInSMQyFA7JTIqEOZPCIepScDYFghSbj4N/vPRDBCpa3KLU6XToSz8G+sWtO+CXIwDrD4EJAAAA2Go6LmNCfTjcNvYzY3sr1phgmVyC7oc/IIfVS7t7n9I+/tWL6l2/dYc+vPCJbOmeOnOKjh06IFtlqvDlkaeGxW4R0Fk4k4KX20RCiRVBCo/fQYFet/i6oWhpZ0gkUxSanxdZFZxRsZxIyJHGcZFazqjg3T8G+/upD1uUwjpCYAIAAAAaoebZ5lUJzDg/N1P3M8/bm4GMiU1wd/5dyhXSYmcO3qFjNT/51W8oHI3Klu7bf/gH5PdVFs5MLmfp0/emiL8dzn5+l/YN1do3BqyvZDwrlnrwko+VQQq53IODFINYEtApMpkszc7NiToVHKhYjC3JkeZwjYrhQc6oGKCBvl7ZC9A6BCYAAABgq0GNiU0wvfgpLaVDNOw/SgH3sOyt7i+//5o80/X39tIffvEV2SoLPVyihzfDoobB0WdWf0zoLIl4Riz14EAFB5iMPD6HKJrJNSm4dgh0jlw+r+/8EZqjqZkQLUQicqQ5vNsHZ1RwoIILalqxRSk0CYEJAAAAaESt+bhS73y9FciY2AThxAOaj9+lPu9u7bZP9q507+Fjeuv9D2VLd/r4UXEzu31xjqLzCRoY99PuI/jt61bFgYloKCEyKZLxjOzVuX128gf13T16h+rbahY2Fteo4GDF1MysOG9FX08PjQzx0o8+Eayw221yBGB1CEwAAADAVtORGROqXaufbdUaE4y3C+VtQ9cqgPnr371F06E52dJ99UufExMWswu/fUT5fIH2HuujvlGf7IWtLLWc1Xf3CC2LpR9GeiaFq7Tcw/DfBDrIfDgiAhQzoRBNTs/K3uZwAU0ufMvFNLlOhduFOjJQHQITAAAA0AjzvNus1niteXszkDGxCbL5FN1beI/sVrcogGnpqv6bUPMyjoDfR9/6ypdlq5IqfHniM2Pk8uI3q9tNOpGjsKxJsSKTwusQNSk4k6JnwENdqC/SsaKLMRmomBN1KnjXnWb5vF6RUaEHKvpEG4AhMAEAAABbDWpMbBLemYN36JjoeYLc9m7ZW8ap4K///h3Z0h07fJCeOn1Stspi4RTdPD9LNruVzrw8Lnthu+ItYXl3Dw5U8E4fRi6PXS+cyTUphrza/xc5AB1pKR6n2bkF7aYHKtLpyq9nI1xOpyioyfUpxBalfmxRulMhMAEAAACNqDUfV+qdr7cCGRObZDZ2nRZT0zTkP0zd7lHZW/bmux/Qg8eTsqX78isvieJ4Zo9vR2nm/iJ197np4NnO/7dD+4hMitCyKJ65HEvLXp3TbRMBikCvXjgTmRSdL5FMiowKsfPHVGtblNpsNhrjQIWoUdFPvdiidMdAYAIAAAC2mo7LmFAfDreN/czY3so1Jlgk8Yjm4repxzNBA74DsrfMvIzD5XLSd7/xVdmqdO3DaW1SmqGRvd00th+Tj51KZFKEEhSdTVDcFKTgTApfsLy7h8WKIMVWkMlk9KUf2m16NiSWgjSLf1aODnONCr2gJt9ge0JgAgAAABqh5tnmVQnMOD83U/czz9ubgYyJTbKcCdNk9BPy2HtovOeM7NVxwbyfvf5b2dId3LeXPvPUWdmqpOpLHDwzSN39bnEOO1smxTUpEmLJx8pMCn25Bwcqeoe92g8fBCm2ilyOtyidF8GK6dk57WdFWI40R9+etL9Up8L8RARbEwITAAAAsNWgxsQmyRUydHf+HbJZnKIAptXikCNEH5y7SDfu3JUt3ede+AxNjI3IVlk2k6dPfv9YnJ95eYJsdkwsoBIHKSKhJEVmlym+aApSuGyiaGag1y1297Aik2LL4SCFKqjJt1b09/bQkApW9PeR3W6XI7CVIDABAAAAjag1H1fqna+3AhkTm+hh+GNK5ZZoPHiGPI7yFqB//Xc/rKjWzwGYf/TH3yRLlS/6wvQy3ft0XtQTOPnCmOwFqC6TzlM0xIUzExSPpmSvzuGyUqDHre/uwUEKG4JcW5G+RemcCFZwnYpW9HR3i6wKVVCTC2xC50NgAgAAALaajsyYUO1a/Wyr15hgoaWbFE1O0pD/EHW79aDCUnyZ/v5nvxTnyu6JMXr5M8/KVqV7ny7QwnSc+ka8tPd4v+wFWFs2nRdZFOEQBykqMykcLi6c6SR/kHf3QJBiKyttUTo3R5PTs5TL5eRI4/w+Lw0PDoplH8OD/eT1eOQIdBIEJgAAAKAR5nm3Wa3xWvP2ZiBjYhNxUIKDE0H3GA369ReQFy5/Spev3RDnyovPPkX7du+SrUqX3p4UqfoTh3poaFdA9gI0hpcEcT0Kvi2ZMinsTj1IEZCFM61YLrSlxZbiYtcPDlZMzsxQKlUZlGqE2+WikSFe+qEX1OwOYIvSToDABAAAAGw1qDGxiZKZKD2KXhDLOHg5B/vbH/2MkqnKieH3vvU1cjrKNSiMVOHLo08Pk7cbadbQuly2IAIU4dllWoqYghQOK/l7XfruHgMesjkQpNjqSluUzi3Q5MwsxZeX5UjjHHY7jQxzRkU/DQ/0U0+wW47ARkJgAgAAABpRaz6u1DtfbwUyJjZRvpiju3NvkaXLLgpgFgpW+s9//2M5qhsdHqIvfvYF2aqUWMrQ1Q+mxa4KT3y+ekYFQCtymQKFQ8uiLkUsXCVI0eMSNSl6h7wovLpNpNLpUkZFq1uUcvB4dGhQ1qgYoIG+XjkC6wmBCQAAANhqOi5jQn043Db2M2N7O9SYYI/C5ymZW6Sx7lN0/36Yzn1yWY7onjl7mo4c3C9blWYexOjxrQj5gi468tSQ7AVYH/msHqSIzCYpFk7KXh0HKXj7UX13D7dow/bANSlERsX8As2E5mluYUGONMe4RSnfjD/joT0QmAAAAIBGqHm2eVUCM87PzdT9zPP2ZiBjYpPNLd2iSPIx9fv209u/v0nRWOVvJ//oa6+Sr0aBuZvnQ2KCyLUluMYEwEbJ59RyD86kqAxS2Oy8u4eeScE1KexOBCm2E37CmA3pu35wsIKzKlrBWRR6kELf/cNus8kRaBYCEwAAALDVoMbEJoulpmkmdp26XSP0y19clb26fu0F+x9+4RXZWuncGw/F52TfyQHqHUJ1fNgcIkgRShLv8LG4sDJIUdrdY9iDTIptSmxRGpoTgYrJ6RkqtPC00hvspsEBvUYF16pwuVA7p1EITAAAAEAjas3HlXrn661AxsQmS2Vj9DByTpvYWejG1coU6bMnj9PJo4dlq1IhX6Tzv30ozk8+P0ZOD37LCJsvr31fcoCCa1JE501BCpuFfD1cOFOvSYFMiu0rHF2k0Py8XqdiJkSZbFaONC7g94nlH7zrB2dVeD1uOQK1IDABAAAAW01HZkyodq1+tl1qTBSpQHfm3qYrFxYpFq188f61L39B/PawmkVt0nfrYogcThudemlM9gJ0Dg6e8c4ekVBCfL8aWW0W8ged5O91U8+gmxwuBNa2M96iVF/6oRfUTCQrC6k2ggMTatkHZ1UE/Nii1AyBCQAAAGiEed5tVmu81ry9GciY6ACT0U/ojV/dkS1dt/Zi+5tf+ZJsrfToZoRmH8YoOOChA6cHZC9AZyoWOEiREHUpovMJ2asTQQquSRHUMykcLmRSbHeJRJJm5vSMipnQHC3F43KkcbyVsiqoycGK3mBQjuxcCEwAAADAVoMaEx3g07sX6NzH92RLd+LIIXri1AnZWunT96cpGc/Q2P4gjeytnlUB0IkKhSJFQ0mRTRGdMwUprLzcwykCFVw40+lGJsVOUNqiNDRPM3NzFIkuypHG2axWGpKBCs6o4Fo9Ow0CEwAAANCIWvNxpd75eiuQMdEBfv3Wm9rHX1lf4g8+91nxwrqWj19/II6HnhiiQK9LnANsNfzjh7MoeLkH34wsli49k4JrUgx6UUdlB1FblM5ysEI7zmnHVowMDcoaFVxQs2/FNljbDQITAAAAsNV0XMaE+nC4bexnxvZ2qTHB/vL7r8kzndvlpO9846uytVI6kaPL706K87OvTIhUeICtjv/rR0LLpUCFEf8/56KZAa5JMYRMip2Gf96LjApRp6INW5TKIMWQPNq22RalCEwAAABAI9Q827wqgRnn52bqfuZ5ezOQMbHJ+EX2L37zpmzpDh/YR88+cUa2VpqfjNP9awvk9jno+HMjshdge+EAhSqeacSZFL5geXcPZFLsTPMLYb1GhahTEaJ8viBHGsd1KUSgYlDPqHA5t/YWpQhMAAAAwFaDGhOb7N2PztHte/qyDOXzLz1P4yPDsrXS3cvzYsLWP+qnPcd23vpp2HlEPYpQUmxFavyBxT8POEDBgYreIQ+5vHY5AjtNOBot16kIzVE6k5EjjesO+GmwX69RwQU1vR6PHNkaEJgAAACARtSajyv1ztdbgYyJTWZexmHRvrD/5Dvflq3qPvn9Y8pm8rT7aC8NjGGrPNhZVD0Kzqgw//jimhQBLpw57CUXMil2NH2L0jkRrOBAxXKicsvaRvAWpcOD5ToVAb9PjnQmBCYAAABgq+nIjAnVrtXPtkONiWgsRj/6xeuypRse8dOXX6q9TShThS+PPTtCHr9DnAPsRNFQgsLajY+824cRBynE7h5DHnIjk2LHiy8nZJ0KPVixGFuSI41zu1wik2Kov18EKnqCnbUzEgITAAAA0AjzvNus1niteXszkDGxic59cpk+vXFLtnRHTvTSU0dfIkuXVfZUikdTdP3jWbLZLHTmlQnZCwDROX2pR7haJkVQ7u7BQQofgnmgb1HKyz5C8/OiVkW4hS1K7TabqE8xNDAgsioGNnmLUgQmAAAAYKtBjYlN9F9+8JMV66CffrGH9g48RS579SUa0/cWafJOVPwm+PCTQ7IXAIwW5zlIoRfPNGdS+IJOfbnHkJfcPmRSgC6rtiiVwYq5hbAcaRwXaBU1KgzBilZ/i9AIBCYAAACgEbXm40q98/VWIGNikyRTKfrbH/1MtnQDAz7af9xOw/6jFHBXL35549wsLUVSNLKnm8YOBGUvANQSFUEKvXimeeeG0u4eg15y+xGkgLJ2b1HKwQm9RsWAWAbCWRbrBYEJAAAA2Go6LmNCfTjcNvYzY3ur15i4fO0GXbj8qWzpTpzcRb6+Jer17KZ+3z7ZW0nVl9h/aoB6BrdWpXiAzba4oGdScPHMfM4UpOh2kq/HRb3a/ytPAMs9YCUOUKhgBdeqyOXycqRxXJdiZJCzKfQ6FU5n+77nEJgAAACARqh5tnlVAjPOz83U/czz9mYgY2KT/ODnvxJV443+8NXnKJy6QV5nP411n5S9ZflsgS68+Uicn35pnOzO6nUoAGBtsYWUWOpRLUjhDTgp0KsXzkSBWaglHImWMir4yHUrmsU7fQyLQIWeVcE7gTQLgQkAAADYalBjYhMUtH/HX/3t38uWjl+MfuHlZ+newnvksLppoudJsloqU8u5qN/dy3PkdNvp5AujshcAWhXjTIpQUgQqVmRSBDiTwilqUniRSQGriC0t0UypTsUCLScScqRxXo9H1qjoF1kVjWxRisAEAAAANKLWfFypd77eCmRMbIIbd+7SB+cuypbuiVMn6MSRQ3R/4UPK5JdpIniW3I7KGhIPr4cp9HhJLOHgpRwA0H6xcErfhnQ2QblsZao+Z1Jw8Uze3cPb7ZS9ANXpW5Tqu37wzZwl1wjeolQEKXibUt6itLv2FqUITAAAAMBW05EZE6pdq59t5RoTP3/jdysqvn/jD75Iwe4AzcSuUyw1TUOBw9TtqsyKuPzOJKWTOZo42ENDuwOyFwDWy1I4ReFQQhTPzGUrMyl4iYfY3WMYmRRQn1QqTTNzc6WlH5FWtii122lYZFPogYp+wxalCEwAAABAI8zzbrNa47Xm7c1AxsQm+MvvvybPdByQ4MAEiyQe0Vz8NvW4J2jAf0D0Karw5ZGnhsVvbQFg4yxF0hQJLVNkJkFZUyaFx+8Uu3twTQouoglQj0w2S6E5DlLowQpzwLoRVqu1FKT4fxT0ZY5/PTYoljxaLV3yaBVH3s5UP1pafhEBAAAA0A6oMbHBHjyepDff/UC2dCePHaGzJ46J8+VMmCajn5DH0UvjwdOijyWXs/Tpe1PiBeXZVyaoSzsCwOaIR9NiqQdnUmQz5iCFQy738CKACA3h5zUOUOh1KuZEVkUz/tOxE+L4j65eEcfVqACFCFZ0WUSAo9TWjrZSW7tpz7/l8fI1pT5t3Ni2mq/RHn/FfeQ15aAJ30+/Rt0QPAEAAFhftebjSr3z9VYgY2KDvf77d2hqZla2dF/5wis0INNwc4UM3Z1/h2wWB+3qfVocWehhjB7ejIg17kefGRZ9ALD54lHe3SNB0VCSMumc7NW5fXK5B2dSIEgBTeBAhb70Y04U1czl196itJHAxFYgAhTai54VwQxjWxvnY0UgxXjNakERbnNQxnwf4zWGwAnfjEEXviF4AgAA0JqOy5hQHw63jf3M2N6qNSbMyzg8bjf9yde/Ilu6R5FzlMzGaKLnLLntegHM25/MUXQuQQPjftp9pLyWGAA6R3wxTRHOpAglKJMyBSm8dvLzFqSDXrHsA6AZaovSWRmsSKczcqRsuwUmtgI9UGG8rQyKVA14aH1WMV79GqtVO5bG+VZ5jXi/2uugFfcznPN9+Gh8PQUAAGCk5tnmVQnMOD83U/czz9ubgYyJDTQdmqNf/+4t2dIdObifnjlbXrLBQks3KZqcpEH/IQq6x0Tfhd89EtsY7j3WT32jXtEHAJ1reTEjlnpw8cyVQQqH2IK0d9AjghUAzYrGYrJORXmLUgQmoJpyoEIPeOhBjXLwYq2giGjzUbbN56Itr6noE0eZXaI9nno/CJ4AAIARakxsoLfe/4juPXwkW7ovfvYFGh0eki0dByU4OMFBCQ5OMFX48sTzY+Ty2MQ5AGwNnEnBSz04UJE2BSlcHjsFel0UHHRrR7fsBWhOfHmZ/uTepDj/i14/5fN58Xyp34riWOrTnlPzxrb5mmKV+/C56iuovvI1AK1QgYpqQZGKgAgHN7TXg6qtrqloVzmvFjgR/aXz8mOWlgWZMlYQPAGA7ajWfFypd77eCmRMbCDzMg6bzUb/6I++IVtlyUyUHkUviGUcvJwjFk7RzfOzZHdY6fRnx+VVALAVLcf0IAXXpUgns7JX53TbRHCCa1JwsAKgGZu5XSi/pNCDGEUR2CgHNPTgBdfI0NvaTbtWBTSM15TahsBI+X61r6n2OHkxXtkH0Ip6gyIrAimGoIeeOVIeV9fo96l8bDFW0S6Pq36VhSJu2mMjdgIAW1FHZkyodq1+xi8w+Fy1Oz0wweuCf/Lr38iWbt/uXfTis0/JVlm+mKN78+9q/zYL7ep5kmbvpWnm/iJ197np4NnOrZ8BAI1JLGVKu3ukk5WZFByk8Pe4xO4egT4EKaB+mxmY2Ar4tYQKUnDAolrmB2eSiHZFcKXyGtGueCztaL6mauDE0CffdykLRV4D0Cx+WVyZbWIVfSp4oRdyNQdW9D4R6BBBk5XXlK7lW5XMk8rgCd/0+5v7+bG5DwA6i3nebVZrXPWvdf96IGNig3x44RO6fuuObOlefv5Z2j2u15Awexy5SIlshEa7T9GjT7Lit6wje7tpbL9eDBMAtpfkUpbCoWUKz1QLUthFkKJnyC0ClACrQWBi61NBkXKwwhRAUYEQ7SWcMaChxkvtGoERDoSIdpWMEnVN5ftU7fI1AK0wBik4iMETGg6amIMielu/phw0UQGPlcGTykBIuXaKOUCibubtidWNl/IAwMZCjYkN8jev/YiyucrJxj/642/W/ME3t3SLIsnHNOA7QHfe1V8AHDwzSN39mJQAbHfJeFYvnDmboFTCtNzDZdN39xjyIEgBVSEwARuBX5Pl8wVDAEUeRTDDFOgQ16ogh2HMEBgxB0X4KJbwrHHNiuCJdo2euYLgCbSmIijCRxkYUcGM8jiPreyrL3jCN/2ayu2Oy7dawRN+nFZ/Qw2g1JqPK/XO11uBjIkNEF9O0Gs//YVs6cZHh+nzLz4vWyvFUtM0E7tOPssoTV3U07jPvDxBNjvS3wB2kmRcX+7BdSmSy5VbQzpc1tJyDwQtQUFgAkDHL3FF8KKuAIp2rl1TDn7IQIi4n/E6/f7G8RVLeIzXmAInxmv4fgDN4smgHqTQs034nPvUUptytoh2nWF5j7pVBkLKwY/q2SVyqY92qwjIcLt0XhlAUf3tmrTC9tdxGRPqw+G2sZ8Z2/wDnc9Vu5MDExc/vUaXtJvRZ556gg7u2yNbK6WyMXoYOUcUG6DYfb/YXvD4Z0bkKADsRMllzqTgIEWCEnFzkMJGgR59d4/ggEf2wk6EwATA1sGvbVXgomoARQQ/jAEN7bwUQDH0a9eogId+k2OGwEhpCY/xmopgjN5X0dYeV702B2gUz9M4m8QYzOCpG28AoNp804MYhsCGDKRwf2UgRL+mHAypvJmzS8rBGeN15WsQPClT82z+f8+fEyP1M6Da50ndTx1bgYyJDcDZEpw1YfQnX/9D8rhrF7TTniro7ty7tPyolzJhL/WN+Gjv8T45CgA7XWo5R+HZZYqElsXSDyOHUy73GPRQcACZFDsNAhMA0E48U6gIcOQLWl/5XD9q49qFpfOKoIehX7umHPiQ5/KxVF/F7j18TUXWiewzXqM95jaZzsAm4Mm0MUhRCn40khmiAiniPuXsEvNttcdYKwDT6qSfLSeT9OH5T2hmbp6s2uONjozQ2ZNHyevujNeKqDGxznK5HP2n134kW7rB/j569fMvy1ZtU4uXaeaihwpZG00c6qGhXQE5AgBQluJMihDv7rEyk4K3GeYgRS8HKbQbbH8ITADATsNzhMoghjHoUQ5k6H3VAyhFPjdco+5T87HEWPlYvhnvq93E42PZDjRPBU/KwQp91YAx86QyGGK+Xp8z33v4SJubat/r2jlnl9htdvJ7ffTlz70oAiPV5uNKvfP1ViBjYp1du3mbPrp4SbZ0T505SccOHZSt2ubjd+n++3pxzKNPD5O32ynOAQBq4WKZHKCIhJKUWErLXp0KUnAmBd9ge0JgAgCgM+kBi2IdARQ9oKGf6/cR5+J+jQVQKq9Rj1k+N14POwcHK7jOiN1upwN7d9Pp40flyObpyIwJ1a7Vz/g/Ep+rdqcGJn78qzcoEl2ULd03v/Il6vb7Zau20PwUPbyY1b5xivTE52vXowAAqIa3HeUgBS/5SCxVyaQQW5AiSLHdIDABAADN0gMXHMgorgygiEBG+bwygKIfxXkbAijm4IlqQ3twYMJus5HNZqWBvj566bmnK+bdZuZ5uVJr3t4MZEyss7/8/mvyTNcT7Kavf/kLsrW6yXtzNH0nQTZPlk5/Zn/LX2wA2LlEkEIs91im5VhlkMJm5yCFU+zuwYEK2NoQmAAAgO2KZ64cqCiK4AUHMootBFAM5/KacnBE3t8cQDG8v9JjmR57K1CBCbvdQYP9QXrx2WfkyOZBjYl1dOf+Q3rnw49lS8dpMvWmyty8EKLYQpKc/TE6fGIfOWxeOQIA0DwOUvDOHrwN6XKscrkHBynE7h5DbuoZ9Go/c+UAbBkITAAAALSTXmBVfyuI6IixzefqGm12LY56ICMvghi5PAdS+Ki39SCGDHQUC6LuAx+LeQ665ESAg3fRUXVP9JvMQCmd8/219yoCJfrHwG11rfZwpaAK9+dz2pE/PjnzL2dM2OjIkQk6tv/Yqr8E58evZ77eCmRMrKNf/e4tmgnNyZbuD7/4Oerv7ZGt1Z3/zSPxzeXeFTjXDnsAAKqzSURBVKJdu3eT39k5mSAAsD1kUry7B29BmqT4Ykr26mw2i16TgjMpBtzUZUGUYitAYAIAADaDPknluS9PzvXJMr9pU2T9XLS1c+6TY3yduIehzUceV5N81V++zvDY8nrVryu3S9eJPr0tzk0fU+k+/H7kv0F/7O3j3s0EzU6ltX9ekSwWqwhKjI720bFjw9Tn2yuv2jwdlzGhPhxuG/uZsc0Tdj5X7U4MTJiXcXg9Hvrjr70qW6sr5At0/rePxLnv8EMa6B2nPu/mf8MAwPaVTedFPQqRSbFYmUlh5SBFj4t6uSbFEDIpOhkCEwAAnY8nvmISrM1vSm+miXPFdeIo+9V9xMSZj/I+fJ32/Kxfp/UZxtVEXF1n7NdO9La6hm/8OLK94jrVFritPx5I/OnjeSp/Erv0rT71N/2cP1OizWPiyC+q9JUA+rXlfr5GXC37xTXam3hcU7/W0M60c9HHY+VrllLztJSepegc0WI4TxaLjfr6ndQ74KAezy7yOfvFdTzHNq5KYOJ7QsPjZjzG/erYCmRMrJPJ6Rl64613ZUt39NABevrMKdla3eJ8km5dDJHd2UXuw3e0b5YBGu0+IUcBANZXNpOnyEyCwqFlikcrgxQWq4UCcncPDlQgk6KzIDABANuLmgjzm5wcG9r6VEbvU79h19vlyXfpN/aGfu1E+9vYX3kdq5yMV3888b74KNrGx+OJOx8r+0WOfYsTuG1F+5SICbT2OeG3qhNu0Tb1a0fu4evlFaVreEwcxd/am9bmib+4r7y/ftSvEdeZ+rVpdul8xX3U+xH31Pu1v/Rz1S8/rk7yMPwxpXJL4tzSZSVrl4M8ziAN+Y+Ivs2GGhPr5M13P6AHjydlS/elV16ikcEB2Vrdo5sRmn0Yo0Cfg2jsOjmsHtrV+5T4JgIA2EgqkyI6l6SlSOVyD6tVLvcQW5C6RdACNhcCEwA7k/46med5PBk2TpzluWhr59wnxyonz3qbjzzeSBo9U/2rXafa/HjiYzVep93ExyqvE4+jvYHEnwrtkybexFFOiEVbnxCrfv1SeY3ql9eIMXlffYyft/nILfWY5WuMj6/6tQ7RFv3yXE381TWqXz2+6JePw29icl+6L2wE/v+0EL9Ly5mw9lm3kM81QD2eCfE14P9z6utXTa3xte7XCGRMrBPzMg7eI/YffvvrsrW2q+9PUyKeobH9QUoHblAmv0y7ep4klz0grwAA2Hgik0LUpEhQzBSksFi6RJCil4MUQ16yWPFiYzMgMAGwNn3ya/htuGzrL4u5xRNxw3XiKPvVfQyTbX1cG9N+7OnXaX2G8cpJe+X9RJ9o69fwmzGYIAIE3Cfaxscst3kM87syfbKr/V2a+MpJsGjrk2OtIa81TJDVxFm2jZN2Kpb7KybVql+0TZN2cZS/fVdvFRNy/abuqx5HfLyyX4xrb1pDPwJsUx2ZMaHatfpZJ9eYmFsI08/f+J1s6fbv2U0vPPOkbK3t49cfiOPhJ4Yobr0r1gQNB45SwDUs+gEANlsuWxCZFByoMGdS8M/m7j4XBWWQwoogxYZBYALayzAJVpNyQ5vP1TXqN+x6uzyBLk2yDf3aifa37Odr5ORbnKv7yjbfh1/u6e3yY2kn2t+Vj62/b72f8Zk5QAAG2uekcjKuT461Tu1Y2c9fBH4TY/wmrpOTadHWz8VDGibZ4lyMa9cbHpO/NMaJv3p/3G+c+Ff7OFjl48ox0c99+jkA1Id/Por/SzXUGlf9a92/HsiYWAfvn7tAN+/cky3dy88/S7vHx2RrdelEji6/Oym+uGdeHqfFzCOaj98VhUkGfPvlVQAAnSPHmRRzSYrMLlMsvDJIIWpS8O4eg25RSBPWDwITm0N/UcZzKp4AGybPhsm3mERzn2jLyTK/aW2ePGvzqVK7NMkWbf0xeLye38KLybc4yjF+E9fp1+tt/XrxkIa2uE6da29QVp7w8hmTk2e+yUkyfxOIF+f8W3R+43PDuH69fAzVL46G36ob+vXrtOu1L0XFfWW/uq+6RjvRWrJfnvOXVN2Xe/icP3aLOPINAGDzocbEOvjrv/uB2H/W6J/8ybdWVDitZX4yTvevLZDH76Rjzw7TcmaBJqOXyOvoo7FgfcUzAQA2C2dS8FIP3t0jFk7KXh3/DC/v7uFBkGIdbIXAhD4BLk+eVVt/nudxOYEW43KCLtr6hFknrxFjsl9eX+7na/XnY71tvK7c5ut4Wlh6kx+Lfi/5eOI+5Y9FPqI858cBRbxSU5NpMRGunGSryTFPmvkLrrf1fp2cWBv71fUavZ+vrXGdvFa0xR24Tn35McR9+WPT+sWjGfrFmOkaHtX7+QYAsP3wc5n+c666WuNr3a8RyJhos9hSnH7w81/Jlm5ibJQ+98JzsrW2u5fnRXr0wKifdh/rpWw+RfcW3iO71UW7ep4iq8UurwQA6Gz5XEEs9eCfaSsyKbSbv9ctsig4m8JmR5CiVblChr529b44/7uDfTxt1l40lCfjKtVe9fPMS2+riTjTrxf9auIu2sZAgvF6fUz0y8cqXcfXVEnvhzJ90lueIFeuY+e/5YRZjOvXifupMW7zuZpA8xtfp/VxD0+yV71e9vNXRW+X+0VPtevUY4kjP552rg+U+gEAABrRcRkT6sPhtrGfGdudWmPi/KUrdOW6/tsq5fmnn6QDe3fL1to++f1jUWBu99FeGhjzi76HkXOUysZooucJctu7RR8AwFaSzxfFUg8OVCwuVGZSsNJyjwE32RzYgWgt+UJWPC/w1l9p7ZbKLlGukKZ/GdKXDf75YOXOUFudeLaXk2SeHYsJs3gNUJ4Mi5t2LvpEW7+ez4uGCb/q104q24J8LNHPf+uTfL1dfrzShF/1iz5uyftzW3uf2kn5GnHkv8vXAwAAbDY1zzavSmDG+bmZup953t4MZEy02d/+6KeUTFXu+f/db36VXE6nbK1NFb48/uwouf16dsRM7DrFUtM05D9M3e5R0QcAsFUVCkWKzCQoHFqmxfmVQQpe7sFLPXqRSSEUijkReOBARDoXp1QuJrLpqlGBiX8zNKP9rSbCfNQ+j/yML9py8izHq6Wur7zOMEE3TL7FhF+M803eV7QNj8l9si3eDO+Dz1TAQR9XX+/ydeJxtCMAAABsT6gx0UapdJq+/8OfypZueHCAvvzKS7K1tng0Rdc/nhUvxM+8PCF7iSKJRzQXv01B9zgN+g/KXgCAra+QL4qlHtG5pHZLyN6yQI/a3cND9h2QSVEoFigtMiFkECK7RJn8ys+L4rT5yGX3k9PqF1tKf+vGtOhH8UsAAACoR635uFLvfL0VyJhoI17CwUs5jJ4+e5qOHqx/J43pu4s0eTcqUpoPPTEke4mWM2GajH5CHnsPjfeckb0AANtLscBBigRFQomqQQqRScFBCu1md279IAXXWxDLMbL6cow0H/PLcnQlh9WrByFsHITQAxGcUWCEXTkAAABgq+nIjAnVrtXPOrHGxA9/8WtajC3Jlu7bf/gH5Pd5ZWttN8+FKBZJ0siebho7EJS9ekGze/PvisKXu3uf1o4OOQIAsD3xsxPXpOBARbUghS/opN5Br55JsUWCFKXlGHm9JgRnRNRit7rJbQ/IIAQffWTpWvvficAEAAAANMI87zarNV5r3t4MZEy00V9+/zV5pusNdtPXvvwF2arPudcfit+g7T81IH4jaPQocoGS2SiNB8+Qx9EjewEAtj/OpIjMJfXimaFqQQrOpNB393B0SJBCX4ZRrgnBgYha7BZXKQPCqd1cVh9ZLDY52hgEJgAAAGCrQY2JNrl19z699/F52dKdOXGUTh07Kltr473/L775SJyffml8xW8AQ0s3KZqcpEHfQQp6xmUvAMDOws8F0RAHKfTimWa+bqe+u8egmxyu5ib3jcrklit2x+CARK1tMW0WJ7lkFoRaltHObaARmAAAAIBG1JqPK/XO11uBjIk2+cVv3qTQ/IJs6b725c9Tb7C8HGMtXPzt7uV5cnnsdOL5lTtvcFCCgxO8KwfvzgEAAPyzMyEyKThYYQ4GeAMcpODdPTxtC1Jk80lKciaEdktmlyiTW6KC9laNzeKoqAfBAYn1XoqHwAQAAABsNciYaBPzMg6f10N/9NVXZas+D6+HKfR4iXoGvbT/VL/sLUtmovQoeoHc9m6a6HlC9gIAgMLLPDiTgo/mpzdfwFna3cPpri9IwVtyiuKUIhNCX5bBW3dWY+2ykZMDEDbOhNCzITg7YqMhMAEAAACNqDUfV+qdr7cCGRNt8HByin73zvuypTt++CA9efqkbNXnyrtTlEpkaeJgDw3tDsjesrz2Yvj+/HvifKLnKXLY3OIcAABW4oKZejbFyiCFyqToGfCQ06MHKXKFdGkZhghC5OOUL2TFmFkXWWTwQc+C4KPd6pKjmwuBCQAAANhqOjJjQrVr9bNO2pXjt++8R48m9X3jlT/43GdpaGBl1sNqPn79gTgefnJIbIlXDW8ZyluHjgVPkdfRJ3sBAGA1Uc6kmEuKJXNcSNPI7smTrTtO1kCMLM6VgQjejtNl7ya33U8Om1/slME7ZnQqBCYAAACgEeZ5t1mt8Vrz9maU10JsIvM/QrVr9TNextHqP75dzEEJh93ecFAiuay/GLZYukThtlocVn2nDi60BgAAa8sXs+QIpqh7T5xGnlgk/94Fsgfj2pOKHqDIJqyUnO6m+I0JWr45ToX5YfJ1jdOw/yjt7n2GDg6+QhM9Z6nfd4ACrqGODkoAAAAANGqteXWtcdXfjnl5RwQmOMJSjbnf2OaMiU4wOzcvz8p2T4zJs/rFFpLi6PY5qMtS+wvrtPvEMY3ABADACoVinhKZCIWXH9LU4hW6t/A+3Zl7mx5HP6H55bsUz8xTl3+R3LtCFDh5j4IHYuQdyIugMMunHBSf8tDUJw56/EmRwo9ylJKBYwAAAIDtqNZ8XKl3vt4K1Jho0Tsffkx37j+ULd3nXvgMTYyNyFZ9bn8yJ9ZDD4z7afeRXtm7Eq97fhg5J6q87+59SvYCAOw8xWKhVJSSa0PwVp2ZfEKOruS0+UQ9CH2XDL04pdHigr4FKd/y+crgt9tnF4WJeXcPl7d9W3uuByzlAAAAgK2m42pMqA+H28Z+Zmx3So0J824c7E+/+0dU/qjrc+F3jyifK9De4/3UN+KVvSsVqUD35t/X/v1Z2tX3dGlpBwDA9lYUwYfy7hgciKidOeawekXgQQUgnFZ/xfPJWmLhFIVneHePZfGz2cjjc5R293B3YJACgQkAAABohJpnm3e+ZMb5uZm6n3ne3gxkTLQgsrhIP/7lG7Kl2z0+Ri8//6xs1U8Vvjz+mdE1X+hOLV6meHqeRrtPkM85IHsBALYPDjyoHTJ4i04OSNRit7jJ5SjvjsGZEZYuqxxtXWwhJYpmclZbLmvKpPBykMItMil4KV4nQGACAAAAtpqO3JVDMfcb2+ZozmYEJj6+eImu3rwtW7oXn32K9u3eJVv14d/M3Tw/Sw6XjU69uHZ9ivn4XQonHlCfd6922yN7AQC2pkwuTkm5FIMDEGntvKi9VWOzOEXwgXfGcNo4GOHTngv07T43Av+8jswuUySUpFw2L3t1Lo9dBCh6hrxi6cdmQWACAAAAGlFrPq7UO19vBTImWvBffvATSmcysqX73re+Rk5HY781e3w7QjP3YxTsd9OBM2t/7EupWZqOXSW/c5BGuo/LXgCAzsc1IFRNCD5m8suiYGU11i6HCECo5Rh8tHRtXBBiLUsRDlIkKKzdqgUpeuRyD49/YzMpEJgAAACAraYjMyZUu1Y/2+waE4lkkv7rj38uW7qRoUH60ssvylb9rn80Q/HFNI3s7aax/UHZWxunNT8IfyTWUO/pe1rraU+UCgCgnbL5pB6AyOmBCM6MyBdzcrSShazkdgRLAQhelmG1dMbSiHpwJkV0jotnLlM2szJIIZZ7DHrJE1j/fxMCEwAAANAI87zbrNZ4rXl7M5Ax0aRLV6/TxStXZUv37BNn6PCBfbJVP1Vf4uCZQeruX3t/fK5E/yDykfYiP0G7e58W66kBADZTrpCSWRB6JgQvySjUCkJ0WcnFyzAM2RC8RGO7UJkUkVBiRZDC6baJpR685GO9MikQmAAAAICtBjUmmvT3P/sVLcXjsqX7o6++Sj5vY7tkZNN5+uStx+L8zMsTZLNXVkGtZTr2KS2lQjQSOEZ+15DsBQBYf7lChtJqOYbIhuBMiMplbUYeR48IRIjtOu0BsltdcmT7i0fTonAmBypWBil4uYdbBCq8bcykQGACAAAAGlFrPq7UO19vBTImmpAvFOiv/+sPZEvX19NDX/3S52SrfgvTy3Tv03lRKO34c6Oyd20Ly/e0233q9eymfl/jWRoAAPXIF7KlpRh84wKVuUJajq7ktnWT2xEgh9ghw48tjQ2WFzlIodekyKYrs0mcLpvYgpQzKbzdrWWPIDABAAAAW03HZUyoD4fbxn5mbG9mjYkbd+7SB+cuypbu7MnjdPLoYdmqHwclODjRN+Kjvcf7ZO/aOFuCsyZ8jn4aDZ6UvQAAzeOlF+UsCH13jGwhJUdXEssxeJtOq5+cdu1m88oRWAvXFYpykCKUoEyqMkjBOzT1isKZXvJ2N55JgcAEAAAANELNs82rEphxfm6m7meetzcDGRNN+Nnrv6P5cFi2dF//gy9ST3dAtup3+Z0pSieztOtQDw3uqv/+XF/ifvgDctg8tCv45IZulwcAW1+RCmTcHYNrQnCxylp4GYbb3q0vx+BlGXbUtmkXlUkRnUtozwcrgxRqdw9fnZkUCEwAAADAVoMaE034y++/Js90fp+Xvv2HfyBbjVGFL48+PdLwb8Z4Zw7eoWNXz5Ni3TYAQHXFchAipy/J4G06a+HlFxyEUIUpnTa/HIH1thzLiJ09uCZF2pxJ4eTlHm6x3MMXrF2nA4EJAAAAaESt+bhS73y9FciYaND9R4/p9+99KFu644cP0ZOnT8hW/RLaC9CrH06T1Wahs69MyN76TS9epaX0LA35j1C3e0T2AsBOx3UgktmYWIrBgQgOYNbisLrJZQxCWH3aE0x9RXhhfSWWMiKTggMV5kwKu8Mqsih6h7zkC1ZmUiAwAQAAAFtNR2ZMqHatfrZZNSZe//07NDUzK1u6Vz//Mg32118fQpm5H6PHtyMU6HHToScb/5jDiQc0H79LPZ4JGvAdkL0AsJOIWhCcBcEBCBmIqIW35HTbgyIAwYEIXpbBW3dC5+NAdji0TNFQklKJrOzV2R283EPf3cPf40RgAgAAABpinneb1RqvNW9vBjImGmRexuF0Ouh73/yabDXm1oUQLS4kaWhXgCYO9cje+i1nFmgyeom8jl4aC56WvQCwXXHmA994WYYIRmTjolZENdYuO7kdQXKLAISeDYEgxPbAmRS81CMSSlQJUljp/9mbEOf/l2dIe5EgTvUXDdobH7mLn/j1FxBan/ZWGjNdx/RrtZvpOjEij/qYvI7/4pcWakw7lh+zfD85XHFdacxwXWlMXMtdhutEf+X7MF+nj4kunRqTDy/G1KB2Is7VCyy9od3F8PgAAABbWC6rv3a02TsrQxY1JhowNRui1998W7Z0B/ftoc889YRsNeb8bx5q/44i7TvRT73DjVezz+ZTdH/hPbJanLS792ntaJcjALDVcYFbPfjAhSk5ILFEhWJejlaydNnI4wjqu2Twcgx7gKxaH2x/yXhWLPXgJR8qSPH/Gta3c/1/z7S27SjUJl6JyNcjfOBXUurlih7QkOfiL70hDsYIidZRuo9+KF/EY3qPdqpfpwIjle9Lu2lv4mHFNYYxfqvo0wfUuGxqbdVhGBOD8jWX4Tq9l6nXY+XruFl6X+JEu/HBcD8xxuRFlWPyMbSGuo77ykGt8nXivtpbacx0nVDjOvEoFWN6Uw2VxrRj+THL96t2XXlMOy/9A+SYuJa7ytcx/W+NGjNfx7TzFdfpp/rlapCvk5181Mf4RO8QYwCw48WjaXp0KyKKblusFgr2uWl4Xzd5fHbtx4X6eVZdvfP1ViBjogFvvf8R3Xv4SLZ0n3/peRofGZat+hULRTr3m4fi/OQLY+R0NzeJeBg+p01aYjTRc1akaAPA1pPJJSmT57oQ+rIMXpKRL1bWFFC6yKIHIbgmhAxEWC2NbykJ208inhFLPf5pQl9u+K9TXBRZn5yUnun5RHsBoT/1yzF9GlNxnXqhUe06MSaPirpOv5+4XLT5xDimiOu4TzwmAGwE7X+k9pf4WzT0sIdhUiEPTPWJg/5fWKd1GC8XPydES/ubx8S5OJVj6meJ3qfGtL9L5+Lh1Rj3q3Nx1BtqvDS24jrGJ/LfUxpT/8rq13FfaUycaDc+VLufvKhyTD6G1lDXcZ/6dxuvE/fV3kpjhuv4AfS2/jjiXPaJcXGlHBOPUb7O+M5F03Cd3ikPPCYu5cfU+4yXVD6m3qnet7qD/rdGjcnrRJca1E7U3cpjfK3+OFWvk++j6nXQFvzLi0/fnxafav7e4sAEF9W2Oy2093g/OVybn1XbcRkT6sPhtrGfGdubUWPCvIyD3/effufbstWYxfkk3boYEgEJDkw0ayZ2nWKpaRr0H6Kgu/nHAYCNwZlOYjlGLkapTIzS+WXKFzJydCWPPSiWZPDOGC7tZrPit+Cwuq1YY0I89fNf2vOqeK5XfdpJaUwd+C95nd6p3apdJ060mxjTTmQfH9T7UHcU18vH0Mf4hb/h45BHMSavK42Jtv4YpT7xl3YQf+tNMcY9slNeoh35MeW/R/Xxm3ZeejwmOvTrKsb0BxYqxmSbz7mn8jErr2P6tSuvE/etGJPn2lHdV9yhynXiUfhY+rrK+5XvWDqvdr/SdXxS+prLMe1NnfNRH9NVu4771PtX1HViTD0U047qOsPl+nV8vXhMANgI2n9N7S/xt2jw/0H+T6rmgPoFOtUnDvzfVI1pHcbLxc9c+Rj6///y/SrH9L7SmPYmHlY7V0fG/ZV9ckA+TnlM9VfeV70/dTdxLj+u0pgYVOdqTN7F0CfGSx+4OhIthZO0HOPMSv1eFmsX2R0Wsjms1D/q1W5c/LxrxaoEpn4e6u+7kvr8GT+PzULGRJ0WwhH66eu/lS3d7okxevkzz8pWYx7djNDswxgFB9x04HTzH28k8Yjm4rdFUIKDEwDQOXKFTHk5hsiGiGt9epp9NbxFJ2c+cVFKzoiwW2tvCQlQC4pfAmwM8UJce9MDFfpkQLysli/SRbe4ToyKo36ZYUzv0vv4sdRYleuEWtfpJ9pBjel9fC66+a7lO+hj/KbGuIuJjpX3M1/H42oyYryOz8SYPIpBPpePIYg7GD4O7Siu1c5L1Jjpfnwuriq97/LXQI2px6ocK39M6uH0a/XrjdeJET7K92G8Tt5LHGvdT5wyPpGPURqT99UvUmO6ateV3keV6/QxrS16NdqJuo4PpU+x6OA/qgFAImNCBSa4cPb4gcbrHbYbakzU6cPzn9D123dkS/fSc8/Q3l3jstWYqx9MiwJmY/uDNLK3W/Y2bjkTpsnoJ+K3quM9Z2UvAGy0fCErgxCqLsTSqkEIzn4oZULY/eSweuQIQGsQmAAAgNWI2R//pQInokObY6lghviLj3yq/aWuk30qIqL6+GCcp3GHPqTdj994jM8NR+2gXyP+0q9T56w0Vu06pg5qTF6n3ocYE48pTivG9MdQD6xfYvzYSo9R8Zgrr2N84H92tev4AURbOxfXVYzJhryvfp0a06+seAwxzn/rDeN1oksOMR4zP14ynqFsplyrTAUmeDkH/6J8cJe//PWrQjxmlfFa/c1AxkSd/tNrP6JcrnLN9z/89jfIbm+uNsTHrz8Qx0NnBynQ5xbnzeDfyN5feF9U29/V+5TYDhAA1lehkKN0Xt8dI8k7ZGTjlC0k5ehKDquXPI4esUOGw+Yjp63xYrcA9UJgAgAAAIx4J0jeEVIxZkzsPtJLHv/m1yvriD1CzLER1a7VzzhjYqNiKkvx5RVBiZGhwaaDEumk/lgcXfJ2txZIsFkc4jeuHKDI5JZlLwC0C++EkcouimVT04tX6f7CB3R7/i16FLlAc/E7FE/PVQQlHDaPWFo1HDhCe3qfoUODn6M9fc/QoP8g+V1DCEoAAAAAwIbq7nPTxMGVyzWGdvlFUGKteXWtcdXfjnk5MibqcPHKNbp09Zps6Z576iwd2rdXthozPxmn+9cWyKt9Exx9dkT2Ni+0dJOiyUka8B2gHs+E7AWARnFqX8VyDO2YydcO+HENCI+9R98hg7fptPnlCMDmQcYEAAAAVJNN52kpkuYoAPmCLnI4N383DqUjMyYUc7+xzRkTG+XOfX3ZhVEzW4QqsUhKHD3+9iy7cMjfwCJjAqAxHHiIJiZpNnadHoQ/pluzvxNb8HKwL5aaqQhKcHaS3zkkiszu6nmSDg68THv7PkNDgSPU7R5FUAIAAAAAOprdaaXeYQ/1DnkrghJr5SrUO19vRUcEJmoVzDD3G9vmbUzWSzabpeVEQrZ0fb095HE3XxdCRKk0nu72rOVxWmVgIl/5cQJAGdeBWExOiaADBx9uhn5HDyMfUyh+kxZT0yJTQlQK0lgtdvI7B0UW0kTPE3Rw8GXa1/8CjXQfE8s0OEOiq6sjfnwCAAAAALRkrQKW9c7XW9FxGRN8rtrmCIyxvVE1Jm7duy/PynaPj8mz5mTTeo0JXsrRDg67T/w2VxTgy9cuwAewU6RzyxRLzlBo6RY9ipynW6E36UHkI5pduiGWPaVyMe0q/ecHF471Ofup37ufxoNn6MDAZ2l//4s00n1cLI3iLTy7OuNHJQAAAABA26l5dbVVCTxWa96t+tsxL++4jAk+V21zBMbY5owJ8/h6uHP/oTwrmxhtvi5EfFHPlrA7rOQJtCcwYe2ykdPmowLlsZwDdhzOFIqlZmkufpseRy7Q7bnf04PwhzSzdI2iyceUzC5SUfvfwXjDJY+jl/q8+2g8eJr2D7woAhGj3Sep17tL7JzBgQoAAAAAgJ1CzaurrUrgsVrzbtXfjnl5x2VMGJn7je2NqjERiS7KM53f56PuQPNryWMLen0Jt88uju3isHrEkX9TDLBdZfMpWkqFaD5+lx5HP6E7c2+LXTJmYlfFrhmJbFTsoqFwoKHft5fGuk/R/v4X6ODgKyIg0efdLQIU1q72/j8EAAAAANhq1sp4qHe+3oqOy5gwMvcb2xtRY6Ja0cvdE60t44hH9YwJb6A9hS8Vp90njghMwHaRy6cpnp6nheV7NBm9RHfn36F7C+/RdOxTCiceUCITpnwxK68mctsD1OvZLbIf9vU9L7bp5KUZvZ495HX2kdWy+fszAwAAAAB0mrUyHuqdr7eiIzMmVLtWP9uIGhPVlnHsGhuVZ81ZUjtytGkZh+IoFcBEYAK2nnwhQ8vpBQov36epxct0d/5durvwrjhf0PqWMwuU065ReAcMrv8wEjhOe/ueE0GIiZ4nqd+3T9SLsFnbG/gDAAAAANiu1ppX1xpX/e2Yl3dkxoRq1+pnG1FjYiY0J890TqeD+nt7ZKtx+Vw5mOLrbn/GhN3iEsUvEZyATsZZDsuZMIUTD2l68VO6t/A+3Zl/hyYXL9H88j2RJZEr6JlFjJcp9XjGRTHKPX3PiiDE7t6nxI4Zftcg2a3N75ADAAAAALDTrTWvrjWu+tsxL0eNiRoeT03Ls7Ld4+PyrDmxsKwv4bWLPWTbiXcN4OAEr69PZxGYgM7A34+JTETUf+A6EFwPgutCTEY/ofn4HVpKhyp2kuEgRLd7lIYDx0pBCD4O+A6K7TtVLRUAAAAAAGiPtTIe6p2vtwI1Jmqovoyj+d04mApMeNq0TagZlnPAZioWC5TMRMVOGDOxa2JnDN4h43H0otgxg3fO4B00FJvFSQHXMA35j9Ce3mdKQYgh/2GtfwhBCAAAAACADbBWxkO98/VWdFzGBJ+rtjkCY2yvd42JB48n5ZnOarHQ6PCQbDVnWRa+XK/AhNOmByZQABPWX5FS2RgtJidpduk6PQx/TLfm3qRH0QsUWrpFsdRMxfehtcshgg0cdOBlGByE2Nf/PA0HjlK3e4Qc8nsXAAAAAAA2lppXV1uVwGO15t2qvx3z8o7LmOBz1TZHYIzt9awxEZpfkGdlu8ZbK3rJEnG9eF+7C18qanKXzSe0aePGbKcKO0Mqt0Sx1DSFlm7Sw8g5uhV6UxxntfZiclqMKxaykt85QIP+Q7Sr50k6NPgK7R94QSzP4GUaXLgSAAAAAAA6g5pXV1uVwGO15t2qvx3z8o7LmDAy9xvb61lj4m7VZRytbROaSuTE0WqztL3wpcKp73zjGhMZZE1Ak9K5uAg2zMVv0aPIebEcgzMiZmLXKZqcFJkSRe2NWbQ3r6OPBnz7aaLnCTo48DIdGPwsjXSfoKB7jFz2gHbV+gQQAQAAAACgdWtlPNQ7X29Fx2VMGJn7je31rDFx+/4DeVY2Njosz5oTW9AL/Ll9duqyrM9EratLL4DJ80As54B6ZHIJsexibumWqAVxe+4tehD+SCzPiCQeUzK7KApYKh57D/X79tN48AwdGPgsHRh8mcaCp6jHs4vc9m7xPQgAAAAAAFvHWhkP9c7XW9GRGROqXaufrVeNicXY0opsjLHhIbJZW9tFYykid+Twrc8yDkUVDETGBJjx7hdLqVmai98Ru2LcmX+b7oc/EIUqI8nHYveMQlHP7GFue5D6vHtoPHia9g+8KOpCjPecoV7PLvI4esjS1d6dZQAAAAAAYOOtNa+uNa762zEv78iMCdWu1c/Wq8ZEtWyJdtSXUIGJ9VrGoZR35ihvwQg7T66Qonh6jubjd0UQ4u78O3Rv4X2ajl2lSOIhLWfClC9k5dVELluAej27abT7FO3vf0EEISZ6zlKfdy95HL1k7bLLKwEAAAAAYDtZa15da1z1t2Ne3lVsR3ijivn5BfrhD39OV65cp2w2S36/j15++Xn64hdfJpvNJq/S8YdQ7R9j7je2OavBuJxjejokz4hGRgblWeO+/8OfUiqt756hfOcbXyW3q7WAwsev6wGP458ZJbd3/SZ5nJrPvwXnzIldvU+Spavycw3bT66QEXUf0rkl7RgXx1yh8nvYyGn1kdfZQy5bt6gBYbOub7AMADbWq1duiuMvThwSRwAAAIDV1JqPK/XO11uxLoGJhYUw/fmf/wX19/fRn/7pdygQ8NPFi1fob/7mNXr66TP0ne98s23/AKUdgYlkKkV/+6OfyZZuoK+XvvKFV2SrOZwtcePcLDldNjr5YmtFNOvBNQK4gCEXI+R1/7B9cJaDHoSIi50w0tklyhb0bJxqOEDFyy745rL7yWZxyREA2K4QmAAAAICtZl2Wcly4cJmWluL06qufp2CwW2Q2PPHEKXrppWfp8uVrtLgYk1fqjLERPldtc8zE2F6PGhN3qu7G0foyjlhY1ZfYmHT40nIO1JnY0rjeA9d94KUX04ufiqUYXBdicvESzS/fFUs1jEEJu9VN3a4RsS3n3r7nxHKMPX3Pim07fc4BBCUAAAAAAGAFNa+utvMlj9Wad6v+dszL1yUwkTYthVCCwaA2lqF4vHLCbMye4HPVNmdVGNvrUWPiTpX6EhNtrC/h8a9v4UvFaUdgYqspFguUzEYpkngkilHeX/hA7JDBO2VwscqldEgUr1RsFif5nUM0HDgqgg8chOBgxFDgCAVcQyJIAQAAAAAAsBY1r6628yWP1Zp3q/52zMvXJTBx8uQxsttt9NprP6FIJCr6MpkMXbhwicbGhmlwsF/0KWtFYBRju1o0pxX82Lwjh1G3308Bn0+2mheP6oEa7zoXvlScNv1jxpahnaootuGMJidpNnZdLL25NfcmPYpcoLn4bbF9ZyafkNeSKDzpdw7SkP8w7el9WgQh9vU/TyPdxyjgGi7txAIAAAAAANCotTIe6p2vt2Ldil9evnyV/uqv/pYymSydPXtSZErcvn2X/tk/+zM6cGCvvKp+KhBR68MNhRbkGdHgYJ88q85aZevPW3fv03sfn5ct3cmjh+nsyeOy1ZxsOk+fvPVYRJFOvTRGdsf6b7GYzae0ye6H2oTWRrt6nyKrZWMyNaC6VHZJL0wpa0LwsRYuVupxBMlj7yG3o5ucNr8cAQCoD2pMAAAAwFazLoEJDiL88pe/od/85i2xAwcv3eB388ILz9Af//HXyeGonCjzmDH9Q7WN/YuLS5RItL4FJgclHI6VO1W8/eE5Ckf17A7ls889Q8FAaxPDTDJP8cU0WW0W6u7fuDX+iWyY8sUseWw9CExsoHwxp33/Z8XnnmtE8K2ovVXTpb1Zuxza18cuvkbYkhMA2uEfPJ4Vx/88PiSOAAAAAEZcB9LIPB83qzVebd7erHUJTPzkJ7+iN954k773vW/Tc889RbOzc/SDH/yMrly5RkeOHKR/+k//MbndjU3S9eCGbJgmety/vFxetuDxrJ7aXu19/+cf/Fie6VxOJ33rK1+WreZN3VmkSChBwQEPjR3YuB0yFhL3RHHEXvce8rua3z4VassVU5TOLlMmr91yCe0Wp4L2VpX2Pcpbc7q1m5NvokBpa/95AQCq+cbNe+L4o0ONZycCAADA9udwdN4vRNsemIhGF+l/+9/+He3bt5v+7M++V4qc8Lv58Y9/Sa+//iZ997vfohdffFb0Mx5bLQKjGNuclWEsztHKdqEPH0/R7959X7Z0h/fvo2efPCNbzbvy7hSlElnadaiXBndtXFo+F1HkegVB1xgNBpDO2youPGlcisFHzo6ohbdp1ZdjBEVAwtK1/kt4AAAYlnIAAABAI2rNx5V65+utaHvxy4WFMMXjcerp6a74IPn89OkT5HQ6KRwOy15drX+Mud/YrlYxtFnVduPYPTEmz1rDQQm2UYUvFYdN7sxRKBdRhPpwjY6lVIgWlu/SZPQTujP/jtiqk7fsDCceii08jUEJl81PPZ5dNB48Tfv7XxTFKSd6nqA+317yOHoQlAAAAAAAgI5Vaz6u1Dtfb0XbAxP9/f3k9/spElkUERQjXm6Ry2VXLLUwXsfnqm2+v7HNGRPm8WY9mpqWZzqr1ULDgwOy1bxELCOOXPDSE9jYdBnemYOLX/LOHLmCvl0prJQrpCmemqP5+F2aWrxMd+ffpXsL79F07FNaWH5Ay5kw5Qv615E5rF4KusdprPsk7e9/QQQhuMDogG8/eRy9ol4EAAAAAADAVqHm1dV2vuSxWvNu1d+OeXnbAxPd3X569dXP08WLV+jv/u4nlEgkxAd6//5Drf1jGhsbpeeff1perTNGWvhctc0RGGObMybM482YCc3Js7JdY+3JlliK6AEBt8/elo+1ETaLgxw2n5hUY9tQHX8u4ukFWli+T9OLV0QAggMRU7ErFE480MbmRaBC4W04g+4xGgkcLwUh9vQ9Q4P+g+R19qOoKAAAAAAAbHlqrlptVQKP1ZrLqv52zHXXpfglP+TVqzdETYnp6VnK5/Pk83nFUo5vfvMr5PG45ZU6vr7aP8bcb2y3q8bE2x98THcfPJQt3SvPP0e7xkdlq3m3LoZocT5JQ7sCNHGoR/ZunNDSTYomJ8Vv83mpwU6SL2QrakJkclyksvayFrvVpdeEsAfJ4wySzbJxO6gAALQTakwAAABAI2rNx5V65+utWJfAxGZoNjDxl99/TZ6V/ZM/+VZbalhc+N0jyucKtO9EP/UO6zUfNhIHJTg40e0eoSH/Edm7/RQKOT0Iod1S2Thl8vFVs0Q4m8Rt7yGvUw9E2K2VgTIAgK0MgQkAAADYatq+lKMZ5tiIatfqZ+2oMRGOLsqzsvHR4bYEJYqFoghKsI0ufKnoW1KS2MpyuygU85TMRCmaeEwzsWt0f+FDuj3/Fj2OXqS5+B1aSs9WBCW45oPfOUiD/kO0p+9ZsRxjX/8LNNJ9jAKuEQQlAAAAAABgR1trXl1rXPW3Oi9nHRGYMKd/qHatftaOGhPVduNoV32JxbBeX8LlsZPTbRPnG81h94nsAJ6o83aXW02xWKBUNkbRxCTNxq7Tg/DHdDv0Jj2KXqBQ/BbFUjOUyZeDELz7hdfRTwO+A7Sn9xkRhOBdMka6j4taEVwzAgAAAAAAAMrWmlfXGlf9rc7LWUdmTCjmfmO7WsXQRlULTEyMjciz1sRlYIILX24W3pWDd+coFHNbogAmL8dYTE5RKHaTHobP0a2539PDyDkKxW/SYmpaLNXQvuvFtV3aG2/F2e/dJ3bF4CDEgYHP0ljwJPV4JkrbpQIAAAAAAEBta2U81Dtfb0VHZkwo5n5ju9XlFsuJBGUyWdnSDfb3kdPRnp0W1I4cHv/m7tygsgQ6LTCRzsVFxkNo6RY9ipynW6E36WH4Y5pdukHR1CSlcjHtqvI3uh6E2EsTPU/QocFX6KB2Gw+eoV7vbnLZ/PIqAAAAAAAAaMRaGQ/1ztdb0XEZE3yu2uYIjLHdao2JO/crd+Jg7diJQ1leyoijN7C5gQmn3SeOvCvFZuEaF7HULM3Fb9PjyAW6Pfd7ehD+SNSIiCYfUzK7SEUqZ8C47QHq9ewWgYeDAy+LbAg9CLFHG+vWrmjffwAAAAAAAICdTM2rq61K4LFa827V38q8XOm4jAk+V21zBMbYbrXGxHrWl0gnc+JotVo2rfCl4pAFMLNiq8zWv2HWwrUsllIhmo/fpcfRT+jO3Nt0P/wBzcSuUiTxiBLZqChgqThtfupxT9BY8LRYisFBiImeJ6nft09kSXR1dcS3KAAAAAAAwLak5tXVViXwWK15t+pvZV6udFzGhJG539hupcZELp+npXhlBkGwO0A+b3uKIy4Z6ktYbZv7KeaMCbvFJZZytHs5R66Qonh6nhbi92gyeonuzr9D9xbep+nYpxROPKBEJkz5Ynm5jNPmpaBnnEa7T4qilByE2N37FA34D5DX0SuKVwIAAAAAAMDGWSvjod75eis6LmPCyNxvbLdSY+LOvWrZEu1bxrEUTYvjZha+VLq0LzEHJ3ipRCvLOXKFDC1nFii8fJ+mopfp7vy72u09mlq8TAuJ+2KMr1G4tkW3e5RGAsdof/8LMgjxDA36DpLP2S+28QQAAAAAAIDNtVbGQ73z9VZ0ZMaEatfqZ63UmKi6jKON9SVKhS8Dm7uMQ1HLOdI5Xs6xtnwhK7IdOOthevEK3Zt/X2RDcFbE/PI9imfmKVfQgy/MZnFSwDVMw/6jtK//eRGE2NP3LA35D5PfNURWy+bW2QAAAAAAAIDq1ppX1xpX/c3Oy406MmNCtWv1s1ZqTMyHI/JM53G7qTcYlK3WZVJ6jQnvJu/IofASCqbXmajEW4kmMlFR/4HrQNxf+IDuzL8t6kNwnYil9BxlC0l5NQchHBRwDYmgw96+50QQgoMRw4GjFHAPiyAFAAAAAAAAbA1rzatrjav+ZuflRh2ZMaGY+43tZmtM3HvwSJ6VtTNbIr6oZxI4XDbybPKOHIpDBiZ4KQfvgBFNPBY7YjwIf0i3596ix9ELYscM3jkjYwheWLts5HMO0KD/kFiGoQchXqDhwDGxTMNudcsrAQAAAAAAYCtaK+Oh3vl6K3ZcjYnqu3G0LzARWygXvuwUXO+Bb+n8Mj2KnKdQ/BbFUjMVxTAt2pvX0UcDvv20q+cpEYTYP/ASjXafoKB7rJR1AQAAAAAAANvHWhkP9c7XW9FxGRN8rtrmCIyx3WyNianZkDzT2Ww2Gh4ckK3WxUuFLzunrgJvuckFMEu0TxvvgtEvghBPiiDEgcGXaSx4ino8u8hl98sLAQAAAAAAYDtT8+pqqxJ4rNa8W/U3My8367iMCT5XbXMExthupsbE5MysPCtrZ7YEW4rqGRPeDlnGoXhnwjSRDNJ+5wk6NPQ5Gguepl4RhAjIKwAAAAAAAGCnUfPqaqsSeKzWvFv1Nzovr6bjMiaMzP3GdjM1JtZ7N458rkDFQpG0L13HBSZs4TAVpx9S+tq7lHj/h5S88GvK3L1IufnHVMjowRQAAAAAAADYWdbKeKh3vt6KjsuYMDL3G9vN1Ji4//CxPCubaGd9iXC5vgQXv+wUubmH4tjl9pG1u5/IaqViOkG50APK3D5HqfO/pMRHP6HUjfcpO32HCsuL4noAAAAAAADY3tbKeKh3vt6KjsyYUO1a/azRGhPmLULZ+OgIte9TSbRkCEx0kuzMHXG09oyQ8+gL5H7yK+Q89gLZdx8ja98odTldRPk8FSKzlH1whVKXfyeyKlJX3qTso6uUXwxpn/zmdkEBAAAAAACAzrXWvLrWuOpvZF5eS0dmTKh2rX7WaI2J9d6Ng6mtQjspMFFILVNxOSbObX36v7fLYiVroJ/sIwfJefBpcp/9A3Kd+hw59p0h2+Bu6vLodScK8ShlJ29R+tp7lPjgx5S88CtK3zlPuflHRFks/wAAAAAAANjq1ppX1xpX/Y3My2vZMTUm7tzXlzMYtbO+BEssZcTR2+0Sx06QK2VLDJPFGxTn1Vg8ARGU4OCE+9TnyP3El8l56GmyjR4wLP9IUn7uEWVun6fEuV9S4sMfU+r6e5Sbvk2F5ah8JAAAAAAAANgq1sp4qHe+3oodUWMithSnXC4nW7rB/j5y2NuX2ZBazoqjzW4lb6BzMiZyM/fE0do7Io716nK4tfuMkmPX8crlH7sMyz8KBSpEQ5R58CmlLr+pL/+4/DutfYXy0VltPC8fDQAAAAAAADrRWhkP9c7XW9FxGRN8rtrmCIyx3UiNibsPVmZL7J4Yl2ftYSx8abF2xKeVcguT4mhxecnW21p2SGn5x+gayz+WFyk3fYfS19+nxIc/oeSFX1L69jlRgLOQTohrAAAAAAAAoDOoeXW1VQk8VmverfrrnZevpuMyJvhctc0RGGO7kRoTVZdxtLm+xFKk8wpfcoCAWXqHiazt3yVkteUflkCfXP6Rovz8Y8rcuUCpC7+mxIc/otT1dyk7fQvLPwAAAAAAADaZmldXW5XAY7Xm3aq/3nn5ajouY8LI3G9s11tjIp3O0HKi8jf1we4AeT1u2WqPeFQvfOkNOMVxsxWzKSrE9Z1IbD2NLeNolnH5h+vYi+R56g+rLP8oUiE6R9kHV0vLP5KXf0vZh5+K5R/FnL4kBgAAAAAAANbfWhkP9c7XW9FxGRNG5n5ju94aE9V249g9PibP2ieb0espeAIOcdxs2anb4mgJDpDF3yfON1yXpa7lH7xrCH+8vPwj+fHPKHkeyz8AAAAAAAA2wloZD/XO11vRkRkTql2rn9VbY6L6bhztDUyoZRwuj53c3s5YypGblUUvNyhbol51Lf/ImJZ/fPAjSl17l3JTt0pZIAAAAAAAANC6tebVtcZVfz3z8rV0ZMaEatfqZ/XWmIgsLsozHS/h6OnWf1PfLkuGwpedIB+Z4ciNWDrRatHL9bZy+cdXS8s/LL0j+vIP7Ru9sDhHmYdXKXXl9/ruH5d+S5n7l8W/tZjVt2kFAAAAAACAxqw1r641rvrrmZevZVvXmNioZRxLEb2+hNvXIcs4ZvSil5wt0WXvjJoXddO+qdXyD9ehZ1Ys/+CMC1ZIxCg3c5fSNz6g5Lmfa7dfUPrWx5QLPaBiallcAwAAAAAAAKtbK+Oh3vl6K7Z1jYlqgYl278bBlqJ6xoS3A+pLcPHIwuK8OO+0ZRzNMi7/4CCF+8k/qFj+UdS+F4rZNOUXJilz9yIlL76uZ1VcfYcyj29QfimsfWLqK5YKAAAAAACwk6yV8VDvfL0VHZcxweeqbY7AGNv11JiYCekTdMVus9HgQL9stUc2nRNHDpR0QuHLnMqW6O7XbgPifLvpsrsqln94n/n6yuUfmkJsnnKPr1P607co8cGPKXnpN5S5f4nykWkRyAAAAAAAANjp1Ly62qoEHqs171b9a83L69FxGRN8rtrmCIyxvVaNiUdT0/KsbPfEei7jsJPdYRXnmyk7c1cct0u2RL3Myz+4sKZ5+UcxsUS5mXuUvvGhWPrBS0DStz6iXOg+FZJxcQ0AAAAAAMBOoubV1VYl8FitebfqX21eXq+Oy5gwMvcb22vVmNiwZRyGwMRmyy+GiHJZIrtjxwUmzHgr0srlH69W7v4hln9kKL8wRZm7n1Dqkzfk8o+3KTt5gwpLC9o3mb4FLAAAAAAAwHa1VsZDvfP1VnRcxoSRud/YXqvGxMPHU/KsbHy0/ZN1tVWopwMCE9lpQ9FLp1ucg46LgFbs/mFa/kEOvUhoIbZA2UfXKfXp25T48CciYJG59wnlw9NUzCTFNQAAAAAAANvFWhkP9c7XW9GRGROqXaufrVZjYnausrYEW49sCZZKZMXR263XNdgsxUKeCtGQOLfxRBvWZFz+4Xni1eq7fyTjlJu9T+mbH1Ly/K8o+fHPxDn38c4gAAAAAAAAW1mtebVSa1z1r3X/enRkxoRq1+pnq9WYuPvgoTwr2zXe/sBEIpYRR4fTRp7A5mZM5GVtCYu/l6zBIXEOjVmx+8dTXyHnoWfIblz+kcuK7AnOokhd+m1p+Ufm8XXKxxaomNcDVQAAAAAAAFtBrXm1Umtc9a91/3psyxoTd+5XCUyMtb/wZUwu4+D6Eu34YrSiXPRyWByhdV02B1l7R8hex/KP3OMblL76NiU/+hklP3mD0mL5xxQV0glxDQAAAAAAQCdaK+Oh3vl6K7ZdjYn4cmJF0GJ4cIBstvbvmBGPdkbhy8JSmIqZlPZJsZKtb32WrIBuxfKP059fuftHMk55sfzjI0pd+HVp+QcHjwrLUXENAAAAAABAJ1jrl+z1ztdb0XEZE3yu2uYIjLFdq8bEdGhWnpWtV32JuCp86XeI42bJzuhFLzko0eX0inPYGBa3v2L5h+fpr9Zc/pG9f5lSl9/Ul398+hZlHl2jQmxe7A4CAAAAAACwGdS8utqqBB6rNu9mqr/WeCM6LmOCz1XbHIExtmvVmJia1QtAGq1HfYlCoUi5nP6F83brKf2bhbe8ZDt9i9COYLXVt/xjKUy5yZuUuvoOJc/9nJIXX6fM3Yva13KSiqllcQ0AAAAAAMB6U/PqaqsSeKzavJup/lrjjei4jAkjc7+xXS2ak85kKJOtLD7YGwySx93+rTNjYX3rSLfPQU63TZxvBrVFqMXbLSbE0HlWLv/4wsrlH6llyoUeUPrWxyJIwVuVpm98QDm1/KNYu6YKAAAAAABAs9bKeKh3vt6KjsuYMDL3G9vVojnTs1WWcaxDtgSLRzqjvkRuVu7GgWyJLcPi9lXu/lFl+QcV8pSPzFBGLf/44MeUuvJ7yjy8SvnFEBWz+vcfAAAAAABAK9bKeKh3vt6KjsyYUO1a/axajYmp2Tl5VrZ7vP27cbAlGZjw+DavvgT/Jr2YSmjfEUR2FL3csrqqLv94USz/EFkwavlHPEK5qVuUvvYeJc/9gpIXf03pOxcoP/+YCsm4uAYAAAAAAKAR5nm1Wa1x1b/W/evRkRkTql2rn1WrMbGcrNya0ef1UHfAL1vttRyTgYlNLHyplnFYe8eoy70+/07YHNZAn1j+wZkUvPzDfeaLZN972rT8I0H5uYeUvn2OUp+8QYmPePnH+9r3xW1Rw4KzLgAAAAAAAFZjnleb1RpX/Wvdvx4dmTGhmPuN7Wo1JszWazeOdDInjja7hbzdmxeY4N+UM9SW2P66XF6yD+0pL/945msrl3/kefnHLGUffCp2/eA6Fakrb1Lm4aeUj85SMaPXRQEAAAAAAFDWyniod77eio7MmFDM/cZ2tRoTZrsnxuVZe6llHFz40mrbnE9hbvaeOPJvz20ITOw4XRbryuUfx6st/4hSbuo2pa+/T8nzv6LkhV9R5s55ys09pEIiJq4BAAAAAICda62Mh3rn663ouIwJPldtcwTG2K5WY8LIYbfTQF+vbLXXUiQljptZ+DI7oxe9FJPQro74MsIms/pNyz/Ofmnl8o90knJzjyhz5wKlLv2WEh/8iNLX36Ps1C3KxxaomK/c1QYAAAAAALY3Na+utiqBx2rNu1X/avPyenVcxgSfq7Y5AmNsV6sxYTQxMizP2i++yYEJ/k13URY7tPas378TtrYup6di+Yfn2a+T89DTlcs/tB8i+WiIsg+vUvrq25T86GeUuvI7yjy4QrnwNBXTlXVbAAAAAABge1Hz6mqrEnis1rxb9a82L69Xx2VMGJn7je21akyM+4PyrP3SKb3GhNevp8tvtJwhW8LiXb9/J2wzXRbte2a0YvmH68Rnqyz/WKTc9B3K3PyQkhd+TYnzv6D0nXP68o/lqLgGAAAAAAC2h7UyHuqdr7ei4zImjMz9xna1aM7h/fuov1dfvjFM65PNEF/U60s43XbyBDan8GVu/qE4IlsCWmXx9VQs/3Cd/fKK5R+USVN+7rG+/OPym7T8wQ8pff1dsfyjEJunYi6jXwcAAAAAAFvOWhkP9c7XW9FVbGeYo0n8IRj/Uapdq59xxgSfq/b0dEgcWe7+NPXb3OQ8OqFNvNyytz1m7sfo8e0IBQc8dOD0gOzdOByUyNy+IHZpcJ98hchqkyMA60D7P5eLzFAxHqZ8PEIF7ab955ODZRZvN1kC/dr/t16yauf8/QkAm+PVKzfF8RcnDokjAAAAwGrM826zWuO15u3N6IjARDsYAxN9iTzlw0tkGwqSfdeg7G2PWxdCtLiQpNG93TS6f+OXUSQv/5aKyzGyjR4gx67jshdg4/ByjvzinAhS5ONhkVFh1uVwiUCFlYMVHLTg7AsUaQXYEAhMAAAAwFazLWtMWLs94sjBiXYr7cjh3/hlHMXUsghKMGsPtgiFzcF1TSp2/3jyD8ix9zRZB3aVd//IpCg//5gydy/K5R8/pvS1dyk7eZPyiyEqZlcGMwAAAAAAYOOtlatQ73y9FdsyY2Kor4cy1x9RMZ3TJk9jZOluT1p5PlegC797JNJUTr4wSg7Xxi6jyNy/RLmZe2TtGSLn4edkL0DnyUdnRf2JVZd/eAJ6VoW/l7o83WRx++QIALQCGRMAAABQTS4UpcLiMhW1+awt6CNrv6wp1wE6rsaE+nCqrVUxtlerMTEyMkjZB7PaJ36RbNon2763PUUiI6EE3bk0R96Ak44+s/GFJxMf/ZSjI2L7Ry5OCLBV1LP8g2wOsnYP6Ms/OGjh7SayWOUgANQLgQkAAAAwy9yapHx0WW9YLWSxWcnS4yP7xEBpns1zbPMmE8b5uZm6n3ne3oyO25WDz1Xb/I8ztvkTZh43sgT0LIncQoyKhfbEXkrLOHzrs+PHanILkyIo0eV06Vs7AmwhK5d/vCoCbMblH5TLUF77Ps/c+4RSn75FiQ9/Qqlr71B28obIwChmkvp1AAAAAABQt9xspByUYDLYUIgntf54aV5dbedLHqs171b9q83L69WRu3Io5n5j2xzNMWdMFPMFytx4TIXllDYBGiZrX+tpKlc/mKHEUpomDvXS0C6/7N0YqSu/F79ttg3vI8eek7IXYPvg4ANnVRQ5u6LG8o8ut09kVfA2pxZe/qGCGgBQgowJAACAOohpsDa3LBbEaRcV+VQ/am0xTeb5pzpn/AtveS7mprKPz1VbHNV9+MbEuX40Xicejxn7tb7SON8MfeI6+f5UWxz4cbQ/6mMXDe3fUuR/ELfzee0v8aj60dJFFruNSLtZAm6yjfatGlwQ76+O+XortmWNCQ5MsOyjOcrNRMga9JLj4Jjoa8XHrz8Qx8NPDpO/xynONwL/pjh5/lfi3HX8RbL4+8Q5wHZWSMREsGL15R92PVCh/Z8QgQpvgLqsG5/RBNBJEJgAAIB6qQlutclwxaRZTHzLbcEwQTY+jnqM8uPxiRjU/uK0/4I2CdVGZUBADPIfXqovxrkhBlZ8DNU+xtL7Vke+jxxXfeo6gY/ydMeqCEx4yD62+fPLjsyYUO1a/WytGhMsH0uIrAnmOrOPuviT36TUcpauvDdFdodVFL60WDduFUzmwRXKTd8REzDn0edlL8DOUuSlHpEZ7f/1gghWFJPVd92xBvpEUU0uqGn1dlOXU9+lB2CnQGACAKBBPB3SbnzQTrSJhpg+692lyXL5qP8mWp/wlo6GyXDpqCbDxn4+1Y4V9xeXlPvEOD+ePFeT85rj8lgxcZd9VSfkfK12438PNEl96uR8lOMs4shd2qSf+/XhlX2lMa1PjPE1Yrh8jerjtujndyimn3wNd1u0ce1rKLbj1x5FO/JlXNRSHLWL9J369et5GUd+Pqa/P+4uBSasZBvuIUvQJ99PdeL7pcq46q813ohtnTHBODDBAQr7rgGyDfXI3saFHi/Rw+thCvS66dAT5cffCImPfy7W39v3niL70F7ZCwD5aEjffnSV5R+824clwMs/gmLpBwcsWv3BCdDJEJgAgKZoU4KKia1p4qv6SuN654qJrxiXfepa1cfjFf2ii//SOvgvPsq2+q26CATwPfgox/kS0Zb9fMpTPO5XR/01gX7/ar+dFw3RhqbxF1K9ptKOxom26uMJsH5qGJN9Ypz/iGNlHx9Lj2N4XPE4sltdI8YMj1kx4ZdH1cfj+kE7mj4OPop+U58gruVxPqhggBzbItI3H1NhMaH/uyyq+KWX7BMbO7etZdvWmFByM2HKPprXJiUuch7dJXsbd/fyHIVnEzS8K0Djh5oPcDQqF56mzM0PRcq65/TniewuOQIAZoXkksiqqGv5h6+HrN4gdXGwwuaQgwBbHwITAE3SXmeK15raK2Px8phvol/7U+O35vpg+agm34I8qj5+BSselxmuM9/H+DGU7iNu5T5u6/36uaA9jvE+4mh8P7LPHEjQP35oGn9SeX4iPrnliWvFb7NF0X4+08fFkYe0v4z94i8+8l+Gtv44GsOEm2/i3NCnJtqlMUOf1pAHbYxPVZvH5XnpqPWJ+zI+8ql2LD2u6TFh6+C5Mf/SvosDE0Ev2fq7Rb/4+bDK17PW+Fr3a8S2z5jg4pfp64/ED2HXiT3U5W5uAnLprUltjpOjvcf6qG/UJ3vXX/raO5RfnCfb8F5y7DklewGgLvkc5SLT4v/Qass/LIE+sU1plzugL/9w6bv6AGxFCExA07RXhOJFpjg3TXzly0XRp72m4mtKLyG1I0+AVV9pTE6AK/q1Pr6eqftwu/RYPM5kn7pP6THldRX3NdxHHSvuI/uqTsj5Wu2mTbn0fmiY9hkUE5M1fyMtjxUTaXUtX6edi37Dffga1We+j3ESrs4rrhEH0/20P9qDiSt5YsZt8dXnfm5wlzau/5vKwQUeF9cZPo7y4/J9AaBVHZcxoT4c8R/e0M+M7XpqTCiZ21OUj8TJNtpL9rF+2dsYVfjy+GdGye3doOJ6uSwlPv6ZOHUe/QxZuzsjzQZgKyvE5iknsyoKy1H+YSJHyjgwIbIqZEYFByv0FzIAnQ+BiRZprzXE6w3t5Yg4ii7R0G6GcdUvJ8XlPu0vmUKuzY61m37kfp7KiHH+Sxz16ypS1rmf/zJcVzFeelx9XH+8cj+fqvdTen/y41GPI67jfvHgfJBHaB5/WvkgX5vyp1kcZZ/2l7iGj8ZxdY0aL11r6OOjum7FfeU4K93X0MdHvd/Qp02uxX1FV7nP3DZeY/54jX3aX+IuALB1iecw7f+yeVUCE891GvH/3UTdTx1bse0zJlguFKXsgxB1Oe3kOtV4jYalcIpunJ8ll8dOJ54flb3rL/v4una7IX6b6zr2ouwFgHYqJONUiM5QfilMhXiYitWWf1htcvePHrJyjQq+2TduZx6ARrQcmNBeFYgXGHzKLxHETTTEMB/FuLxO9a2YoHPbOM7kb6xLjy371Lj5Psb3Y/54VB+39X79XDC9H/PHU7qvvE7gozyFFsjfXPNktdZvuUsvXrWjGDdPgmWf8T6C1i7d1/DYxvuoPr5WfEHFC2ztyL/1Fq+11Rifmj5GZni/4nFFs9wnjsY+7lZjAADQtG1fY4IV01lKX3tIxWyenEcmtMmFW47UZ+ruonaLUu+Ql/adbC7johnJC7/SPvYk2XcfJ/vIAdkLAOtKLP/g3T/mqLC0yvIPrlHR3S+2KeVABRfZBNhMxXxBrB39eiQs2j+0uviJU0zI+Zmz9HTPx2oTcr5Wu2lTNb0fmsOfPjVh5b/4D8+I5aSYh8RXhP8YJs0iAsOTZzkujtpffNT/4oM+UeZ26fURHw19aiLNX1JxDfcbJvaq3zghL10rrxN9fMp9qs3H0qRduxn+PeLj5yvk9QAAsLWY591mtcbXul8jdkTGBMvc0yYa8zGyDQa1iX5jSyJunJulpUiKxvYHaWSvXiBkvfFOA+lr7xFZreQ+9XlseQiwiXiL0nxkevXlH9r/UbX8g3f/sPDyD4tVjgKsn2ImS7mZCOVmte9Nzbdl7P3vk/pxoxW1N/EiRbuJCa04lS9azL+N5qOhr3TU+krjhj41XvFbbuM409rGx1bnql9N4gXT+1H3UeOl+8rrhBrvR/UBAABA4zoyY0K1a/WzRmpMsHw4Rpk7M9pE30LuJxrLPjj3xkPxvg+cHqDgwMYECNLX3xNbIdoGd5Fj31nZCwCdoJha1utULC3UXv5hseqBCl+PCFKIrUodjWVrAaymmMxQdnqB8guGrB5tgvxtp/60/pO+fn2iLCfN4nlVHo2Ta3WsmOwzvkaei/uKZrlPHPlUO1Y8thwGAACArcE87zarNa7617p/PXZMxgTl85S6+lCbUGTJcWCErD1+ObC6bCZPn/z+MVltVjrx/AjZHRvwG9BCnhIf/kScOg8/q32sw+IcADqU9n82H52lnHZbdfmHv0e79YrlH/otIEcA6ldYSoqAhNiLXOqy20SBZ84KRPFLAAAA2Gp2RI0JJfMwRPnZKFl7feTYX18Ry/DMMt29Mk++oIuOPDUke9dXdvImZR9doy5vN7lPviJ7AWAryXM2RXRWXwYSj/APWzlS1uV061kVqk6FN0Bd1g3a9Qe2HN5dKjsdpuJySvZo30MuO9lG+sjWXw5yITABAAAAjag1H1fqna+3YudkTGjy0WXK3JoU564n9msTgLWzHx5eD1Po8RINjvtp15Fe2bu+kp+8QcVknBy7jpFt9KDsBYCtrJhO6Ms/YvOiVkUxU55cllgspToVHKjgbUpRXwa4PlJ2JiyWbigWn0sEJKxBr+wpQ2ACAAAAtpqOy5hQHw63jf3M2G60xoSSvvZImxQkyb5niGwDaxey/PS9KUouZ2n3kV4aGK9v+Ucr+Ler6atvi3PX6S+g0j/AdlUsUJ53/+CsCg5UJKov/+DMKau/r1SngrMrtB98chS2s9xsRGRIUDYve0gEIqzDPdr3RO2AFQITAAAA0Ag1zzavSmDG+bmZup953t6MHZUxwbKT85SbCpMl4CHn4XHZW9vHrz8Qx6PPjJA34BDn6yl180MqhKfJ2j9OzgNPyl4A2Ak4k0IEK2LztZd/OFxkkduUihtnVdjW/2cTbBDtBQEHI3iXDd7SU7H2+ck20ksWt1P21IbABAAAAGw1HZcxYWTuN7abqTHBOFsiff2R9mBEzlN7yOKs/YI+sZShqx9Mk8NlpZMvjGvvWw6so+UPfqh9UYgcB58mW199dTAAYHsqpJN6nYrF0CrLP7rIEugnq6+XutwB7cjLP1am90NnK2ZylJsJl7b8VLiYpXWkhyyO+muPIDABAAAAjag1H1fqna+3YsdlTLD0zUkqLC6TfaKfbMO160bMPozRo5sRsUUobxW63rLTtyn74FPq8vjJffJznC8jRwAANNqPa1GnQiz/CK+y/IMDFL2yVoV27uXlH5VpedAZCom0WLLBdSRKtB/9nB3Bz09d1sa/bghMAAAAwFbTkRkTql2rnzVbY4KJdbsP56jL7SDXiT2yd6U7l+YoEkrQyN5uGtsflL3rJ3npt9pEI0b28SPa7bDsBQCorbAc1YMVi3Miq4KDFys4nGQLDBB5/GSThTW77GsvCYD1w9l7vGSjEF2WPRqbhey8w8Zwj+xoDgITAAAA0AjzvNus1niteXszdmTGBP+GKn3jEVGuQM5ju8jidcmRShfffEy5bJ72neyn3qH1TY3myUXq8pvi3HXyFbFuHACgYdmUCFTko6ss/9CeN6zdg7KgpqxT4UKh3Y2Qj8YpPxOh/FJS9mhfDt7yc7i3roLM9UBgAgAAALaaHVdjQsncmaZ8eEn8Zso+sXKZBn9Wzr2hF748+cIYOd02cb5eMrfPUW7+sagrwfUlAADaRez8wcGKpYXayz94yYe/VxbVDOjBUcvaWypDfXLzMcrPhKlg2PKzy+sk+0gvWXvau+MTAhMAAADQiFrzcaXe+XordmTGBMvPL1Lm3ix12a3kOrNf9pYtLiTp1oUQefxOOvbssOxdP4kPf0JUyJPjwJNk6197txAAgGZxhpYIVsisChGJNeGlHpZAXymjgoMVXQ63HIV6cTHL3PQCFY1bfnZ79B02VtnysxUITAAAAMBW03EZE+rD4baxnxnbrdSYYMVsjjLXH1EhlSXHoTHthWLlUo3Ht6M0c3+R+kd8tOd4n+xdH7nZ+5S59wl1OT3kPv15/JYSADZUMZvWMyqis7WXf2h49w+LTy7/kJkVUIX2XJWd4i0/w9qTVfkp1trjI9soZ6VUXz7YLghMAAAAQCPUPNu8KoEZ5+dm6n7meXszdmzGBMvcn6X83CJZ+wPk2FuZFXH941mKR1M0cbCHhnav74vv1Ke/p8JSRHvBepAcu47JXgCAzVPX8g+3nyz+HrJ6ukVBTYs3QF3W+re13G444M0FLfPmLT8HukWGRJdzYz43CEwAAADAVrNja0ywfGSJMrenqag9pPvsgYpt2T5+Xa8vcejsEAX61u+3W4VEjFKXfivOnSc+S1Zfa9XYAQDWA/+sEoGKxVkRSNV+IMsRA7uDrH5e/hHQMyq4qKZzfZYrdJJCMk05Lmhp2vLTPtxL1uEe6rJtbBYcAhMAAADQiFrzcaXe+XordnTGBEtffUCF5TTZ9w2TrU/PjMik8nTp7cdks1tE4UurrfF95OuVvnOB8nMPydozRM7Dz8leAIDOVsxlKB+doXx4Zo3lH5V1KvhcewaTo1tbzS0/eYeNkV7ZsfEQmAAAAICtpiMzJlS7Vj9rtcaEkns8L15YWoNechwcE30LU8t07+o8+XtcdPjJIdG3XpLnfk7FbIYc+8+SbWCX7AUA2HryiyHKR2YpH5tbZfmHjyy+oB6sUFkVNocc3Rry0WXKzSxQYakcjOFlGmKHjTZt+dkKBCYAAACgEeZ5t1mt8Vrz9mbs+IyJfCxBmRuPxbnz9F6yOOx0/+oCzU/FaWhXgCYOrd/SitzcQ8rcuUBdDie5Tn1Be3G+c9dmA8D2U0gulYtqLoX52UuOGGg/9yy+XplRwYGKAFlcPjnYWXILcsvPRHnLT4vXSTZestHb3i0/W4HABAAAAGw1O7rGhJK+8ZgKsQTZdw+SbTBIl9+ZpHQyR3uO9VH/6Pq9QE5ffZvysQWyjx4g+67jshcAYJvK5ygXmdZuM1RcCq++/IMLa3qD1OUJkNXLyz/Wb0ndWvKhqMisK2Zyskf7GP1u7We39nEGOq+GBgITAAAA0Iha83Gl3vl6K3Z8xgTLaS84s4/nqcvrItexXaXCl8eeGSFPYH1SjIupZUpefF2cu46/qL3IXd8tSQEAOlEhNi8CFbwMZLXlH1ZjkMIdIItjfbfcJO2ZMTe9QFne8jNffpoUW34O95DF55Y9nQeBCQAAANhqOi5jQn043Db2M2O7XTUmWCGRovS1R9pJkfK7R+n6pQVyum2i8OV6Sd/7hPKz98kS6CfXsRdkLwDAzlZIxqkQnRHBikI8LH4ur2Czix2Myss/uqmrTcs/itm8CEjkTFt+8rbSXEOiy9X59TAQmAAAAIBGqHm2eVUCM87PzdT9zPP2ZiBjQsrcnqJ8JE4RZ4CmQmnqHfTSvlP9crT9khd+ScV0ihx7T5FtaK/sBQCACmL5xwwVolxUc7728g9joIJ3/+DMCkv923QWUhnKTYUpv1C55adtqEcEJGiDt/xsBQITAAAAsNWgxoSU4zXED0L0MOmgpUwXje0L0si+9amunl+YpPStj7UXujZyn/4iddmdcgQAANaSX1qgfHh69eUfLm9FRgUHK7ocK5dfFJZTYjkfB6ZLrBaxXEMEJFqM/m8GBCYAAACgEbXm40q98/VWIGNC4qJmqasP6Nq8jQpa+8CpAQoOrk9Rs9T1d6kQndNe+O4lx55TshcAAJpRTC9TLjwjdgApxBeqL/+w2sTyjy7e9cPTrV3joHw4Q4WlpLxAe0J02sQOG1wEeStDYAIAAAC2mo7MmFDtWv2snTUmlNSdGbpyL00WSxedeH6UHC6bHGmfYiZJyfO/EufOo8+TtXtAnAMAQJsU8mKLUt4BJB+dI8qm5YBJl4ujEdRl95G1f5DsoyPUZd362zYjMAEAAACNMM+7zWqN15q3N2Pz9l8zMP8jVLtWP+NlHK3+480SXXpRM5elSHbH+qwnzs7cEUeLvxdBCQCA9WCxkrV3lJz7nyTPk6+S57lvkn30LHXZtZ+5XYalc8UUUWGRiulJyk1eoNSl31H65oeUfXxdLBUpphPyQgAAAIDta615da1x1d+OeXlHBCY4wlKNud/Y5oyJdlvO6p9QpyWvvVY1rDduo3x4Rhxtfeu34wcAAOjPGVw/Inn+NuVmOQjRT12WfWTte4qch18i+56TZAkOaM+E+s9+DkRwQCL7+IYIUCQv/YZSV9+mzP3LlJt7SIXlKD+ouBYAAABgu6g1H1fqna+3AjUmDK59OEPLsTSNuHM0MOwmx/5ROdIe/IKXX+ySxULuM1+sWogNAABalMtTdjpMudmI9owp+zSrbflZLOTFzh+8A0g+qj2f1Fj+0SV2/NDrVJS2KrV11haiWMoBAAAAW03H1ZhQHw63jf3M2F6PGhMfv/5AHPf4suS1Fsh1Zj912du3pCN94wNRnM02uJsc+87IXgAAaIcib/k5E6Hc3KLs0WhPEdbBoB6QsDdWN6gQj4if2RysKCYM24gadDlc1FXappQDFQGyuHxydHMgMAEAAACNUPNs886XzDg/N1P3M8/bm4GMCSm1nKUr702R3Wmlw30FKi6nyLF3iKz97dkytJjLUOLjn/NrZHIceY5swSF9AAAAWlKIpyg3U33LT751mZ5gm8XFi/MRvahmITanveMqT5/a+7J4g8Tbk/KRMyysXu15pGvjVk4iMAEAAABbTUfuyqGY+41tczSn1cDE3OQSPbgWpmC/h/YMWig7uUAWv5ucRybkFa3JPLpGucmbZPF1k+vEK7IXAACaVYglKDu9oB3LW36Sw0r2kb6N2fJTe07ibAq1BKTm8g+3j6zGIIU7QBaHS462HwITAAAA0Iha83Gl3vl6K5AxId29Mk/hmWUa2dOt3d9F6WsPtc80kfPkHrJUWY/cqOQnv6Ficonsu49pL5oPyl4AAGhUPrwklmwUllOyh8jidpB1uJds/QHZszm4QKYIVvBt2bCkxEAs//D49WCFO0BWn3Zs4/IPBCYAAABgq+nIjAnVrtXP2l1j4tLbk5RJ5WjfiX7qHfZS+uYkFRaXyT7eT7aRXnlVcwqLIUpde0+cu858YdPXHwMAbEW5kDbpn41QMZWVPUQWn0sPSPR06M/VbEoEKnLhGSrEtOepqss/usjiCYpCmqU6FdqRtz1tBgITAAAA0AjzvNus1niteXszkDEhqcKXxz8zSm6vXbz4zT6coy63g1wn9oixZqVvfUT5hSmy9o+T88CTshcAANbCT1F5Lmip3Yq5vOwlsga9IiBh9W+93Y3y0VlRVDMfnaFiupz1YcTLP0SdCrnzB5/Xs5NTMZumr9zQn88QmAAAAICtAjUmNEuRNN04N0Nun52OP6dvEVpMZyl1VXtxlyuQ89gu7YVhk+uBC3lKnPu59ko0T87Dz5C1Z0QOAABATdrPzOxUlS0/+/z6Dhtup+zZ+nj5BwcrxO4f8ajsNbE7yOrppi7jVqUew7KVfI7Sdy9SfmGS/sh3VHT9OFgg+/gRcQ4AAABQS635uFLvfL0VyJjQTN1d1G5RsYSDl3IomTvTYi0zV3W3TwzI3sZkJ29S9tE18dsv9+kvyF4AAKiGg8Jc0DI/V96ek5+k7ENBfYcNh13v3MY460HPqJgVWRXVln9wDxfSVMs/cvOPxfamTAUmXotf0567jpB97LBoAwAAAHSqjdu/bBXG2Aifq7Y5ZmJsc8aEebxZ8aieSuvxVxa5tHZ7xJGDE83KhafE0dY/Lo4AALASF7LkYHDq0r1SUKKLt/wc7SXPEwfIvmtwRwQlWJfdSbbB3eQ89Ax5nvkGeZ77Jjl5m+mhPdTl1Jdz8O8muLhmLvSQMvcvl4ISZtmp2/IMAAAAoDo1r+Y5thmP1Zp3q/52zMs7IjBhTP/gc9U2p4UY27yMwzzerHhU3+KNl3IYWXr81OWyUzGTo/zisuytXz62QEVZlR1LOAAAVuItP9M3HlP66sNSELjLYRNZai4OSIz1az9AO+KpalNZg0Pk2Hua3Ge/LAIV7lOf0z5HR6nL1yOvqCGfo0I6IRsAAAAAK6l5tbFUgsJjtebdqr8d8/KOy5gwMvcb29WiOc3IZvLaYxXJarOsyJjg39ZZA15x3kzWRH5OL0Bm7RutXAsMALDD8c9UDkZwUIKDE6zL5SD7niFynd4nlm1AbV3ac4p97BC5T3yWnEc/I3ur4B0/6iiaCQAAADvXWhkP9c7XW9FxGRNG5n5ju1o0pxnxiJ4t4fFpL4gdK7dmswT0F3T8IrqYL1eEX5P2ReI1wszWqxfUBADY6XJzUUpdvieWbfDyDcZbfjoOjJLr5B6yDXSLPqiftXtQ1JooVnkqtQ3u5SdP2QIAAABYaa2Mh3rn663oyIwJ1a7Vz9pVY2KpRn0Jxdrj117wObV3WKTCYv3psNmZO1TMZYmcbrL0DMteAICdKTsdpuTFO5S9H6JiSvvZqOE6Ps4j4+Q8ukv7WesTfdAcx4GnyOqtzDKxDkyQY89J2QIAAACobq15da1x1d+OeXlHZkyodq1+1q4aE0sRPTBhri9hpJZz5ObLVeLXUsqW6J+gLsvKTAwAgG0vX6Ds43lKnb9NOe1IWT3rzNrrI+fxXeQ4NE4Wv15kGFpjcfvIdeKz5Dr+kuwhcu5/Qp4BAAAA1LbWvLrWuOpvx7x8x9eYSMb139y5fdUzJlhXtx6YKCwuUyGdEeer4erohdiCOLf1ouglAOwsvOVn5v4sJTkgMR2mYl7/eW0b7CbXqb3k2M91d1yiD9rL4u+VZwAAAAD1WSvjod75eit2dI2JxJIeZHC6beQJ1A5MWP3uUq2JQnTt5Ry5uYfiaAnyut+gOAcA2O4KiRSlb0/JLT/1HYnI2kX2kV5ynd1P9t1D1OXcGVt+AgAAAGwVa2U81Dtfb0XHZUzwuWqbIzDGdjtqTJSXcTi0T6o4ram0nGNh7eUcuci0ONr6xsQRAGA7KywlKHPzMaU/fUiFSFzvtFvJPt5P7icOkk07dtmwpA0AAACgE6l5dbVVCTxWa96t+ludl7OOy5jgc9U2R2CM7XbUmFiO6hkTq9WXUERhNksXFZdTVEjoO3lUk5u9T5RJU5fdid04AGBby0filL72kNLXH1NeFgfucjvIsWeI3Gf2k20EywoAAAAAOp2aV1dblcBjtebdqr/VeTnruIwJI3O/sd2OGhNr7chhxPvrW2WtiXxkSRyryYWnxNE6MK79ZRPnAADbSW5ukVKX71Pm9hQV4nLLT6+THPtHyHVij/bzD1t+AgAAAGwVa2U81Dtfb0XHZUwYmfuN7VZrTPDnMJvJU5elq66MCWYJ6NXj8+HqgYlCIkaFxTlxbu1BtgQAbC+5mYjc8nOWiik948zid5Pz8Dg5j+0ma69f9AEAAADA1rFWxkO98/VWdGTGhGrX6met1phYCstsCZ+dXJ76AhM2ftFtt4o9+POxlUUwc6EH4mjp7icrKqMDwDbAO2pkJ+fFDhvZR3OVW34e3UXOIxOloC0AAAAAbD1rzatrjav+VublSkdmTKh2rX7Wao0JY+HLutmsqy7nyEdmxNHWNy6OAABbVTGTo8yDWUrxlp9TYe0HnL58ztofINfJPfqWnz5s+QkAAACw1a01r641rvpbmZcrO7bGRHxRL2BZT30Jo1JgIrxU2puf8RahxXSCyGYna++I7AUA2Fq4uG/m7gylPrlL+ZDa8tNCtuEecp/dT469w6LmDgAAAABsD2tlPNQ7X2/Fjq0xUc6YaGxPfV5DbXFrL8pzBcovLsterSmLXvIWoV02vGgHgK2Fl6elb05S+tMHlJfbInfZbWQb6xMBCfvEgMgaAwAAAIDtZa2Mh3rn663ouIwJPldtcwTG2G6lxkQmlRNHu8PacMYEs8isiYIsgllIxakQmRXn1r4xcQQA2AryUX3Lz8yNx1SQwdYul53suwfJdWYf2Uf7+FlH9AMAAADA9qPm1dVWJfBYrXm36m92Xm7UcRkTfK7a5giMsd1KjYmliL6Mg+tLWG2NfwrKdSbiVMhky0UvfT1kDfSLcwCATpafXxTZEZlb5S0/uzxyy8+Te8k2GBR9AAAAALC9qXl1tVUJPFZr3q36m52XG3VcxoSRud/YbqXGRLPLOBSuQK+KvhUWE+WilwMT4ggA0KlyM2FKXbpLmXuzop4E459pjoNj5DqOLT8BAAAAdpq1Mh7qna+3ouMyJozM/cZ2KzUm4lGVMdFcYIKp5Ry52QdUTMa1ji6y9gyLPgCATsKFenOTC3LLz3kqpvXlbJagl5xHJ8h5eJys2jkAAAAA7DxrZTzUO19vRUdmTKh2rX7WSo2JVCIrjl6/UxybYQ36xLGQmBdHW/8EdTnc4hwAoBMUsznKPgjpAYmpBVJbftr6A+Q8sZucB8fI4sPPLQAAAICdbK15da1x1d/svNyoIzMmVLtWP2u2xoTaJtTttZPb30LGhMdJVr5/IS7avBsHAEAnKCR5y89pSl28S7lQlMRPSksX2YaCekHLvcNkcTcfmAUAAACA7WOteXWtcdXfzLzcbMfVmFguLeNofUvPAvEe/0XqsrrJ0j2odwIAbJL8UlLf8vMKb/mp7xrU5bCRfayPXLzl565BsQUoAAAAAICyVsZDvfP1Vuy4GhNqR45mtgldIRMVh2LRr00IEuIcAGCj5SJxSvGWn9cfVW75uWuAXKf3kW20j7paqMsDAAAAANvXWhkP9c7XW9FxGRN8rtrmCIyx3WyNiaVoaztyKPnINBUSnDGh6fJTIapPBgAANkp+Pia2/MzenqKi2vLT6yTH3mF9y8+hHtEHAAAAAFCLmldXW5XAY7Xm3aq/mXm5WcdlTPC5apsjMMZ2MzUmCvki5XMFstosrQcmwtPiaPEPUhc5tPYSFQutf0EAANaSm41Q6tI9ytybKW/56XeT48AouY7tJmt/QPQBAAAAAKxFzaurrUrgsVrzbtXf6Ly8mo7LmDAy9xvbzdSYiIWT4shBCYer+XXWxVyGcpEZcW4b2UNdTjsVMzkqxLCcAwDWifYzLzs5T8kLtyn7cI6KaX13Id7m03lkQtysPfpuQQAAAAAA9Vor46He+XorOi5jwsjcb2w3U2MiHs2IY6uFL/OhB0S5LHW5vWTrHSFrt1fvj+jF5gAA2oa3/HzIW37eodxUWPvZowdlrX1+cp3YQw7e8tOPLT8BAAAAoDlrZTzUO19vRUdmTKh2rX7WTI2JpUh76kuUsiX6J8SRf2PJxHKObF6cAwC0opjMiC0/k7zl52yUfwBSl7WLrIPd5Dq9lxz7RqjL3YYivgAAAACwo601r641rvobnZdX05EZE6pdq581U2NiOaavxfa2sCNHPjpLhaWwOLf2jomjpdtLFq+TqFCkvKyIDwDQjEI8SZnbU5S6cr+85afdSrbRXnKd3k+O3UPU5WgtuAoAAAAAoKw1r641rvobnZdXs2NqTKQS+npsp8vW0lIOVfTS2jtCFnd5PbcloGdNFLCcAwCawNt8pm88pvS1R5SPxEUf16+xTwyQ68x+so/1az94OuJHNgAAAABsI2tlPNQ7X29FR2ZMKOZ+Y7vRGhPxiJ4twUEJi7XJiE4hX1rGYe0bF0dFFZ3LR5epkNJrWQAArCW/EKPU1QeUvjlZKqDLGVj2PUPkOrWXbMPY8hMAAAAA1s9aGQ/1ztdb0XEZE3yu2uYIjLHdaI2JeFQFJppPgc7N3ifKpqnL6SZr77Ds1Vm8rlIBOuzOAQBrKW35eXeGisuVW346j+0m20C36AMAAAAAWE9qXl1tVQKP1Zp3q/5G5uW1dFzGBJ+rtjkCY2w3WmNCFb70tFBfwpgt0dW18lNX2p1jISaOAAAVtB/avLOGectPS9BLjsPj2PITAAAAADacmldXW5XAY7Xm3aq/kXl5LR2XMWFk7je2G60xkU7lxCes2foShaUFKsTmxbmtXy96aWbt9Wuf0S4qxFNUWNYDIQAARd7y89EcJc/fpuyk9nOktOVngJzHd5Hz4BhZAx7RBwAAAACwkdbKeKh3vt6KjsuYMDL3G9uN1JgwLuNweW3ivFG5hUlxtAQHyOKpnmLNheos3frkIh/Vi9cBwM5VTGUoe2+WUrzl50yEeOceDl7aBrvJeXIPOfYNaz9PXPJqAAAAAICNt1bGQ73z9VZ0ZMaEatfqZ43UmFDLOJquL6G9H7WMw9Y/IY61WLtlEcwwducA2KlKW35evk+5+UW902YRhSxdp/eRffcQWVzNLysDAAAAAGiXtebVtcZVf73z8tV0aQ+y4lH+l//l/0OLi7XrJHz5y6/QN77xFdmqbn5+gX74w5/TlSvXKZvNkt/vo5dffp6++MWXyWZrLmthNdPTIXlGNDIyKM90N8/PUiycovGDPTS8OyB765ebvUeZe5eI7A7ynP0ykcUqR6ooFLXJyD0qZnLkODRWqjsBANsfZ0rlZqMVBXA5k4oLWdpGemUPwPp69cpNcfzFiUPiCAAAANDpqgYmqsnlcvR//B//ge7ff0T//J//GR08uE+OrLSwEKY///O/oP7+PvrTP/0OBQJ+unjxCv3N37xGTz99hr7znW9WpH3wh1AtDcTcb2xzxoRxOcdqgYnzv3moXV+kQ2cHKdCn75zRiNT196gQDWkTi/3k2H1C9tbGqdv8W1LbUJDsuyo/FgDYfjhDKjsTLu2uwSweJ1k5IDEYlD0AGwOBCQAAAGhErfm4Uu98vRV1L+V4992P6MaN2yJbYrWgBLtw4TItLcXp1Vc/T8FgtwggPPHEKXrppWfp8uVrK7Ixav1jzP3Gdr01JnLZgghK2B1WcjexI0chHhFBCWbrq1700owr7LPcQoyK+bw4B4DtJxeKUurKfcrcmS4FJbr8LnLsHyHn8d0ISgAAAABAx1sruFDvfL0Vdc3uo9FF+u1v36L9+/eI5RhrSafLvzU0CgaD2liG4vFl2aPjSIvC56pt7GfGdr01Joz1JTg40ahS0ctAH1l8PeJ8LbzdX5fbod25QPlo5b8VALY47edOdmpBFLTMPghRMZkR3dagl5yHx8l1ZJe+Qw8AAAAAwBag5tXVdr7ksVrzbtVfz7x8LXUFJt5//2MKh6P0yisvkMOxdtbByZPHyG630Wuv/f/buw/4uKorf+Bn+kiWrF4s2ZZccC+Y5mBCIBATx7Q4TsiHQAqElA2QZJdsCLvZ/bMpu5uETYO0zZINCakbAgmG0AOhBRzcce+2JMvqffr837nzrvT0PG/eG81IejP6ffmYmXvvzHhG8zSee9+552yirq5u0RcKhWjr1h1UX19L1dWVok/SrrTwddnWr8Bo2xwxoR9PZmRhYoxlQrtbxaVZ0ks9mVsihoUJgLwQD0eHS35GmjpECVDGixC+xbPJe1Y9OVHyEwAAAAByjJxXJ9uVwGNG827Zb2VebsY0x8Tg4CB9+9s/Ir/fR7fddoulhQm2c+duevDB/6NQKEyrVi0XkRIHDx6mj33sQzR//hz1Vgn8FJK9GG1/T08fBQLJIzFYstUdFosmXp7DyT9QIrfbJV6LFfHBHop1tlDc4STXjHnKY1iPuODkl7H2xJYVZ3UJOZS/FwByTzwSpXh/QPk8GPn8ER9LBT5yFPnxuw22875jzeLy/xrqxCUAAACAFhem0DKaj0tW5uuZMl2Y2L17H/34xz+jK6+8QlTUsIIXCZ588jl67rkXRQUO3rrBf81FF11AGzdebXlxQ4sXJuRTTfaUA4FEODXjaA2pvysxmSic7iWny0G8CFRYaO2sZrhpnzIh6SJnSTW5a1Pn1UgmcqKN4oEwOatKRJg3AOSOmPKZEu3sJxpIRF0JLic5iwvIVa58mLuwIAH29O6Dx8TlI/MbxCUAAACAltUT9RPJdGHi4Ycfo5de+it96lM307x5oyMdjGza9BQ9++wL9P73b6C3vOU8am1to0ceeZx27dpDixadRTfffAMVFPjVW5+50iLbRv2MFz/4umwnq8ox1B+iN//aQv5CDy27sE55taLbkvhgLw3tel75i+LkX3qxMhlJv9RfpLmTwk3tIryb954DgP1FewYo0tpFsR5tyU83uSpLyMMlPzWfSQB2hKocAAAAkA79vFvPaNxo3j4WKXNM8DYMLg9aXFxMlZWj80IY4USZmzdvpbPPXk6rV58r+mpqqkSJ0bVrLxWVPd54Y7vol/QvQraN+pmVHBP93YkoCpFfIvVNzxDpbBaLEs7isjEtSjCRAE95jrHeQYppwsABwH64ik5wzwkK7W8aXpTgkp+ehmryr5hLnroK8fsMAAAAAJBPzObVRuOy3+z+VqRcmBgaCojSnkVF08jns7b9oqOjk/r7+6msrGTUE+TrK1cuUx7HR52dnWpvAq+wJKPv17aNckpoaStypCva1SIuXRVjj3Rw+D3kKklsG4n29ItLALAXLvkZ3HWUwodPUax/SPTxdg2U/AQAAACAqcBoPi5Zna9nIuXCRF9fHw0ODtH06UVJ96HwwsW3vvUD+td//U86fbpd9HFkBUdYdHX1nPFEBwYGKBIJn5HjwWwFRtK2k2UM1ZMLE4VpLkxE2k9SbKCX4spf5yrPLHmYU63OIfaqA4A9KB9N4ZYOCmxPlPyMqSU/nSWForqGb9EslPwEAAAAgCnBaD4uWZ2vZyLl7D4YDFI0GiG/fyQfhFZzcwudPNlMnZ1ddOzYCdFXUlJM69ZdRtu27aKHHtokqnrwAsXRo8eV9qNUX19Ha9acL24raRcw+Lps6xc2tG2OmNCPa/FYOBQll8tJ/jQXJrQlQp3e5K/dKp7cODwukdE/2juyZx0AJh5X2OCSn4GtBylyskNUz2HOsiLyLppFvgUzkagWAAAAAKYUOa9OtiuBx4zm3bLfaDwdKRcmBgYGKRyOUGnpdLVntLq6GTRzZh2Vl5dRQ8MstZdEbolbbrlRlAe9666v0O23f4F++MOf0vz5c0USzVQRE3xdtvUrMNq2WY6JPrUaB2/j4OSXVsUD/RTpOiWu88JEpriUICe/ZLHeAXEJABMrHgxT6GgrBbYeosipLopHlQ9d5ePDVVVCvmUN5JtfR67iAvXWAAAAAABTh5xXJ9uVwGNG827Zn2pebpVpVY6JwE8h2YvR92vbvJqj/cHpq3I0HeqmliM9VFVfRA2LK9QRc+Gm/RQ+sYechdPJv+Ltam9mop19FDrUIjL7+5Y2ksNlvg0FADIXGwhQpLWboh29ao/yoedxkatiOrlry5TrI6WFAfIFqnIAAABAOozm45LV+XombDFDNnox+n5t2yzHRH+3jJiwlrRTiqrREq6q7JX3FNs5fB6KByOiFCEAjK9o7wCFDjRRcPfx4UUJ/h1015WTb8Uc8syqwqIEAAAAAIDCbHHB6nw9E7ZYmOCVFi3ZNupnZjkm+mXiy2LrCxNciSPW3yWuuzOoxpGMS02CGcPCBMC4iXX1U3DvCQrta6Jod+J3zVHgJc/sKvLzgkR9JTksJM4FAAAAAJgqUs2rmdG47De7vxW2jJiQbaN+lirHRDgY5aT75PW70yoVKnNLuCrryeHN7n5zV1mRuIx19VEsFBbXASA7om09FNh1lIIHmynWlyj5yTkjvHNqyb+skdw1ZaIPAAAAAABGM5pXS0bjst/s/lbYMmJC0vdr28kyhkqyTCgvSrjc1l5iLDhE0c7EwoQnC0kv9TgBpmOaj+LROMV6UJ0DIBsiLZ2i5CcntoyrJT85Osk7v05U2XBVJk/cCwAAAAAACWYRD1bn65mwZcSEpO/XtlPlmBhZmEhjG0dnkzLLUSY2/mnkLK1Re7NLbueIdveLSwBInyj5ebJdVNjgS1ny01VeRL5Fs8i7oH44QgkAAAAAAFIzi3iwOl/PhO0iJvi6bOtXYLTtVDkm+rsTZ04L09jGIZNeeiqzm1tCy1VWLC5j3QMUG0ok5wQAa2KBEIWOtVJg2yERKcELFKLkZ+V0sV3DO6+OnCj5CQAAAACQFjmvTrYrgceM5t2y32g8HbaLmODrsq1fgdG2U+WYGBoIiTGr+SWi3a0U6+0Q193juDDhLPQNT5xkYj4ASC02GKTQkVMU3HmUoqd7lE8+pdPtFOU+/SvmijwSnOASAAAAAADSJ+fVyXYl8JjRvFv2G42nw3YRE1r6fm07VY4JxosSVrdyDJcILVMmOP7xDQHn0qEshu0cAClFewcTJT/fPEbRdrXkp9ctSn4WrJibKPmptAEAAAAAYOzMIh6sztczYbuICS19v7adKscEs5xfIhISERPMVZX9pJd6YjuHy0mx/gBF+5AEE0Av2tmnlvw8ORxZ5Cz0ioUI/8q5ouQn/w4BAAAAAEDmzCIerM7XM2HLiAnZNupnqXJMMKvbOMIdTRQPDpHD6yd3eZ3aO34cHhe5SgrF9VgvFiYApGh7DwV3H6fQoZbhkp/OIj95GmvIt7RRbN0AAAAAAIDsSjWvZkbjst/s/lbYMmJCto36WaocE8xyfomuFnHpnoBoCWk4CWZXP8Vjmb+JALkszCU/dxyh0JFWig0kKuo4SwpFyU/f4tnK72aJ6AMAAAAAgOxLNa9mRuOy3+z+VtgyYkLS92vbqXJMuD0uKiw238oR7W2nWHebuO6qGL+kl3pcypD3xseGQoiagKkpGqNIU4co+Rnhkp/BsOjmHCzehTPJt2Cm+D0BAAAAAIDxZRbxYHW+nglbRkxI+n5tO1WOCY6W8HhdastYTOaWKK0mZ+F0cX1CKK/DNX2auBrtQRJMmDp4ASJ8/DQNbT1I4eaORMlPhbtyOvmWzibvvBnK70ZiqxMAAAAAAIw/s4gHq/P1TNguYoKvy7Z+BUbbTpVjwso2jng0QhFZjaOiXlxOJFeFZjtHODE5A8hXvEWDS37ylo1Ia7fyC6h0upzkqikl3/JG8sypJWehP3FjAAAAAACYMHJenWxXAo8Zzbtlv9F4OmwXMcHXZVu/AqNtp8oxUWihIkeUk14O9ZPD4yX3BG7jkJzTC8lR4BWLEtGeROUBgHwT6xuk0MFmkdRyuOSnz02eugryr5hD3tnV5PRbrKADAAAAAABZJ+fVyXYl8JjRvFv2G42nw3YRE1r6fm07VY4JKxETwyVCeVHCpPToeHGVJrZzxLAwAXkm2pUo+Rnce1K5ntiuxAtxouTnirnkrq8gh9t8uxUAAAAAAIwvs4gHq/P1TNguYkJL369tm+WYSCXa1zkp1Tj0ONEfi3b2USwQEtcBclmkTS35eXCk5Kdjmp88DdXkX4aSnwAAAAAAdmMW8WB1vp4JW0ZMyLZRP0uVY8LpSv2yRNJL5a7O4nJyTitVeyce76l3FiX21aM6B+Sy8KlOCuw8QuGjIyU/XVzyc94M8i+ZTe7qyfs9AwAAAAAAY0bzasloXPab3d8KW0ZMyLZRP0uVYyKVeDxGUTXp5WRGS0iyJGKsG9U5IMdEY6KyxtC2QxQ50U7xgFryUzmmfQtnkpdLfqpRQQAAAAAAYE9m82qjcdk/lnm5ni0jJiR9v7adKsdEKrGOZooN9iqv3KVMmia+GoeekyduyvsY7RkcPtMMYGfxUITCJ9oosP0QRZo6iLiqjHIMu7jk5+LZ5J1fJ5K7AgAAAACA/ZlFPFidr2fClhETkr5f206VYyIVWSKUoyUcbvMkmePN6fWQqySRBDPajSSYYF/xoVCi5Of2wxQ51UXxqPJB5HKSu6aU/MvmkJdLfqpbkwAAAAAAIDeYRTxYna9nwnYRE3xdtvUrMNp2qhwTRmID3SPbOConfxuH5JTbOXqwnQPsh5NYhg61UGDX0VElP9115eRfPoc8s6vJ4Z/8RT4AAAAAAEifnFcn25XAY0bzbtmf7rw8GdtFTPB12davwGjbY8kxIUqExqLkLCoViS/twl0xXZROjA0EKYrSoWAT0e5+Cu0/Kcp+cuUY5izwkntmZWJBor6SHB6U/AQAAAAAyGVyXp1sVwKPGc27ZX+68/JkbBcxoaXv17bHkmNieBuHjaIlBOWNdJYk9uRjYQImG0dFiJKfB5pF7hPmVEt++pY1kmdGuThmAQAAAAAg95lFPFidr2fCdhETWvp+bTvdHBPRzhaK93dzlVByV85MdNoIR00wrs4Rj0bFdYCJFGntpsDOoyKPhEzE6pxeQJ65teRDyU8AAAAAgLxkFvFgdb6eCVtGTMi2UT9LN8dEpKtFXLqrZir/84rrduIsmUYOn4fiwQiSYMLEicUpopb8DB8/TfFASHS7yovId1Y9+RbOGl40AwAAAACA/GM2rzYal/3pzMuN2DJiQraN+lk6OSbigX6KcX4Jhe22cWg4SxPVOWK9ifB5gPEiS34ObTtIYbXkJ3+ciJKfi2aRd17d8PEIAAAAAAD5y2xebTQu+63Oy1OZEjkmIryNIxwiR0ExuUqq1V77kWemOdFgLJg4cw2QTbHBIIWOjpT8pGicHFzys7qUCpY1JEp+FheotwYAAAAAgHxnFvFgdb6eiSmRY2K4RGiVfaMlGCcYdBT6RHh9TE06CJANsf5Eyc/gm8co2qaW/PS6yT2jjPzLG0ViS0eBcuwBAAAAAMCUYhbxYHW+ngnbRUzwddnWr8Bo21ZzTHCJ0Fhfp7hux6SXeu7yYnGJ6hyQDVzyM7i/iYJ7Rkp+Ovxe8oiSn43KZRWRxy36AQAAAABg6pHz6mS7EnjMaN4t+63My83YLmKCr8u2fgVG27aaY0KWCHVV1JHDa/8Qdae6MBHrHhBh9wBjEe3opeCeRMnPmLrI5SxKlPzkBQk3l/xMs7INAAAAAADkHzmvTrYrgceM5t2y38q83IztIia09P3atpUcE/HgoDLBV7dx2DjppZbT5xne4x/t6ReXAFZFTneL7Rqhw6co1i9LfhaSZ04t+Raj5CcAAAAAAIxmFvFgdb6eCdtFTGjp+7VtKzkmOFoiHgyQwz+NXGW1aq/9udQkmMgzAVbEYzEKt3RQYMdhCh87PRxp4yorIu/8OvItnEnuSpT8BAAAAACAM5lFPFidr2fClhETsm3Uz6zkmJAlQl05kFtCy8XbOVwOivUNURSlQ8FAPByhyMl2Cmw7rFx2UDwYEf28CCFKfs6vE4sTAAAAAAAARszm1Ubjst/s/lbYMmJCto36mVmOiWhPG0W7T4vruZD0UovLN7pKponrsV4kwYTRYkNBERkxtO0QhVs6lYM9JhayeJuGb2mD2LaBkp8AAAAAAGBFqnk1MxqX/Wb3tyJvc0zIEqHO0hpy+nPvrLGImlBEuwcozhNPmPKifUMUOtxCwV3HRC4Jh/IfeVwikaV/2RyR2NLJ5WYBAAAAAAAsMot4sDpfz0Re5piIhwKiTChzV+VG0ks9V1kxObxuig+FUDp0iuPFKS75Gdp7gqIdasnPAi+5Z1aQf/kcUfqTjxUAAAAAAIB0mUU8WJ2vZ8J2ERN8Xbb1KzDadqocE7woEQ8ok3mvj9wV9Wpv7nGWyu0cyDMxFYmSn3tPUOhA00jJz2k+8nLJz2WN5JlRIbb9AAAAAAAAjJWcVyfblcBjRvNu2W80ng7bRUzwddnWr8Bo26lyTMhtHLlSItSIW1bn6OqjWCgsrkP+G1Xys29I9HHOCFHyc0kDuVDyEwAAAAAAskTOq5PtSuAxo3m37DcaT4ftIia09P3adqocE/myMOEsKhAh+/FIDKVD851yaEdOdRmU/Jwhqmyg5CcAAAAAAGSbWcSD1fl6JmwXMaGl79e2U+WYYK6SKnIW5v5ETpZ7xHaO/BQPRync1E6B7YcofKJtuOSnq6KYvAtnqiU/E4lQAQAAAAAAss0s4sHqfD0TtoyYkG2jfpYqxwRzVeVWiVAjcjtHpLNPlImE/BALhERkBC9IRJo7xQIFcZnY6hJR8tM7dwa5pheqtwYAAAAAABgfqebVzGhc9pvd3wpbRkzItlE/S5VjwuH2KBP6/FiYcPi9Ir8Av1KuzgC5Ldo/ROEjpyi486jIJcFbOBweF3lmlJNv6WzyNtSg5CcAAAAAAEwYo3m1ZDjvVvvN7m9FXuaYcHFuCYctXlpWuMoTofzYzpG7uORr6GAzhfacoEh7r+hz+D2i1KdveSO5lUunzyv6AQAAAAAAJopZxIPV+XombBkxIen7te1UOSbclfkRLSGJhQnlpfPCRLQPixO5JNbVT8F9Jym0v4miynXmKPSRZ3YV+ZY1kntGOTlcLtEPAAAAAAAw0cwiHqzO1zNhu4gJvi7b+hUYbTtVjglnUZl6LT843C5ylSIJZi6JtvdQYPcxCh5sHn7PnNMLyTunlvxLG8hdU5bVX2QAAAAAAICxkPPqZLsSeMxo3i37jcbTYbuICb4u2/qJm7adKsdEPhreztEzQPFY5m88jAPlF1KW/AwdaaX4QCJZqbN0mqiu4Vs4k1wo+QkAAAAAADYi59XJdiXwmNG8W/ZnY15uu4gJLX2/tp0qx0Q+EgsTbifFlMkuoiZsJiJLfh5OUvKznnxn1Q+XfQUAAAAAALATs4gHq/P1TNguYkJL369tp8oxka9cZYmoiWhPIlcBTK54IESh46dpaPvhkZKfTge5q0vJt2S2WvJzmnprAAAAAAAA+zGLeLA6X8+ELSMmZNuon6XKMZGvhrdzdA8kJsEwKWL9AQofaaXAzqMUbe1WOuLk8LrJXVtGvqUN5GmoJuc0v3prAAAAAAAA+zKbVxuNy/5szMttGTEh20b9bKrlmGCu6YXk8HkoHoqI8pMwsWTJz+Ce4xRp7xF9XPLTXV9BviUN5JlVRU4/Sn4CAAAAAEDuMJtXG43L/mzMy5FjIscMR030YmFionCZzzNKfk7jkp/V5F82hzx1FeTwoOQnAAAAAADkHrOIB6vz9Uwgx0SOcVckqjrwBDkWCInrMD645CdHR3CUhEw4ylEr3jk15F/CJT9LlYNSdAMAAAAAAOQks4gHq/P1TNguYoKvy7Z+BUbbnoo5JpijwEvOaT6R1wDVOcaBckxFWrsosOuoKPnJ+SSYi0t+zptBXlHys0T0AQAAAAAA5Do5r062K4HHjObdsj8b83LbRUzwddnWr8Bo21Mxx4Qkt3NEu7GdI1vikaiorCFKfh5vo/hQIhqFS376Fs4kL5f8VH/uAAAAAAAA+ULOq5PtSuAxo3m37M/GvNx2ERNa+n5te6rmmGAudTtHrGeAYgOJM/owNvFgmMIn2hILEk3totqJw+UgV1UJ+RbPEiU/ndML1VsDAAAAAADkF7OIB6vz9UzYLmJCS9+vbU/VHBPM4XGTsyQxWUbUxNjEB4MUOtpKgR1HKHKqS2yNIY+L3DPKyLe4gbyNNeQsKlBvDQAAAAAAkJ/MIh6sztczYcuICdk26mdTNceENJwEE2VD0xLrG6TQoWYKvHmMom1qyU+fhzz1FVSwtIE8M6tEHg8AAAAAAICpwGxebTQu+7MxL7dlxIRsG/WzqZxjgol8By4HxQcCWJywINrdT8H9Jym49yRFOxMlPzmJqGd2FfmXNZC7roLI4xb9AAAAAAAAU4XZvNpoXPZnY16OHBO5SnnzXWVqEkwsTBiKtPcmSn4eaKZYT6KKibO4gDyN1eQTJT/LeJVL9AMAAAAAAEw1ZhEPVufrmbBlxISk79e2p3KOCUlWieCyofFoVFyHBFnyM3zk1HDJT6da8tO3aBa5q0pFHwAAAAAAwFRmFvFgdb6eCdtFTPB12davwGjbUz3HBHOVTCPyukRpSyTBVI4PLvnZ0klD2w/pSn5OJ++CevKh5CcAAAAAAMAocl6dbFcCjxnNu2V/NubltouY4OuyrV+B0baneo4JyV2ulg7tTWxTmIpkyc/gjiMUPtlOFIoqB4iD3NUlIjrCO7c2sYgDAAAAAAAAo8h5dbJdCTxmNO+W/dmYl9suYkJL369tT/kcEyoZAcDJHWPBRITAVKEv+RmPKseE20nu2jLyLZlNnoYakU8CAAAAAAAAkjOLeLA6X8+E7SImtPT92jZyTCQ4p/nJWegjisSGkzvmu1jfEIUOn0pS8rOS/EsbyTOripwFys8EAAAAAAAAUjKLeLA6X8+ELSMmZNuonyHHxIjhqIk8r87BUSGhA00U3HuCoh29os9RmCj56VvKJT/LyeFFyU8AAAAAAACrzObVRuOyPxvzcltGTMi2UT9DjokRnNyRxXoGKDYYFNfzSbSzj4J7EyU/ZZJPR7GfPI015OcFiZoycrgQQQMAAAAAwEKhELW3d1I0i5X7fv7z39BXvvJNCgTSm2/w/W677U569tkX1Z70ZeMxkuHH48flx5/KzObVRuOyPxvzcltGTEj6fm0bOSZGcJSAc3qh8gPiqIl+tTf3RU53i5KfoUMtFOtLlPx0qSU//Ytmk7uqRPQBAAAAAOSKvr4Buvvur9M3v/k9tSe7eM503333K3/H1+inP/212psZfs6HDh2jxYsXkN+PLdPpGO/3OxvMIh6sztczYcuICUnfr20jx8RocjtHrueZ4ASWiZKfhyl87PRIyU/l9fkW1JMXJT8BAAAAIIcFAkM0NJQ46TYeeM5UU1MlLsvLS9XezJw82UzBYICWLFmo9oBV4/1+Z4PRfFwyGje7XzpsFzHB12VbvwKjbSPHxGhu3s6hHBecGDKag6VD46GIKPUZ2HFYLfkZUY5OB7mqppNv8SwRJeFEyU8AAAAAyHGxWHzco79vuOG9dO+9/0kbNlyp9mRm9+595PP5aebMOrUHrJqI9ztTcl6d7HnymNG8W/ZnY15uu4gJvi7b+hUYbRs5JnR4El+mRk305k4SzNhQkELHuOTnYREpwdVFHLLk5+LZ5G2sJWcRSn4CAAAAAEwGzimxZ89+mjevgYqLcaIwH8l5dbJdCTxmNO+W/dmYlzvi2VjeyBA/hWQvRt+vbfNqjvYH19JyWr1GNGNGtXptauHEkFy1wlHgFZN6OyeEjPUPUaSth6LtieoazOFzk6uyRER/cPlPAABI37pd+8XlE8sWiEsAALAPzjNw+PBxtTViw4ar6PLLLxbJGB999Am66aYPUHPzKXrmmecpFArT9ddvoEWLFtALL7xCW7fuoO7uXjEf8ni8tGzZYrrhhveQ3+9XHy2RLPK117YMPy6Tj/2Rj1xPp061Ko/1MvX3D4o51dKli+hDH7pu1GNIR4+eoB/84Cd03XXvpnPPXan2EjU1NdMvfvGQ2OahP9Pudrvp5ps/QCtWLE36XBjP7bj/8cefpq6ubtFXVlZK69evpdWrzxk1D+THeP31reIxTp9uo82bt1AwGCKfz0sXXHCOiAzxer3itpz4kx/31Vc3K3PEUxQOR8RrrK2tFpEkDQ2zxO0Y/0wefniT+Ps++MH3q73W8Wv46183Kz/XJ0UuCVZUVEgXXng+XXHF2+n7378/5fvN9u49RL/73R/E6+LH48Wfq69+J73lLecP/wxaW9vonnu+p7xPC5X+C5TbPyL6WEVFmfLcr6N58+aI9ljo5916RuNm90uH626Fen3SGL0Yfb+2rR/r7x+JEpiqK3lOv5cip7vENgguo+kssF9iGq4cEjrRRpGT7RRXK4g4lefKERLexhpylUwjh9sl+gEAIH0Pnu4QlzdWV4hLAACwjwsvvEBsh9i+/U1qbJxJX/7yP4mJ+Ny5DWL8yJHjtGfPPjpxolm5zS6KRKLk8XhozZrzqbe3j5555i908cUX0i23fJCuvHItDQ4OKhPjv1FPTw+tXLlMPAbbseNNampqEckqtY+9e/deEf3ACwmf/ORH6N3vXi/yH2zevFVM9JPlkHjppdfESeCrrlo7vHBx/HgTfe9794vn9tnPfpKuvfZdynPoE4spl1yyhv7hHz5FNTWJk8XJngtPaH/5y4foiSeepYULF9BnPvMxWrfuMrFg8tRTz4mKIitWLBme8yUe4xQdPXqc5syZTR/96A3i58YLNLww0NraTqtWLRe3HxwMiIl+TU2lcrsb6X3vu5Zmz65XbvcGvfnmPjr33LPFggbjn8nevfuV92TGqJ+fVa+88hr95jePiMWhz33uVnrnO98uFkJOnTotFnEuuugtKd/vF198lX7xi/+jBQvm0e2336KMvYMGBobosceeIZfLObzYMDAwqPxdm8Ui0OHDR+m66zbQBz/4PuVndxZt2bKTXn31dbHgUlk5tn/79XNrPaNxs/ulw3Y5JphsG/Uz/mXSj4Oaa0IRs1meiUTJzxMU3N9EMbXkp7O4gLxzasi3ZDa5a8tJ+e0T/QAAAAAAUxXPcXi+96lP3Uzf+c6/0z33/BstWbKIli9fokxs76IrrrhUVMZwKd+dr7jiMqqoKKfduw+IybwV8+fPpVtv/SiVl5eJx7jkkoto2rRpygT94BmlQCORiFjIaGiop9LSkYp4L7zwEgWDYXHmv7q6UkQrXHvtevGYu3fvFxPpVPbtO6hMqLfTnDkN9OEPX0dFRUVi0ePGG69TJunz6Y03ttPOnbvVWyfwz2Xt2ktFdATfnv/O6667Vpn419Obb+6lAwcOi9vxSeq77vp7uummG6iqqlL0LV26mFasWEwdHZ3K4+4Sfdlw+PAx5b1y0jnnrBDPh/9cddUV9LGPfUhEjaRy+nQ7/elPz4iFlg996P3Dr4kXi+bNa6QXX/wr9faORJczjii5446/o0WL5olFAb7dhg3rRVnYZ555Qb1V+szm1Ubjst/s/lbYLscEk22jfoYcE8kNV+foHaBYKCyuTyberhHcfUwt+Tkk+pwlhSKZpW/RLLF1Q3kjRT8AAAAAABA1Ns4SEQa8cMB/jOY9PAmfPn2a2L6gjSBPpbDQP+rxfD6fiCDgRQg+2691+nSHmMzzFgKttrZ2ZeLtGlX1Qz4XPoHMCR9T4a0YvEVl9epVoybw/LzOP3+VMtGN0WuvvaH2juCfhRbfl39O/Pp5y0kqdXV1YgLd2dmj9mSOFxN4UeDPf35JRLSkY9eu3TQ4OKT8DM4d9X7wdV6w4cWdU6cS2zUkHovHRx8LvDhRVFSsvCcdyjHQr/amR/v3J2M0LvvN7m+FLSMmJH2/tq3fxwQJnCjS4fdQPBiZtNKhXPIz3NJJgR1HKHy0lWID6paNsiLynlVHvgUzUfITAAAAACBNPAnmbQ0//vHP6J//+av093//zyKHAffrz65nw969+8jpdNCCBWepPQklJaUUDoeptXUkzx/nWOjtHaBp0wqpwGRLOS9s8CIDT+z1Zs2qE5EDvE3Dypn4goJEovzW1lZxKZ082UIPPbSJvvSle+iOO/6FHnnkMdHf1dUlLrOBt9PwNo6DB4/QF7/47/T1r99LW7futPS8eXsLb9X52c9+Q7fddueoP7zFhR8jHA6ptzbmcrnFIhEvcvA2kLEwe75G41Zep1W2jJiQ9P3adrKMoZAwWds5uORnpKmDglxhg3NIBMPKm6b8slSViJKfvvl15Co988MHAAAAAABS40SO//Zv36D77/+FyAfBuRP+3/+7k+bOna3eIrt40sk5GWbMqBUJFrV4SwVvJ/n97zeJJJiBQEDkWuCoAR4z28YwHmQ0BUdP/OhHD9DXvvYdkVPjootW0+c//2m65pp1YjybeAHlE5/4sPK+3Cm2xHDUwv33PygWKKwsFPHPifOF3Hff1874861vfUVsQbGK58e8iDQWZhEPVufrmUDERB6S0QjRngFRjnO88d8RPn5alPwMN3dQnEt+elzkrikj/5IGkdQSJT8BAAAAAMaGt1k8+ODvxFnx2267Rfw5++xlVFqaOCE5Hjo6usRiCG/j0E9Ay8tLqKamigKBEH3jG9+jf/zHu+n48RN0/fXvEc/LDOd+4CiPZFsPOPEnLy7wa7My8W1ubha34+0vjBOE7tq1h9aufRt98Yt3iOoX/FydzvHLZ8e5NTZuvIq++tV/Eq+fk1S+9NLr6mhy9fUzxM/g0KGjas/Y9PX1i+OiuLhI+TO2qHSzyAer8/VMIGIiDzn8XpFYkqIxUUJ0vMQGAhQ6coqCu45RpLVbOTKVv9vnIXdduShX6pldJaqDAAAAAABAAid5THcuMzQUFDkHioqmUW1tjdqb2NoRiYzPCVuu/sD5DBYtOrNSx6ZNT4sFhA9/+P307W9/le699z/pS1/6gsgPYcX5559DXq+HXnttq1h0kXiiyxVCeN53zjkjpUmNdHZ20f79h0R+i/nz54m+jo4OET3R2Ngwav5oZVtEungBhd8DiSMozjtvlfj7udoJM3q/OZkpJx3dtm2HeB1jxYlCh4aGlPdpvohiGQuj+bhkNG52v3TYYnavX2mRbaN+hqocqY0kwcz+dg5+zODBZgruPk7R9kSIkqPAS55ZVeRfMps89ZVigQIAAAAAAEbj0pUccdDa2iHOlvPklitcpMI5Gzh3A5fk5HKiPA86duwk3XPP95THGZ0gMVu4XCknt6xOUn563brLqaRkOv3gBz+l22//wnBuBL5+111foqee+vPwXK2mJrGQop3AL1w4Xyw8HDlyjB544LcicoK3gzz44G9p//6DoqQnV7rQ4kkwlxLlEpv8M+PJPG9r6e3tp0svvVhUB2EVFRXi79qyZYe4HT/2z3/+G3ruuZfOmEjzFhXeThGNpr+4w4/97W//iL7xjXtF2VF+vbyV5emnnxePKZ+/0fvNUSOXXXaxeP4//OFPxfvJeAvIH//4uFig0eNEpD/96S/Fa+fX+MILryiv60UREcLVWsbKbF5tNC77ze5vhetuhXp90ugPENk26md8XdvWZqHlFbOpzun3UqSlU+R5cE4vIGcWFgq45Gf4eBtFeLtGILHi6CouIHddBXkbaxNRGhlEsnDJHF4J5g9dgHyD4xsmyoOnO8TljUm+SI4XHN+Qz3B8Q7bxpJXD+Hft2kvPP/+SmMj29PTQihVLxQR37979NHPmDFq5cmRLBJ9xnz+/UUxsX3rpNVFmct++A3TllVfQjBk1olTmqlXLlQlqtbg9J8jk5IpcsWLu3AbRl+yx+fgOBoPirDtbs+YCUaGDJ8d/+tOzdPbZy2nRotGJLxknkuT7fuELn6aNG6+m9evXij9vfesFtGfPAfF49fW14vlwlAeX8+SFjtLSYpo1a6aYxy1fvlhsgfjb37bSpk1PiZ/D4GCA3vMefrx3jJrr8evp6OimD3zgvfTqq5vpt7/9g6iEwUkfb7rpRlq9+hz1lkQNDTPFAsHWrbvEz4l/XmedNU88v23bdopJvHz9HLHACyF79x4QEQ5LliwQ/Vbwe8ILNwcOHKFnn31BvAZ+ThwhcdNN1ys/90Zxu1TvN1fUmDOnUeTC4HKfjz32lHKbV8RiCpdB5dfC+DPolVc2U0VFqVjU+dWvHqY//vEJ8Xefe+5KuuWWG8VrGSvtzzoZo3HZb3Z/KxzxbCxvZIifQrIXo+/XtjliQhsS09IykhF2xozEL+RUFzrYTNGufrG1gqMYxopLfkbbuoerazBnyTRyVRQPJ9rMBn4PPR4XVVZO3JdpgInCxzeH9SU76wCQTet27ReXTyyz/uUqU6dOnVb+TXYrx3e52gOQP/jzmycWVVU4viH/tLS0Kd9PnGd8P+GFgF/96vf0iU98ZDh3g9Te3kn/9V/fVybI8+gjH7le7R3x7LMv0sMPb6ING64S+R0gcxwVw9ExvEB6xx23Zv1EvNF8XLI6X8+ELbZyGL0Yfb+2ne6+rKlImwQzblJL+AyxGEVauyiwc3TJT1d5EfnOqiffgvqsLkoAAAAAAIA9cHQDn4GvrT3zhG8ir0VElAvV44kqn/33eLxUV1er9oLdmS0uWJ2vZ8J2OSb4umxr+5m2jRwT5nhhwuFyUnwgaDnXRDysfMg0d1Bg51GxbSMeSJT8dHPJz0WzyDuvjpyl2CoDAAAAAJCPONfDsWMnxDaQZMkUOS/DrFl1YmvCww8/ptw+cQKzra2d7rvvf8S2kvPOWymSMeYajvaQ+TJS/bn77q9TX9/4FRmYaHJenazyJY8Zzbtlfzbm5bbYypEN2MqRXOhoK0XbeshVXULehpEMvnq8ABFp6xZbNuJR9ZBwO8ldWSK2bDgL/Ym+cYStHJDPsJUDJgq2cgBkF7ZyQD4z2sphhhcvHnnkTyLBJFeE4Cmlx+NW5mG1dM0162nRokSFDMiO8d7KYQfIMZHnYn1DFNx7QlTJ4BKeDmXir8UlP3nhgvNISA6vm1yV08WixERW18DCBOQzLEzARMHCBEB2YWEC8tlYFyYgvxjNxyWr8/VMIMdEnuNKGby4wNU5ONeEFO0dpNChFlHyUy5KOAu95J5ZSb4lDSj5CQAAAAAAMAWYLS5Yna9nwnY5JphsG/Uz5JiwTiapjPUOUKy7n4L7T1Jo30lR/pM5i/zkbawRERWeGeVnRFUAAAAAAABAfjKbVxuNy/5szMvzMscE5C5edMuPIxIgGV5VxgEO4+umjm5x+b8VpeJyIuCzG/IdnxXMk6/MAAC2TH1gy4gJSd+vbeszhhYW+sX+KHzpBwAAAAAAALDGbOHV6nw9E3kTMcF6enppcDCgtiAX4awb5DdETEB+wmc35DtETABAPrFjxITtqnLIpyP/AdAm1NBW4uDrPCbHtWP6++lh3J7jsipHRUW5LZ+fhHGMj2U8cXx7lOO71JbPT8I4xscyzlU5XC43VVaW2fL5SRjH+FjGuWqB281Vw3B8Yzz/xmVVDq46Y8fnJ2F8YsaT3Y77WLL7p7pfumyxlUP7Ivi6bOtfnLYSB1/XjmvH9PfTw7idx0e/r8lgHOOp2Hk8FjP/0MY4xlPBOMZTwfj4jfOQnZ8fwzjGUzEal912fX4SxidmPNntuM/o/qnuly5bLEzIVRg9fb+2bXQfyG1ZOKYBbMvpxAEOAJCL8LUTAPKZ2dza6nw9E7aLmNDS92vb2ViVATvCv/wAAAAAABMF0yowm1tbna9nwpYRE7Lihr5ftvmS/+grc0j6++lh3M7j5smlMI7xVOw9nvjsSgXjGE8F4xhPBePjNZ7ot+/zS8A4xlNJNc5Ddn5+DOPjO240r5aM7i/7zR7fCltGTMh8Efp+2eZL/qPNK6Glv58exu08jj34GM/fcf7MtvPzYxjHeCoYx3gq+TzOQ3Z+fgzjGE/FaJwnlDxk1+cnYXx8x43m1ZLR/WW/2eNbYcuICUnfr21nY1UG7CcbBzWAXeH4BgAAAHvBdxMwn1tbna9nwpYRE5K+X9vGF/z84/V6lINbbQDkGT6+iVKHyQHkKi6l6HDgAxzyE39+43sn5CuPx2l6thzyn9lnnNF4Nj8bbRcxwddl2+iS6W+nH9NCOzfaFRVl4k+2Hk9CG22tyWrzsV1ZWZG1x5PQRltrstp8bOP4Rjtf2/h+koB2frb5sxvH99Rr63NKyHH9JePr+vunuv1YOZQHyfxRAAAAAAAAAADGADkmAAAAAAAAAKYos7m11fl6JhAxAQAAAAAAAACTxpYRE7Kdql/+ScbofhLaaGuhjbYW2mhroY22Ftpoa6GNthbaaGtNlbb+MhOImAAAAAAAAACASYMcEwAAAAAAAABTlNnc2up8PROImAAAAAAAAACASWO7iAm+LuuqGtVXZdrb8XX5R7ZxiUtc4hKXuMQlLnGJS1ziEpe4xGXqS+28Wn8p/8i2llH/WCBiAgAAAAAAAAAmTV7mmDBba8E4xlPBOMZTwTjGU8E4xlPBOMZTwTjGU8E4xlPJdFy/U0HPaNzscdOBiAkAAAAAAAAAmDS2ipjQX5rtdUk1jktc4hKXuMQlLnGJS1ziEpe4NL987bU36Lbb7qRHHnlMtK3eD5f5camPiDC7vWTUPxaImAAAAAAAAJjCXn99C/3sZ7+htWsvoWuvXa/2AkwcWyxM8FNwOBxqa4S+X9s2ug9MvsHBIfrDH/5EW7bsoKGhIXK5XNTYOJuuu+5aqq+fod4qgd/HXbv20O9/v4na2zvJ7XbTueeupPe+92ry+/3qrRL4cR966FHxuJFIhCory2njxmto2bJF6i0AJt727bvoJz/5JRUVTaPPfe5WKisrVUdwfEPuOn68iX7964eoqekURaNRKi4uore9bQ1dfvnF5PV6xW1wfEMuam/vEN9Rdu3aS+FwWBzbl1yyht7xjkvEMSylc3zzmcZXXnmdHnvsaerr66eCggLxmOvWXTbqMQEmAx/Lp0+304svvqocp5uptraabr/9Y8pxOvo43rx5Kz3wwK/piisupWuueZfaC1MFHyep5tZG42b3S4frboV6fdIYvRh9v7adrR8AZFdTUwt961s/oN7eXrrllhvp+us30lvf+hbas2c/Pfnkc7Rw4XwqKZmu3joRNvbLX/5O+bJ7CX3iEx+mlSuX0lNP/Zl27HiTVq1aQR5P4h/0wcFB+v73/1d53D667bZbaMOGK6mnp1eEm1VUlJ+x4AEwEfgfev5HPBAIkM/npTVrLhj1Dz2Ob8hFf/3r3+gnP/kFnXPOSvq7v/sIrV+/Vkzedu/eR8uWLRbHOsPxDbmmo6OT7r33f5Rj00uf/vTH6N3vXi+OwT/+8UnxvWXJkoXD3y+tHt/8pXzTpqfo6aefp/e/fwPddNMHaNasOuX4/hO1tJyiFSuWkNNpi53TMEX97W/b6Lvf/W86evSEWGjm7+GrV587fAxLzc2nxMmWefMale/rZ6m9MFWYza2NxrM5J7ddVQ6+LtvafmZ0O6a/LUyOurpauvnmG+izn/2kiJLgg5W/0PI//nz9+edfVm+Z+LL63HMv0ty5jeLMAp9V4C+o/KWVz9a98cZ29ZZEW7bsFB+YV1/9TqqpqRK3vfLKtco//vXiywA/FsBE4rO+jz76pPjsOfvs5WrvCBzfkItaW9uUSdoT4kvrtde+S5wZ5uPxwgvPp1tv/aj4PGc4viEXbd26U0Q0cCRDaWmJWDA455wVdPHFq2nnzj1iwYylc3zzAjUv5p133tm0atVy8Zi8wMHRRTt37qaDB4+otwSYHOefv4ruu+9r9OUv3zXq5CCAlpxLJ5tTc5/RXDvV/dJli4UJ7UoLX5dtbT8zuh3T3xYmB78Pc+c2DH95lfiDsLy8jE6dOk1DQwHRx/9Yc3v58iXiH32JvwhwODxHWfBBHgqFRXgZ33/27JnqrUiEE69YsVScAWlpaVV7ASYGh0PymbN16y5PWkIJxzfkoq1bd1A4HKHVq89L+e8qjm/IRcFgUL02WmlpqTIWov7+AdG2enwzXnzgbascTaT9neG22+2hffsOqD0AuYdPwtx//y/oM5/5J3r55dezMvkEe5KfX8n+7ec+o+8Eqe6XLttFTGjp+7Vt/GLkFt5fzGG8Ho9H5JxgJ040iX/wZ8yoEW2Jw4R5vz5/YeUQeT5z0dnZJfYkT5tWqN4qgb/s8hfftrYOtQdg/B04cFhES/DEavXqcygWi6ojI3B8Q67hY23PngNUUVFG1dUVam9yOL4hF/FCA4evc96Irq5u0RcKhcSCXH19rXLcV4o+q8c34/B4zinB0UBafDu+fXNzK76zQk7i4/bxx58R2zsuv/xttGbN+VmZfII9mX1OGY1n8/PNdhETWvp+bRu/GLlly5btIkSS9116vR7Rx/vc+G10Oke/l36/j6ZPLxLhloFAUBzwfEaab6d/30tKisXjnT7dpvYAjC+eaHHiNM4lwaHp2rNpWji+IdfwBG1gYJDKy0ups7ObvvnNH9CnP32XOFP2/e//RCQNlHB8Qy7iqJ0bb3yfWCz70pfuERUIHnjgN2Kr0ZVXXiEieZjV45vxwjQf2/o8Ej6fT0SP8kkZeVuAXMJ5Vp599i+0cuUyWr/+HWd8hkN+MXt/jcazeVzYMmJCto36GV/Xj4M98Z7lv/zlVXH24KKLVqu9ALmHP3M4yRmfTdu48arhs2sA+YArFHBIeqIix+/pPe+5kr7znX+nO+/8tFio4KSBfKYYIFfxItnJk83ikhcZeJsRnw0+++xlNHt2vXorAODI0Ice2iRyAV1//QbDkzCQP8zm1Ubjsj8b83JbRkzItlE/4+v6cbAfPrv885//lrq7e+iyyy4+IywSIJdwZuuXX36d3v72t4ptHAD5iKOBPv7xDw8nMOakxpyskkPfOXkgQK7isHSurLFx49X0H//xL/TFL94htndwzqAf//jnwzmwAKaytrZO8d2dF6p5ax9H/0D+M5tXG43L/mzMy5FjAsYNJ8z51a8epqNHj4uqBTyZ0yosLFTeRz6DMfq95JDH3t5+EQLJZzScTpfITcG307/vPT19Yo9ydfXovZ0A44H3IXOI7zPPvEC33/4Fuu22O8WfHTt2i61K//Iv/0Ff//q94sstjm/INXw88nHJx67+iygvKhcWFgxHTOD4hlzDJ0g4QoK/j3DVGcZ5IT7+8Q/R2rWX0r59B4erbVg9vhlXruFjm6MwtDjRJm/5mD69ePi2ALmAv+sw/t7OSb63bEm0Ib+Zza2Nxs3ulw7kmIBxwYsSvG+TP9z4rFuyMDA+CxePx87IyM57nPkLBNcW53/wi4oKReK09vZOMaZ18mST2KNcVZU6URtANvBZZC65pf/Ddeq58gyX4vr8528XZ5xxfEOu4eORj0s+PjnaLRm5Bx/HN+QaXlTr7++nsrKSM75P8h56Xozr7EwsvFk9vhl/x+Ezy7xtVYv/Pv49qqurwXdWyCmczPWDH7yO1q9fSzNn1tHjjz8tjnvIb2afU0bj2fx8s13EBF+Xbf0KjNHtmP62MHl4UYJDwLZt20m1tTV0003Xi7MPeo2Ns5QvpJWi1BbfRzp+/KT4x59rgvPBzlU8+AwHJ6viMYkTtXFJL64tznvgAOwExzfkGj4eL7hglTjLu3fv6BKHfCxyJBBPwhiOb8g1lZWVVFxcTF1dPWd8ZxwYGFCO4/DwdxWrxzdbuHC+mMjt2rVn1OPyHn2OGFq5crnaA5AbuPrGWWfNVZN8rxMJXLkSGeZa+U2+v8neZ+4zev9T3S9dtouY4Ouyre1nRrdj+tvC5JCLEhz2xWfJOESSzywkw18AOHzy4MFE6UW+b1NTCz388GOiVvjSpQvVWxKde+5KUcrr179+WNyGb/vYY0/TyZMt9I53XDJ8Fg/ALnB8Qy5aunSR+PPoo0/Q/v2HxBcN3o735JPPibwqy5cvFrfD8Q25hqvArFt3GW3btksk9eNoBnl8P/TQo8oxWicmZCyd45u3g6xZcwG9+upmevnl18SWjt2799Fzz71ISKoJucjlGpke8gIFLy5zBPSePfvVXshHci6dbE6tn3drpbpfuhzKh3LmyxsZ4qeQ7MXo+7Vto/vA5Dp06IgoKxcMhkSt8HB45EyDdMUVl9I117xLXOf3kc8ycE1xDvXl7R78Jfa97716OExSGhwcEl8eeNGDvyTwwsfGjdfQsmWL1FsATI7//u8H6Nixk/S5z91KZWWlai+Ob8hNfPxxHpUXXnhFRE/w2eC3ve1Ceuc73z5qEQHHN+QaPmZ50YAXG3ibBucM4ophvJXj2mvfRZxHRUrn+ObFiFdeeV0suMnfmUsuWSMWQvTbWAEmEictvuee74k8WMlov5NzDpYHHvj1qD7G25K++90fi9+P22+/RSzcQf7hz7xUc2ujcbP7pcMWCxMAAAAAAAAAMDXZsiqHbBv1M76uHwcAAAAAAAAA68zm1Ubjsj8b83JETAAAAAAAAADApLFlxISk79e2sZ4CAAAAAAAAkBmzubXV+XomEDEBAAAAAAAAAJPGFhETAAAAAAAAADA1YWECAAAAAAAAACYNFiYAAAAAAAAAYNJgYQIAAAAAAAAAJg0WJgAAAAAAAABg0mBhAgAAAAAAAAAmDRYmAAAAAAAAAGDSYGECAAAAAAAAACYNFiYAAAAAAAAAYNJgYQIAAAAAAAAAJg0WJgAAAAAAAABg0mBhAgAAAAAAAAAmDRYmAAAAAAAAAGDSYGECAAAAAAAAACYNFiYAAAAAAAAAYNJgYQIAAAAAAAAAJg0WJgAAAAAAAABgkhD9f+3kSDGODENCAAAAAElFTkSuQmCC)"
      ],
      "metadata": {
        "id": "DkjyjOnE4x0W"
      }
    },
    {
      "cell_type": "markdown",
      "source": [
        "![image.png](data:image/png;base64,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)"
      ],
      "metadata": {
        "id": "lxhNybH5616O"
      }
    },
    {
      "cell_type": "markdown",
      "source": [
        "![image.png](data:image/png;base64,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)"
      ],
      "metadata": {
        "id": "rvSYDvxA7Za3"
      }
    },
    {
      "cell_type": "markdown",
      "source": [
        "Final F1 macro dla jednego przebiegu. Dla różnych parametrów otrzymamy wiele różnych punktów, co pozwoli na ocenienie, dla których parametrów model najlepiej działa."
      ],
      "metadata": {
        "id": "JFj1kVS17e5Y"
      }
    }
  ],
  "metadata": {
    "colab": {
      "provenance": [],
      "toc_visible": true,
      "gpuType": "T4"
    },
    "kernelspec": {
      "display_name": "Python 3",
      "name": "python3"
    },
    "language_info": {
      "name": "python"
    },
    "accelerator": "GPU",
    "widgets": {
      "application/vnd.jupyter.widget-state+json": {
        "cfa067cf0d2640ee82a99e9e5946562f": {
          "model_module": "@jupyter-widgets/controls",
          "model_name": "HBoxModel",
          "model_module_version": "1.5.0",
          "state": {
            "_dom_classes": [],
            "_model_module": "@jupyter-widgets/controls",
            "_model_module_version": "1.5.0",
            "_model_name": "HBoxModel",
            "_view_count": null,
            "_view_module": "@jupyter-widgets/controls",
            "_view_module_version": "1.5.0",
            "_view_name": "HBoxView",
            "box_style": "",
            "children": [
              "IPY_MODEL_e6406394b3b5477ba1c7a01012edc68c",
              "IPY_MODEL_a85cdbb5bb1342d5ac4d82786baefb68",
              "IPY_MODEL_5dc56478747c441cba8ab787fbf3c47a"
            ],
            "layout": "IPY_MODEL_c5051a9bc1d4438d86f6d13e9b178d09"
          }
        },
        "e6406394b3b5477ba1c7a01012edc68c": {
          "model_module": "@jupyter-widgets/controls",
          "model_name": "HTMLModel",
          "model_module_version": "1.5.0",
          "state": {
            "_dom_classes": [],
            "_model_module": "@jupyter-widgets/controls",
            "_model_module_version": "1.5.0",
            "_model_name": "HTMLModel",
            "_view_count": null,
            "_view_module": "@jupyter-widgets/controls",
            "_view_module_version": "1.5.0",
            "_view_name": "HTMLView",
            "description": "",
            "description_tooltip": null,
            "layout": "IPY_MODEL_917b68494a984900b55f381765d4f9b6",
            "placeholder": "​",
            "style": "IPY_MODEL_57674567df874a0390023eb7844b8825",
            "value": "tokenizer_config.json: 100%"
          }
        },
        "a85cdbb5bb1342d5ac4d82786baefb68": {
          "model_module": "@jupyter-widgets/controls",
          "model_name": "FloatProgressModel",
          "model_module_version": "1.5.0",
          "state": {
            "_dom_classes": [],
            "_model_module": "@jupyter-widgets/controls",
            "_model_module_version": "1.5.0",
            "_model_name": "FloatProgressModel",
            "_view_count": null,
            "_view_module": "@jupyter-widgets/controls",
            "_view_module_version": "1.5.0",
            "_view_name": "ProgressView",
            "bar_style": "success",
            "description": "",
            "description_tooltip": null,
            "layout": "IPY_MODEL_95bc2629540249d98e6af05c487c755f",
            "max": 48,
            "min": 0,
            "orientation": "horizontal",
            "style": "IPY_MODEL_215609d7b7974fd88a0623c89616c802",
            "value": 48
          }
        },
        "5dc56478747c441cba8ab787fbf3c47a": {
          "model_module": "@jupyter-widgets/controls",
          "model_name": "HTMLModel",
          "model_module_version": "1.5.0",
          "state": {
            "_dom_classes": [],
            "_model_module": "@jupyter-widgets/controls",
            "_model_module_version": "1.5.0",
            "_model_name": "HTMLModel",
            "_view_count": null,
            "_view_module": "@jupyter-widgets/controls",
            "_view_module_version": "1.5.0",
            "_view_name": "HTMLView",
            "description": "",
            "description_tooltip": null,
            "layout": "IPY_MODEL_687ba5e54f064a3cb44f7786aa0184b5",
            "placeholder": "​",
            "style": "IPY_MODEL_b976e2d8de3e452a848c6600f2ad2e93",
            "value": " 48.0/48.0 [00:00&lt;00:00, 2.75kB/s]"
          }
        },
        "c5051a9bc1d4438d86f6d13e9b178d09": {
          "model_module": "@jupyter-widgets/base",
          "model_name": "LayoutModel",
          "model_module_version": "1.2.0",
          "state": {
            "_model_module": "@jupyter-widgets/base",
            "_model_module_version": "1.2.0",
            "_model_name": "LayoutModel",
            "_view_count": null,
            "_view_module": "@jupyter-widgets/base",
            "_view_module_version": "1.2.0",
            "_view_name": "LayoutView",
            "align_content": null,
            "align_items": null,
            "align_self": null,
            "border": null,
            "bottom": null,
            "display": null,
            "flex": null,
            "flex_flow": null,
            "grid_area": null,
            "grid_auto_columns": null,
            "grid_auto_flow": null,
            "grid_auto_rows": null,
            "grid_column": null,
            "grid_gap": null,
            "grid_row": null,
            "grid_template_areas": null,
            "grid_template_columns": null,
            "grid_template_rows": null,
            "height": null,
            "justify_content": null,
            "justify_items": null,
            "left": null,
            "margin": null,
            "max_height": null,
            "max_width": null,
            "min_height": null,
            "min_width": null,
            "object_fit": null,
            "object_position": null,
            "order": null,
            "overflow": null,
            "overflow_x": null,
            "overflow_y": null,
            "padding": null,
            "right": null,
            "top": null,
            "visibility": null,
            "width": null
          }
        },
        "917b68494a984900b55f381765d4f9b6": {
          "model_module": "@jupyter-widgets/base",
          "model_name": "LayoutModel",
          "model_module_version": "1.2.0",
          "state": {
            "_model_module": "@jupyter-widgets/base",
            "_model_module_version": "1.2.0",
            "_model_name": "LayoutModel",
            "_view_count": null,
            "_view_module": "@jupyter-widgets/base",
            "_view_module_version": "1.2.0",
            "_view_name": "LayoutView",
            "align_content": null,
            "align_items": null,
            "align_self": null,
            "border": null,
            "bottom": null,
            "display": null,
            "flex": null,
            "flex_flow": null,
            "grid_area": null,
            "grid_auto_columns": null,
            "grid_auto_flow": null,
            "grid_auto_rows": null,
            "grid_column": null,
            "grid_gap": null,
            "grid_row": null,
            "grid_template_areas": null,
            "grid_template_columns": null,
            "grid_template_rows": null,
            "height": null,
            "justify_content": null,
            "justify_items": null,
            "left": null,
            "margin": null,
            "max_height": null,
            "max_width": null,
            "min_height": null,
            "min_width": null,
            "object_fit": null,
            "object_position": null,
            "order": null,
            "overflow": null,
            "overflow_x": null,
            "overflow_y": null,
            "padding": null,
            "right": null,
            "top": null,
            "visibility": null,
            "width": null
          }
        },
        "57674567df874a0390023eb7844b8825": {
          "model_module": "@jupyter-widgets/controls",
          "model_name": "DescriptionStyleModel",
          "model_module_version": "1.5.0",
          "state": {
            "_model_module": "@jupyter-widgets/controls",
            "_model_module_version": "1.5.0",
            "_model_name": "DescriptionStyleModel",
            "_view_count": null,
            "_view_module": "@jupyter-widgets/base",
            "_view_module_version": "1.2.0",
            "_view_name": "StyleView",
            "description_width": ""
          }
        },
        "95bc2629540249d98e6af05c487c755f": {
          "model_module": "@jupyter-widgets/base",
          "model_name": "LayoutModel",
          "model_module_version": "1.2.0",
          "state": {
            "_model_module": "@jupyter-widgets/base",
            "_model_module_version": "1.2.0",
            "_model_name": "LayoutModel",
            "_view_count": null,
            "_view_module": "@jupyter-widgets/base",
            "_view_module_version": "1.2.0",
            "_view_name": "LayoutView",
            "align_content": null,
            "align_items": null,
            "align_self": null,
            "border": null,
            "bottom": null,
            "display": null,
            "flex": null,
            "flex_flow": null,
            "grid_area": null,
            "grid_auto_columns": null,
            "grid_auto_flow": null,
            "grid_auto_rows": null,
            "grid_column": null,
            "grid_gap": null,
            "grid_row": null,
            "grid_template_areas": null,
            "grid_template_columns": null,
            "grid_template_rows": null,
            "height": null,
            "justify_content": null,
            "justify_items": null,
            "left": null,
            "margin": null,
            "max_height": null,
            "max_width": null,
            "min_height": null,
            "min_width": null,
            "object_fit": null,
            "object_position": null,
            "order": null,
            "overflow": null,
            "overflow_x": null,
            "overflow_y": null,
            "padding": null,
            "right": null,
            "top": null,
            "visibility": null,
            "width": null
          }
        },
        "215609d7b7974fd88a0623c89616c802": {
          "model_module": "@jupyter-widgets/controls",
          "model_name": "ProgressStyleModel",
          "model_module_version": "1.5.0",
          "state": {
            "_model_module": "@jupyter-widgets/controls",
            "_model_module_version": "1.5.0",
            "_model_name": "ProgressStyleModel",
            "_view_count": null,
            "_view_module": "@jupyter-widgets/base",
            "_view_module_version": "1.2.0",
            "_view_name": "StyleView",
            "bar_color": null,
            "description_width": ""
          }
        },
        "687ba5e54f064a3cb44f7786aa0184b5": {
          "model_module": "@jupyter-widgets/base",
          "model_name": "LayoutModel",
          "model_module_version": "1.2.0",
          "state": {
            "_model_module": "@jupyter-widgets/base",
            "_model_module_version": "1.2.0",
            "_model_name": "LayoutModel",
            "_view_count": null,
            "_view_module": "@jupyter-widgets/base",
            "_view_module_version": "1.2.0",
            "_view_name": "LayoutView",
            "align_content": null,
            "align_items": null,
            "align_self": null,
            "border": null,
            "bottom": null,
            "display": null,
            "flex": null,
            "flex_flow": null,
            "grid_area": null,
            "grid_auto_columns": null,
            "grid_auto_flow": null,
            "grid_auto_rows": null,
            "grid_column": null,
            "grid_gap": null,
            "grid_row": null,
            "grid_template_areas": null,
            "grid_template_columns": null,
            "grid_template_rows": null,
            "height": null,
            "justify_content": null,
            "justify_items": null,
            "left": null,
            "margin": null,
            "max_height": null,
            "max_width": null,
            "min_height": null,
            "min_width": null,
            "object_fit": null,
            "object_position": null,
            "order": null,
            "overflow": null,
            "overflow_x": null,
            "overflow_y": null,
            "padding": null,
            "right": null,
            "top": null,
            "visibility": null,
            "width": null
          }
        },
        "b976e2d8de3e452a848c6600f2ad2e93": {
          "model_module": "@jupyter-widgets/controls",
          "model_name": "DescriptionStyleModel",
          "model_module_version": "1.5.0",
          "state": {
            "_model_module": "@jupyter-widgets/controls",
            "_model_module_version": "1.5.0",
            "_model_name": "DescriptionStyleModel",
            "_view_count": null,
            "_view_module": "@jupyter-widgets/base",
            "_view_module_version": "1.2.0",
            "_view_name": "StyleView",
            "description_width": ""
          }
        },
        "1b18742ea7ba41ee85767518dda4690a": {
          "model_module": "@jupyter-widgets/controls",
          "model_name": "HBoxModel",
          "model_module_version": "1.5.0",
          "state": {
            "_dom_classes": [],
            "_model_module": "@jupyter-widgets/controls",
            "_model_module_version": "1.5.0",
            "_model_name": "HBoxModel",
            "_view_count": null,
            "_view_module": "@jupyter-widgets/controls",
            "_view_module_version": "1.5.0",
            "_view_name": "HBoxView",
            "box_style": "",
            "children": [
              "IPY_MODEL_8550e23ad1de4a35ac5993cb70523cdc",
              "IPY_MODEL_8aabcdedf833444ba99e681932f111e8",
              "IPY_MODEL_962a19f5b2744ec78e9a05784e231189"
            ],
            "layout": "IPY_MODEL_2c30717476594696a9633685eaebdd7e"
          }
        },
        "8550e23ad1de4a35ac5993cb70523cdc": {
          "model_module": "@jupyter-widgets/controls",
          "model_name": "HTMLModel",
          "model_module_version": "1.5.0",
          "state": {
            "_dom_classes": [],
            "_model_module": "@jupyter-widgets/controls",
            "_model_module_version": "1.5.0",
            "_model_name": "HTMLModel",
            "_view_count": null,
            "_view_module": "@jupyter-widgets/controls",
            "_view_module_version": "1.5.0",
            "_view_name": "HTMLView",
            "description": "",
            "description_tooltip": null,
            "layout": "IPY_MODEL_09bc5081150c49d490788f8405a74324",
            "placeholder": "​",
            "style": "IPY_MODEL_5727828e329d4a3caa9fbda693366a0f",
            "value": "config.json: 100%"
          }
        },
        "8aabcdedf833444ba99e681932f111e8": {
          "model_module": "@jupyter-widgets/controls",
          "model_name": "FloatProgressModel",
          "model_module_version": "1.5.0",
          "state": {
            "_dom_classes": [],
            "_model_module": "@jupyter-widgets/controls",
            "_model_module_version": "1.5.0",
            "_model_name": "FloatProgressModel",
            "_view_count": null,
            "_view_module": "@jupyter-widgets/controls",
            "_view_module_version": "1.5.0",
            "_view_name": "ProgressView",
            "bar_style": "success",
            "description": "",
            "description_tooltip": null,
            "layout": "IPY_MODEL_c8b79a246ac24ea6b34a1b2e7de0bb6b",
            "max": 483,
            "min": 0,
            "orientation": "horizontal",
            "style": "IPY_MODEL_93c7344bd7cb4b8eb9d5034cf17a79ec",
            "value": 483
          }
        },
        "962a19f5b2744ec78e9a05784e231189": {
          "model_module": "@jupyter-widgets/controls",
          "model_name": "HTMLModel",
          "model_module_version": "1.5.0",
          "state": {
            "_dom_classes": [],
            "_model_module": "@jupyter-widgets/controls",
            "_model_module_version": "1.5.0",
            "_model_name": "HTMLModel",
            "_view_count": null,
            "_view_module": "@jupyter-widgets/controls",
            "_view_module_version": "1.5.0",
            "_view_name": "HTMLView",
            "description": "",
            "description_tooltip": null,
            "layout": "IPY_MODEL_c9a0977710ce4e078cd5206749839680",
            "placeholder": "​",
            "style": "IPY_MODEL_e32583843d28455da4a3ecf9c06f40f1",
            "value": " 483/483 [00:00&lt;00:00, 22.9kB/s]"
          }
        },
        "2c30717476594696a9633685eaebdd7e": {
          "model_module": "@jupyter-widgets/base",
          "model_name": "LayoutModel",
          "model_module_version": "1.2.0",
          "state": {
            "_model_module": "@jupyter-widgets/base",
            "_model_module_version": "1.2.0",
            "_model_name": "LayoutModel",
            "_view_count": null,
            "_view_module": "@jupyter-widgets/base",
            "_view_module_version": "1.2.0",
            "_view_name": "LayoutView",
            "align_content": null,
            "align_items": null,
            "align_self": null,
            "border": null,
            "bottom": null,
            "display": null,
            "flex": null,
            "flex_flow": null,
            "grid_area": null,
            "grid_auto_columns": null,
            "grid_auto_flow": null,
            "grid_auto_rows": null,
            "grid_column": null,
            "grid_gap": null,
            "grid_row": null,
            "grid_template_areas": null,
            "grid_template_columns": null,
            "grid_template_rows": null,
            "height": null,
            "justify_content": null,
            "justify_items": null,
            "left": null,
            "margin": null,
            "max_height": null,
            "max_width": null,
            "min_height": null,
            "min_width": null,
            "object_fit": null,
            "object_position": null,
            "order": null,
            "overflow": null,
            "overflow_x": null,
            "overflow_y": null,
            "padding": null,
            "right": null,
            "top": null,
            "visibility": null,
            "width": null
          }
        },
        "09bc5081150c49d490788f8405a74324": {
          "model_module": "@jupyter-widgets/base",
          "model_name": "LayoutModel",
          "model_module_version": "1.2.0",
          "state": {
            "_model_module": "@jupyter-widgets/base",
            "_model_module_version": "1.2.0",
            "_model_name": "LayoutModel",
            "_view_count": null,
            "_view_module": "@jupyter-widgets/base",
            "_view_module_version": "1.2.0",
            "_view_name": "LayoutView",
            "align_content": null,
            "align_items": null,
            "align_self": null,
            "border": null,
            "bottom": null,
            "display": null,
            "flex": null,
            "flex_flow": null,
            "grid_area": null,
            "grid_auto_columns": null,
            "grid_auto_flow": null,
            "grid_auto_rows": null,
            "grid_column": null,
            "grid_gap": null,
            "grid_row": null,
            "grid_template_areas": null,
            "grid_template_columns": null,
            "grid_template_rows": null,
            "height": null,
            "justify_content": null,
            "justify_items": null,
            "left": null,
            "margin": null,
            "max_height": null,
            "max_width": null,
            "min_height": null,
            "min_width": null,
            "object_fit": null,
            "object_position": null,
            "order": null,
            "overflow": null,
            "overflow_x": null,
            "overflow_y": null,
            "padding": null,
            "right": null,
            "top": null,
            "visibility": null,
            "width": null
          }
        },
        "5727828e329d4a3caa9fbda693366a0f": {
          "model_module": "@jupyter-widgets/controls",
          "model_name": "DescriptionStyleModel",
          "model_module_version": "1.5.0",
          "state": {
            "_model_module": "@jupyter-widgets/controls",
            "_model_module_version": "1.5.0",
            "_model_name": "DescriptionStyleModel",
            "_view_count": null,
            "_view_module": "@jupyter-widgets/base",
            "_view_module_version": "1.2.0",
            "_view_name": "StyleView",
            "description_width": ""
          }
        },
        "c8b79a246ac24ea6b34a1b2e7de0bb6b": {
          "model_module": "@jupyter-widgets/base",
          "model_name": "LayoutModel",
          "model_module_version": "1.2.0",
          "state": {
            "_model_module": "@jupyter-widgets/base",
            "_model_module_version": "1.2.0",
            "_model_name": "LayoutModel",
            "_view_count": null,
            "_view_module": "@jupyter-widgets/base",
            "_view_module_version": "1.2.0",
            "_view_name": "LayoutView",
            "align_content": null,
            "align_items": null,
            "align_self": null,
            "border": null,
            "bottom": null,
            "display": null,
            "flex": null,
            "flex_flow": null,
            "grid_area": null,
            "grid_auto_columns": null,
            "grid_auto_flow": null,
            "grid_auto_rows": null,
            "grid_column": null,
            "grid_gap": null,
            "grid_row": null,
            "grid_template_areas": null,
            "grid_template_columns": null,
            "grid_template_rows": null,
            "height": null,
            "justify_content": null,
            "justify_items": null,
            "left": null,
            "margin": null,
            "max_height": null,
            "max_width": null,
            "min_height": null,
            "min_width": null,
            "object_fit": null,
            "object_position": null,
            "order": null,
            "overflow": null,
            "overflow_x": null,
            "overflow_y": null,
            "padding": null,
            "right": null,
            "top": null,
            "visibility": null,
            "width": null
          }
        },
        "93c7344bd7cb4b8eb9d5034cf17a79ec": {
          "model_module": "@jupyter-widgets/controls",
          "model_name": "ProgressStyleModel",
          "model_module_version": "1.5.0",
          "state": {
            "_model_module": "@jupyter-widgets/controls",
            "_model_module_version": "1.5.0",
            "_model_name": "ProgressStyleModel",
            "_view_count": null,
            "_view_module": "@jupyter-widgets/base",
            "_view_module_version": "1.2.0",
            "_view_name": "StyleView",
            "bar_color": null,
            "description_width": ""
          }
        },
        "c9a0977710ce4e078cd5206749839680": {
          "model_module": "@jupyter-widgets/base",
          "model_name": "LayoutModel",
          "model_module_version": "1.2.0",
          "state": {
            "_model_module": "@jupyter-widgets/base",
            "_model_module_version": "1.2.0",
            "_model_name": "LayoutModel",
            "_view_count": null,
            "_view_module": "@jupyter-widgets/base",
            "_view_module_version": "1.2.0",
            "_view_name": "LayoutView",
            "align_content": null,
            "align_items": null,
            "align_self": null,
            "border": null,
            "bottom": null,
            "display": null,
            "flex": null,
            "flex_flow": null,
            "grid_area": null,
            "grid_auto_columns": null,
            "grid_auto_flow": null,
            "grid_auto_rows": null,
            "grid_column": null,
            "grid_gap": null,
            "grid_row": null,
            "grid_template_areas": null,
            "grid_template_columns": null,
            "grid_template_rows": null,
            "height": null,
            "justify_content": null,
            "justify_items": null,
            "left": null,
            "margin": null,
            "max_height": null,
            "max_width": null,
            "min_height": null,
            "min_width": null,
            "object_fit": null,
            "object_position": null,
            "order": null,
            "overflow": null,
            "overflow_x": null,
            "overflow_y": null,
            "padding": null,
            "right": null,
            "top": null,
            "visibility": null,
            "width": null
          }
        },
        "e32583843d28455da4a3ecf9c06f40f1": {
          "model_module": "@jupyter-widgets/controls",
          "model_name": "DescriptionStyleModel",
          "model_module_version": "1.5.0",
          "state": {
            "_model_module": "@jupyter-widgets/controls",
            "_model_module_version": "1.5.0",
            "_model_name": "DescriptionStyleModel",
            "_view_count": null,
            "_view_module": "@jupyter-widgets/base",
            "_view_module_version": "1.2.0",
            "_view_name": "StyleView",
            "description_width": ""
          }
        },
        "cc46e6db7540442db10fd7dc7cdbb3f8": {
          "model_module": "@jupyter-widgets/controls",
          "model_name": "HBoxModel",
          "model_module_version": "1.5.0",
          "state": {
            "_dom_classes": [],
            "_model_module": "@jupyter-widgets/controls",
            "_model_module_version": "1.5.0",
            "_model_name": "HBoxModel",
            "_view_count": null,
            "_view_module": "@jupyter-widgets/controls",
            "_view_module_version": "1.5.0",
            "_view_name": "HBoxView",
            "box_style": "",
            "children": [
              "IPY_MODEL_7e3ca5d9fc1d4ef2b1e8dd1e13c3d8a6",
              "IPY_MODEL_b7473f2356854c0a8a5be1fdfc55f8d1",
              "IPY_MODEL_fc1d57c07e204cf99e8232ef58757d10"
            ],
            "layout": "IPY_MODEL_7896fea6cf52451db535bd6a4287bf68"
          }
        },
        "7e3ca5d9fc1d4ef2b1e8dd1e13c3d8a6": {
          "model_module": "@jupyter-widgets/controls",
          "model_name": "HTMLModel",
          "model_module_version": "1.5.0",
          "state": {
            "_dom_classes": [],
            "_model_module": "@jupyter-widgets/controls",
            "_model_module_version": "1.5.0",
            "_model_name": "HTMLModel",
            "_view_count": null,
            "_view_module": "@jupyter-widgets/controls",
            "_view_module_version": "1.5.0",
            "_view_name": "HTMLView",
            "description": "",
            "description_tooltip": null,
            "layout": "IPY_MODEL_c8c89b90fd094ed8bd13d936b2e7ec5a",
            "placeholder": "​",
            "style": "IPY_MODEL_d4e8176387a4447086d70da80fed6045",
            "value": "vocab.txt: 100%"
          }
        },
        "b7473f2356854c0a8a5be1fdfc55f8d1": {
          "model_module": "@jupyter-widgets/controls",
          "model_name": "FloatProgressModel",
          "model_module_version": "1.5.0",
          "state": {
            "_dom_classes": [],
            "_model_module": "@jupyter-widgets/controls",
            "_model_module_version": "1.5.0",
            "_model_name": "FloatProgressModel",
            "_view_count": null,
            "_view_module": "@jupyter-widgets/controls",
            "_view_module_version": "1.5.0",
            "_view_name": "ProgressView",
            "bar_style": "success",
            "description": "",
            "description_tooltip": null,
            "layout": "IPY_MODEL_1c08a03060f9456cbfd25e05b5f73596",
            "max": 231508,
            "min": 0,
            "orientation": "horizontal",
            "style": "IPY_MODEL_4cb54913d9ac46639fe147adfdf83ef1",
            "value": 231508
          }
        },
        "fc1d57c07e204cf99e8232ef58757d10": {
          "model_module": "@jupyter-widgets/controls",
          "model_name": "HTMLModel",
          "model_module_version": "1.5.0",
          "state": {
            "_dom_classes": [],
            "_model_module": "@jupyter-widgets/controls",
            "_model_module_version": "1.5.0",
            "_model_name": "HTMLModel",
            "_view_count": null,
            "_view_module": "@jupyter-widgets/controls",
            "_view_module_version": "1.5.0",
            "_view_name": "HTMLView",
            "description": "",
            "description_tooltip": null,
            "layout": "IPY_MODEL_8b54b16952214096bc2ab43162ded21d",
            "placeholder": "​",
            "style": "IPY_MODEL_d959c71f0dea465fa2064bf039d899fe",
            "value": " 232k/232k [00:00&lt;00:00, 1.07MB/s]"
          }
        },
        "7896fea6cf52451db535bd6a4287bf68": {
          "model_module": "@jupyter-widgets/base",
          "model_name": "LayoutModel",
          "model_module_version": "1.2.0",
          "state": {
            "_model_module": "@jupyter-widgets/base",
            "_model_module_version": "1.2.0",
            "_model_name": "LayoutModel",
            "_view_count": null,
            "_view_module": "@jupyter-widgets/base",
            "_view_module_version": "1.2.0",
            "_view_name": "LayoutView",
            "align_content": null,
            "align_items": null,
            "align_self": null,
            "border": null,
            "bottom": null,
            "display": null,
            "flex": null,
            "flex_flow": null,
            "grid_area": null,
            "grid_auto_columns": null,
            "grid_auto_flow": null,
            "grid_auto_rows": null,
            "grid_column": null,
            "grid_gap": null,
            "grid_row": null,
            "grid_template_areas": null,
            "grid_template_columns": null,
            "grid_template_rows": null,
            "height": null,
            "justify_content": null,
            "justify_items": null,
            "left": null,
            "margin": null,
            "max_height": null,
            "max_width": null,
            "min_height": null,
            "min_width": null,
            "object_fit": null,
            "object_position": null,
            "order": null,
            "overflow": null,
            "overflow_x": null,
            "overflow_y": null,
            "padding": null,
            "right": null,
            "top": null,
            "visibility": null,
            "width": null
          }
        },
        "c8c89b90fd094ed8bd13d936b2e7ec5a": {
          "model_module": "@jupyter-widgets/base",
          "model_name": "LayoutModel",
          "model_module_version": "1.2.0",
          "state": {
            "_model_module": "@jupyter-widgets/base",
            "_model_module_version": "1.2.0",
            "_model_name": "LayoutModel",
            "_view_count": null,
            "_view_module": "@jupyter-widgets/base",
            "_view_module_version": "1.2.0",
            "_view_name": "LayoutView",
            "align_content": null,
            "align_items": null,
            "align_self": null,
            "border": null,
            "bottom": null,
            "display": null,
            "flex": null,
            "flex_flow": null,
            "grid_area": null,
            "grid_auto_columns": null,
            "grid_auto_flow": null,
            "grid_auto_rows": null,
            "grid_column": null,
            "grid_gap": null,
            "grid_row": null,
            "grid_template_areas": null,
            "grid_template_columns": null,
            "grid_template_rows": null,
            "height": null,
            "justify_content": null,
            "justify_items": null,
            "left": null,
            "margin": null,
            "max_height": null,
            "max_width": null,
            "min_height": null,
            "min_width": null,
            "object_fit": null,
            "object_position": null,
            "order": null,
            "overflow": null,
            "overflow_x": null,
            "overflow_y": null,
            "padding": null,
            "right": null,
            "top": null,
            "visibility": null,
            "width": null
          }
        },
        "d4e8176387a4447086d70da80fed6045": {
          "model_module": "@jupyter-widgets/controls",
          "model_name": "DescriptionStyleModel",
          "model_module_version": "1.5.0",
          "state": {
            "_model_module": "@jupyter-widgets/controls",
            "_model_module_version": "1.5.0",
            "_model_name": "DescriptionStyleModel",
            "_view_count": null,
            "_view_module": "@jupyter-widgets/base",
            "_view_module_version": "1.2.0",
            "_view_name": "StyleView",
            "description_width": ""
          }
        },
        "1c08a03060f9456cbfd25e05b5f73596": {
          "model_module": "@jupyter-widgets/base",
          "model_name": "LayoutModel",
          "model_module_version": "1.2.0",
          "state": {
            "_model_module": "@jupyter-widgets/base",
            "_model_module_version": "1.2.0",
            "_model_name": "LayoutModel",
            "_view_count": null,
            "_view_module": "@jupyter-widgets/base",
            "_view_module_version": "1.2.0",
            "_view_name": "LayoutView",
            "align_content": null,
            "align_items": null,
            "align_self": null,
            "border": null,
            "bottom": null,
            "display": null,
            "flex": null,
            "flex_flow": null,
            "grid_area": null,
            "grid_auto_columns": null,
            "grid_auto_flow": null,
            "grid_auto_rows": null,
            "grid_column": null,
            "grid_gap": null,
            "grid_row": null,
            "grid_template_areas": null,
            "grid_template_columns": null,
            "grid_template_rows": null,
            "height": null,
            "justify_content": null,
            "justify_items": null,
            "left": null,
            "margin": null,
            "max_height": null,
            "max_width": null,
            "min_height": null,
            "min_width": null,
            "object_fit": null,
            "object_position": null,
            "order": null,
            "overflow": null,
            "overflow_x": null,
            "overflow_y": null,
            "padding": null,
            "right": null,
            "top": null,
            "visibility": null,
            "width": null
          }
        },
        "4cb54913d9ac46639fe147adfdf83ef1": {
          "model_module": "@jupyter-widgets/controls",
          "model_name": "ProgressStyleModel",
          "model_module_version": "1.5.0",
          "state": {
            "_model_module": "@jupyter-widgets/controls",
            "_model_module_version": "1.5.0",
            "_model_name": "ProgressStyleModel",
            "_view_count": null,
            "_view_module": "@jupyter-widgets/base",
            "_view_module_version": "1.2.0",
            "_view_name": "StyleView",
            "bar_color": null,
            "description_width": ""
          }
        },
        "8b54b16952214096bc2ab43162ded21d": {
          "model_module": "@jupyter-widgets/base",
          "model_name": "LayoutModel",
          "model_module_version": "1.2.0",
          "state": {
            "_model_module": "@jupyter-widgets/base",
            "_model_module_version": "1.2.0",
            "_model_name": "LayoutModel",
            "_view_count": null,
            "_view_module": "@jupyter-widgets/base",
            "_view_module_version": "1.2.0",
            "_view_name": "LayoutView",
            "align_content": null,
            "align_items": null,
            "align_self": null,
            "border": null,
            "bottom": null,
            "display": null,
            "flex": null,
            "flex_flow": null,
            "grid_area": null,
            "grid_auto_columns": null,
            "grid_auto_flow": null,
            "grid_auto_rows": null,
            "grid_column": null,
            "grid_gap": null,
            "grid_row": null,
            "grid_template_areas": null,
            "grid_template_columns": null,
            "grid_template_rows": null,
            "height": null,
            "justify_content": null,
            "justify_items": null,
            "left": null,
            "margin": null,
            "max_height": null,
            "max_width": null,
            "min_height": null,
            "min_width": null,
            "object_fit": null,
            "object_position": null,
            "order": null,
            "overflow": null,
            "overflow_x": null,
            "overflow_y": null,
            "padding": null,
            "right": null,
            "top": null,
            "visibility": null,
            "width": null
          }
        },
        "d959c71f0dea465fa2064bf039d899fe": {
          "model_module": "@jupyter-widgets/controls",
          "model_name": "DescriptionStyleModel",
          "model_module_version": "1.5.0",
          "state": {
            "_model_module": "@jupyter-widgets/controls",
            "_model_module_version": "1.5.0",
            "_model_name": "DescriptionStyleModel",
            "_view_count": null,
            "_view_module": "@jupyter-widgets/base",
            "_view_module_version": "1.2.0",
            "_view_name": "StyleView",
            "description_width": ""
          }
        },
        "b8c9eba53e604beca0dd81bcd34ab167": {
          "model_module": "@jupyter-widgets/controls",
          "model_name": "HBoxModel",
          "model_module_version": "1.5.0",
          "state": {
            "_dom_classes": [],
            "_model_module": "@jupyter-widgets/controls",
            "_model_module_version": "1.5.0",
            "_model_name": "HBoxModel",
            "_view_count": null,
            "_view_module": "@jupyter-widgets/controls",
            "_view_module_version": "1.5.0",
            "_view_name": "HBoxView",
            "box_style": "",
            "children": [
              "IPY_MODEL_629da27ea6f34f658e8e5f0383459361",
              "IPY_MODEL_732d67b4a6c24ead9bd0d0e2d2e88e9f",
              "IPY_MODEL_9d8fab1a725f448daeee27075f172c7e"
            ],
            "layout": "IPY_MODEL_508f81a43fd44b80aa07615757d7cf6c"
          }
        },
        "629da27ea6f34f658e8e5f0383459361": {
          "model_module": "@jupyter-widgets/controls",
          "model_name": "HTMLModel",
          "model_module_version": "1.5.0",
          "state": {
            "_dom_classes": [],
            "_model_module": "@jupyter-widgets/controls",
            "_model_module_version": "1.5.0",
            "_model_name": "HTMLModel",
            "_view_count": null,
            "_view_module": "@jupyter-widgets/controls",
            "_view_module_version": "1.5.0",
            "_view_name": "HTMLView",
            "description": "",
            "description_tooltip": null,
            "layout": "IPY_MODEL_a26fb38c5b7e4627a241f48612c826fc",
            "placeholder": "​",
            "style": "IPY_MODEL_07c8b900f9724decb1913ab360d38e9c",
            "value": "tokenizer.json: 100%"
          }
        },
        "732d67b4a6c24ead9bd0d0e2d2e88e9f": {
          "model_module": "@jupyter-widgets/controls",
          "model_name": "FloatProgressModel",
          "model_module_version": "1.5.0",
          "state": {
            "_dom_classes": [],
            "_model_module": "@jupyter-widgets/controls",
            "_model_module_version": "1.5.0",
            "_model_name": "FloatProgressModel",
            "_view_count": null,
            "_view_module": "@jupyter-widgets/controls",
            "_view_module_version": "1.5.0",
            "_view_name": "ProgressView",
            "bar_style": "success",
            "description": "",
            "description_tooltip": null,
            "layout": "IPY_MODEL_240d059a4c3e43589838d5134596aafa",
            "max": 466062,
            "min": 0,
            "orientation": "horizontal",
            "style": "IPY_MODEL_7d74f7af243e43efb09cb53bc1560aae",
            "value": 466062
          }
        },
        "9d8fab1a725f448daeee27075f172c7e": {
          "model_module": "@jupyter-widgets/controls",
          "model_name": "HTMLModel",
          "model_module_version": "1.5.0",
          "state": {
            "_dom_classes": [],
            "_model_module": "@jupyter-widgets/controls",
            "_model_module_version": "1.5.0",
            "_model_name": "HTMLModel",
            "_view_count": null,
            "_view_module": "@jupyter-widgets/controls",
            "_view_module_version": "1.5.0",
            "_view_name": "HTMLView",
            "description": "",
            "description_tooltip": null,
            "layout": "IPY_MODEL_760e46fceb1944e88e0fc2423dbad4ab",
            "placeholder": "​",
            "style": "IPY_MODEL_993cb1dbb36846668db614e3eecd0f83",
            "value": " 466k/466k [00:00&lt;00:00, 1.08MB/s]"
          }
        },
        "508f81a43fd44b80aa07615757d7cf6c": {
          "model_module": "@jupyter-widgets/base",
          "model_name": "LayoutModel",
          "model_module_version": "1.2.0",
          "state": {
            "_model_module": "@jupyter-widgets/base",
            "_model_module_version": "1.2.0",
            "_model_name": "LayoutModel",
            "_view_count": null,
            "_view_module": "@jupyter-widgets/base",
            "_view_module_version": "1.2.0",
            "_view_name": "LayoutView",
            "align_content": null,
            "align_items": null,
            "align_self": null,
            "border": null,
            "bottom": null,
            "display": null,
            "flex": null,
            "flex_flow": null,
            "grid_area": null,
            "grid_auto_columns": null,
            "grid_auto_flow": null,
            "grid_auto_rows": null,
            "grid_column": null,
            "grid_gap": null,
            "grid_row": null,
            "grid_template_areas": null,
            "grid_template_columns": null,
            "grid_template_rows": null,
            "height": null,
            "justify_content": null,
            "justify_items": null,
            "left": null,
            "margin": null,
            "max_height": null,
            "max_width": null,
            "min_height": null,
            "min_width": null,
            "object_fit": null,
            "object_position": null,
            "order": null,
            "overflow": null,
            "overflow_x": null,
            "overflow_y": null,
            "padding": null,
            "right": null,
            "top": null,
            "visibility": null,
            "width": null
          }
        },
        "a26fb38c5b7e4627a241f48612c826fc": {
          "model_module": "@jupyter-widgets/base",
          "model_name": "LayoutModel",
          "model_module_version": "1.2.0",
          "state": {
            "_model_module": "@jupyter-widgets/base",
            "_model_module_version": "1.2.0",
            "_model_name": "LayoutModel",
            "_view_count": null,
            "_view_module": "@jupyter-widgets/base",
            "_view_module_version": "1.2.0",
            "_view_name": "LayoutView",
            "align_content": null,
            "align_items": null,
            "align_self": null,
            "border": null,
            "bottom": null,
            "display": null,
            "flex": null,
            "flex_flow": null,
            "grid_area": null,
            "grid_auto_columns": null,
            "grid_auto_flow": null,
            "grid_auto_rows": null,
            "grid_column": null,
            "grid_gap": null,
            "grid_row": null,
            "grid_template_areas": null,
            "grid_template_columns": null,
            "grid_template_rows": null,
            "height": null,
            "justify_content": null,
            "justify_items": null,
            "left": null,
            "margin": null,
            "max_height": null,
            "max_width": null,
            "min_height": null,
            "min_width": null,
            "object_fit": null,
            "object_position": null,
            "order": null,
            "overflow": null,
            "overflow_x": null,
            "overflow_y": null,
            "padding": null,
            "right": null,
            "top": null,
            "visibility": null,
            "width": null
          }
        },
        "07c8b900f9724decb1913ab360d38e9c": {
          "model_module": "@jupyter-widgets/controls",
          "model_name": "DescriptionStyleModel",
          "model_module_version": "1.5.0",
          "state": {
            "_model_module": "@jupyter-widgets/controls",
            "_model_module_version": "1.5.0",
            "_model_name": "DescriptionStyleModel",
            "_view_count": null,
            "_view_module": "@jupyter-widgets/base",
            "_view_module_version": "1.2.0",
            "_view_name": "StyleView",
            "description_width": ""
          }
        },
        "240d059a4c3e43589838d5134596aafa": {
          "model_module": "@jupyter-widgets/base",
          "model_name": "LayoutModel",
          "model_module_version": "1.2.0",
          "state": {
            "_model_module": "@jupyter-widgets/base",
            "_model_module_version": "1.2.0",
            "_model_name": "LayoutModel",
            "_view_count": null,
            "_view_module": "@jupyter-widgets/base",
            "_view_module_version": "1.2.0",
            "_view_name": "LayoutView",
            "align_content": null,
            "align_items": null,
            "align_self": null,
            "border": null,
            "bottom": null,
            "display": null,
            "flex": null,
            "flex_flow": null,
            "grid_area": null,
            "grid_auto_columns": null,
            "grid_auto_flow": null,
            "grid_auto_rows": null,
            "grid_column": null,
            "grid_gap": null,
            "grid_row": null,
            "grid_template_areas": null,
            "grid_template_columns": null,
            "grid_template_rows": null,
            "height": null,
            "justify_content": null,
            "justify_items": null,
            "left": null,
            "margin": null,
            "max_height": null,
            "max_width": null,
            "min_height": null,
            "min_width": null,
            "object_fit": null,
            "object_position": null,
            "order": null,
            "overflow": null,
            "overflow_x": null,
            "overflow_y": null,
            "padding": null,
            "right": null,
            "top": null,
            "visibility": null,
            "width": null
          }
        },
        "7d74f7af243e43efb09cb53bc1560aae": {
          "model_module": "@jupyter-widgets/controls",
          "model_name": "ProgressStyleModel",
          "model_module_version": "1.5.0",
          "state": {
            "_model_module": "@jupyter-widgets/controls",
            "_model_module_version": "1.5.0",
            "_model_name": "ProgressStyleModel",
            "_view_count": null,
            "_view_module": "@jupyter-widgets/base",
            "_view_module_version": "1.2.0",
            "_view_name": "StyleView",
            "bar_color": null,
            "description_width": ""
          }
        },
        "760e46fceb1944e88e0fc2423dbad4ab": {
          "model_module": "@jupyter-widgets/base",
          "model_name": "LayoutModel",
          "model_module_version": "1.2.0",
          "state": {
            "_model_module": "@jupyter-widgets/base",
            "_model_module_version": "1.2.0",
            "_model_name": "LayoutModel",
            "_view_count": null,
            "_view_module": "@jupyter-widgets/base",
            "_view_module_version": "1.2.0",
            "_view_name": "LayoutView",
            "align_content": null,
            "align_items": null,
            "align_self": null,
            "border": null,
            "bottom": null,
            "display": null,
            "flex": null,
            "flex_flow": null,
            "grid_area": null,
            "grid_auto_columns": null,
            "grid_auto_flow": null,
            "grid_auto_rows": null,
            "grid_column": null,
            "grid_gap": null,
            "grid_row": null,
            "grid_template_areas": null,
            "grid_template_columns": null,
            "grid_template_rows": null,
            "height": null,
            "justify_content": null,
            "justify_items": null,
            "left": null,
            "margin": null,
            "max_height": null,
            "max_width": null,
            "min_height": null,
            "min_width": null,
            "object_fit": null,
            "object_position": null,
            "order": null,
            "overflow": null,
            "overflow_x": null,
            "overflow_y": null,
            "padding": null,
            "right": null,
            "top": null,
            "visibility": null,
            "width": null
          }
        },
        "993cb1dbb36846668db614e3eecd0f83": {
          "model_module": "@jupyter-widgets/controls",
          "model_name": "DescriptionStyleModel",
          "model_module_version": "1.5.0",
          "state": {
            "_model_module": "@jupyter-widgets/controls",
            "_model_module_version": "1.5.0",
            "_model_name": "DescriptionStyleModel",
            "_view_count": null,
            "_view_module": "@jupyter-widgets/base",
            "_view_module_version": "1.2.0",
            "_view_name": "StyleView",
            "description_width": ""
          }
        },
        "386cec2f2e5b4ee0a6c203494b207e2e": {
          "model_module": "@jupyter-widgets/controls",
          "model_name": "HBoxModel",
          "model_module_version": "1.5.0",
          "state": {
            "_dom_classes": [],
            "_model_module": "@jupyter-widgets/controls",
            "_model_module_version": "1.5.0",
            "_model_name": "HBoxModel",
            "_view_count": null,
            "_view_module": "@jupyter-widgets/controls",
            "_view_module_version": "1.5.0",
            "_view_name": "HBoxView",
            "box_style": "",
            "children": [
              "IPY_MODEL_e1fd97840e554458977e45e08d4408da",
              "IPY_MODEL_52b51ebd60a241a5aa45bc71ba475302",
              "IPY_MODEL_96e9390f4b4d47208f4497b2bd4153d8"
            ],
            "layout": "IPY_MODEL_f912ca77996c44c68934be7b66e3a2f0"
          }
        },
        "e1fd97840e554458977e45e08d4408da": {
          "model_module": "@jupyter-widgets/controls",
          "model_name": "HTMLModel",
          "model_module_version": "1.5.0",
          "state": {
            "_dom_classes": [],
            "_model_module": "@jupyter-widgets/controls",
            "_model_module_version": "1.5.0",
            "_model_name": "HTMLModel",
            "_view_count": null,
            "_view_module": "@jupyter-widgets/controls",
            "_view_module_version": "1.5.0",
            "_view_name": "HTMLView",
            "description": "",
            "description_tooltip": null,
            "layout": "IPY_MODEL_964df2d28e354d668ba9a1eef00e66c6",
            "placeholder": "​",
            "style": "IPY_MODEL_778dca58eb384ad8810276728969335b",
            "value": "Map: 100%"
          }
        },
        "52b51ebd60a241a5aa45bc71ba475302": {
          "model_module": "@jupyter-widgets/controls",
          "model_name": "FloatProgressModel",
          "model_module_version": "1.5.0",
          "state": {
            "_dom_classes": [],
            "_model_module": "@jupyter-widgets/controls",
            "_model_module_version": "1.5.0",
            "_model_name": "FloatProgressModel",
            "_view_count": null,
            "_view_module": "@jupyter-widgets/controls",
            "_view_module_version": "1.5.0",
            "_view_name": "ProgressView",
            "bar_style": "success",
            "description": "",
            "description_tooltip": null,
            "layout": "IPY_MODEL_3587640261d84141a12265b7ecd604e8",
            "max": 620,
            "min": 0,
            "orientation": "horizontal",
            "style": "IPY_MODEL_11656cd77aa94ee5ae73754736d2783f",
            "value": 620
          }
        },
        "96e9390f4b4d47208f4497b2bd4153d8": {
          "model_module": "@jupyter-widgets/controls",
          "model_name": "HTMLModel",
          "model_module_version": "1.5.0",
          "state": {
            "_dom_classes": [],
            "_model_module": "@jupyter-widgets/controls",
            "_model_module_version": "1.5.0",
            "_model_name": "HTMLModel",
            "_view_count": null,
            "_view_module": "@jupyter-widgets/controls",
            "_view_module_version": "1.5.0",
            "_view_name": "HTMLView",
            "description": "",
            "description_tooltip": null,
            "layout": "IPY_MODEL_ed9ca8962793442abc6d117e8edf9437",
            "placeholder": "​",
            "style": "IPY_MODEL_dae3bea38f094292ba4f2a6dc026fdd1",
            "value": " 620/620 [00:00&lt;00:00, 1040.28 examples/s]"
          }
        },
        "f912ca77996c44c68934be7b66e3a2f0": {
          "model_module": "@jupyter-widgets/base",
          "model_name": "LayoutModel",
          "model_module_version": "1.2.0",
          "state": {
            "_model_module": "@jupyter-widgets/base",
            "_model_module_version": "1.2.0",
            "_model_name": "LayoutModel",
            "_view_count": null,
            "_view_module": "@jupyter-widgets/base",
            "_view_module_version": "1.2.0",
            "_view_name": "LayoutView",
            "align_content": null,
            "align_items": null,
            "align_self": null,
            "border": null,
            "bottom": null,
            "display": null,
            "flex": null,
            "flex_flow": null,
            "grid_area": null,
            "grid_auto_columns": null,
            "grid_auto_flow": null,
            "grid_auto_rows": null,
            "grid_column": null,
            "grid_gap": null,
            "grid_row": null,
            "grid_template_areas": null,
            "grid_template_columns": null,
            "grid_template_rows": null,
            "height": null,
            "justify_content": null,
            "justify_items": null,
            "left": null,
            "margin": null,
            "max_height": null,
            "max_width": null,
            "min_height": null,
            "min_width": null,
            "object_fit": null,
            "object_position": null,
            "order": null,
            "overflow": null,
            "overflow_x": null,
            "overflow_y": null,
            "padding": null,
            "right": null,
            "top": null,
            "visibility": null,
            "width": null
          }
        },
        "964df2d28e354d668ba9a1eef00e66c6": {
          "model_module": "@jupyter-widgets/base",
          "model_name": "LayoutModel",
          "model_module_version": "1.2.0",
          "state": {
            "_model_module": "@jupyter-widgets/base",
            "_model_module_version": "1.2.0",
            "_model_name": "LayoutModel",
            "_view_count": null,
            "_view_module": "@jupyter-widgets/base",
            "_view_module_version": "1.2.0",
            "_view_name": "LayoutView",
            "align_content": null,
            "align_items": null,
            "align_self": null,
            "border": null,
            "bottom": null,
            "display": null,
            "flex": null,
            "flex_flow": null,
            "grid_area": null,
            "grid_auto_columns": null,
            "grid_auto_flow": null,
            "grid_auto_rows": null,
            "grid_column": null,
            "grid_gap": null,
            "grid_row": null,
            "grid_template_areas": null,
            "grid_template_columns": null,
            "grid_template_rows": null,
            "height": null,
            "justify_content": null,
            "justify_items": null,
            "left": null,
            "margin": null,
            "max_height": null,
            "max_width": null,
            "min_height": null,
            "min_width": null,
            "object_fit": null,
            "object_position": null,
            "order": null,
            "overflow": null,
            "overflow_x": null,
            "overflow_y": null,
            "padding": null,
            "right": null,
            "top": null,
            "visibility": null,
            "width": null
          }
        },
        "778dca58eb384ad8810276728969335b": {
          "model_module": "@jupyter-widgets/controls",
          "model_name": "DescriptionStyleModel",
          "model_module_version": "1.5.0",
          "state": {
            "_model_module": "@jupyter-widgets/controls",
            "_model_module_version": "1.5.0",
            "_model_name": "DescriptionStyleModel",
            "_view_count": null,
            "_view_module": "@jupyter-widgets/base",
            "_view_module_version": "1.2.0",
            "_view_name": "StyleView",
            "description_width": ""
          }
        },
        "3587640261d84141a12265b7ecd604e8": {
          "model_module": "@jupyter-widgets/base",
          "model_name": "LayoutModel",
          "model_module_version": "1.2.0",
          "state": {
            "_model_module": "@jupyter-widgets/base",
            "_model_module_version": "1.2.0",
            "_model_name": "LayoutModel",
            "_view_count": null,
            "_view_module": "@jupyter-widgets/base",
            "_view_module_version": "1.2.0",
            "_view_name": "LayoutView",
            "align_content": null,
            "align_items": null,
            "align_self": null,
            "border": null,
            "bottom": null,
            "display": null,
            "flex": null,
            "flex_flow": null,
            "grid_area": null,
            "grid_auto_columns": null,
            "grid_auto_flow": null,
            "grid_auto_rows": null,
            "grid_column": null,
            "grid_gap": null,
            "grid_row": null,
            "grid_template_areas": null,
            "grid_template_columns": null,
            "grid_template_rows": null,
            "height": null,
            "justify_content": null,
            "justify_items": null,
            "left": null,
            "margin": null,
            "max_height": null,
            "max_width": null,
            "min_height": null,
            "min_width": null,
            "object_fit": null,
            "object_position": null,
            "order": null,
            "overflow": null,
            "overflow_x": null,
            "overflow_y": null,
            "padding": null,
            "right": null,
            "top": null,
            "visibility": null,
            "width": null
          }
        },
        "11656cd77aa94ee5ae73754736d2783f": {
          "model_module": "@jupyter-widgets/controls",
          "model_name": "ProgressStyleModel",
          "model_module_version": "1.5.0",
          "state": {
            "_model_module": "@jupyter-widgets/controls",
            "_model_module_version": "1.5.0",
            "_model_name": "ProgressStyleModel",
            "_view_count": null,
            "_view_module": "@jupyter-widgets/base",
            "_view_module_version": "1.2.0",
            "_view_name": "StyleView",
            "bar_color": null,
            "description_width": ""
          }
        },
        "ed9ca8962793442abc6d117e8edf9437": {
          "model_module": "@jupyter-widgets/base",
          "model_name": "LayoutModel",
          "model_module_version": "1.2.0",
          "state": {
            "_model_module": "@jupyter-widgets/base",
            "_model_module_version": "1.2.0",
            "_model_name": "LayoutModel",
            "_view_count": null,
            "_view_module": "@jupyter-widgets/base",
            "_view_module_version": "1.2.0",
            "_view_name": "LayoutView",
            "align_content": null,
            "align_items": null,
            "align_self": null,
            "border": null,
            "bottom": null,
            "display": null,
            "flex": null,
            "flex_flow": null,
            "grid_area": null,
            "grid_auto_columns": null,
            "grid_auto_flow": null,
            "grid_auto_rows": null,
            "grid_column": null,
            "grid_gap": null,
            "grid_row": null,
            "grid_template_areas": null,
            "grid_template_columns": null,
            "grid_template_rows": null,
            "height": null,
            "justify_content": null,
            "justify_items": null,
            "left": null,
            "margin": null,
            "max_height": null,
            "max_width": null,
            "min_height": null,
            "min_width": null,
            "object_fit": null,
            "object_position": null,
            "order": null,
            "overflow": null,
            "overflow_x": null,
            "overflow_y": null,
            "padding": null,
            "right": null,
            "top": null,
            "visibility": null,
            "width": null
          }
        },
        "dae3bea38f094292ba4f2a6dc026fdd1": {
          "model_module": "@jupyter-widgets/controls",
          "model_name": "DescriptionStyleModel",
          "model_module_version": "1.5.0",
          "state": {
            "_model_module": "@jupyter-widgets/controls",
            "_model_module_version": "1.5.0",
            "_model_name": "DescriptionStyleModel",
            "_view_count": null,
            "_view_module": "@jupyter-widgets/base",
            "_view_module_version": "1.2.0",
            "_view_name": "StyleView",
            "description_width": ""
          }
        },
        "e0ddb373c13645a0a1ec79af862d0e23": {
          "model_module": "@jupyter-widgets/controls",
          "model_name": "HBoxModel",
          "model_module_version": "1.5.0",
          "state": {
            "_dom_classes": [],
            "_model_module": "@jupyter-widgets/controls",
            "_model_module_version": "1.5.0",
            "_model_name": "HBoxModel",
            "_view_count": null,
            "_view_module": "@jupyter-widgets/controls",
            "_view_module_version": "1.5.0",
            "_view_name": "HBoxView",
            "box_style": "",
            "children": [
              "IPY_MODEL_c4f03fef0843464eb74195cb44e774c4",
              "IPY_MODEL_5a707dac88044c65b55c8b4c9f7c4223",
              "IPY_MODEL_1870362ca71347d6b80151c241c96604"
            ],
            "layout": "IPY_MODEL_0dc95d5511264fd8b45accd19f7e57fb"
          }
        },
        "c4f03fef0843464eb74195cb44e774c4": {
          "model_module": "@jupyter-widgets/controls",
          "model_name": "HTMLModel",
          "model_module_version": "1.5.0",
          "state": {
            "_dom_classes": [],
            "_model_module": "@jupyter-widgets/controls",
            "_model_module_version": "1.5.0",
            "_model_name": "HTMLModel",
            "_view_count": null,
            "_view_module": "@jupyter-widgets/controls",
            "_view_module_version": "1.5.0",
            "_view_name": "HTMLView",
            "description": "",
            "description_tooltip": null,
            "layout": "IPY_MODEL_9af9897114bb45e5b33d42de50a08a1e",
            "placeholder": "​",
            "style": "IPY_MODEL_bed25919154342df9247e72a81e1ab80",
            "value": "Map: 100%"
          }
        },
        "5a707dac88044c65b55c8b4c9f7c4223": {
          "model_module": "@jupyter-widgets/controls",
          "model_name": "FloatProgressModel",
          "model_module_version": "1.5.0",
          "state": {
            "_dom_classes": [],
            "_model_module": "@jupyter-widgets/controls",
            "_model_module_version": "1.5.0",
            "_model_name": "FloatProgressModel",
            "_view_count": null,
            "_view_module": "@jupyter-widgets/controls",
            "_view_module_version": "1.5.0",
            "_view_name": "ProgressView",
            "bar_style": "success",
            "description": "",
            "description_tooltip": null,
            "layout": "IPY_MODEL_10423806be8c4d309c062f06568d6f98",
            "max": 156,
            "min": 0,
            "orientation": "horizontal",
            "style": "IPY_MODEL_de0391b7f5394096b62831558911c9e0",
            "value": 156
          }
        },
        "1870362ca71347d6b80151c241c96604": {
          "model_module": "@jupyter-widgets/controls",
          "model_name": "HTMLModel",
          "model_module_version": "1.5.0",
          "state": {
            "_dom_classes": [],
            "_model_module": "@jupyter-widgets/controls",
            "_model_module_version": "1.5.0",
            "_model_name": "HTMLModel",
            "_view_count": null,
            "_view_module": "@jupyter-widgets/controls",
            "_view_module_version": "1.5.0",
            "_view_name": "HTMLView",
            "description": "",
            "description_tooltip": null,
            "layout": "IPY_MODEL_5c5d4477142447e59df8a1cfbaf403aa",
            "placeholder": "​",
            "style": "IPY_MODEL_f4b8e6cca5a14ca4ab8b0ead41382128",
            "value": " 156/156 [00:00&lt;00:00, 1036.04 examples/s]"
          }
        },
        "0dc95d5511264fd8b45accd19f7e57fb": {
          "model_module": "@jupyter-widgets/base",
          "model_name": "LayoutModel",
          "model_module_version": "1.2.0",
          "state": {
            "_model_module": "@jupyter-widgets/base",
            "_model_module_version": "1.2.0",
            "_model_name": "LayoutModel",
            "_view_count": null,
            "_view_module": "@jupyter-widgets/base",
            "_view_module_version": "1.2.0",
            "_view_name": "LayoutView",
            "align_content": null,
            "align_items": null,
            "align_self": null,
            "border": null,
            "bottom": null,
            "display": null,
            "flex": null,
            "flex_flow": null,
            "grid_area": null,
            "grid_auto_columns": null,
            "grid_auto_flow": null,
            "grid_auto_rows": null,
            "grid_column": null,
            "grid_gap": null,
            "grid_row": null,
            "grid_template_areas": null,
            "grid_template_columns": null,
            "grid_template_rows": null,
            "height": null,
            "justify_content": null,
            "justify_items": null,
            "left": null,
            "margin": null,
            "max_height": null,
            "max_width": null,
            "min_height": null,
            "min_width": null,
            "object_fit": null,
            "object_position": null,
            "order": null,
            "overflow": null,
            "overflow_x": null,
            "overflow_y": null,
            "padding": null,
            "right": null,
            "top": null,
            "visibility": null,
            "width": null
          }
        },
        "9af9897114bb45e5b33d42de50a08a1e": {
          "model_module": "@jupyter-widgets/base",
          "model_name": "LayoutModel",
          "model_module_version": "1.2.0",
          "state": {
            "_model_module": "@jupyter-widgets/base",
            "_model_module_version": "1.2.0",
            "_model_name": "LayoutModel",
            "_view_count": null,
            "_view_module": "@jupyter-widgets/base",
            "_view_module_version": "1.2.0",
            "_view_name": "LayoutView",
            "align_content": null,
            "align_items": null,
            "align_self": null,
            "border": null,
            "bottom": null,
            "display": null,
            "flex": null,
            "flex_flow": null,
            "grid_area": null,
            "grid_auto_columns": null,
            "grid_auto_flow": null,
            "grid_auto_rows": null,
            "grid_column": null,
            "grid_gap": null,
            "grid_row": null,
            "grid_template_areas": null,
            "grid_template_columns": null,
            "grid_template_rows": null,
            "height": null,
            "justify_content": null,
            "justify_items": null,
            "left": null,
            "margin": null,
            "max_height": null,
            "max_width": null,
            "min_height": null,
            "min_width": null,
            "object_fit": null,
            "object_position": null,
            "order": null,
            "overflow": null,
            "overflow_x": null,
            "overflow_y": null,
            "padding": null,
            "right": null,
            "top": null,
            "visibility": null,
            "width": null
          }
        },
        "bed25919154342df9247e72a81e1ab80": {
          "model_module": "@jupyter-widgets/controls",
          "model_name": "DescriptionStyleModel",
          "model_module_version": "1.5.0",
          "state": {
            "_model_module": "@jupyter-widgets/controls",
            "_model_module_version": "1.5.0",
            "_model_name": "DescriptionStyleModel",
            "_view_count": null,
            "_view_module": "@jupyter-widgets/base",
            "_view_module_version": "1.2.0",
            "_view_name": "StyleView",
            "description_width": ""
          }
        },
        "10423806be8c4d309c062f06568d6f98": {
          "model_module": "@jupyter-widgets/base",
          "model_name": "LayoutModel",
          "model_module_version": "1.2.0",
          "state": {
            "_model_module": "@jupyter-widgets/base",
            "_model_module_version": "1.2.0",
            "_model_name": "LayoutModel",
            "_view_count": null,
            "_view_module": "@jupyter-widgets/base",
            "_view_module_version": "1.2.0",
            "_view_name": "LayoutView",
            "align_content": null,
            "align_items": null,
            "align_self": null,
            "border": null,
            "bottom": null,
            "display": null,
            "flex": null,
            "flex_flow": null,
            "grid_area": null,
            "grid_auto_columns": null,
            "grid_auto_flow": null,
            "grid_auto_rows": null,
            "grid_column": null,
            "grid_gap": null,
            "grid_row": null,
            "grid_template_areas": null,
            "grid_template_columns": null,
            "grid_template_rows": null,
            "height": null,
            "justify_content": null,
            "justify_items": null,
            "left": null,
            "margin": null,
            "max_height": null,
            "max_width": null,
            "min_height": null,
            "min_width": null,
            "object_fit": null,
            "object_position": null,
            "order": null,
            "overflow": null,
            "overflow_x": null,
            "overflow_y": null,
            "padding": null,
            "right": null,
            "top": null,
            "visibility": null,
            "width": null
          }
        },
        "de0391b7f5394096b62831558911c9e0": {
          "model_module": "@jupyter-widgets/controls",
          "model_name": "ProgressStyleModel",
          "model_module_version": "1.5.0",
          "state": {
            "_model_module": "@jupyter-widgets/controls",
            "_model_module_version": "1.5.0",
            "_model_name": "ProgressStyleModel",
            "_view_count": null,
            "_view_module": "@jupyter-widgets/base",
            "_view_module_version": "1.2.0",
            "_view_name": "StyleView",
            "bar_color": null,
            "description_width": ""
          }
        },
        "5c5d4477142447e59df8a1cfbaf403aa": {
          "model_module": "@jupyter-widgets/base",
          "model_name": "LayoutModel",
          "model_module_version": "1.2.0",
          "state": {
            "_model_module": "@jupyter-widgets/base",
            "_model_module_version": "1.2.0",
            "_model_name": "LayoutModel",
            "_view_count": null,
            "_view_module": "@jupyter-widgets/base",
            "_view_module_version": "1.2.0",
            "_view_name": "LayoutView",
            "align_content": null,
            "align_items": null,
            "align_self": null,
            "border": null,
            "bottom": null,
            "display": null,
            "flex": null,
            "flex_flow": null,
            "grid_area": null,
            "grid_auto_columns": null,
            "grid_auto_flow": null,
            "grid_auto_rows": null,
            "grid_column": null,
            "grid_gap": null,
            "grid_row": null,
            "grid_template_areas": null,
            "grid_template_columns": null,
            "grid_template_rows": null,
            "height": null,
            "justify_content": null,
            "justify_items": null,
            "left": null,
            "margin": null,
            "max_height": null,
            "max_width": null,
            "min_height": null,
            "min_width": null,
            "object_fit": null,
            "object_position": null,
            "order": null,
            "overflow": null,
            "overflow_x": null,
            "overflow_y": null,
            "padding": null,
            "right": null,
            "top": null,
            "visibility": null,
            "width": null
          }
        },
        "f4b8e6cca5a14ca4ab8b0ead41382128": {
          "model_module": "@jupyter-widgets/controls",
          "model_name": "DescriptionStyleModel",
          "model_module_version": "1.5.0",
          "state": {
            "_model_module": "@jupyter-widgets/controls",
            "_model_module_version": "1.5.0",
            "_model_name": "DescriptionStyleModel",
            "_view_count": null,
            "_view_module": "@jupyter-widgets/base",
            "_view_module_version": "1.2.0",
            "_view_name": "StyleView",
            "description_width": ""
          }
        },
        "d2a54cdc8eef45efb3e3d4f6f6f50045": {
          "model_module": "@jupyter-widgets/controls",
          "model_name": "HBoxModel",
          "model_module_version": "1.5.0",
          "state": {
            "_dom_classes": [],
            "_model_module": "@jupyter-widgets/controls",
            "_model_module_version": "1.5.0",
            "_model_name": "HBoxModel",
            "_view_count": null,
            "_view_module": "@jupyter-widgets/controls",
            "_view_module_version": "1.5.0",
            "_view_name": "HBoxView",
            "box_style": "",
            "children": [
              "IPY_MODEL_0151c444b9eb4d2cb96bf7e4c4e85190",
              "IPY_MODEL_1dac75b3af414d84a9d3857b18714a78",
              "IPY_MODEL_ba6f7825c9fc40678a6ee91b6d8632aa"
            ],
            "layout": "IPY_MODEL_a27ef527148a4092aff1d5492b0947f4"
          }
        },
        "0151c444b9eb4d2cb96bf7e4c4e85190": {
          "model_module": "@jupyter-widgets/controls",
          "model_name": "HTMLModel",
          "model_module_version": "1.5.0",
          "state": {
            "_dom_classes": [],
            "_model_module": "@jupyter-widgets/controls",
            "_model_module_version": "1.5.0",
            "_model_name": "HTMLModel",
            "_view_count": null,
            "_view_module": "@jupyter-widgets/controls",
            "_view_module_version": "1.5.0",
            "_view_name": "HTMLView",
            "description": "",
            "description_tooltip": null,
            "layout": "IPY_MODEL_ecbdc23cc14a4ece905d0a06f3f58a8b",
            "placeholder": "​",
            "style": "IPY_MODEL_a66f84d547054b209ba63c7c50b59b62",
            "value": "Map: 100%"
          }
        },
        "1dac75b3af414d84a9d3857b18714a78": {
          "model_module": "@jupyter-widgets/controls",
          "model_name": "FloatProgressModel",
          "model_module_version": "1.5.0",
          "state": {
            "_dom_classes": [],
            "_model_module": "@jupyter-widgets/controls",
            "_model_module_version": "1.5.0",
            "_model_name": "FloatProgressModel",
            "_view_count": null,
            "_view_module": "@jupyter-widgets/controls",
            "_view_module_version": "1.5.0",
            "_view_name": "ProgressView",
            "bar_style": "success",
            "description": "",
            "description_tooltip": null,
            "layout": "IPY_MODEL_291330c4a46b44cfbfbf979db88bb799",
            "max": 167,
            "min": 0,
            "orientation": "horizontal",
            "style": "IPY_MODEL_008811db85c74bb3837a0cf452fc7d01",
            "value": 167
          }
        },
        "ba6f7825c9fc40678a6ee91b6d8632aa": {
          "model_module": "@jupyter-widgets/controls",
          "model_name": "HTMLModel",
          "model_module_version": "1.5.0",
          "state": {
            "_dom_classes": [],
            "_model_module": "@jupyter-widgets/controls",
            "_model_module_version": "1.5.0",
            "_model_name": "HTMLModel",
            "_view_count": null,
            "_view_module": "@jupyter-widgets/controls",
            "_view_module_version": "1.5.0",
            "_view_name": "HTMLView",
            "description": "",
            "description_tooltip": null,
            "layout": "IPY_MODEL_9e32363037e4482d997cc340811a4d6c",
            "placeholder": "​",
            "style": "IPY_MODEL_366631f27442497bacc5a14e69a5df19",
            "value": " 167/167 [00:00&lt;00:00, 918.53 examples/s]"
          }
        },
        "a27ef527148a4092aff1d5492b0947f4": {
          "model_module": "@jupyter-widgets/base",
          "model_name": "LayoutModel",
          "model_module_version": "1.2.0",
          "state": {
            "_model_module": "@jupyter-widgets/base",
            "_model_module_version": "1.2.0",
            "_model_name": "LayoutModel",
            "_view_count": null,
            "_view_module": "@jupyter-widgets/base",
            "_view_module_version": "1.2.0",
            "_view_name": "LayoutView",
            "align_content": null,
            "align_items": null,
            "align_self": null,
            "border": null,
            "bottom": null,
            "display": null,
            "flex": null,
            "flex_flow": null,
            "grid_area": null,
            "grid_auto_columns": null,
            "grid_auto_flow": null,
            "grid_auto_rows": null,
            "grid_column": null,
            "grid_gap": null,
            "grid_row": null,
            "grid_template_areas": null,
            "grid_template_columns": null,
            "grid_template_rows": null,
            "height": null,
            "justify_content": null,
            "justify_items": null,
            "left": null,
            "margin": null,
            "max_height": null,
            "max_width": null,
            "min_height": null,
            "min_width": null,
            "object_fit": null,
            "object_position": null,
            "order": null,
            "overflow": null,
            "overflow_x": null,
            "overflow_y": null,
            "padding": null,
            "right": null,
            "top": null,
            "visibility": null,
            "width": null
          }
        },
        "ecbdc23cc14a4ece905d0a06f3f58a8b": {
          "model_module": "@jupyter-widgets/base",
          "model_name": "LayoutModel",
          "model_module_version": "1.2.0",
          "state": {
            "_model_module": "@jupyter-widgets/base",
            "_model_module_version": "1.2.0",
            "_model_name": "LayoutModel",
            "_view_count": null,
            "_view_module": "@jupyter-widgets/base",
            "_view_module_version": "1.2.0",
            "_view_name": "LayoutView",
            "align_content": null,
            "align_items": null,
            "align_self": null,
            "border": null,
            "bottom": null,
            "display": null,
            "flex": null,
            "flex_flow": null,
            "grid_area": null,
            "grid_auto_columns": null,
            "grid_auto_flow": null,
            "grid_auto_rows": null,
            "grid_column": null,
            "grid_gap": null,
            "grid_row": null,
            "grid_template_areas": null,
            "grid_template_columns": null,
            "grid_template_rows": null,
            "height": null,
            "justify_content": null,
            "justify_items": null,
            "left": null,
            "margin": null,
            "max_height": null,
            "max_width": null,
            "min_height": null,
            "min_width": null,
            "object_fit": null,
            "object_position": null,
            "order": null,
            "overflow": null,
            "overflow_x": null,
            "overflow_y": null,
            "padding": null,
            "right": null,
            "top": null,
            "visibility": null,
            "width": null
          }
        },
        "a66f84d547054b209ba63c7c50b59b62": {
          "model_module": "@jupyter-widgets/controls",
          "model_name": "DescriptionStyleModel",
          "model_module_version": "1.5.0",
          "state": {
            "_model_module": "@jupyter-widgets/controls",
            "_model_module_version": "1.5.0",
            "_model_name": "DescriptionStyleModel",
            "_view_count": null,
            "_view_module": "@jupyter-widgets/base",
            "_view_module_version": "1.2.0",
            "_view_name": "StyleView",
            "description_width": ""
          }
        },
        "291330c4a46b44cfbfbf979db88bb799": {
          "model_module": "@jupyter-widgets/base",
          "model_name": "LayoutModel",
          "model_module_version": "1.2.0",
          "state": {
            "_model_module": "@jupyter-widgets/base",
            "_model_module_version": "1.2.0",
            "_model_name": "LayoutModel",
            "_view_count": null,
            "_view_module": "@jupyter-widgets/base",
            "_view_module_version": "1.2.0",
            "_view_name": "LayoutView",
            "align_content": null,
            "align_items": null,
            "align_self": null,
            "border": null,
            "bottom": null,
            "display": null,
            "flex": null,
            "flex_flow": null,
            "grid_area": null,
            "grid_auto_columns": null,
            "grid_auto_flow": null,
            "grid_auto_rows": null,
            "grid_column": null,
            "grid_gap": null,
            "grid_row": null,
            "grid_template_areas": null,
            "grid_template_columns": null,
            "grid_template_rows": null,
            "height": null,
            "justify_content": null,
            "justify_items": null,
            "left": null,
            "margin": null,
            "max_height": null,
            "max_width": null,
            "min_height": null,
            "min_width": null,
            "object_fit": null,
            "object_position": null,
            "order": null,
            "overflow": null,
            "overflow_x": null,
            "overflow_y": null,
            "padding": null,
            "right": null,
            "top": null,
            "visibility": null,
            "width": null
          }
        },
        "008811db85c74bb3837a0cf452fc7d01": {
          "model_module": "@jupyter-widgets/controls",
          "model_name": "ProgressStyleModel",
          "model_module_version": "1.5.0",
          "state": {
            "_model_module": "@jupyter-widgets/controls",
            "_model_module_version": "1.5.0",
            "_model_name": "ProgressStyleModel",
            "_view_count": null,
            "_view_module": "@jupyter-widgets/base",
            "_view_module_version": "1.2.0",
            "_view_name": "StyleView",
            "bar_color": null,
            "description_width": ""
          }
        },
        "9e32363037e4482d997cc340811a4d6c": {
          "model_module": "@jupyter-widgets/base",
          "model_name": "LayoutModel",
          "model_module_version": "1.2.0",
          "state": {
            "_model_module": "@jupyter-widgets/base",
            "_model_module_version": "1.2.0",
            "_model_name": "LayoutModel",
            "_view_count": null,
            "_view_module": "@jupyter-widgets/base",
            "_view_module_version": "1.2.0",
            "_view_name": "LayoutView",
            "align_content": null,
            "align_items": null,
            "align_self": null,
            "border": null,
            "bottom": null,
            "display": null,
            "flex": null,
            "flex_flow": null,
            "grid_area": null,
            "grid_auto_columns": null,
            "grid_auto_flow": null,
            "grid_auto_rows": null,
            "grid_column": null,
            "grid_gap": null,
            "grid_row": null,
            "grid_template_areas": null,
            "grid_template_columns": null,
            "grid_template_rows": null,
            "height": null,
            "justify_content": null,
            "justify_items": null,
            "left": null,
            "margin": null,
            "max_height": null,
            "max_width": null,
            "min_height": null,
            "min_width": null,
            "object_fit": null,
            "object_position": null,
            "order": null,
            "overflow": null,
            "overflow_x": null,
            "overflow_y": null,
            "padding": null,
            "right": null,
            "top": null,
            "visibility": null,
            "width": null
          }
        },
        "366631f27442497bacc5a14e69a5df19": {
          "model_module": "@jupyter-widgets/controls",
          "model_name": "DescriptionStyleModel",
          "model_module_version": "1.5.0",
          "state": {
            "_model_module": "@jupyter-widgets/controls",
            "_model_module_version": "1.5.0",
            "_model_name": "DescriptionStyleModel",
            "_view_count": null,
            "_view_module": "@jupyter-widgets/base",
            "_view_module_version": "1.2.0",
            "_view_name": "StyleView",
            "description_width": ""
          }
        },
        "68c494039c734dc4a43f222e3d78b0e6": {
          "model_module": "@jupyter-widgets/controls",
          "model_name": "HBoxModel",
          "model_module_version": "1.5.0",
          "state": {
            "_dom_classes": [],
            "_model_module": "@jupyter-widgets/controls",
            "_model_module_version": "1.5.0",
            "_model_name": "HBoxModel",
            "_view_count": null,
            "_view_module": "@jupyter-widgets/controls",
            "_view_module_version": "1.5.0",
            "_view_name": "HBoxView",
            "box_style": "",
            "children": [
              "IPY_MODEL_a51723495bf44d17bf4742fb584fc967",
              "IPY_MODEL_36ee7c41885c4b59b6d92d740c79a268",
              "IPY_MODEL_fccc51aaae6c4676bff25d207d5ae1e0"
            ],
            "layout": "IPY_MODEL_638751c904fb4f52ad9bcfdfef24ec38"
          }
        },
        "a51723495bf44d17bf4742fb584fc967": {
          "model_module": "@jupyter-widgets/controls",
          "model_name": "HTMLModel",
          "model_module_version": "1.5.0",
          "state": {
            "_dom_classes": [],
            "_model_module": "@jupyter-widgets/controls",
            "_model_module_version": "1.5.0",
            "_model_name": "HTMLModel",
            "_view_count": null,
            "_view_module": "@jupyter-widgets/controls",
            "_view_module_version": "1.5.0",
            "_view_name": "HTMLView",
            "description": "",
            "description_tooltip": null,
            "layout": "IPY_MODEL_46f7657f64b2425fb1723f1b4385ca17",
            "placeholder": "​",
            "style": "IPY_MODEL_7c9b0eb9b7cd4a39820dc7eb129c3b64",
            "value": "Map: 100%"
          }
        },
        "36ee7c41885c4b59b6d92d740c79a268": {
          "model_module": "@jupyter-widgets/controls",
          "model_name": "FloatProgressModel",
          "model_module_version": "1.5.0",
          "state": {
            "_dom_classes": [],
            "_model_module": "@jupyter-widgets/controls",
            "_model_module_version": "1.5.0",
            "_model_name": "FloatProgressModel",
            "_view_count": null,
            "_view_module": "@jupyter-widgets/controls",
            "_view_module_version": "1.5.0",
            "_view_name": "ProgressView",
            "bar_style": "success",
            "description": "",
            "description_tooltip": null,
            "layout": "IPY_MODEL_932556c45eea4bb88e54036b16d25b70",
            "max": 167,
            "min": 0,
            "orientation": "horizontal",
            "style": "IPY_MODEL_384e92aa4c7645918da964a8c7cd279a",
            "value": 167
          }
        },
        "fccc51aaae6c4676bff25d207d5ae1e0": {
          "model_module": "@jupyter-widgets/controls",
          "model_name": "HTMLModel",
          "model_module_version": "1.5.0",
          "state": {
            "_dom_classes": [],
            "_model_module": "@jupyter-widgets/controls",
            "_model_module_version": "1.5.0",
            "_model_name": "HTMLModel",
            "_view_count": null,
            "_view_module": "@jupyter-widgets/controls",
            "_view_module_version": "1.5.0",
            "_view_name": "HTMLView",
            "description": "",
            "description_tooltip": null,
            "layout": "IPY_MODEL_e43c26a7a02d48d09cec120ccaf1ef04",
            "placeholder": "​",
            "style": "IPY_MODEL_a53fa0214b0e42f0a7fa86f90488fb6c",
            "value": " 167/167 [00:00&lt;00:00, 840.77 examples/s]"
          }
        },
        "638751c904fb4f52ad9bcfdfef24ec38": {
          "model_module": "@jupyter-widgets/base",
          "model_name": "LayoutModel",
          "model_module_version": "1.2.0",
          "state": {
            "_model_module": "@jupyter-widgets/base",
            "_model_module_version": "1.2.0",
            "_model_name": "LayoutModel",
            "_view_count": null,
            "_view_module": "@jupyter-widgets/base",
            "_view_module_version": "1.2.0",
            "_view_name": "LayoutView",
            "align_content": null,
            "align_items": null,
            "align_self": null,
            "border": null,
            "bottom": null,
            "display": null,
            "flex": null,
            "flex_flow": null,
            "grid_area": null,
            "grid_auto_columns": null,
            "grid_auto_flow": null,
            "grid_auto_rows": null,
            "grid_column": null,
            "grid_gap": null,
            "grid_row": null,
            "grid_template_areas": null,
            "grid_template_columns": null,
            "grid_template_rows": null,
            "height": null,
            "justify_content": null,
            "justify_items": null,
            "left": null,
            "margin": null,
            "max_height": null,
            "max_width": null,
            "min_height": null,
            "min_width": null,
            "object_fit": null,
            "object_position": null,
            "order": null,
            "overflow": null,
            "overflow_x": null,
            "overflow_y": null,
            "padding": null,
            "right": null,
            "top": null,
            "visibility": null,
            "width": null
          }
        },
        "46f7657f64b2425fb1723f1b4385ca17": {
          "model_module": "@jupyter-widgets/base",
          "model_name": "LayoutModel",
          "model_module_version": "1.2.0",
          "state": {
            "_model_module": "@jupyter-widgets/base",
            "_model_module_version": "1.2.0",
            "_model_name": "LayoutModel",
            "_view_count": null,
            "_view_module": "@jupyter-widgets/base",
            "_view_module_version": "1.2.0",
            "_view_name": "LayoutView",
            "align_content": null,
            "align_items": null,
            "align_self": null,
            "border": null,
            "bottom": null,
            "display": null,
            "flex": null,
            "flex_flow": null,
            "grid_area": null,
            "grid_auto_columns": null,
            "grid_auto_flow": null,
            "grid_auto_rows": null,
            "grid_column": null,
            "grid_gap": null,
            "grid_row": null,
            "grid_template_areas": null,
            "grid_template_columns": null,
            "grid_template_rows": null,
            "height": null,
            "justify_content": null,
            "justify_items": null,
            "left": null,
            "margin": null,
            "max_height": null,
            "max_width": null,
            "min_height": null,
            "min_width": null,
            "object_fit": null,
            "object_position": null,
            "order": null,
            "overflow": null,
            "overflow_x": null,
            "overflow_y": null,
            "padding": null,
            "right": null,
            "top": null,
            "visibility": null,
            "width": null
          }
        },
        "7c9b0eb9b7cd4a39820dc7eb129c3b64": {
          "model_module": "@jupyter-widgets/controls",
          "model_name": "DescriptionStyleModel",
          "model_module_version": "1.5.0",
          "state": {
            "_model_module": "@jupyter-widgets/controls",
            "_model_module_version": "1.5.0",
            "_model_name": "DescriptionStyleModel",
            "_view_count": null,
            "_view_module": "@jupyter-widgets/base",
            "_view_module_version": "1.2.0",
            "_view_name": "StyleView",
            "description_width": ""
          }
        },
        "932556c45eea4bb88e54036b16d25b70": {
          "model_module": "@jupyter-widgets/base",
          "model_name": "LayoutModel",
          "model_module_version": "1.2.0",
          "state": {
            "_model_module": "@jupyter-widgets/base",
            "_model_module_version": "1.2.0",
            "_model_name": "LayoutModel",
            "_view_count": null,
            "_view_module": "@jupyter-widgets/base",
            "_view_module_version": "1.2.0",
            "_view_name": "LayoutView",
            "align_content": null,
            "align_items": null,
            "align_self": null,
            "border": null,
            "bottom": null,
            "display": null,
            "flex": null,
            "flex_flow": null,
            "grid_area": null,
            "grid_auto_columns": null,
            "grid_auto_flow": null,
            "grid_auto_rows": null,
            "grid_column": null,
            "grid_gap": null,
            "grid_row": null,
            "grid_template_areas": null,
            "grid_template_columns": null,
            "grid_template_rows": null,
            "height": null,
            "justify_content": null,
            "justify_items": null,
            "left": null,
            "margin": null,
            "max_height": null,
            "max_width": null,
            "min_height": null,
            "min_width": null,
            "object_fit": null,
            "object_position": null,
            "order": null,
            "overflow": null,
            "overflow_x": null,
            "overflow_y": null,
            "padding": null,
            "right": null,
            "top": null,
            "visibility": null,
            "width": null
          }
        },
        "384e92aa4c7645918da964a8c7cd279a": {
          "model_module": "@jupyter-widgets/controls",
          "model_name": "ProgressStyleModel",
          "model_module_version": "1.5.0",
          "state": {
            "_model_module": "@jupyter-widgets/controls",
            "_model_module_version": "1.5.0",
            "_model_name": "ProgressStyleModel",
            "_view_count": null,
            "_view_module": "@jupyter-widgets/base",
            "_view_module_version": "1.2.0",
            "_view_name": "StyleView",
            "bar_color": null,
            "description_width": ""
          }
        },
        "e43c26a7a02d48d09cec120ccaf1ef04": {
          "model_module": "@jupyter-widgets/base",
          "model_name": "LayoutModel",
          "model_module_version": "1.2.0",
          "state": {
            "_model_module": "@jupyter-widgets/base",
            "_model_module_version": "1.2.0",
            "_model_name": "LayoutModel",
            "_view_count": null,
            "_view_module": "@jupyter-widgets/base",
            "_view_module_version": "1.2.0",
            "_view_name": "LayoutView",
            "align_content": null,
            "align_items": null,
            "align_self": null,
            "border": null,
            "bottom": null,
            "display": null,
            "flex": null,
            "flex_flow": null,
            "grid_area": null,
            "grid_auto_columns": null,
            "grid_auto_flow": null,
            "grid_auto_rows": null,
            "grid_column": null,
            "grid_gap": null,
            "grid_row": null,
            "grid_template_areas": null,
            "grid_template_columns": null,
            "grid_template_rows": null,
            "height": null,
            "justify_content": null,
            "justify_items": null,
            "left": null,
            "margin": null,
            "max_height": null,
            "max_width": null,
            "min_height": null,
            "min_width": null,
            "object_fit": null,
            "object_position": null,
            "order": null,
            "overflow": null,
            "overflow_x": null,
            "overflow_y": null,
            "padding": null,
            "right": null,
            "top": null,
            "visibility": null,
            "width": null
          }
        },
        "a53fa0214b0e42f0a7fa86f90488fb6c": {
          "model_module": "@jupyter-widgets/controls",
          "model_name": "DescriptionStyleModel",
          "model_module_version": "1.5.0",
          "state": {
            "_model_module": "@jupyter-widgets/controls",
            "_model_module_version": "1.5.0",
            "_model_name": "DescriptionStyleModel",
            "_view_count": null,
            "_view_module": "@jupyter-widgets/base",
            "_view_module_version": "1.2.0",
            "_view_name": "StyleView",
            "description_width": ""
          }
        },
        "cc4dee85f57d4c9496d34a5e67026955": {
          "model_module": "@jupyter-widgets/controls",
          "model_name": "HBoxModel",
          "model_module_version": "1.5.0",
          "state": {
            "_dom_classes": [],
            "_model_module": "@jupyter-widgets/controls",
            "_model_module_version": "1.5.0",
            "_model_name": "HBoxModel",
            "_view_count": null,
            "_view_module": "@jupyter-widgets/controls",
            "_view_module_version": "1.5.0",
            "_view_name": "HBoxView",
            "box_style": "",
            "children": [
              "IPY_MODEL_9746e6e54dba4f2fae8902a50a52f4d9",
              "IPY_MODEL_7290eddda6674e48837659c21df88f61",
              "IPY_MODEL_485bee93f47b4131be41fbaef4298b6c"
            ],
            "layout": "IPY_MODEL_c3a2cf9d18054bb39cab3e97aeb104c4"
          }
        },
        "9746e6e54dba4f2fae8902a50a52f4d9": {
          "model_module": "@jupyter-widgets/controls",
          "model_name": "HTMLModel",
          "model_module_version": "1.5.0",
          "state": {
            "_dom_classes": [],
            "_model_module": "@jupyter-widgets/controls",
            "_model_module_version": "1.5.0",
            "_model_name": "HTMLModel",
            "_view_count": null,
            "_view_module": "@jupyter-widgets/controls",
            "_view_module_version": "1.5.0",
            "_view_name": "HTMLView",
            "description": "",
            "description_tooltip": null,
            "layout": "IPY_MODEL_45cb34c647fc4b4288aace382410786f",
            "placeholder": "​",
            "style": "IPY_MODEL_275dd66e671e4bd5ac2e2e0fbfa7043b",
            "value": "Map: 100%"
          }
        },
        "7290eddda6674e48837659c21df88f61": {
          "model_module": "@jupyter-widgets/controls",
          "model_name": "FloatProgressModel",
          "model_module_version": "1.5.0",
          "state": {
            "_dom_classes": [],
            "_model_module": "@jupyter-widgets/controls",
            "_model_module_version": "1.5.0",
            "_model_name": "FloatProgressModel",
            "_view_count": null,
            "_view_module": "@jupyter-widgets/controls",
            "_view_module_version": "1.5.0",
            "_view_name": "ProgressView",
            "bar_style": "success",
            "description": "",
            "description_tooltip": null,
            "layout": "IPY_MODEL_8a18ec8392af46a8aebfca27cace19b7",
            "max": 4544,
            "min": 0,
            "orientation": "horizontal",
            "style": "IPY_MODEL_9f67c78601d1481e93ca87eac89fe1f5",
            "value": 4544
          }
        },
        "485bee93f47b4131be41fbaef4298b6c": {
          "model_module": "@jupyter-widgets/controls",
          "model_name": "HTMLModel",
          "model_module_version": "1.5.0",
          "state": {
            "_dom_classes": [],
            "_model_module": "@jupyter-widgets/controls",
            "_model_module_version": "1.5.0",
            "_model_name": "HTMLModel",
            "_view_count": null,
            "_view_module": "@jupyter-widgets/controls",
            "_view_module_version": "1.5.0",
            "_view_name": "HTMLView",
            "description": "",
            "description_tooltip": null,
            "layout": "IPY_MODEL_78de3c165d92490d9f8880a04b008e8d",
            "placeholder": "​",
            "style": "IPY_MODEL_a8f2aa28890845bfadea22fc832a3ad7",
            "value": " 4544/4544 [00:01&lt;00:00, 2687.34 examples/s]"
          }
        },
        "c3a2cf9d18054bb39cab3e97aeb104c4": {
          "model_module": "@jupyter-widgets/base",
          "model_name": "LayoutModel",
          "model_module_version": "1.2.0",
          "state": {
            "_model_module": "@jupyter-widgets/base",
            "_model_module_version": "1.2.0",
            "_model_name": "LayoutModel",
            "_view_count": null,
            "_view_module": "@jupyter-widgets/base",
            "_view_module_version": "1.2.0",
            "_view_name": "LayoutView",
            "align_content": null,
            "align_items": null,
            "align_self": null,
            "border": null,
            "bottom": null,
            "display": null,
            "flex": null,
            "flex_flow": null,
            "grid_area": null,
            "grid_auto_columns": null,
            "grid_auto_flow": null,
            "grid_auto_rows": null,
            "grid_column": null,
            "grid_gap": null,
            "grid_row": null,
            "grid_template_areas": null,
            "grid_template_columns": null,
            "grid_template_rows": null,
            "height": null,
            "justify_content": null,
            "justify_items": null,
            "left": null,
            "margin": null,
            "max_height": null,
            "max_width": null,
            "min_height": null,
            "min_width": null,
            "object_fit": null,
            "object_position": null,
            "order": null,
            "overflow": null,
            "overflow_x": null,
            "overflow_y": null,
            "padding": null,
            "right": null,
            "top": null,
            "visibility": null,
            "width": null
          }
        },
        "45cb34c647fc4b4288aace382410786f": {
          "model_module": "@jupyter-widgets/base",
          "model_name": "LayoutModel",
          "model_module_version": "1.2.0",
          "state": {
            "_model_module": "@jupyter-widgets/base",
            "_model_module_version": "1.2.0",
            "_model_name": "LayoutModel",
            "_view_count": null,
            "_view_module": "@jupyter-widgets/base",
            "_view_module_version": "1.2.0",
            "_view_name": "LayoutView",
            "align_content": null,
            "align_items": null,
            "align_self": null,
            "border": null,
            "bottom": null,
            "display": null,
            "flex": null,
            "flex_flow": null,
            "grid_area": null,
            "grid_auto_columns": null,
            "grid_auto_flow": null,
            "grid_auto_rows": null,
            "grid_column": null,
            "grid_gap": null,
            "grid_row": null,
            "grid_template_areas": null,
            "grid_template_columns": null,
            "grid_template_rows": null,
            "height": null,
            "justify_content": null,
            "justify_items": null,
            "left": null,
            "margin": null,
            "max_height": null,
            "max_width": null,
            "min_height": null,
            "min_width": null,
            "object_fit": null,
            "object_position": null,
            "order": null,
            "overflow": null,
            "overflow_x": null,
            "overflow_y": null,
            "padding": null,
            "right": null,
            "top": null,
            "visibility": null,
            "width": null
          }
        },
        "275dd66e671e4bd5ac2e2e0fbfa7043b": {
          "model_module": "@jupyter-widgets/controls",
          "model_name": "DescriptionStyleModel",
          "model_module_version": "1.5.0",
          "state": {
            "_model_module": "@jupyter-widgets/controls",
            "_model_module_version": "1.5.0",
            "_model_name": "DescriptionStyleModel",
            "_view_count": null,
            "_view_module": "@jupyter-widgets/base",
            "_view_module_version": "1.2.0",
            "_view_name": "StyleView",
            "description_width": ""
          }
        },
        "8a18ec8392af46a8aebfca27cace19b7": {
          "model_module": "@jupyter-widgets/base",
          "model_name": "LayoutModel",
          "model_module_version": "1.2.0",
          "state": {
            "_model_module": "@jupyter-widgets/base",
            "_model_module_version": "1.2.0",
            "_model_name": "LayoutModel",
            "_view_count": null,
            "_view_module": "@jupyter-widgets/base",
            "_view_module_version": "1.2.0",
            "_view_name": "LayoutView",
            "align_content": null,
            "align_items": null,
            "align_self": null,
            "border": null,
            "bottom": null,
            "display": null,
            "flex": null,
            "flex_flow": null,
            "grid_area": null,
            "grid_auto_columns": null,
            "grid_auto_flow": null,
            "grid_auto_rows": null,
            "grid_column": null,
            "grid_gap": null,
            "grid_row": null,
            "grid_template_areas": null,
            "grid_template_columns": null,
            "grid_template_rows": null,
            "height": null,
            "justify_content": null,
            "justify_items": null,
            "left": null,
            "margin": null,
            "max_height": null,
            "max_width": null,
            "min_height": null,
            "min_width": null,
            "object_fit": null,
            "object_position": null,
            "order": null,
            "overflow": null,
            "overflow_x": null,
            "overflow_y": null,
            "padding": null,
            "right": null,
            "top": null,
            "visibility": null,
            "width": null
          }
        },
        "9f67c78601d1481e93ca87eac89fe1f5": {
          "model_module": "@jupyter-widgets/controls",
          "model_name": "ProgressStyleModel",
          "model_module_version": "1.5.0",
          "state": {
            "_model_module": "@jupyter-widgets/controls",
            "_model_module_version": "1.5.0",
            "_model_name": "ProgressStyleModel",
            "_view_count": null,
            "_view_module": "@jupyter-widgets/base",
            "_view_module_version": "1.2.0",
            "_view_name": "StyleView",
            "bar_color": null,
            "description_width": ""
          }
        },
        "78de3c165d92490d9f8880a04b008e8d": {
          "model_module": "@jupyter-widgets/base",
          "model_name": "LayoutModel",
          "model_module_version": "1.2.0",
          "state": {
            "_model_module": "@jupyter-widgets/base",
            "_model_module_version": "1.2.0",
            "_model_name": "LayoutModel",
            "_view_count": null,
            "_view_module": "@jupyter-widgets/base",
            "_view_module_version": "1.2.0",
            "_view_name": "LayoutView",
            "align_content": null,
            "align_items": null,
            "align_self": null,
            "border": null,
            "bottom": null,
            "display": null,
            "flex": null,
            "flex_flow": null,
            "grid_area": null,
            "grid_auto_columns": null,
            "grid_auto_flow": null,
            "grid_auto_rows": null,
            "grid_column": null,
            "grid_gap": null,
            "grid_row": null,
            "grid_template_areas": null,
            "grid_template_columns": null,
            "grid_template_rows": null,
            "height": null,
            "justify_content": null,
            "justify_items": null,
            "left": null,
            "margin": null,
            "max_height": null,
            "max_width": null,
            "min_height": null,
            "min_width": null,
            "object_fit": null,
            "object_position": null,
            "order": null,
            "overflow": null,
            "overflow_x": null,
            "overflow_y": null,
            "padding": null,
            "right": null,
            "top": null,
            "visibility": null,
            "width": null
          }
        },
        "a8f2aa28890845bfadea22fc832a3ad7": {
          "model_module": "@jupyter-widgets/controls",
          "model_name": "DescriptionStyleModel",
          "model_module_version": "1.5.0",
          "state": {
            "_model_module": "@jupyter-widgets/controls",
            "_model_module_version": "1.5.0",
            "_model_name": "DescriptionStyleModel",
            "_view_count": null,
            "_view_module": "@jupyter-widgets/base",
            "_view_module_version": "1.2.0",
            "_view_name": "StyleView",
            "description_width": ""
          }
        },
        "1e1f4b92debe490b935b90c4127f1f4b": {
          "model_module": "@jupyter-widgets/controls",
          "model_name": "HBoxModel",
          "model_module_version": "1.5.0",
          "state": {
            "_dom_classes": [],
            "_model_module": "@jupyter-widgets/controls",
            "_model_module_version": "1.5.0",
            "_model_name": "HBoxModel",
            "_view_count": null,
            "_view_module": "@jupyter-widgets/controls",
            "_view_module_version": "1.5.0",
            "_view_name": "HBoxView",
            "box_style": "",
            "children": [
              "IPY_MODEL_164d81829f6649dda5e9d83971f71d4f",
              "IPY_MODEL_3bc4508ba76a4d8c960bcabdc360a73d",
              "IPY_MODEL_074b7bd4c9104ecfb6e0a2ae1f2b8377"
            ],
            "layout": "IPY_MODEL_248d21668d744591af7562fa0cb0727b"
          }
        },
        "164d81829f6649dda5e9d83971f71d4f": {
          "model_module": "@jupyter-widgets/controls",
          "model_name": "HTMLModel",
          "model_module_version": "1.5.0",
          "state": {
            "_dom_classes": [],
            "_model_module": "@jupyter-widgets/controls",
            "_model_module_version": "1.5.0",
            "_model_name": "HTMLModel",
            "_view_count": null,
            "_view_module": "@jupyter-widgets/controls",
            "_view_module_version": "1.5.0",
            "_view_name": "HTMLView",
            "description": "",
            "description_tooltip": null,
            "layout": "IPY_MODEL_7690641a77bb48acaf9a26495cb3e982",
            "placeholder": "​",
            "style": "IPY_MODEL_e16c8951f2c74a69a47af9dc37df3c75",
            "value": "Map: 100%"
          }
        },
        "3bc4508ba76a4d8c960bcabdc360a73d": {
          "model_module": "@jupyter-widgets/controls",
          "model_name": "FloatProgressModel",
          "model_module_version": "1.5.0",
          "state": {
            "_dom_classes": [],
            "_model_module": "@jupyter-widgets/controls",
            "_model_module_version": "1.5.0",
            "_model_name": "FloatProgressModel",
            "_view_count": null,
            "_view_module": "@jupyter-widgets/controls",
            "_view_module_version": "1.5.0",
            "_view_name": "ProgressView",
            "bar_style": "success",
            "description": "",
            "description_tooltip": null,
            "layout": "IPY_MODEL_3c13db0026b342f08a8d4c571bba7783",
            "max": 1136,
            "min": 0,
            "orientation": "horizontal",
            "style": "IPY_MODEL_56014b38eac54c0993780900afa7a5ef",
            "value": 1136
          }
        },
        "074b7bd4c9104ecfb6e0a2ae1f2b8377": {
          "model_module": "@jupyter-widgets/controls",
          "model_name": "HTMLModel",
          "model_module_version": "1.5.0",
          "state": {
            "_dom_classes": [],
            "_model_module": "@jupyter-widgets/controls",
            "_model_module_version": "1.5.0",
            "_model_name": "HTMLModel",
            "_view_count": null,
            "_view_module": "@jupyter-widgets/controls",
            "_view_module_version": "1.5.0",
            "_view_name": "HTMLView",
            "description": "",
            "description_tooltip": null,
            "layout": "IPY_MODEL_e9dcbd836d684a2eb0c4427136925b1d",
            "placeholder": "​",
            "style": "IPY_MODEL_12d3186367cc46ab8e2a6994651f0741",
            "value": " 1136/1136 [00:00&lt;00:00, 2043.92 examples/s]"
          }
        },
        "248d21668d744591af7562fa0cb0727b": {
          "model_module": "@jupyter-widgets/base",
          "model_name": "LayoutModel",
          "model_module_version": "1.2.0",
          "state": {
            "_model_module": "@jupyter-widgets/base",
            "_model_module_version": "1.2.0",
            "_model_name": "LayoutModel",
            "_view_count": null,
            "_view_module": "@jupyter-widgets/base",
            "_view_module_version": "1.2.0",
            "_view_name": "LayoutView",
            "align_content": null,
            "align_items": null,
            "align_self": null,
            "border": null,
            "bottom": null,
            "display": null,
            "flex": null,
            "flex_flow": null,
            "grid_area": null,
            "grid_auto_columns": null,
            "grid_auto_flow": null,
            "grid_auto_rows": null,
            "grid_column": null,
            "grid_gap": null,
            "grid_row": null,
            "grid_template_areas": null,
            "grid_template_columns": null,
            "grid_template_rows": null,
            "height": null,
            "justify_content": null,
            "justify_items": null,
            "left": null,
            "margin": null,
            "max_height": null,
            "max_width": null,
            "min_height": null,
            "min_width": null,
            "object_fit": null,
            "object_position": null,
            "order": null,
            "overflow": null,
            "overflow_x": null,
            "overflow_y": null,
            "padding": null,
            "right": null,
            "top": null,
            "visibility": null,
            "width": null
          }
        },
        "7690641a77bb48acaf9a26495cb3e982": {
          "model_module": "@jupyter-widgets/base",
          "model_name": "LayoutModel",
          "model_module_version": "1.2.0",
          "state": {
            "_model_module": "@jupyter-widgets/base",
            "_model_module_version": "1.2.0",
            "_model_name": "LayoutModel",
            "_view_count": null,
            "_view_module": "@jupyter-widgets/base",
            "_view_module_version": "1.2.0",
            "_view_name": "LayoutView",
            "align_content": null,
            "align_items": null,
            "align_self": null,
            "border": null,
            "bottom": null,
            "display": null,
            "flex": null,
            "flex_flow": null,
            "grid_area": null,
            "grid_auto_columns": null,
            "grid_auto_flow": null,
            "grid_auto_rows": null,
            "grid_column": null,
            "grid_gap": null,
            "grid_row": null,
            "grid_template_areas": null,
            "grid_template_columns": null,
            "grid_template_rows": null,
            "height": null,
            "justify_content": null,
            "justify_items": null,
            "left": null,
            "margin": null,
            "max_height": null,
            "max_width": null,
            "min_height": null,
            "min_width": null,
            "object_fit": null,
            "object_position": null,
            "order": null,
            "overflow": null,
            "overflow_x": null,
            "overflow_y": null,
            "padding": null,
            "right": null,
            "top": null,
            "visibility": null,
            "width": null
          }
        },
        "e16c8951f2c74a69a47af9dc37df3c75": {
          "model_module": "@jupyter-widgets/controls",
          "model_name": "DescriptionStyleModel",
          "model_module_version": "1.5.0",
          "state": {
            "_model_module": "@jupyter-widgets/controls",
            "_model_module_version": "1.5.0",
            "_model_name": "DescriptionStyleModel",
            "_view_count": null,
            "_view_module": "@jupyter-widgets/base",
            "_view_module_version": "1.2.0",
            "_view_name": "StyleView",
            "description_width": ""
          }
        },
        "3c13db0026b342f08a8d4c571bba7783": {
          "model_module": "@jupyter-widgets/base",
          "model_name": "LayoutModel",
          "model_module_version": "1.2.0",
          "state": {
            "_model_module": "@jupyter-widgets/base",
            "_model_module_version": "1.2.0",
            "_model_name": "LayoutModel",
            "_view_count": null,
            "_view_module": "@jupyter-widgets/base",
            "_view_module_version": "1.2.0",
            "_view_name": "LayoutView",
            "align_content": null,
            "align_items": null,
            "align_self": null,
            "border": null,
            "bottom": null,
            "display": null,
            "flex": null,
            "flex_flow": null,
            "grid_area": null,
            "grid_auto_columns": null,
            "grid_auto_flow": null,
            "grid_auto_rows": null,
            "grid_column": null,
            "grid_gap": null,
            "grid_row": null,
            "grid_template_areas": null,
            "grid_template_columns": null,
            "grid_template_rows": null,
            "height": null,
            "justify_content": null,
            "justify_items": null,
            "left": null,
            "margin": null,
            "max_height": null,
            "max_width": null,
            "min_height": null,
            "min_width": null,
            "object_fit": null,
            "object_position": null,
            "order": null,
            "overflow": null,
            "overflow_x": null,
            "overflow_y": null,
            "padding": null,
            "right": null,
            "top": null,
            "visibility": null,
            "width": null
          }
        },
        "56014b38eac54c0993780900afa7a5ef": {
          "model_module": "@jupyter-widgets/controls",
          "model_name": "ProgressStyleModel",
          "model_module_version": "1.5.0",
          "state": {
            "_model_module": "@jupyter-widgets/controls",
            "_model_module_version": "1.5.0",
            "_model_name": "ProgressStyleModel",
            "_view_count": null,
            "_view_module": "@jupyter-widgets/base",
            "_view_module_version": "1.2.0",
            "_view_name": "StyleView",
            "bar_color": null,
            "description_width": ""
          }
        },
        "e9dcbd836d684a2eb0c4427136925b1d": {
          "model_module": "@jupyter-widgets/base",
          "model_name": "LayoutModel",
          "model_module_version": "1.2.0",
          "state": {
            "_model_module": "@jupyter-widgets/base",
            "_model_module_version": "1.2.0",
            "_model_name": "LayoutModel",
            "_view_count": null,
            "_view_module": "@jupyter-widgets/base",
            "_view_module_version": "1.2.0",
            "_view_name": "LayoutView",
            "align_content": null,
            "align_items": null,
            "align_self": null,
            "border": null,
            "bottom": null,
            "display": null,
            "flex": null,
            "flex_flow": null,
            "grid_area": null,
            "grid_auto_columns": null,
            "grid_auto_flow": null,
            "grid_auto_rows": null,
            "grid_column": null,
            "grid_gap": null,
            "grid_row": null,
            "grid_template_areas": null,
            "grid_template_columns": null,
            "grid_template_rows": null,
            "height": null,
            "justify_content": null,
            "justify_items": null,
            "left": null,
            "margin": null,
            "max_height": null,
            "max_width": null,
            "min_height": null,
            "min_width": null,
            "object_fit": null,
            "object_position": null,
            "order": null,
            "overflow": null,
            "overflow_x": null,
            "overflow_y": null,
            "padding": null,
            "right": null,
            "top": null,
            "visibility": null,
            "width": null
          }
        },
        "12d3186367cc46ab8e2a6994651f0741": {
          "model_module": "@jupyter-widgets/controls",
          "model_name": "DescriptionStyleModel",
          "model_module_version": "1.5.0",
          "state": {
            "_model_module": "@jupyter-widgets/controls",
            "_model_module_version": "1.5.0",
            "_model_name": "DescriptionStyleModel",
            "_view_count": null,
            "_view_module": "@jupyter-widgets/base",
            "_view_module_version": "1.2.0",
            "_view_name": "StyleView",
            "description_width": ""
          }
        },
        "ff0466b873f84c9786a246287afeb1b3": {
          "model_module": "@jupyter-widgets/controls",
          "model_name": "HBoxModel",
          "model_module_version": "1.5.0",
          "state": {
            "_dom_classes": [],
            "_model_module": "@jupyter-widgets/controls",
            "_model_module_version": "1.5.0",
            "_model_name": "HBoxModel",
            "_view_count": null,
            "_view_module": "@jupyter-widgets/controls",
            "_view_module_version": "1.5.0",
            "_view_name": "HBoxView",
            "box_style": "",
            "children": [
              "IPY_MODEL_4731e7db029b4f728af0109e4517b5f8",
              "IPY_MODEL_2eab7308336c4e9598677b1a81e70e4a",
              "IPY_MODEL_843ae135a620417a9431d99b886755b5"
            ],
            "layout": "IPY_MODEL_405a4ec6365e413f9dcb474fdc4bf333"
          }
        },
        "4731e7db029b4f728af0109e4517b5f8": {
          "model_module": "@jupyter-widgets/controls",
          "model_name": "HTMLModel",
          "model_module_version": "1.5.0",
          "state": {
            "_dom_classes": [],
            "_model_module": "@jupyter-widgets/controls",
            "_model_module_version": "1.5.0",
            "_model_name": "HTMLModel",
            "_view_count": null,
            "_view_module": "@jupyter-widgets/controls",
            "_view_module_version": "1.5.0",
            "_view_name": "HTMLView",
            "description": "",
            "description_tooltip": null,
            "layout": "IPY_MODEL_b55d7a2d34d54221bfd4d221c4e95ad5",
            "placeholder": "​",
            "style": "IPY_MODEL_ab6bc89d30d045a1bf32bfd23e768b14",
            "value": "Map: 100%"
          }
        },
        "2eab7308336c4e9598677b1a81e70e4a": {
          "model_module": "@jupyter-widgets/controls",
          "model_name": "FloatProgressModel",
          "model_module_version": "1.5.0",
          "state": {
            "_dom_classes": [],
            "_model_module": "@jupyter-widgets/controls",
            "_model_module_version": "1.5.0",
            "_model_name": "FloatProgressModel",
            "_view_count": null,
            "_view_module": "@jupyter-widgets/controls",
            "_view_module_version": "1.5.0",
            "_view_name": "ProgressView",
            "bar_style": "success",
            "description": "",
            "description_tooltip": null,
            "layout": "IPY_MODEL_31cd1e18042e49668cbacda665884ae5",
            "max": 1234,
            "min": 0,
            "orientation": "horizontal",
            "style": "IPY_MODEL_e57889b07b7e45bb906e7dad7647d404",
            "value": 1234
          }
        },
        "843ae135a620417a9431d99b886755b5": {
          "model_module": "@jupyter-widgets/controls",
          "model_name": "HTMLModel",
          "model_module_version": "1.5.0",
          "state": {
            "_dom_classes": [],
            "_model_module": "@jupyter-widgets/controls",
            "_model_module_version": "1.5.0",
            "_model_name": "HTMLModel",
            "_view_count": null,
            "_view_module": "@jupyter-widgets/controls",
            "_view_module_version": "1.5.0",
            "_view_name": "HTMLView",
            "description": "",
            "description_tooltip": null,
            "layout": "IPY_MODEL_77b1a0b1de584837b60da9cea650edcc",
            "placeholder": "​",
            "style": "IPY_MODEL_dc0d6f6fdd744708926c7de0a5947574",
            "value": " 1234/1234 [00:00&lt;00:00, 1787.89 examples/s]"
          }
        },
        "405a4ec6365e413f9dcb474fdc4bf333": {
          "model_module": "@jupyter-widgets/base",
          "model_name": "LayoutModel",
          "model_module_version": "1.2.0",
          "state": {
            "_model_module": "@jupyter-widgets/base",
            "_model_module_version": "1.2.0",
            "_model_name": "LayoutModel",
            "_view_count": null,
            "_view_module": "@jupyter-widgets/base",
            "_view_module_version": "1.2.0",
            "_view_name": "LayoutView",
            "align_content": null,
            "align_items": null,
            "align_self": null,
            "border": null,
            "bottom": null,
            "display": null,
            "flex": null,
            "flex_flow": null,
            "grid_area": null,
            "grid_auto_columns": null,
            "grid_auto_flow": null,
            "grid_auto_rows": null,
            "grid_column": null,
            "grid_gap": null,
            "grid_row": null,
            "grid_template_areas": null,
            "grid_template_columns": null,
            "grid_template_rows": null,
            "height": null,
            "justify_content": null,
            "justify_items": null,
            "left": null,
            "margin": null,
            "max_height": null,
            "max_width": null,
            "min_height": null,
            "min_width": null,
            "object_fit": null,
            "object_position": null,
            "order": null,
            "overflow": null,
            "overflow_x": null,
            "overflow_y": null,
            "padding": null,
            "right": null,
            "top": null,
            "visibility": null,
            "width": null
          }
        },
        "b55d7a2d34d54221bfd4d221c4e95ad5": {
          "model_module": "@jupyter-widgets/base",
          "model_name": "LayoutModel",
          "model_module_version": "1.2.0",
          "state": {
            "_model_module": "@jupyter-widgets/base",
            "_model_module_version": "1.2.0",
            "_model_name": "LayoutModel",
            "_view_count": null,
            "_view_module": "@jupyter-widgets/base",
            "_view_module_version": "1.2.0",
            "_view_name": "LayoutView",
            "align_content": null,
            "align_items": null,
            "align_self": null,
            "border": null,
            "bottom": null,
            "display": null,
            "flex": null,
            "flex_flow": null,
            "grid_area": null,
            "grid_auto_columns": null,
            "grid_auto_flow": null,
            "grid_auto_rows": null,
            "grid_column": null,
            "grid_gap": null,
            "grid_row": null,
            "grid_template_areas": null,
            "grid_template_columns": null,
            "grid_template_rows": null,
            "height": null,
            "justify_content": null,
            "justify_items": null,
            "left": null,
            "margin": null,
            "max_height": null,
            "max_width": null,
            "min_height": null,
            "min_width": null,
            "object_fit": null,
            "object_position": null,
            "order": null,
            "overflow": null,
            "overflow_x": null,
            "overflow_y": null,
            "padding": null,
            "right": null,
            "top": null,
            "visibility": null,
            "width": null
          }
        },
        "ab6bc89d30d045a1bf32bfd23e768b14": {
          "model_module": "@jupyter-widgets/controls",
          "model_name": "DescriptionStyleModel",
          "model_module_version": "1.5.0",
          "state": {
            "_model_module": "@jupyter-widgets/controls",
            "_model_module_version": "1.5.0",
            "_model_name": "DescriptionStyleModel",
            "_view_count": null,
            "_view_module": "@jupyter-widgets/base",
            "_view_module_version": "1.2.0",
            "_view_name": "StyleView",
            "description_width": ""
          }
        },
        "31cd1e18042e49668cbacda665884ae5": {
          "model_module": "@jupyter-widgets/base",
          "model_name": "LayoutModel",
          "model_module_version": "1.2.0",
          "state": {
            "_model_module": "@jupyter-widgets/base",
            "_model_module_version": "1.2.0",
            "_model_name": "LayoutModel",
            "_view_count": null,
            "_view_module": "@jupyter-widgets/base",
            "_view_module_version": "1.2.0",
            "_view_name": "LayoutView",
            "align_content": null,
            "align_items": null,
            "align_self": null,
            "border": null,
            "bottom": null,
            "display": null,
            "flex": null,
            "flex_flow": null,
            "grid_area": null,
            "grid_auto_columns": null,
            "grid_auto_flow": null,
            "grid_auto_rows": null,
            "grid_column": null,
            "grid_gap": null,
            "grid_row": null,
            "grid_template_areas": null,
            "grid_template_columns": null,
            "grid_template_rows": null,
            "height": null,
            "justify_content": null,
            "justify_items": null,
            "left": null,
            "margin": null,
            "max_height": null,
            "max_width": null,
            "min_height": null,
            "min_width": null,
            "object_fit": null,
            "object_position": null,
            "order": null,
            "overflow": null,
            "overflow_x": null,
            "overflow_y": null,
            "padding": null,
            "right": null,
            "top": null,
            "visibility": null,
            "width": null
          }
        },
        "e57889b07b7e45bb906e7dad7647d404": {
          "model_module": "@jupyter-widgets/controls",
          "model_name": "ProgressStyleModel",
          "model_module_version": "1.5.0",
          "state": {
            "_model_module": "@jupyter-widgets/controls",
            "_model_module_version": "1.5.0",
            "_model_name": "ProgressStyleModel",
            "_view_count": null,
            "_view_module": "@jupyter-widgets/base",
            "_view_module_version": "1.2.0",
            "_view_name": "StyleView",
            "bar_color": null,
            "description_width": ""
          }
        },
        "77b1a0b1de584837b60da9cea650edcc": {
          "model_module": "@jupyter-widgets/base",
          "model_name": "LayoutModel",
          "model_module_version": "1.2.0",
          "state": {
            "_model_module": "@jupyter-widgets/base",
            "_model_module_version": "1.2.0",
            "_model_name": "LayoutModel",
            "_view_count": null,
            "_view_module": "@jupyter-widgets/base",
            "_view_module_version": "1.2.0",
            "_view_name": "LayoutView",
            "align_content": null,
            "align_items": null,
            "align_self": null,
            "border": null,
            "bottom": null,
            "display": null,
            "flex": null,
            "flex_flow": null,
            "grid_area": null,
            "grid_auto_columns": null,
            "grid_auto_flow": null,
            "grid_auto_rows": null,
            "grid_column": null,
            "grid_gap": null,
            "grid_row": null,
            "grid_template_areas": null,
            "grid_template_columns": null,
            "grid_template_rows": null,
            "height": null,
            "justify_content": null,
            "justify_items": null,
            "left": null,
            "margin": null,
            "max_height": null,
            "max_width": null,
            "min_height": null,
            "min_width": null,
            "object_fit": null,
            "object_position": null,
            "order": null,
            "overflow": null,
            "overflow_x": null,
            "overflow_y": null,
            "padding": null,
            "right": null,
            "top": null,
            "visibility": null,
            "width": null
          }
        },
        "dc0d6f6fdd744708926c7de0a5947574": {
          "model_module": "@jupyter-widgets/controls",
          "model_name": "DescriptionStyleModel",
          "model_module_version": "1.5.0",
          "state": {
            "_model_module": "@jupyter-widgets/controls",
            "_model_module_version": "1.5.0",
            "_model_name": "DescriptionStyleModel",
            "_view_count": null,
            "_view_module": "@jupyter-widgets/base",
            "_view_module_version": "1.2.0",
            "_view_name": "StyleView",
            "description_width": ""
          }
        },
        "2414eb270109489a9645e3fae0a76429": {
          "model_module": "@jupyter-widgets/controls",
          "model_name": "HBoxModel",
          "model_module_version": "1.5.0",
          "state": {
            "_dom_classes": [],
            "_model_module": "@jupyter-widgets/controls",
            "_model_module_version": "1.5.0",
            "_model_name": "HBoxModel",
            "_view_count": null,
            "_view_module": "@jupyter-widgets/controls",
            "_view_module_version": "1.5.0",
            "_view_name": "HBoxView",
            "box_style": "",
            "children": [
              "IPY_MODEL_be1b63cce9e04db4a41966be8bf669c6",
              "IPY_MODEL_1aa026ffb0d64367b0e3773f97eaa8ad",
              "IPY_MODEL_e2f011e578fc45caad16ca375d740b97"
            ],
            "layout": "IPY_MODEL_ac3762e23a9443dea10a5bc51cb64ce4"
          }
        },
        "be1b63cce9e04db4a41966be8bf669c6": {
          "model_module": "@jupyter-widgets/controls",
          "model_name": "HTMLModel",
          "model_module_version": "1.5.0",
          "state": {
            "_dom_classes": [],
            "_model_module": "@jupyter-widgets/controls",
            "_model_module_version": "1.5.0",
            "_model_name": "HTMLModel",
            "_view_count": null,
            "_view_module": "@jupyter-widgets/controls",
            "_view_module_version": "1.5.0",
            "_view_name": "HTMLView",
            "description": "",
            "description_tooltip": null,
            "layout": "IPY_MODEL_9b28c7b99ecd4f35a91204927b315c34",
            "placeholder": "​",
            "style": "IPY_MODEL_5c0193f0c4544f4f8b04ad51cb54f199",
            "value": "Map: 100%"
          }
        },
        "1aa026ffb0d64367b0e3773f97eaa8ad": {
          "model_module": "@jupyter-widgets/controls",
          "model_name": "FloatProgressModel",
          "model_module_version": "1.5.0",
          "state": {
            "_dom_classes": [],
            "_model_module": "@jupyter-widgets/controls",
            "_model_module_version": "1.5.0",
            "_model_name": "FloatProgressModel",
            "_view_count": null,
            "_view_module": "@jupyter-widgets/controls",
            "_view_module_version": "1.5.0",
            "_view_name": "ProgressView",
            "bar_style": "success",
            "description": "",
            "description_tooltip": null,
            "layout": "IPY_MODEL_d36f73cb89344a5cbde79c032ee0008e",
            "max": 1264,
            "min": 0,
            "orientation": "horizontal",
            "style": "IPY_MODEL_2844d861a60e419e986865daf140aff7",
            "value": 1264
          }
        },
        "e2f011e578fc45caad16ca375d740b97": {
          "model_module": "@jupyter-widgets/controls",
          "model_name": "HTMLModel",
          "model_module_version": "1.5.0",
          "state": {
            "_dom_classes": [],
            "_model_module": "@jupyter-widgets/controls",
            "_model_module_version": "1.5.0",
            "_model_name": "HTMLModel",
            "_view_count": null,
            "_view_module": "@jupyter-widgets/controls",
            "_view_module_version": "1.5.0",
            "_view_name": "HTMLView",
            "description": "",
            "description_tooltip": null,
            "layout": "IPY_MODEL_b19953ba062846e88b93d40be878b63a",
            "placeholder": "​",
            "style": "IPY_MODEL_821c9c7604924569be4889738d5af78d",
            "value": " 1264/1264 [00:00&lt;00:00, 1928.08 examples/s]"
          }
        },
        "ac3762e23a9443dea10a5bc51cb64ce4": {
          "model_module": "@jupyter-widgets/base",
          "model_name": "LayoutModel",
          "model_module_version": "1.2.0",
          "state": {
            "_model_module": "@jupyter-widgets/base",
            "_model_module_version": "1.2.0",
            "_model_name": "LayoutModel",
            "_view_count": null,
            "_view_module": "@jupyter-widgets/base",
            "_view_module_version": "1.2.0",
            "_view_name": "LayoutView",
            "align_content": null,
            "align_items": null,
            "align_self": null,
            "border": null,
            "bottom": null,
            "display": null,
            "flex": null,
            "flex_flow": null,
            "grid_area": null,
            "grid_auto_columns": null,
            "grid_auto_flow": null,
            "grid_auto_rows": null,
            "grid_column": null,
            "grid_gap": null,
            "grid_row": null,
            "grid_template_areas": null,
            "grid_template_columns": null,
            "grid_template_rows": null,
            "height": null,
            "justify_content": null,
            "justify_items": null,
            "left": null,
            "margin": null,
            "max_height": null,
            "max_width": null,
            "min_height": null,
            "min_width": null,
            "object_fit": null,
            "object_position": null,
            "order": null,
            "overflow": null,
            "overflow_x": null,
            "overflow_y": null,
            "padding": null,
            "right": null,
            "top": null,
            "visibility": null,
            "width": null
          }
        },
        "9b28c7b99ecd4f35a91204927b315c34": {
          "model_module": "@jupyter-widgets/base",
          "model_name": "LayoutModel",
          "model_module_version": "1.2.0",
          "state": {
            "_model_module": "@jupyter-widgets/base",
            "_model_module_version": "1.2.0",
            "_model_name": "LayoutModel",
            "_view_count": null,
            "_view_module": "@jupyter-widgets/base",
            "_view_module_version": "1.2.0",
            "_view_name": "LayoutView",
            "align_content": null,
            "align_items": null,
            "align_self": null,
            "border": null,
            "bottom": null,
            "display": null,
            "flex": null,
            "flex_flow": null,
            "grid_area": null,
            "grid_auto_columns": null,
            "grid_auto_flow": null,
            "grid_auto_rows": null,
            "grid_column": null,
            "grid_gap": null,
            "grid_row": null,
            "grid_template_areas": null,
            "grid_template_columns": null,
            "grid_template_rows": null,
            "height": null,
            "justify_content": null,
            "justify_items": null,
            "left": null,
            "margin": null,
            "max_height": null,
            "max_width": null,
            "min_height": null,
            "min_width": null,
            "object_fit": null,
            "object_position": null,
            "order": null,
            "overflow": null,
            "overflow_x": null,
            "overflow_y": null,
            "padding": null,
            "right": null,
            "top": null,
            "visibility": null,
            "width": null
          }
        },
        "5c0193f0c4544f4f8b04ad51cb54f199": {
          "model_module": "@jupyter-widgets/controls",
          "model_name": "DescriptionStyleModel",
          "model_module_version": "1.5.0",
          "state": {
            "_model_module": "@jupyter-widgets/controls",
            "_model_module_version": "1.5.0",
            "_model_name": "DescriptionStyleModel",
            "_view_count": null,
            "_view_module": "@jupyter-widgets/base",
            "_view_module_version": "1.2.0",
            "_view_name": "StyleView",
            "description_width": ""
          }
        },
        "d36f73cb89344a5cbde79c032ee0008e": {
          "model_module": "@jupyter-widgets/base",
          "model_name": "LayoutModel",
          "model_module_version": "1.2.0",
          "state": {
            "_model_module": "@jupyter-widgets/base",
            "_model_module_version": "1.2.0",
            "_model_name": "LayoutModel",
            "_view_count": null,
            "_view_module": "@jupyter-widgets/base",
            "_view_module_version": "1.2.0",
            "_view_name": "LayoutView",
            "align_content": null,
            "align_items": null,
            "align_self": null,
            "border": null,
            "bottom": null,
            "display": null,
            "flex": null,
            "flex_flow": null,
            "grid_area": null,
            "grid_auto_columns": null,
            "grid_auto_flow": null,
            "grid_auto_rows": null,
            "grid_column": null,
            "grid_gap": null,
            "grid_row": null,
            "grid_template_areas": null,
            "grid_template_columns": null,
            "grid_template_rows": null,
            "height": null,
            "justify_content": null,
            "justify_items": null,
            "left": null,
            "margin": null,
            "max_height": null,
            "max_width": null,
            "min_height": null,
            "min_width": null,
            "object_fit": null,
            "object_position": null,
            "order": null,
            "overflow": null,
            "overflow_x": null,
            "overflow_y": null,
            "padding": null,
            "right": null,
            "top": null,
            "visibility": null,
            "width": null
          }
        },
        "2844d861a60e419e986865daf140aff7": {
          "model_module": "@jupyter-widgets/controls",
          "model_name": "ProgressStyleModel",
          "model_module_version": "1.5.0",
          "state": {
            "_model_module": "@jupyter-widgets/controls",
            "_model_module_version": "1.5.0",
            "_model_name": "ProgressStyleModel",
            "_view_count": null,
            "_view_module": "@jupyter-widgets/base",
            "_view_module_version": "1.2.0",
            "_view_name": "StyleView",
            "bar_color": null,
            "description_width": ""
          }
        },
        "b19953ba062846e88b93d40be878b63a": {
          "model_module": "@jupyter-widgets/base",
          "model_name": "LayoutModel",
          "model_module_version": "1.2.0",
          "state": {
            "_model_module": "@jupyter-widgets/base",
            "_model_module_version": "1.2.0",
            "_model_name": "LayoutModel",
            "_view_count": null,
            "_view_module": "@jupyter-widgets/base",
            "_view_module_version": "1.2.0",
            "_view_name": "LayoutView",
            "align_content": null,
            "align_items": null,
            "align_self": null,
            "border": null,
            "bottom": null,
            "display": null,
            "flex": null,
            "flex_flow": null,
            "grid_area": null,
            "grid_auto_columns": null,
            "grid_auto_flow": null,
            "grid_auto_rows": null,
            "grid_column": null,
            "grid_gap": null,
            "grid_row": null,
            "grid_template_areas": null,
            "grid_template_columns": null,
            "grid_template_rows": null,
            "height": null,
            "justify_content": null,
            "justify_items": null,
            "left": null,
            "margin": null,
            "max_height": null,
            "max_width": null,
            "min_height": null,
            "min_width": null,
            "object_fit": null,
            "object_position": null,
            "order": null,
            "overflow": null,
            "overflow_x": null,
            "overflow_y": null,
            "padding": null,
            "right": null,
            "top": null,
            "visibility": null,
            "width": null
          }
        },
        "821c9c7604924569be4889738d5af78d": {
          "model_module": "@jupyter-widgets/controls",
          "model_name": "DescriptionStyleModel",
          "model_module_version": "1.5.0",
          "state": {
            "_model_module": "@jupyter-widgets/controls",
            "_model_module_version": "1.5.0",
            "_model_name": "DescriptionStyleModel",
            "_view_count": null,
            "_view_module": "@jupyter-widgets/base",
            "_view_module_version": "1.2.0",
            "_view_name": "StyleView",
            "description_width": ""
          }
        },
        "8087c57c2afe42a98d560de5df62b6ee": {
          "model_module": "@jupyter-widgets/controls",
          "model_name": "HBoxModel",
          "model_module_version": "1.5.0",
          "state": {
            "_dom_classes": [],
            "_model_module": "@jupyter-widgets/controls",
            "_model_module_version": "1.5.0",
            "_model_name": "HBoxModel",
            "_view_count": null,
            "_view_module": "@jupyter-widgets/controls",
            "_view_module_version": "1.5.0",
            "_view_name": "HBoxView",
            "box_style": "",
            "children": [
              "IPY_MODEL_15f11499cb86471e89c972691b2cc72f",
              "IPY_MODEL_9ce215a80cb74a408f3a22b799bcf31e",
              "IPY_MODEL_77299f7fd5394b17b0771d0cc4ce7026"
            ],
            "layout": "IPY_MODEL_c31692bffa624457b2d08a745790f3e3"
          }
        },
        "15f11499cb86471e89c972691b2cc72f": {
          "model_module": "@jupyter-widgets/controls",
          "model_name": "HTMLModel",
          "model_module_version": "1.5.0",
          "state": {
            "_dom_classes": [],
            "_model_module": "@jupyter-widgets/controls",
            "_model_module_version": "1.5.0",
            "_model_name": "HTMLModel",
            "_view_count": null,
            "_view_module": "@jupyter-widgets/controls",
            "_view_module_version": "1.5.0",
            "_view_name": "HTMLView",
            "description": "",
            "description_tooltip": null,
            "layout": "IPY_MODEL_142770d680104082a9fdd450159f06af",
            "placeholder": "​",
            "style": "IPY_MODEL_f83bb4a68f084e45b96dfdd43d92e101",
            "value": "model.safetensors: 100%"
          }
        },
        "9ce215a80cb74a408f3a22b799bcf31e": {
          "model_module": "@jupyter-widgets/controls",
          "model_name": "FloatProgressModel",
          "model_module_version": "1.5.0",
          "state": {
            "_dom_classes": [],
            "_model_module": "@jupyter-widgets/controls",
            "_model_module_version": "1.5.0",
            "_model_name": "FloatProgressModel",
            "_view_count": null,
            "_view_module": "@jupyter-widgets/controls",
            "_view_module_version": "1.5.0",
            "_view_name": "ProgressView",
            "bar_style": "success",
            "description": "",
            "description_tooltip": null,
            "layout": "IPY_MODEL_3ce6eceb9e2d4631aa831d80b4aa04a8",
            "max": 267954768,
            "min": 0,
            "orientation": "horizontal",
            "style": "IPY_MODEL_708ecc99622c42b1b80208decdab2eb3",
            "value": 267954768
          }
        },
        "77299f7fd5394b17b0771d0cc4ce7026": {
          "model_module": "@jupyter-widgets/controls",
          "model_name": "HTMLModel",
          "model_module_version": "1.5.0",
          "state": {
            "_dom_classes": [],
            "_model_module": "@jupyter-widgets/controls",
            "_model_module_version": "1.5.0",
            "_model_name": "HTMLModel",
            "_view_count": null,
            "_view_module": "@jupyter-widgets/controls",
            "_view_module_version": "1.5.0",
            "_view_name": "HTMLView",
            "description": "",
            "description_tooltip": null,
            "layout": "IPY_MODEL_17691f70d767464d98e938b6c9fcc53a",
            "placeholder": "​",
            "style": "IPY_MODEL_c4e8361b980c416cbb2e7cc818f8011e",
            "value": " 268M/268M [00:02&lt;00:00, 251MB/s]"
          }
        },
        "c31692bffa624457b2d08a745790f3e3": {
          "model_module": "@jupyter-widgets/base",
          "model_name": "LayoutModel",
          "model_module_version": "1.2.0",
          "state": {
            "_model_module": "@jupyter-widgets/base",
            "_model_module_version": "1.2.0",
            "_model_name": "LayoutModel",
            "_view_count": null,
            "_view_module": "@jupyter-widgets/base",
            "_view_module_version": "1.2.0",
            "_view_name": "LayoutView",
            "align_content": null,
            "align_items": null,
            "align_self": null,
            "border": null,
            "bottom": null,
            "display": null,
            "flex": null,
            "flex_flow": null,
            "grid_area": null,
            "grid_auto_columns": null,
            "grid_auto_flow": null,
            "grid_auto_rows": null,
            "grid_column": null,
            "grid_gap": null,
            "grid_row": null,
            "grid_template_areas": null,
            "grid_template_columns": null,
            "grid_template_rows": null,
            "height": null,
            "justify_content": null,
            "justify_items": null,
            "left": null,
            "margin": null,
            "max_height": null,
            "max_width": null,
            "min_height": null,
            "min_width": null,
            "object_fit": null,
            "object_position": null,
            "order": null,
            "overflow": null,
            "overflow_x": null,
            "overflow_y": null,
            "padding": null,
            "right": null,
            "top": null,
            "visibility": null,
            "width": null
          }
        },
        "142770d680104082a9fdd450159f06af": {
          "model_module": "@jupyter-widgets/base",
          "model_name": "LayoutModel",
          "model_module_version": "1.2.0",
          "state": {
            "_model_module": "@jupyter-widgets/base",
            "_model_module_version": "1.2.0",
            "_model_name": "LayoutModel",
            "_view_count": null,
            "_view_module": "@jupyter-widgets/base",
            "_view_module_version": "1.2.0",
            "_view_name": "LayoutView",
            "align_content": null,
            "align_items": null,
            "align_self": null,
            "border": null,
            "bottom": null,
            "display": null,
            "flex": null,
            "flex_flow": null,
            "grid_area": null,
            "grid_auto_columns": null,
            "grid_auto_flow": null,
            "grid_auto_rows": null,
            "grid_column": null,
            "grid_gap": null,
            "grid_row": null,
            "grid_template_areas": null,
            "grid_template_columns": null,
            "grid_template_rows": null,
            "height": null,
            "justify_content": null,
            "justify_items": null,
            "left": null,
            "margin": null,
            "max_height": null,
            "max_width": null,
            "min_height": null,
            "min_width": null,
            "object_fit": null,
            "object_position": null,
            "order": null,
            "overflow": null,
            "overflow_x": null,
            "overflow_y": null,
            "padding": null,
            "right": null,
            "top": null,
            "visibility": null,
            "width": null
          }
        },
        "f83bb4a68f084e45b96dfdd43d92e101": {
          "model_module": "@jupyter-widgets/controls",
          "model_name": "DescriptionStyleModel",
          "model_module_version": "1.5.0",
          "state": {
            "_model_module": "@jupyter-widgets/controls",
            "_model_module_version": "1.5.0",
            "_model_name": "DescriptionStyleModel",
            "_view_count": null,
            "_view_module": "@jupyter-widgets/base",
            "_view_module_version": "1.2.0",
            "_view_name": "StyleView",
            "description_width": ""
          }
        },
        "3ce6eceb9e2d4631aa831d80b4aa04a8": {
          "model_module": "@jupyter-widgets/base",
          "model_name": "LayoutModel",
          "model_module_version": "1.2.0",
          "state": {
            "_model_module": "@jupyter-widgets/base",
            "_model_module_version": "1.2.0",
            "_model_name": "LayoutModel",
            "_view_count": null,
            "_view_module": "@jupyter-widgets/base",
            "_view_module_version": "1.2.0",
            "_view_name": "LayoutView",
            "align_content": null,
            "align_items": null,
            "align_self": null,
            "border": null,
            "bottom": null,
            "display": null,
            "flex": null,
            "flex_flow": null,
            "grid_area": null,
            "grid_auto_columns": null,
            "grid_auto_flow": null,
            "grid_auto_rows": null,
            "grid_column": null,
            "grid_gap": null,
            "grid_row": null,
            "grid_template_areas": null,
            "grid_template_columns": null,
            "grid_template_rows": null,
            "height": null,
            "justify_content": null,
            "justify_items": null,
            "left": null,
            "margin": null,
            "max_height": null,
            "max_width": null,
            "min_height": null,
            "min_width": null,
            "object_fit": null,
            "object_position": null,
            "order": null,
            "overflow": null,
            "overflow_x": null,
            "overflow_y": null,
            "padding": null,
            "right": null,
            "top": null,
            "visibility": null,
            "width": null
          }
        },
        "708ecc99622c42b1b80208decdab2eb3": {
          "model_module": "@jupyter-widgets/controls",
          "model_name": "ProgressStyleModel",
          "model_module_version": "1.5.0",
          "state": {
            "_model_module": "@jupyter-widgets/controls",
            "_model_module_version": "1.5.0",
            "_model_name": "ProgressStyleModel",
            "_view_count": null,
            "_view_module": "@jupyter-widgets/base",
            "_view_module_version": "1.2.0",
            "_view_name": "StyleView",
            "bar_color": null,
            "description_width": ""
          }
        },
        "17691f70d767464d98e938b6c9fcc53a": {
          "model_module": "@jupyter-widgets/base",
          "model_name": "LayoutModel",
          "model_module_version": "1.2.0",
          "state": {
            "_model_module": "@jupyter-widgets/base",
            "_model_module_version": "1.2.0",
            "_model_name": "LayoutModel",
            "_view_count": null,
            "_view_module": "@jupyter-widgets/base",
            "_view_module_version": "1.2.0",
            "_view_name": "LayoutView",
            "align_content": null,
            "align_items": null,
            "align_self": null,
            "border": null,
            "bottom": null,
            "display": null,
            "flex": null,
            "flex_flow": null,
            "grid_area": null,
            "grid_auto_columns": null,
            "grid_auto_flow": null,
            "grid_auto_rows": null,
            "grid_column": null,
            "grid_gap": null,
            "grid_row": null,
            "grid_template_areas": null,
            "grid_template_columns": null,
            "grid_template_rows": null,
            "height": null,
            "justify_content": null,
            "justify_items": null,
            "left": null,
            "margin": null,
            "max_height": null,
            "max_width": null,
            "min_height": null,
            "min_width": null,
            "object_fit": null,
            "object_position": null,
            "order": null,
            "overflow": null,
            "overflow_x": null,
            "overflow_y": null,
            "padding": null,
            "right": null,
            "top": null,
            "visibility": null,
            "width": null
          }
        },
        "c4e8361b980c416cbb2e7cc818f8011e": {
          "model_module": "@jupyter-widgets/controls",
          "model_name": "DescriptionStyleModel",
          "model_module_version": "1.5.0",
          "state": {
            "_model_module": "@jupyter-widgets/controls",
            "_model_module_version": "1.5.0",
            "_model_name": "DescriptionStyleModel",
            "_view_count": null,
            "_view_module": "@jupyter-widgets/base",
            "_view_module_version": "1.2.0",
            "_view_name": "StyleView",
            "description_width": ""
          }
        }
      }
    }
  },
  "nbformat": 4,
  "nbformat_minor": 0
}